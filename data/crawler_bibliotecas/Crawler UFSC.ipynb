{
 "cells": [
  {
   "cell_type": "code",
   "execution_count": 1,
   "metadata": {},
   "outputs": [],
   "source": [
    "#%pip install beautifulsoup4\n",
    "#%pip install pip-system-certs"
   ]
  },
  {
   "cell_type": "code",
   "execution_count": 1,
   "metadata": {},
   "outputs": [],
   "source": [
    "import requests\n",
    "from bs4 import BeautifulSoup as bs\n",
    "import pandas as pd\n",
    "import os\n",
    "from langchain_community.graphs import Neo4jGraph\n",
    "from PyPDF2 import PdfReader\n",
    "from langdetect import detect\n",
    "import spacy\n",
    "import re\n",
    "from unidecode import unidecode\n",
    "import time"
   ]
  },
  {
   "cell_type": "markdown",
   "metadata": {},
   "source": [
    "Conectando ao Neo4j "
   ]
  },
  {
   "cell_type": "code",
   "execution_count": 2,
   "metadata": {},
   "outputs": [],
   "source": [
    "from neo4j import GraphDatabase\n",
    "\n",
    "# Neo4j variables\n",
    "NEO4J_URL = os.getenv(\"NEO4J_URL\")\n",
    "NEO4J_USERNAME =os.getenv(\"NEO4J_USERNAME\")\n",
    "NEO4J_PASSWORD = os.getenv(\"NEO4J_PASSWORD\")\n",
    "\n",
    "\n",
    "graph = GraphDatabase.driver(NEO4J_URL, auth=(NEO4J_USERNAME, NEO4J_PASSWORD))"
   ]
  },
  {
   "cell_type": "markdown",
   "metadata": {},
   "source": [
    "- Buscar os links para a tese no Neo4j\n",
    "- Buscar o link do PDF no repositório da universidade\n",
    "- Baixar o PDF\n",
    "- Extrair o texto do PDF "
   ]
  },
  {
   "cell_type": "markdown",
   "metadata": {},
   "source": [
    "Buscar links para a tese no Neo4j"
   ]
  },
  {
   "cell_type": "code",
   "execution_count": 10,
   "metadata": {},
   "outputs": [
    {
     "data": {
      "text/html": [
       "<div>\n",
       "<style scoped>\n",
       "    .dataframe tbody tr th:only-of-type {\n",
       "        vertical-align: middle;\n",
       "    }\n",
       "\n",
       "    .dataframe tbody tr th {\n",
       "        vertical-align: top;\n",
       "    }\n",
       "\n",
       "    .dataframe thead th {\n",
       "        text-align: right;\n",
       "    }\n",
       "</style>\n",
       "<table border=\"1\" class=\"dataframe\">\n",
       "  <thead>\n",
       "    <tr style=\"text-align: right;\">\n",
       "      <th></th>\n",
       "      <th>Thesis</th>\n",
       "      <th>title</th>\n",
       "    </tr>\n",
       "  </thead>\n",
       "  <tbody>\n",
       "    <tr>\n",
       "      <th>0</th>\n",
       "      <td>tag:stardog:api:imagens_invisiveis_de_africas_...</td>\n",
       "      <td>Imagens invisíveis de Áfricas presentes : expe...</td>\n",
       "    </tr>\n",
       "    <tr>\n",
       "      <th>1</th>\n",
       "      <td>tag:stardog:api:silencios_na_historia_e_disput...</td>\n",
       "      <td>Silêncios na História e disputas entre memória...</td>\n",
       "    </tr>\n",
       "    <tr>\n",
       "      <th>2</th>\n",
       "      <td>tag:stardog:api:proposta_de_acoes_para_ingress...</td>\n",
       "      <td>Proposta de ações para ingresso e permanência ...</td>\n",
       "    </tr>\n",
       "    <tr>\n",
       "      <th>3</th>\n",
       "      <td>tag:stardog:api:criminologia_e_racismo_</td>\n",
       "      <td>Criminologia e racismo :</td>\n",
       "    </tr>\n",
       "    <tr>\n",
       "      <th>4</th>\n",
       "      <td>tag:stardog:api:mulheres_negras_soropositivas_...</td>\n",
       "      <td>Mulheres negras soropositivas e as interseccio...</td>\n",
       "    </tr>\n",
       "    <tr>\n",
       "      <th>...</th>\n",
       "      <td>...</td>\n",
       "      <td>...</td>\n",
       "    </tr>\n",
       "    <tr>\n",
       "      <th>209</th>\n",
       "      <td>tag:stardog:api:jequitiboaba_do_samba_o_eco_da...</td>\n",
       "      <td>Jequitiboabá do samba: o eco da voz do dono</td>\n",
       "    </tr>\n",
       "    <tr>\n",
       "      <th>210</th>\n",
       "      <td>tag:stardog:api:avaliacao_da_evapotranspiracao...</td>\n",
       "      <td>Avaliação da evapotranspiração real da bacia d...</td>\n",
       "    </tr>\n",
       "    <tr>\n",
       "      <th>211</th>\n",
       "      <td>tag:stardog:api:a_protecao_integral_de_crianca...</td>\n",
       "      <td>A Proteção integral de crianças e adolescentes...</td>\n",
       "    </tr>\n",
       "    <tr>\n",
       "      <th>212</th>\n",
       "      <td>tag:stardog:api:ue_gaucho_em_floripa_tem_samba...</td>\n",
       "      <td>Ué gaúcho, em Floripa tem samba?: uma antropol...</td>\n",
       "    </tr>\n",
       "    <tr>\n",
       "      <th>213</th>\n",
       "      <td>tag:stardog:api:diaspora_como_movimento_social...</td>\n",
       "      <td>Diáspora como movimento social: políticas de c...</td>\n",
       "    </tr>\n",
       "  </tbody>\n",
       "</table>\n",
       "<p>214 rows × 2 columns</p>\n",
       "</div>"
      ],
      "text/plain": [
       "                                                Thesis  \\\n",
       "0    tag:stardog:api:imagens_invisiveis_de_africas_...   \n",
       "1    tag:stardog:api:silencios_na_historia_e_disput...   \n",
       "2    tag:stardog:api:proposta_de_acoes_para_ingress...   \n",
       "3              tag:stardog:api:criminologia_e_racismo_   \n",
       "4    tag:stardog:api:mulheres_negras_soropositivas_...   \n",
       "..                                                 ...   \n",
       "209  tag:stardog:api:jequitiboaba_do_samba_o_eco_da...   \n",
       "210  tag:stardog:api:avaliacao_da_evapotranspiracao...   \n",
       "211  tag:stardog:api:a_protecao_integral_de_crianca...   \n",
       "212  tag:stardog:api:ue_gaucho_em_floripa_tem_samba...   \n",
       "213  tag:stardog:api:diaspora_como_movimento_social...   \n",
       "\n",
       "                                                 title  \n",
       "0    Imagens invisíveis de Áfricas presentes : expe...  \n",
       "1    Silêncios na História e disputas entre memória...  \n",
       "2    Proposta de ações para ingresso e permanência ...  \n",
       "3                             Criminologia e racismo :  \n",
       "4    Mulheres negras soropositivas e as interseccio...  \n",
       "..                                                 ...  \n",
       "209        Jequitiboabá do samba: o eco da voz do dono  \n",
       "210  Avaliação da evapotranspiração real da bacia d...  \n",
       "211  A Proteção integral de crianças e adolescentes...  \n",
       "212  Ué gaúcho, em Floripa tem samba?: uma antropol...  \n",
       "213  Diáspora como movimento social: políticas de c...  \n",
       "\n",
       "[214 rows x 2 columns]"
      ]
     },
     "execution_count": 10,
     "metadata": {},
     "output_type": "execute_result"
    }
   ],
   "source": [
    "# Query to get theses and their repositories from the Neo4j database\n",
    "# This query retrieves theses that are published by the Federal University of Santa Catarina (UFSC) and have not been processed yet.\n",
    "query1 = \"\"\"\n",
    "MATCH (t:Thesis)-[:publisher]-(uni:University{uri:'tag:stardog:api:UFSC'})\n",
    "WHERE NOT EXISTS {(t{processed:true})}\n",
    "RETURN distinct(t[\"uri\"]) as Thesis, t[\"repository\"] as repository \n",
    "\"\"\"\n",
    "\n",
    "# Alternative query to get theses that do not have excerpts and have been processed.\n",
    "query2 = \"\"\" \n",
    "match (t:Thesis)-[:publisher]-(uni:University{uri:'tag:stardog:api:UFSC'})\n",
    "where (not (t:Thesis)-[:BFO_0000050]-(:Exerpt)) and  exists {(t{processed:true})}\n",
    "return distinct(t[\"uri\"]) as Thesis, t[\"repository\"] as repository\n",
    "\"\"\"\n",
    "\n",
    "# Query to retrive theses with few pages and their repositories.\n",
    "query3 = \"\"\"\n",
    "MATCH (t:Thesis)-[:publisher]-(uni:University{uri:'tag:stardog:api:UFSC'})\n",
    "Match (t:Thesis)-[:BFO_0000050]-(e:Exerpt)\n",
    "RETURN count(e) as pages, t[\"uri\"] as Thesis, t[\"repository\"] as repository\n",
    " order by (pages) limit 40\n",
    "\"\"\"\n",
    "\n",
    "query4 = \"\"\"\n",
    "MATCH (t:Thesis)-[:publisher]-(uni:University{uri:'tag:stardog:api:UFSC'})\n",
    "WHERE NOT EXISTS {(t{processed:true})}\n",
    "RETURN distinct(t[\"uri\"]) as Thesis, t[\"title\"] as title \n",
    "\"\"\"\n",
    "\n",
    "query5 = \"\"\"\n",
    "MATCH (t:Thesis {processed: true})-[:publisher]-(uni:University {uri: 'tag:stardog:api:UFSC'})\n",
    "WHERE NOT (t)--(:Exerpt)\n",
    "RETURN distinct(t[\"uri\"]) as Thesis, t[\"title\"] as title \n",
    "\"\"\"\n",
    "\n",
    "graph = GraphDatabase.driver(NEO4J_URL, auth=(NEO4J_USERNAME, NEO4J_PASSWORD))\n",
    "results = graph.execute_query(query4).records\n",
    "graph.close()\n",
    "\n",
    "#results = graph.query(query2)\n",
    "# Convert the results to a DataFrame\n",
    "#thesis_repository = pd.DataFrame(results, columns=[\"pages\", \"Thesis\", \"repository\"])\n",
    "thesis_repository = pd.DataFrame(results, columns=[\"Thesis\", \"title\"])\n",
    "thesis_repository = thesis_repository[2:].reset_index(drop=True) \n",
    "thesis_repository"
   ]
  },
  {
   "cell_type": "markdown",
   "metadata": {},
   "source": [
    "Criando as utils functions"
   ]
  },
  {
   "cell_type": "code",
   "execution_count": 11,
   "metadata": {},
   "outputs": [],
   "source": [
    "# Funcao para coletar link do repositorio na página da BDTD\n",
    "\n",
    "def get_repository_link(title):\n",
    "\n",
    "    bdtd_url = 'https://bdtd.ibict.br/vufind/Search/Results?lookfor=' + title.replace(' ', '+') + '&type=Title' #&limit=1'\n",
    "    #Fazer requisição e parsear o arquivo html\n",
    "    try:\n",
    "        f = requests.get(bdtd_url, verify=True).text#, verify=False) \n",
    "    except:\n",
    "        print(\"Sleeping for 5 seconds before retrying... (get_repository_link)\")\n",
    "        time.sleep(5)\n",
    "        try:\n",
    "            f = requests.get(bdtd_url, verify=True).text#, verify=False) \n",
    "        except:\n",
    "            print(\"Sleeping for 30 seconds before retrying... (get_repository_link)\")\n",
    "            time.sleep(30)\n",
    "            f = requests.get(bdtd_url, verify=True).text#, verify=False)    \n",
    "    soup = bs(f, \"html.parser\")\n",
    "\n",
    "    #Coletando link para o repositório\n",
    "    link_list = []\n",
    "    for doc in soup.find_all('a', href=True):\n",
    "\n",
    "        if (doc['href'].startswith('https://repositorio.ufsc.br/') |\n",
    "            doc['href'].startswith('http://repositorio.ufsc.br/')):\n",
    "            path = doc['href']\n",
    "            link_list.append(path)\n",
    "    if link_list != []:\n",
    "        return list(set(link_list))[0]\n",
    "    else:\n",
    "        return None\n",
    "\n",
    "\n",
    "\n",
    "# Funcao para coletar link do pdf\n",
    "\n",
    "def get_pdf_link(url):\n",
    "    \n",
    "    #Fazer requisição e parsear o arquivo html\n",
    "    try:\n",
    "        f = requests.get(url, verify=True).text#, verify=False) \n",
    "    except:\n",
    "        print(\"Sleeping for 5 seconds before retrying... (get_pdf_link)\")\n",
    "        time.sleep(5)\n",
    "        try:\n",
    "            f = requests.get(url, verify=True).text#, verify=False) \n",
    "        except:\n",
    "            print(\"Sleeping for 30 seconds before retrying... (get_pdf_link)\")\n",
    "            time.sleep(30)\n",
    "            f = requests.get(url, verify=True).text#, verify=False)    \n",
    "    soup = bs(f, \"html.parser\")\n",
    "    \n",
    "    #Coletando link para as teses\n",
    "    link_list = []\n",
    "    for doc in soup.find_all('a', href=True):\n",
    "        if doc['href'].startswith('/bitstream'):     # (doc['href'].endswith('.pdf')):# & doc['href'].startswith('/bitstream')):\n",
    "            path = doc['href']\n",
    "            prefix_uni = 'https://repositorio.ufsc.br'\n",
    "            link = prefix_uni + path\n",
    "            link_list.append(link)\n",
    "    if link_list != []:\n",
    "        return list(set(link_list))\n",
    "    else:\n",
    "        return None\n",
    "    \n",
    "    #return None\n",
    "\n",
    "#fazer download do arquivo\n",
    "def download_file(pdf_link, thesis_uri):\n",
    "\n",
    "\n",
    "    # NOTE the stream=True parameter below\n",
    "    try:\n",
    "        r = requests.get(pdf_link, verify=True, stream=True)\n",
    "    except:\n",
    "        print(\"Sleeping for 5 seconds before retrying... (download_file)\")\n",
    "        time.sleep(5)\n",
    "        try:\n",
    "            r = requests.get(pdf_link, verify=True, stream=True)\n",
    "        except:\n",
    "            print(\"Sleeping for 30 seconds before retrying... (download_file)\")\n",
    "            time.sleep(30)\n",
    "            r = requests.get(pdf_link, verify=True, stream=True)\n",
    "    # raise_for_status() is not needed with stream=True\n",
    "    # r.raise_for_status()\n",
    "    with open('tese UFSC.pdf', 'wb') as f:\n",
    "        for chunk in r.iter_content(chunk_size=8192):\n",
    "            f.write(chunk)\n",
    "    return \n",
    "\n",
    "#Carregando os modelos SpaCy para inglês e português \n",
    "nlp_en = spacy.load(\"en_core_web_lg\")\n",
    "nlp_pt = spacy.load(\"pt_core_news_lg\")\n",
    "\n",
    "# Funcão que recebe uma string e a limpar para ficar no formato aceitável para uma URI\n",
    "def process_uri(x):\n",
    "    return (re.sub('[^a-zA-Z0-9_ ]', '',\n",
    "            unidecode(x.strip())\n",
    "                        .replace(\" \", \"_\")\n",
    "                        .replace(\"[\",\"\")\n",
    "                        .replace(\"]\",\"\")\n",
    "                        .replace(\"?\",\"\")\n",
    "                        .replace(\"'\",\"\")\n",
    "                        .lower()))\n",
    "\n",
    "\n",
    "# Função para extrair texto de uma tese em PDF e identificar entidades\n",
    "def extratc_text(tese_path):\n",
    "    \n",
    "    # Processando o arquivo em PDF\n",
    "    try:\n",
    "        reader = PdfReader(tese_path)\n",
    "        number_of_pages = len(reader.pages)\n",
    "    except:\n",
    "        print(f\"Erro ao ler o arquivo {tese_path}. \")\n",
    "        excerpt = {}\n",
    "        return excerpt\n",
    "    \n",
    "    excerpt = {}\n",
    "    \n",
    "\n",
    "    # Iterando por cada página\n",
    "    for page_number in range(number_of_pages):\n",
    "        \n",
    "        \n",
    "        \n",
    "        # Extraindo o texto da página\n",
    "        try:\n",
    "            if page_number == 0:\n",
    "                try:\n",
    "                    page_text = (reader.pages[page_number].extract_text() + '\\n ' \n",
    "                                + reader.pages[page_number+1].extract_text()[:400])\n",
    "                except:\n",
    "                    page_text = reader.pages[page_number].extract_text()\n",
    "            else:\n",
    "                \n",
    "                if page_number == number_of_pages -1:\n",
    "                    try:\n",
    "                        page_text = (reader.pages[page_number-1].extract_text()[-400:] + '\\n ' \n",
    "                                    + reader.pages[page_number].extract_text())\n",
    "                    except:\n",
    "                        page_text = reader.pages[page_number].extract_text()\n",
    "                \n",
    "                else:\n",
    "                    try:\n",
    "                        page_text = (reader.pages[page_number-1].extract_text()[-400:] + '\\n ' \n",
    "                                    + reader.pages[page_number].extract_text() + '\\n ' \n",
    "                                    + reader.pages[page_number+1].extract_text()[:400])  \n",
    "                    except:\n",
    "                        page_text = reader.pages[page_number].extract_text()\n",
    "        except:\n",
    "            page_text = ''\n",
    "        \n",
    "        # Limpando page text         \n",
    "        page_text = page_text.replace(\"'\", \"\").replace('\"', '')\n",
    "        # Verifica se o último caractere é uma barra invertida\n",
    "        if page_text != '':\n",
    "            if page_text[-1] == '\\\\': \n",
    "                page_text = page_text[:-2]\n",
    "        page_text = re.sub(r\"[\\ud800-\\udfff]\", \" \", page_text)\n",
    "        page_text = page_text.encode('utf-8').decode('utf-8')\n",
    "        \n",
    "        \n",
    "        # Detectando o idioma do texto\n",
    "        try:\n",
    "            lang = detect(page_text)\n",
    "            \n",
    "        except:\n",
    "            lang = 'Não_detectado'\n",
    "        \n",
    "        \n",
    "        # Extraindo as entidades\n",
    "        page_extracted = False\n",
    "        if lang == 'pt':\n",
    "            doc = nlp_pt(page_text)\n",
    "            page_extracted = True\n",
    "        if lang == 'en':\n",
    "            doc = nlp_en(page_text)\n",
    "            page_extracted = True\n",
    "        \n",
    "\n",
    "        if page_extracted:\n",
    "\n",
    "            persons = []\n",
    "            gpes = []\n",
    "            #orgs = []\n",
    "            for ent in doc.ents:\n",
    "                if ent.label_ == \"PER\": #\"PERSON\":\n",
    "                    persons.append(process_uri(ent.text))\n",
    "                if ent.label_ == \"LOC\": #\"GPE\":\n",
    "                    gpes.append(process_uri(ent.text))\n",
    "                #if ent.label_ == \"ORG\":\n",
    "                #    orgs.append(process_uri(ent.text))\n",
    "                    \n",
    "            excerpt[page_number] = {'text': page_text, \n",
    "                                    'lang': lang, \n",
    "                                    'persons': list(set(persons)), \n",
    "                                    'gpes': list(set(gpes)),\n",
    "                                #'orgs': list(set(orgs))\n",
    "                                }\n",
    "\n",
    "    return excerpt"
   ]
  },
  {
   "cell_type": "markdown",
   "metadata": {},
   "source": [
    "Iterando por todas as URI para extrair o texto e gravar no grafo NEO4j"
   ]
  },
  {
   "cell_type": "code",
   "execution_count": null,
   "metadata": {},
   "outputs": [
    {
     "name": "stdout",
     "output_type": "stream",
     "text": [
      "No PDF link found for imagens_invisiveis_de_africas_presentes__experiencias_das_populacoes_negras_no_cotidiano_da_cidade_de_florianopolis_19301940_\n",
      "1 - Downloading and extracting: silencios_na_historia_e_disputas_entre_memorias_os_processos_de_reconhecimento_identitario_e_titulacao_territorial_das_comunidades_quilombolas from https://repositorio.ufsc.br/bitstream/handle/123456789/219203/PHST0710-T.pdf?sequence=-1&isAllowed=y\n"
     ]
    },
    {
     "name": "stderr",
     "output_type": "stream",
     "text": [
      "incorrect startxref pointer(1)\n"
     ]
    },
    {
     "name": "stdout",
     "output_type": "stream",
     "text": [
      "Loading triplas: silencios_na_historia_e_disputas_entre_memorias_os_processos_de_reconhecimento_identitario_e_titulacao_territorial_das_comunidades_quilombolas\n",
      "Total time: 0 days 00:01:35.231187\n",
      "Partial time: 0 days 00:01:35.231187\n",
      "2 - Downloading and extracting: proposta_de_acoes_para_ingresso_e_permanencia_de_estudantes_indigenas_e_quilombolas_no_ensino_superior from https://repositorio.ufsc.br/bitstream/handle/123456789/254855/PPAU0301-D.pdf?sequence=-1&isAllowed=y\n"
     ]
    },
    {
     "name": "stderr",
     "output_type": "stream",
     "text": [
      "incorrect startxref pointer(1)\n"
     ]
    },
    {
     "name": "stdout",
     "output_type": "stream",
     "text": [
      "Loading triplas: proposta_de_acoes_para_ingresso_e_permanencia_de_estudantes_indigenas_e_quilombolas_no_ensino_superior\n",
      "Total time: 0 days 00:02:12.510381\n",
      "Partial time: 0 days 00:00:37.279194\n",
      "No PDF link found for criminologia_e_racismo_\n",
      "No PDF link found for mulheres_negras_soropositivas_e_as_interseccionalidades_entre_genero_classe_e_racaetnia\n",
      "5 - Downloading and extracting: trajetorias_negras_e_racismos_memorias_da_convivencia_interracial_na_infancia from https://repositorio.ufsc.br/bitstream/handle/123456789/215891/PASO0525-D.pdf?sequence=-1&isAllowed=y\n"
     ]
    },
    {
     "name": "stderr",
     "output_type": "stream",
     "text": [
      "incorrect startxref pointer(1)\n"
     ]
    },
    {
     "name": "stdout",
     "output_type": "stream",
     "text": [
      "Loading triplas: trajetorias_negras_e_racismos_memorias_da_convivencia_interracial_na_infancia\n",
      "Total time: 0 days 00:03:03.130100\n",
      "Partial time: 0 days 00:00:50.619719\n",
      "6 - Downloading and extracting: je_est_un_autre_a_construcao_da_invisibilidade_negra_no_cinema_cubano_produzido_pelo_icaic from https://repositorio.ufsc.br/bitstream/handle/123456789/191269/PASO0454-D.pdf?sequence=-1&isAllowed=y\n"
     ]
    },
    {
     "name": "stderr",
     "output_type": "stream",
     "text": [
      "incorrect startxref pointer(1)\n"
     ]
    },
    {
     "name": "stdout",
     "output_type": "stream",
     "text": [
      "Loading triplas: je_est_un_autre_a_construcao_da_invisibilidade_negra_no_cinema_cubano_produzido_pelo_icaic\n",
      "Total time: 0 days 00:03:42.569951\n",
      "Partial time: 0 days 00:00:39.439851\n",
      "7 - Downloading and extracting: gestao_e_abordagem_sistemica_do_design_para_a_intergeracionalidade_na_educacao_quilombola_com_foco_na_sustentabilidade_cultural_de_itamatatiua from https://repositorio.ufsc.br/bitstream/handle/123456789/250259/PGDE0253-T.pdf?sequence=1&isAllowed=y\n",
      "Loading triplas: gestao_e_abordagem_sistemica_do_design_para_a_intergeracionalidade_na_educacao_quilombola_com_foco_na_sustentabilidade_cultural_de_itamatatiua\n",
      "Total time: 0 days 00:05:01.656200\n",
      "Partial time: 0 days 00:01:19.086249\n",
      "8 - Downloading and extracting: parteiras_tradicionais_encruzilhadas_entre_a_producao_de_conhecimentos_indigenas_afrodiasporicos_e_cientifico_modernos from https://repositorio.ufsc.br/bitstream/handle/123456789/252482/PICH0280-T.pdf?sequence=-1&isAllowed=y\n"
     ]
    },
    {
     "name": "stderr",
     "output_type": "stream",
     "text": [
      "incorrect startxref pointer(1)\n"
     ]
    },
    {
     "name": "stdout",
     "output_type": "stream",
     "text": [
      "Loading triplas: parteiras_tradicionais_encruzilhadas_entre_a_producao_de_conhecimentos_indigenas_afrodiasporicos_e_cientifico_modernos\n",
      "Total time: 0 days 00:08:20.631157\n",
      "Partial time: 0 days 00:03:18.974957\n",
      "9 - Downloading and extracting: terra_trabalho_e_racismo_veias_abertas_de_uma_analise_historicoestrutural_no_brasil from https://repositorio.ufsc.br/bitstream/handle/123456789/204570/PGSS0221-T.pdf?sequence=-1&isAllowed=y\n"
     ]
    },
    {
     "name": "stderr",
     "output_type": "stream",
     "text": [
      "incorrect startxref pointer(1)\n"
     ]
    },
    {
     "name": "stdout",
     "output_type": "stream",
     "text": [
      "Erro ao ler o arquivo tese UFSC.pdf. \n",
      "Loading triplas: terra_trabalho_e_racismo_veias_abertas_de_uma_analise_historicoestrutural_no_brasil\n",
      "Total time: 0 days 00:08:36.257083\n",
      "Partial time: 0 days 00:00:15.625926\n",
      "10 - Downloading and extracting: saberes_e_fazeres_do_quilombo_sao_roque_subsidios_para_uma_pedagogia_quilombola_na_educacao_de_jovens_e_adultos from https://repositorio.ufsc.br/bitstream/handle/123456789/254868/PICH0282-T.pdf?sequence=-1&isAllowed=y\n"
     ]
    },
    {
     "name": "stderr",
     "output_type": "stream",
     "text": [
      "incorrect startxref pointer(1)\n"
     ]
    },
    {
     "name": "stdout",
     "output_type": "stream",
     "text": [
      "Erro ao ler o arquivo tese UFSC.pdf. \n",
      "Loading triplas: saberes_e_fazeres_do_quilombo_sao_roque_subsidios_para_uma_pedagogia_quilombola_na_educacao_de_jovens_e_adultos\n",
      "Total time: 0 days 00:09:07.344864\n",
      "Partial time: 0 days 00:00:31.087781\n",
      "11 - Downloading and extracting: a_implementacao_da_lei_1063903_nos_cursos_tecnicos_integrados_do_instituto_federal_de_santa_catarina__ifsc__campus_florianopolis_20042018_perspectivas_docentes_sobre_o_racismo_institucional from https://repositorio.ufsc.br/bitstream/handle/123456789/221266/PEED1557-D.pdf?sequence=-1&isAllowed=y\n"
     ]
    },
    {
     "name": "stderr",
     "output_type": "stream",
     "text": [
      "incorrect startxref pointer(1)\n"
     ]
    },
    {
     "name": "stdout",
     "output_type": "stream",
     "text": [
      "Loading triplas: a_implementacao_da_lei_1063903_nos_cursos_tecnicos_integrados_do_instituto_federal_de_santa_catarina__ifsc__campus_florianopolis_20042018_perspectivas_docentes_sobre_o_racismo_institucional\n",
      "Total time: 0 days 00:10:00.945468\n",
      "Partial time: 0 days 00:00:53.600604\n",
      "12 - Downloading and extracting: direito_e_relacoes_raciais_uma_introducao_critica_ao_racismo from https://repositorio.ufsc.br/bitstream/handle/123456789/106299/PDPC0003-D.pdf?sequence=1&isAllowed=y\n",
      "Loading triplas: direito_e_relacoes_raciais_uma_introducao_critica_ao_racismo\n",
      "Total time: 0 days 00:10:20.939614\n",
      "Partial time: 0 days 00:00:19.994146\n",
      "13 - Downloading and extracting: os_saberes_emancipadores_de_maria_de_lourdes_mina_aprendendo_com_as_memorias_de_uma_professora_e_militante_negra_em_santa_catarina from https://repositorio.ufsc.br/bitstream/handle/123456789/235521/PEED1636-D.pdf?sequence=-1&isAllowed=y\n"
     ]
    },
    {
     "name": "stderr",
     "output_type": "stream",
     "text": [
      "incorrect startxref pointer(1)\n"
     ]
    },
    {
     "name": "stdout",
     "output_type": "stream",
     "text": [
      "Loading triplas: os_saberes_emancipadores_de_maria_de_lourdes_mina_aprendendo_com_as_memorias_de_uma_professora_e_militante_negra_em_santa_catarina\n",
      "Total time: 0 days 00:11:03.416573\n",
      "Partial time: 0 days 00:00:42.476959\n",
      "14 - Downloading and extracting: grupo_afro_ganga_zumba_danca_e_canto_de_mulheres_quilombolas_como_educacao_antirracista_na_zona_da_mata_mineira from https://repositorio.ufsc.br/bitstream/handle/123456789/240886/PEED1652-T.pdf?sequence=-1&isAllowed=y\n"
     ]
    },
    {
     "name": "stderr",
     "output_type": "stream",
     "text": [
      "incorrect startxref pointer(1)\n"
     ]
    },
    {
     "name": "stdout",
     "output_type": "stream",
     "text": [
      "Loading triplas: grupo_afro_ganga_zumba_danca_e_canto_de_mulheres_quilombolas_como_educacao_antirracista_na_zona_da_mata_mineira\n",
      "Total time: 0 days 00:11:48.982836\n",
      "Partial time: 0 days 00:00:45.566263\n",
      "15 - Downloading and extracting: encontros_com_lia_vieira_uma_experiencia_de_leitura from https://repositorio.ufsc.br/bitstream/handle/123456789/229040/PLIT0880-D.pdf?sequence=-1&isAllowed=y\n"
     ]
    },
    {
     "name": "stderr",
     "output_type": "stream",
     "text": [
      "incorrect startxref pointer(1)\n"
     ]
    },
    {
     "name": "stdout",
     "output_type": "stream",
     "text": [
      "Erro ao ler o arquivo tese UFSC.pdf. \n",
      "Loading triplas: encontros_com_lia_vieira_uma_experiencia_de_leitura\n",
      "Total time: 0 days 00:12:02.457989\n",
      "Partial time: 0 days 00:00:13.475153\n",
      "No PDF link found for saude_ecocultural_e_resiliencia_conhecimentos_e_praticas_da_medicina_tradicional_em_comunidades_rurais_da_chapada_do_araripe_no_ceara_e_em_comunidades_quilombolas_do_litoral_de_santa_catarina\n",
      "No PDF link found for processos_de_mobilizacao_quilombola_a_aconeruq_e_o_moquibom_no_maranhao\n",
      "No PDF link found for acerca_do_pertencimento_percursos_da_comunidade_invernada_paiol_de_telha_em_um_contexto_de_reivindicacao_de_terra\n",
      "No PDF link found for promocao_da_saude_das_mulheres_quilombolas_a_relacao_com_os_determinantes_sociais\n",
      "20 - Downloading and extracting: o_cuidado_como_potencia__entre_o_publico_e_o_privado_e_as_liderancas_de_mulheres_nas_comunidades_remanescentes_de_quilombo_aldeia_e_toca_de_santa_cruz from https://repositorio.ufsc.br/bitstream/handle/123456789/189950/PASO0446-D.pdf?sequence=-1&isAllowed=y\n"
     ]
    },
    {
     "name": "stderr",
     "output_type": "stream",
     "text": [
      "incorrect startxref pointer(1)\n"
     ]
    },
    {
     "name": "stdout",
     "output_type": "stream",
     "text": [
      "Erro ao ler o arquivo tese UFSC.pdf. \n",
      "Loading triplas: o_cuidado_como_potencia__entre_o_publico_e_o_privado_e_as_liderancas_de_mulheres_nas_comunidades_remanescentes_de_quilombo_aldeia_e_toca_de_santa_cruz\n",
      "Total time: 0 days 00:12:54.822955\n",
      "Partial time: 0 days 00:00:52.364966\n",
      "No PDF link found for jovens_quilombolas_e_ocupacoes_nao_agricolas_tensoes_em_um_programa_de_educacao_do_campo\n",
      "No PDF link found for dos_bailes_de_outrora_a_festa_da_tainha_significados_e_principios_educativos_das_festas_no_quilombo_aldeia\n",
      "No PDF link found for relacoes_juridicas_de_uso_e_apropriacao_territorial_em_comunidades_quilombolas_brasileiras_embates_de_poder_e_decolonialismo_juridico_sob_lentes_etnograficas_e_etnodocumentarias\n",
      "24 - Downloading and extracting: mulheres_de_um_quilombo_e_seus_processos_de_socializacao_com_as_criancas from https://repositorio.ufsc.br/bitstream/handle/123456789/185540/PEED1269-T.pdf?sequence=-1&isAllowed=y\n"
     ]
    },
    {
     "name": "stderr",
     "output_type": "stream",
     "text": [
      "incorrect startxref pointer(1)\n"
     ]
    },
    {
     "name": "stdout",
     "output_type": "stream",
     "text": [
      "Erro ao ler o arquivo tese UFSC.pdf. \n",
      "Loading triplas: mulheres_de_um_quilombo_e_seus_processos_de_socializacao_com_as_criancas\n",
      "Total time: 0 days 00:13:37.777374\n",
      "Partial time: 0 days 00:00:42.954419\n",
      "No PDF link found for quotvem_brincar_na_ruaquot_entre_o_quilombo_e_a_educacao_infantil__capturando_expressoes_experiencias_e_conflitos_de_criancas_quilombolas_no_entremeio_desses_contextos\n",
      "No PDF link found for itinerarios_terapeuticos_de_quilombolas_um_olhar_bioetico_sobre_a_atencao_e_o_cuidado_a_saude\n",
      "No PDF link found for visagens_e_profecias_ecos_da_territorialidade_quilombola\n",
      "No PDF link found for por_entre_as_tramas_e_os_meios__as_relacoes_raciais_na_escola\n",
      "29 - Downloading and extracting: estrategias_de_resistencia_na_luta_pela_terra_um_estudo_sobre_o_quilombo_da_pedra_branca_no_municipio_de_praia_grandesc from https://repositorio.ufsc.br/bitstream/handle/123456789/211655/PGSS0236-D.pdf?sequence=-1&isAllowed=y\n"
     ]
    },
    {
     "name": "stderr",
     "output_type": "stream",
     "text": [
      "incorrect startxref pointer(1)\n"
     ]
    },
    {
     "name": "stdout",
     "output_type": "stream",
     "text": [
      "Loading triplas: estrategias_de_resistencia_na_luta_pela_terra_um_estudo_sobre_o_quilombo_da_pedra_branca_no_municipio_de_praia_grandesc\n",
      "Total time: 0 days 00:15:10.993774\n",
      "Partial time: 0 days 00:01:33.216400\n",
      "30 - Downloading and extracting: protecao_juridica_e_gestao_em_colaboracao_do_patrimonio_cultural_quilombola_as_arqueologias_praticas_comunitarias_como_base_para_a_protecao_e_autogestao_cultural_e_territorial_sustentavel_do_lugar_ao_planeta from https://repositorio.ufsc.br/bitstream/handle/123456789/186176/PDPC1342-T.pdf?sequence=-1&isAllowed=y\n"
     ]
    },
    {
     "name": "stderr",
     "output_type": "stream",
     "text": [
      "incorrect startxref pointer(1)\n"
     ]
    },
    {
     "name": "stdout",
     "output_type": "stream",
     "text": [
      "Loading triplas: protecao_juridica_e_gestao_em_colaboracao_do_patrimonio_cultural_quilombola_as_arqueologias_praticas_comunitarias_como_base_para_a_protecao_e_autogestao_cultural_e_territorial_sustentavel_do_lugar_ao_planeta\n",
      "Total time: 0 days 00:16:47.286007\n",
      "Partial time: 0 days 00:01:36.292233\n",
      "No PDF link found for de_pai_para_filho_tecendo_um_novo_territorio_familiar__uma_etnografia_sobre_as_relacoes_geracionais_na_agricultura_familiar_do_municipio_de_quilombosc\n",
      "No PDF link found for comunidades_quilombolas_e_o_direito_a_saude_percepcao_das_mulheres_quanto_ao_acesso_a_assistencia_prenatal\n",
      "No PDF link found for papeis_ecologicos_e_papeis_culturais_de_plantas_conhecidas_por_comunidades_quilombolas_do_litoral_de_santa_catarina_brasil\n",
      "34 - Downloading and extracting: o_papel_da_avicultura_na_construcao_do_territorio_e_na_reproducao_social_da_agricultura_familiar_o_caso_de_chapeco_e_quilombo_no_oeste_catarinense from https://repositorio.ufsc.br/bitstream/handle/123456789/106642/271248.pdf?sequence=1&isAllowed=y\n",
      "Loading triplas: o_papel_da_avicultura_na_construcao_do_territorio_e_na_reproducao_social_da_agricultura_familiar_o_caso_de_chapeco_e_quilombo_no_oeste_catarinense\n",
      "Total time: 0 days 00:17:48.158209\n",
      "Partial time: 0 days 00:01:00.872202\n",
      "No PDF link found for contribuicoes_etnoecologicas_para_a_compreensao_sobre_territorios_tradicionais_de_tres_comunidades_quilombolas_de_santa_catarina_brasil\n",
      "36 - Downloading and extracting: os_quilombolas_e_o_estado_participacao_representacao_e_politicas_publicas_nas_comunidades_de_terra_firme_do_baixo_amazonas_obidos__pa from https://repositorio.ufsc.br/bitstream/handle/123456789/215192/PASO0503-D.pdf?sequence=-1&isAllowed=y\n"
     ]
    },
    {
     "name": "stderr",
     "output_type": "stream",
     "text": [
      "incorrect startxref pointer(1)\n"
     ]
    },
    {
     "name": "stdout",
     "output_type": "stream",
     "text": [
      "Loading triplas: os_quilombolas_e_o_estado_participacao_representacao_e_politicas_publicas_nas_comunidades_de_terra_firme_do_baixo_amazonas_obidos__pa\n",
      "Total time: 0 days 00:18:37.631367\n",
      "Partial time: 0 days 00:00:49.473158\n",
      "No PDF link found for marcas_da_integracao_na_agricultura_familiar_de_quilombo_sc\n",
      "No PDF link found for exodos_e_encruzilhadas_da_missa_dos_quilombos\n",
      "39 - Downloading and extracting: fornecimento_de_alimentos_provenientes_da_agricultura_familiar_quilombola_para_o_programa_nacional_de_alimentacao_escolar_uma_abordagem_etnografica from https://repositorio.ufsc.br/bitstream/handle/123456789/215618/PNTR0264-D.pdf?sequence=-1&isAllowed=y\n"
     ]
    },
    {
     "name": "stderr",
     "output_type": "stream",
     "text": [
      "incorrect startxref pointer(1)\n"
     ]
    },
    {
     "name": "stdout",
     "output_type": "stream",
     "text": [
      "Erro ao ler o arquivo tese UFSC.pdf. \n",
      "Loading triplas: fornecimento_de_alimentos_provenientes_da_agricultura_familiar_quilombola_para_o_programa_nacional_de_alimentacao_escolar_uma_abordagem_etnografica\n",
      "Total time: 0 days 00:19:09.169322\n",
      "Partial time: 0 days 00:00:31.537955\n",
      "40 - Downloading and extracting: avaliacao_da_diversidade_genetica_e_morfologica_da_goiabeiraserrana_acca_sellowiana_o_berg_burret_em_terras_indigenas_areas_quilombolas_e_em_unidades_de_conservacao_no_sul_do_brasil_e_acesso_ao_conhecimento_tradicional_associado_ao_uso_e_manejo_da_especie from https://repositorio.ufsc.br/bitstream/handle/123456789/191068/PRGV0278-T.pdf?sequence=1&isAllowed=y\n"
     ]
    },
    {
     "name": "stderr",
     "output_type": "stream",
     "text": [
      "incorrect startxref pointer(1)\n"
     ]
    },
    {
     "name": "stdout",
     "output_type": "stream",
     "text": [
      "Erro ao ler o arquivo tese UFSC.pdf. \n",
      "Loading triplas: avaliacao_da_diversidade_genetica_e_morfologica_da_goiabeiraserrana_acca_sellowiana_o_berg_burret_em_terras_indigenas_areas_quilombolas_e_em_unidades_de_conservacao_no_sul_do_brasil_e_acesso_ao_conhecimento_tradicional_associado_ao_uso_e_manejo_da_especie\n",
      "Total time: 0 days 00:19:30.249685\n",
      "Partial time: 0 days 00:00:21.080363\n",
      "No PDF link found for a_constituicao_local_direito_e_territorio_quilombola_em_bairro_alto_ilha_do_marajo_para\n",
      "42 - Downloading and extracting: ja_raiou_a_liberdade__um_diagnostico_das_politicas_publicas_de_combate_ao_trabalho_analogo_a_escravidao_no_brasil_a_partir_das_convencoes_da_organizacao_internacional_do_trabalho from https://repositorio.ufsc.br/bitstream/handle/123456789/250016/PDPC1687-D.pdf?sequence=1&isAllowed=y\n",
      "Loading triplas: ja_raiou_a_liberdade__um_diagnostico_das_politicas_publicas_de_combate_ao_trabalho_analogo_a_escravidao_no_brasil_a_partir_das_convencoes_da_organizacao_internacional_do_trabalho\n",
      "Total time: 0 days 00:20:16.807410\n",
      "Partial time: 0 days 00:00:46.557725\n",
      "No PDF link found for a_servico_da_patria_o_recrutamento_militar_na_provincia_do_parana_durante_a_guerra_do_paraguai_1865__1870\n",
      "No PDF link found for tecendo_lacos_as_praticas_comunitarias_dos_escravos_em_antonina__pr_18401870\n",
      "45 - Downloading and extracting: lavradores_pobres_trabalho_escravizado_e_a_pequena_propriedade_na_freguesia_de_sao_joao_baptista_do_rio_vermelho__18311899 from https://repositorio.ufsc.br/bitstream/handle/123456789/244100/PHST0759-D.pdf?sequence=1&isAllowed=y\n"
     ]
    },
    {
     "name": "stderr",
     "output_type": "stream",
     "text": [
      "incorrect startxref pointer(1)\n"
     ]
    },
    {
     "name": "stdout",
     "output_type": "stream",
     "text": [
      "Loading triplas: lavradores_pobres_trabalho_escravizado_e_a_pequena_propriedade_na_freguesia_de_sao_joao_baptista_do_rio_vermelho__18311899\n",
      "Total time: 0 days 00:21:11.611891\n",
      "Partial time: 0 days 00:00:54.804481\n",
      "46 - Downloading and extracting: do_absolutismo_paterno_e_de_tantos_tribunaes_caseiros_direito_penal_castigos_aos_escravos_e_duplo_nivel_de_legalidade_no_brasil_18301888 from https://repositorio.ufsc.br/bitstream/handle/123456789/231207/PDPC1575-D.pdf?sequence=-1&isAllowed=y\n"
     ]
    },
    {
     "name": "stderr",
     "output_type": "stream",
     "text": [
      "incorrect startxref pointer(1)\n"
     ]
    },
    {
     "name": "stdout",
     "output_type": "stream",
     "text": [
      "Loading triplas: do_absolutismo_paterno_e_de_tantos_tribunaes_caseiros_direito_penal_castigos_aos_escravos_e_duplo_nivel_de_legalidade_no_brasil_18301888\n",
      "Total time: 0 days 00:21:57.111215\n",
      "Partial time: 0 days 00:00:45.499324\n",
      "47 - Downloading and extracting: da_escrita_a_consagracao_os_caminhos_da_obra_de_maria_firmina_dos_reis from https://repositorio.ufsc.br/bitstream/handle/123456789/251535/PLIT0933-T.pdf?sequence=1&isAllowed=y\n",
      "Loading triplas: da_escrita_a_consagracao_os_caminhos_da_obra_de_maria_firmina_dos_reis\n",
      "Total time: 0 days 00:22:37.054511\n",
      "Partial time: 0 days 00:00:39.943296\n",
      "48 - Downloading and extracting: a_escravidao_contemporanea_em_santa_catarina_uma_analise_de_processos_na_justica_do_trabalho_20012015 from https://repositorio.ufsc.br/bitstream/handle/123456789/251577/PASO579-D.pdf?sequence=1&isAllowed=y\n",
      "Loading triplas: a_escravidao_contemporanea_em_santa_catarina_uma_analise_de_processos_na_justica_do_trabalho_20012015\n",
      "Total time: 0 days 00:23:06.178533\n",
      "Partial time: 0 days 00:00:29.124022\n",
      "49 - Downloading and extracting: a_branquitude_no_direito_internacional_e_as_reparacoes_por_colonialismo_e_escravidao_o_legado_da_exploracao_britanica_e_a_demanda_por_justica_historica_no_caribe from https://repositorio.ufsc.br/bitstream/handle/123456789/251954/PDPC1717-T.pdf?sequence=-1&isAllowed=y\n"
     ]
    },
    {
     "name": "stderr",
     "output_type": "stream",
     "text": [
      "incorrect startxref pointer(1)\n"
     ]
    },
    {
     "name": "stdout",
     "output_type": "stream",
     "text": [
      "Erro ao ler o arquivo tese UFSC.pdf. \n",
      "Loading triplas: a_branquitude_no_direito_internacional_e_as_reparacoes_por_colonialismo_e_escravidao_o_legado_da_exploracao_britanica_e_a_demanda_por_justica_historica_no_caribe\n",
      "Total time: 0 days 00:23:20.941835\n",
      "Partial time: 0 days 00:00:14.763302\n",
      "50 - Downloading and extracting: medicina_e_comercio_na_dinamica_colonial_a_trajetoria_social_de_joao_cardoso_de_miranda_seculo_xviii from https://repositorio.ufsc.br/bitstream/handle/123456789/198648/PHST0633-D.pdf?sequence=-1&isAllowed=y\n"
     ]
    },
    {
     "name": "stderr",
     "output_type": "stream",
     "text": [
      "incorrect startxref pointer(1)\n"
     ]
    },
    {
     "name": "stdout",
     "output_type": "stream",
     "text": [
      "Erro ao ler o arquivo tese UFSC.pdf. \n",
      "Loading triplas: medicina_e_comercio_na_dinamica_colonial_a_trajetoria_social_de_joao_cardoso_de_miranda_seculo_xviii\n",
      "Total time: 0 days 00:23:34.512980\n",
      "Partial time: 0 days 00:00:13.571145\n",
      "51 - Downloading and extracting: escravidao_liberdade_e_os_arranjos_de_trabalho_na_ilha_de_santa_catarina_nas_ultimas_decadas_de_escravidao_18501888 from https://repositorio.ufsc.br/bitstream/handle/123456789/101610/213255.pdf?sequence=1&isAllowed=y\n",
      "Loading triplas: escravidao_liberdade_e_os_arranjos_de_trabalho_na_ilha_de_santa_catarina_nas_ultimas_decadas_de_escravidao_18501888\n",
      "Total time: 0 days 00:24:02.955666\n",
      "Partial time: 0 days 00:00:28.442686\n",
      "52 - Downloading and extracting: questao_social_no_brasil_contribuicao_para_a_compreensao_de_sua_genese from https://repositorio.ufsc.br/bitstream/handle/123456789/262854/PGSS0298-T.pdf?sequence=-1&isAllowed=y\n"
     ]
    },
    {
     "name": "stderr",
     "output_type": "stream",
     "text": [
      "incorrect startxref pointer(1)\n"
     ]
    },
    {
     "name": "stdout",
     "output_type": "stream",
     "text": [
      "Loading triplas: questao_social_no_brasil_contribuicao_para_a_compreensao_de_sua_genese\n",
      "Total time: 0 days 00:24:53.082483\n",
      "Partial time: 0 days 00:00:50.126817\n",
      "53 - Downloading and extracting: livres_e_libertos_como_partes_justas_e_contractadas_alvos_e_usos_da_regulacao_juridica_do_trabalho_por_contrato_no_brasil_oitocentista_18301888 from https://repositorio.ufsc.br/bitstream/handle/123456789/241077/PHST0746-D.pdf?sequence=-1&isAllowed=y\n"
     ]
    },
    {
     "name": "stderr",
     "output_type": "stream",
     "text": [
      "incorrect startxref pointer(1)\n"
     ]
    },
    {
     "name": "stdout",
     "output_type": "stream",
     "text": [
      "Loading triplas: livres_e_libertos_como_partes_justas_e_contractadas_alvos_e_usos_da_regulacao_juridica_do_trabalho_por_contrato_no_brasil_oitocentista_18301888\n",
      "Total time: 0 days 00:26:08.337894\n",
      "Partial time: 0 days 00:01:15.255411\n",
      "54 - Downloading and extracting: da_mortalha_escravagista_ordem_do_mundo_escravidao_e_racismo_como_construtores_da_bionecropolitica_brasileira from https://repositorio.ufsc.br/bitstream/handle/123456789/216607/PDPC1498-D.pdf?sequence=-1&isAllowed=y\n"
     ]
    },
    {
     "name": "stderr",
     "output_type": "stream",
     "text": [
      "incorrect startxref pointer(1)\n"
     ]
    },
    {
     "name": "stdout",
     "output_type": "stream",
     "text": [
      "Erro ao ler o arquivo tese UFSC.pdf. \n",
      "Loading triplas: da_mortalha_escravagista_ordem_do_mundo_escravidao_e_racismo_como_construtores_da_bionecropolitica_brasileira\n",
      "Total time: 0 days 00:26:25.352828\n",
      "Partial time: 0 days 00:00:17.014934\n",
      "No PDF link found for muito_mais_que_senhores_e_escravos_relacoes_de_trabalho_conflitos_e_mobilidade_social_em_um_distrito_agropecuario_do_sul_do_imperio_do_brasil_sao_francisco_de_paula_de_cima_da_serra_rs_18501871\n",
      "56 - Downloading and extracting: mathias_jose_dos_santos_identidade_escravidao_e_colonialidade_do_poder_18601875 from https://repositorio.ufsc.br/bitstream/handle/123456789/205740/PHST0638-D.pdf?sequence=-1&isAllowed=y\n"
     ]
    },
    {
     "name": "stderr",
     "output_type": "stream",
     "text": [
      "incorrect startxref pointer(1)\n"
     ]
    },
    {
     "name": "stdout",
     "output_type": "stream",
     "text": [
      "Erro ao ler o arquivo tese UFSC.pdf. \n",
      "Loading triplas: mathias_jose_dos_santos_identidade_escravidao_e_colonialidade_do_poder_18601875\n",
      "Total time: 0 days 00:26:49.787560\n",
      "Partial time: 0 days 00:00:24.434732\n",
      "No PDF link found for de_herdeiro_da_fortuna_a_diplomata_aposentado_a_representacao_do_masculino_em_machado_de_assis\n",
      "No PDF link found for o_crime_de_reduzir_pessoa_livre_a_escravidao_nas_casas_de_morada_da_justica_no_rio_grande_do_sul_18351874\n",
      "No PDF link found for a_sinfonia_do_sagrado_em_castro_alves_deus_eros_e_mae_em_os_escravos\n",
      "60 - Downloading and extracting: quanto_vale_um_escravo_hoje_a_vulnerabilidade_des_fiscalizada_os_rastros_da_necrobiopolitica_e_a_tentativa_de_controle_do_controle_dos_discursos_na_contemporaneidade from https://repositorio.ufsc.br/bitstream/handle/123456789/220487/PLLG0822-T.pdf?sequence=-1&isAllowed=y\n"
     ]
    },
    {
     "name": "stderr",
     "output_type": "stream",
     "text": [
      "incorrect startxref pointer(1)\n"
     ]
    },
    {
     "name": "stdout",
     "output_type": "stream",
     "text": [
      "Loading triplas: quanto_vale_um_escravo_hoje_a_vulnerabilidade_des_fiscalizada_os_rastros_da_necrobiopolitica_e_a_tentativa_de_controle_do_controle_dos_discursos_na_contemporaneidade\n",
      "Total time: 0 days 00:28:24.437550\n",
      "Partial time: 0 days 00:01:34.649990\n",
      "No PDF link found for fugas_escravas_e_quilombos_na_ilha_de_santa_catarina_seculo_xix\n",
      "No PDF link found for cativeiro_e_dependencia_na_fronteira_de_ocupacao_palmas_pr_18501888\n",
      "63 - Downloading and extracting: os_sinais_da_escravidao_na_identidade_do_trabalhador_a_legislacao_neoescravista_da_caderneta_policial_de_trabalho_e_a_resistencia_dos_trabalhadores_do_comercio_no_rio_de_janeiro_da_1a_republica_df_anos_20 from https://repositorio.ufsc.br/bitstream/handle/123456789/192811/PDPC1384-T.pdf?sequence=-1&isAllowed=y\n"
     ]
    },
    {
     "name": "stderr",
     "output_type": "stream",
     "text": [
      "incorrect startxref pointer(1)\n"
     ]
    },
    {
     "name": "stdout",
     "output_type": "stream",
     "text": [
      "Erro ao ler o arquivo tese UFSC.pdf. \n",
      "Loading triplas: os_sinais_da_escravidao_na_identidade_do_trabalhador_a_legislacao_neoescravista_da_caderneta_policial_de_trabalho_e_a_resistencia_dos_trabalhadores_do_comercio_no_rio_de_janeiro_da_1a_republica_df_anos_20\n",
      "Total time: 0 days 00:28:56.937630\n",
      "Partial time: 0 days 00:00:32.500080\n",
      "No PDF link found for papeis_da_escravidao_a_matricula_especial_de_escravos\n",
      "No PDF link found for infancia_trabalho_escravo_e_direitos_sociais_o_brasil_e_os_direitos_humanos_em_questao\n"
     ]
    }
   ],
   "source": [
    "# Gravar hora de início do processamento\n",
    "start_time = pd.Timestamp.now()\n",
    "parcial_time = pd.Timestamp.now()\n",
    "\n",
    "for i in range(0,len(thesis_repository)):\n",
    "\n",
    "    title = thesis_repository['title'][i].replace(\"?\",\"\").replace('-', ' ').replace('&', ' ').replace('/', ' ').replace('\\\\', ' ')  \n",
    "    repo = get_repository_link(title)\n",
    "\n",
    "    # Coletando o link do PDF\n",
    "    #url = thesis_repository['repository'][i]\n",
    "    thesis_uri = thesis_repository['Thesis'][i][16:]\n",
    "    pdf_link = get_pdf_link(repo)\n",
    "    if pdf_link is not None:\n",
    "        # Itereando pelos links de PDF encontrados (em alguns casos há outros materiais além da tese)\n",
    "        for pdf_num in range(len(pdf_link)):\n",
    "            print(f\"{i} - Downloading and extracting: {thesis_uri} from {pdf_link[pdf_num]}\")\n",
    "            download_file(pdf_link[pdf_num], thesis_uri)\n",
    "\n",
    "            # Extraindo o texto e entidades\n",
    "            tese_path = 'tese UFSC.pdf'\n",
    "            excerpt = extratc_text(tese_path)\n",
    "\n",
    "            excerpts = []\n",
    "            persons = []\n",
    "            gpes = []\n",
    "\n",
    "            # Salvando as triplas em CSV\n",
    "            for n in excerpt.keys():\n",
    "\n",
    "                excerpt_uri = thesis_repository['Thesis'][i] + '_pdf_' + str(pdf_num) + '_p_' + str(n)\n",
    "                excerpt_text = excerpt[n]['text']\n",
    "                # Verifica se o último caractere é uma barra invertida\n",
    "                #if excerpt_text[-1] == '\\\\': \n",
    "                #    excerpt_text = excerpt_text[:-1]\n",
    "                \n",
    "\n",
    "                excerpt_page = 'pdf_' + str(pdf_num) + '_p_' + str(n)\n",
    "                excerpt_lang = excerpt[n]['lang']\n",
    "                \n",
    "                excerpts.append([thesis_repository['Thesis'][i], excerpt_uri, excerpt_text, excerpt_page, excerpt_lang])\n",
    "                    \n",
    "                #Criando as relações com as entidades\n",
    "                for person in excerpt[n]['persons']:\n",
    "                    persons.append([excerpt_uri, 'tag:stardog:api:' + person])\n",
    "                \n",
    "                for gpe in excerpt[n]['gpes']:\n",
    "                    gpes.append([excerpt_uri, 'tag:stardog:api:' + gpe])\n",
    "            \n",
    "            # Salvando os dados em CSV no diretório de importação do Neo4j\n",
    "            pd.DataFrame(excerpts).to_csv('C:\\\\Users\\\\facordei\\\\.Neo4jDesktop\\\\relate-data\\\\dbmss\\\\dbms-792eabfc-5517-4220-ab29-30ef6ec3236e\\\\import\\\\excerptsUFSC.csv', index=False, header=False)\n",
    "            pd.DataFrame(persons).to_csv('C:\\\\Users\\\\facordei\\\\.Neo4jDesktop\\\\relate-data\\\\dbmss\\\\dbms-792eabfc-5517-4220-ab29-30ef6ec3236e\\\\import\\\\personsUFSC.csv', index=False, header=False)\n",
    "            pd.DataFrame(gpes).to_csv('C:\\\\Users\\\\facordei\\\\.Neo4jDesktop\\\\relate-data\\\\dbmss\\\\dbms-792eabfc-5517-4220-ab29-30ef6ec3236e\\\\import\\\\gpesUFSC.csv', index=False, header=False)\n",
    "\n",
    "            #Deletando o arquivo PDF após o processamento\n",
    "            os.remove('tese UFSC.pdf')\n",
    "\n",
    "            print(f\"Loading triplas: {thesis_uri}\")\n",
    "\n",
    "            # Importanto os dados para o Neo4j\n",
    "            #Excerpts\n",
    "            query = \"\"\"\n",
    "            LOAD CSV FROM 'file:///excerptsUFSC.csv'\n",
    "            AS row\n",
    "            MATCH  (t:Thesis{uri: row[0]})\n",
    "            MERGE  (e:Exerpt{\n",
    "                    uri: row[1],\n",
    "                    text: row[2],\n",
    "                    page: row[3],\n",
    "                    lang: row[4]\n",
    "                    })-[r:BFO_0000050]-(t);\n",
    "            \"\"\"\n",
    "            graph = GraphDatabase.driver(NEO4J_URL, auth=(NEO4J_USERNAME, NEO4J_PASSWORD))\n",
    "            results = graph.execute_query(query)\n",
    "            graph.close()\n",
    "\n",
    "            #Persons\n",
    "            query = \"\"\"\n",
    "            LOAD CSV FROM 'file:///personsUFSC.csv'\n",
    "            AS row\n",
    "            MATCH  (e:Exerpt{uri: row[0]})\n",
    "            MERGE  (p:Person{uri: row[1]})\n",
    "            MERGE  (e)-[r:mentions]-(p);\n",
    "            \"\"\"\n",
    "            graph = GraphDatabase.driver(NEO4J_URL, auth=(NEO4J_USERNAME, NEO4J_PASSWORD))\n",
    "            results = graph.execute_query(query)\n",
    "            graph.close()\n",
    "\n",
    "            #GPEs\n",
    "            query = \"\"\"\n",
    "            LOAD CSV FROM 'file:///gpesUFSC.csv'\n",
    "            AS row\n",
    "            MATCH  (e:Exerpt{uri: row[0]})\n",
    "            MERGE  (p:Place{uri: row[1]})\n",
    "            MERGE  (e)-[r:mentions]-(p);\n",
    "            \"\"\"\n",
    "            graph = GraphDatabase.driver(NEO4J_URL, auth=(NEO4J_USERNAME, NEO4J_PASSWORD))\n",
    "            results = graph.execute_query(query)\n",
    "            graph.close()\n",
    "\n",
    "            # Removendo os arquivos CSV após a importação\n",
    "            os.remove('C:\\\\Users\\\\facordei\\\\.Neo4jDesktop\\\\relate-data\\\\dbmss\\\\dbms-792eabfc-5517-4220-ab29-30ef6ec3236e\\\\import\\\\excerptsUFSC.csv')\n",
    "            os.remove('C:\\\\Users\\\\facordei\\\\.Neo4jDesktop\\\\relate-data\\\\dbmss\\\\dbms-792eabfc-5517-4220-ab29-30ef6ec3236e\\\\import\\\\personsUFSC.csv')\n",
    "            os.remove('C:\\\\Users\\\\facordei\\\\.Neo4jDesktop\\\\relate-data\\\\dbmss\\\\dbms-792eabfc-5517-4220-ab29-30ef6ec3236e\\\\import\\\\gpesUFSC.csv')\n",
    "\n",
    "            print(f\"Total time: {pd.Timestamp.now() - start_time}\")\n",
    "            print(f\"Partial time: {pd.Timestamp.now() - parcial_time}\")\n",
    "            # Atualizando a hora parcial\n",
    "            parcial_time = pd.Timestamp.now()\n",
    "    else:\n",
    "        print(f\"No PDF link found for {thesis_uri}\")\n",
    "\n",
    "    # gravando no grafo que a tese foi processada\n",
    "    query = \"\"\"\n",
    "    MATCH  (t:Thesis{uri: \\'\"\"\" + thesis_repository['Thesis'][i] +  \"\"\"\\'})\n",
    "    SET t.processed = true\n",
    "    SET t.repository = \\'\"\"\" + str(repo) +  \"\"\"\\'\n",
    "    \"\"\"\n",
    "    graph = GraphDatabase.driver(NEO4J_URL, auth=(NEO4J_USERNAME, NEO4J_PASSWORD))\n",
    "    results = graph.execute_query(query)\n",
    "    graph.close()\n"
   ]
  },
  {
   "cell_type": "code",
   "execution_count": 9,
   "metadata": {},
   "outputs": [
    {
     "data": {
      "text/plain": [
       "'Exterminate all the brutes: colonialism and racism in Joseph Conrads heart of darkness'"
      ]
     },
     "execution_count": 9,
     "metadata": {},
     "output_type": "execute_result"
    }
   ],
   "source": [
    "thesis_repository['title'][i]\n",
    "#get_repository_link('Exterminate all the brutes colonialism and racism in Joseph Conrads heart of darkness')"
   ]
  }
 ],
 "metadata": {
  "kernelspec": {
   "display_name": ".venv-IndigSlave (3.11.9)",
   "language": "python",
   "name": "python3"
  },
  "language_info": {
   "codemirror_mode": {
    "name": "ipython",
    "version": 3
   },
   "file_extension": ".py",
   "mimetype": "text/x-python",
   "name": "python",
   "nbconvert_exporter": "python",
   "pygments_lexer": "ipython3",
   "version": "3.11.9"
  }
 },
 "nbformat": 4,
 "nbformat_minor": 2
}
