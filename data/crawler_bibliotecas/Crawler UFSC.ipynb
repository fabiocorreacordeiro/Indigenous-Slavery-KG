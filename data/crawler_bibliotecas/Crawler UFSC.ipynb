{
 "cells": [
  {
   "cell_type": "code",
   "execution_count": 1,
   "metadata": {},
   "outputs": [],
   "source": [
    "#%pip install beautifulsoup4\n",
    "#%pip install pip-system-certs"
   ]
  },
  {
   "cell_type": "code",
   "execution_count": 14,
   "metadata": {},
   "outputs": [],
   "source": [
    "import requests\n",
    "from bs4 import BeautifulSoup as bs\n",
    "import pandas as pd\n",
    "import os\n",
    "from langchain_community.graphs import Neo4jGraph\n",
    "from PyPDF2 import PdfReader\n",
    "from langdetect import detect\n",
    "import spacy\n",
    "import re\n",
    "from unidecode import unidecode\n",
    "import time"
   ]
  },
  {
   "cell_type": "markdown",
   "metadata": {},
   "source": [
    "Conectando ao Neo4j "
   ]
  },
  {
   "cell_type": "code",
   "execution_count": 15,
   "metadata": {},
   "outputs": [],
   "source": [
    "from neo4j import GraphDatabase\n",
    "\n",
    "# Neo4j variables\n",
    "NEO4J_URL = os.getenv(\"NEO4J_URL\")\n",
    "NEO4J_USERNAME =os.getenv(\"NEO4J_USERNAME\")\n",
    "NEO4J_PASSWORD = os.getenv(\"NEO4J_PASSWORD\")\n",
    "\n",
    "\n",
    "graph = GraphDatabase.driver(NEO4J_URL, auth=(NEO4J_USERNAME, NEO4J_PASSWORD))"
   ]
  },
  {
   "cell_type": "markdown",
   "metadata": {},
   "source": [
    "- Buscar os links para a tese no Neo4j\n",
    "- Buscar o link do PDF no repositório da universidade\n",
    "- Baixar o PDF\n",
    "- Extrair o texto do PDF "
   ]
  },
  {
   "cell_type": "markdown",
   "metadata": {},
   "source": [
    "Buscar links para a tese no Neo4j"
   ]
  },
  {
   "cell_type": "code",
   "execution_count": 16,
   "metadata": {},
   "outputs": [
    {
     "data": {
      "text/html": [
       "<div>\n",
       "<style scoped>\n",
       "    .dataframe tbody tr th:only-of-type {\n",
       "        vertical-align: middle;\n",
       "    }\n",
       "\n",
       "    .dataframe tbody tr th {\n",
       "        vertical-align: top;\n",
       "    }\n",
       "\n",
       "    .dataframe thead th {\n",
       "        text-align: right;\n",
       "    }\n",
       "</style>\n",
       "<table border=\"1\" class=\"dataframe\">\n",
       "  <thead>\n",
       "    <tr style=\"text-align: right;\">\n",
       "      <th></th>\n",
       "      <th>Thesis</th>\n",
       "      <th>title</th>\n",
       "    </tr>\n",
       "  </thead>\n",
       "  <tbody>\n",
       "    <tr>\n",
       "      <th>0</th>\n",
       "      <td>tag:stardog:api:entre_o_diario_e_o_anuario_a_q...</td>\n",
       "      <td>Entre o diário e o anuário: a queda ecoa no ap...</td>\n",
       "    </tr>\n",
       "    <tr>\n",
       "      <th>1</th>\n",
       "      <td>tag:stardog:api:por_historias_indigenas_o_povo...</td>\n",
       "      <td>Por histórias indígenas: o povo Makurap e o oc...</td>\n",
       "    </tr>\n",
       "    <tr>\n",
       "      <th>2</th>\n",
       "      <td>tag:stardog:api:o_que_e_ser_um_crackudo_proces...</td>\n",
       "      <td>O que é ser um crackudo?: processos de desuman...</td>\n",
       "    </tr>\n",
       "    <tr>\n",
       "      <th>3</th>\n",
       "      <td>tag:stardog:api:decolonialidade_quadrinistica_...</td>\n",
       "      <td>Decolonialidade quadrinística na educação em c...</td>\n",
       "    </tr>\n",
       "    <tr>\n",
       "      <th>4</th>\n",
       "      <td>tag:stardog:api:educacao_das_relacoes_etnicora...</td>\n",
       "      <td>Educação das relações étnico-raciais: branquit...</td>\n",
       "    </tr>\n",
       "    <tr>\n",
       "      <th>...</th>\n",
       "      <td>...</td>\n",
       "      <td>...</td>\n",
       "    </tr>\n",
       "    <tr>\n",
       "      <th>719</th>\n",
       "      <td>tag:stardog:api:jequitiboaba_do_samba_o_eco_da...</td>\n",
       "      <td>Jequitiboabá do samba: o eco da voz do dono</td>\n",
       "    </tr>\n",
       "    <tr>\n",
       "      <th>720</th>\n",
       "      <td>tag:stardog:api:avaliacao_da_evapotranspiracao...</td>\n",
       "      <td>Avaliação da evapotranspiração real da bacia d...</td>\n",
       "    </tr>\n",
       "    <tr>\n",
       "      <th>721</th>\n",
       "      <td>tag:stardog:api:a_protecao_integral_de_crianca...</td>\n",
       "      <td>A Proteção integral de crianças e adolescentes...</td>\n",
       "    </tr>\n",
       "    <tr>\n",
       "      <th>722</th>\n",
       "      <td>tag:stardog:api:ue_gaucho_em_floripa_tem_samba...</td>\n",
       "      <td>Ué gaúcho, em Floripa tem samba?: uma antropol...</td>\n",
       "    </tr>\n",
       "    <tr>\n",
       "      <th>723</th>\n",
       "      <td>tag:stardog:api:diaspora_como_movimento_social...</td>\n",
       "      <td>Diáspora como movimento social: políticas de c...</td>\n",
       "    </tr>\n",
       "  </tbody>\n",
       "</table>\n",
       "<p>724 rows × 2 columns</p>\n",
       "</div>"
      ],
      "text/plain": [
       "                                                Thesis  \\\n",
       "0    tag:stardog:api:entre_o_diario_e_o_anuario_a_q...   \n",
       "1    tag:stardog:api:por_historias_indigenas_o_povo...   \n",
       "2    tag:stardog:api:o_que_e_ser_um_crackudo_proces...   \n",
       "3    tag:stardog:api:decolonialidade_quadrinistica_...   \n",
       "4    tag:stardog:api:educacao_das_relacoes_etnicora...   \n",
       "..                                                 ...   \n",
       "719  tag:stardog:api:jequitiboaba_do_samba_o_eco_da...   \n",
       "720  tag:stardog:api:avaliacao_da_evapotranspiracao...   \n",
       "721  tag:stardog:api:a_protecao_integral_de_crianca...   \n",
       "722  tag:stardog:api:ue_gaucho_em_floripa_tem_samba...   \n",
       "723  tag:stardog:api:diaspora_como_movimento_social...   \n",
       "\n",
       "                                                 title  \n",
       "0    Entre o diário e o anuário: a queda ecoa no ap...  \n",
       "1    Por histórias indígenas: o povo Makurap e o oc...  \n",
       "2    O que é ser um crackudo?: processos de desuman...  \n",
       "3    Decolonialidade quadrinística na educação em c...  \n",
       "4    Educação das relações étnico-raciais: branquit...  \n",
       "..                                                 ...  \n",
       "719        Jequitiboabá do samba: o eco da voz do dono  \n",
       "720  Avaliação da evapotranspiração real da bacia d...  \n",
       "721  A Proteção integral de crianças e adolescentes...  \n",
       "722  Ué gaúcho, em Floripa tem samba?: uma antropol...  \n",
       "723  Diáspora como movimento social: políticas de c...  \n",
       "\n",
       "[724 rows x 2 columns]"
      ]
     },
     "execution_count": 16,
     "metadata": {},
     "output_type": "execute_result"
    }
   ],
   "source": [
    "# Query to get theses and their repositories from the Neo4j database\n",
    "# This query retrieves theses that are published by the Federal University of Santa Catarina (UFSC) and have not been processed yet.\n",
    "query1 = \"\"\"\n",
    "MATCH (t:Thesis)-[:publisher]-(uni:University{uri:'tag:stardog:api:UFSC'})\n",
    "WHERE NOT EXISTS {(t{processed:true})}\n",
    "RETURN distinct(t[\"uri\"]) as Thesis, t[\"repository\"] as repository \n",
    "\"\"\"\n",
    "\n",
    "# Alternative query to get theses that do not have excerpts and have been processed.\n",
    "query2 = \"\"\" \n",
    "match (t:Thesis)-[:publisher]-(uni:University{uri:'tag:stardog:api:UFSC'})\n",
    "where (not (t:Thesis)-[:BFO_0000050]-(:Exerpt)) and  exists {(t{processed:true})}\n",
    "return distinct(t[\"uri\"]) as Thesis, t[\"repository\"] as repository\n",
    "\"\"\"\n",
    "\n",
    "# Query to retrive theses with few pages and their repositories.\n",
    "query3 = \"\"\"\n",
    "MATCH (t:Thesis)-[:publisher]-(uni:University{uri:'tag:stardog:api:UFSC'})\n",
    "Match (t:Thesis)-[:BFO_0000050]-(e:Exerpt)\n",
    "RETURN count(e) as pages, t[\"uri\"] as Thesis, t[\"repository\"] as repository\n",
    " order by (pages) limit 40\n",
    "\"\"\"\n",
    "\n",
    "query4 = \"\"\"\n",
    "MATCH (t:Thesis)-[:publisher]-(uni:University{uri:'tag:stardog:api:UFSC'})\n",
    "WHERE NOT EXISTS {(t{processed:true})}\n",
    "RETURN distinct(t[\"uri\"]) as Thesis, t[\"title\"] as title \n",
    "\"\"\"\n",
    "\n",
    "query5 = \"\"\"\n",
    "MATCH (t:Thesis {processed: true})-[:publisher]-(uni:University {uri: 'tag:stardog:api:UFSC'})\n",
    "WHERE NOT (t)--(:Exerpt)\n",
    "RETURN distinct(t[\"uri\"]) as Thesis, t[\"title\"] as title \n",
    "\"\"\"\n",
    "\n",
    "graph = GraphDatabase.driver(NEO4J_URL, auth=(NEO4J_USERNAME, NEO4J_PASSWORD))\n",
    "results = graph.execute_query(query4).records\n",
    "graph.close()\n",
    "\n",
    "#results = graph.query(query2)\n",
    "# Convert the results to a DataFrame\n",
    "#thesis_repository = pd.DataFrame(results, columns=[\"pages\", \"Thesis\", \"repository\"])\n",
    "thesis_repository = pd.DataFrame(results, columns=[\"Thesis\", \"title\"])\n",
    "thesis_repository = thesis_repository[9:].reset_index(drop=True)  #[7:]\n",
    "thesis_repository"
   ]
  },
  {
   "cell_type": "markdown",
   "metadata": {},
   "source": [
    "Criando as utils functions"
   ]
  },
  {
   "cell_type": "code",
   "execution_count": 17,
   "metadata": {},
   "outputs": [],
   "source": [
    "# Funcao para coletar link do repositorio na página da BDTD\n",
    "\n",
    "def get_repository_link(title):\n",
    "\n",
    "    bdtd_url = 'https://bdtd.ibict.br/vufind/Search/Results?lookfor=' + title.replace(' ', '+') + '&type=Title' #&limit=1'\n",
    "    #Fazer requisição e parsear o arquivo html\n",
    "    try:\n",
    "        f = requests.get(bdtd_url, verify=True).text#, verify=False) \n",
    "    except:\n",
    "        print(\"Sleeping for 5 seconds before retrying... (get_repository_link)\")\n",
    "        time.sleep(5)\n",
    "        try:\n",
    "            f = requests.get(bdtd_url, verify=True).text#, verify=False) \n",
    "        except:\n",
    "            print(\"Sleeping for 30 seconds before retrying... (get_repository_link)\")\n",
    "            time.sleep(30)\n",
    "            f = requests.get(bdtd_url, verify=True).text#, verify=False)    \n",
    "    soup = bs(f, \"html.parser\")\n",
    "\n",
    "    #Coletando link para o repositório\n",
    "    link_list = []\n",
    "    for doc in soup.find_all('a', href=True):\n",
    "\n",
    "        if (doc['href'].startswith('https://repositorio.ufsc.br/') |\n",
    "            doc['href'].startswith('http://repositorio.ufsc.br/')):\n",
    "            path = doc['href']\n",
    "            link_list.append(path)\n",
    "    if link_list != []:\n",
    "        return list(set(link_list))[0]\n",
    "    else:\n",
    "        return None\n",
    "\n",
    "\n",
    "\n",
    "# Funcao para coletar link do pdf\n",
    "\n",
    "def get_pdf_link(url):\n",
    "    \n",
    "    #Fazer requisição e parsear o arquivo html\n",
    "    try:\n",
    "        f = requests.get(url, verify=True).text#, verify=False) \n",
    "    except:\n",
    "        print(\"Sleeping for 5 seconds before retrying... (get_pdf_link)\")\n",
    "        time.sleep(5)\n",
    "        try:\n",
    "            f = requests.get(url, verify=True).text#, verify=False) \n",
    "        except:\n",
    "            print(\"Sleeping for 30 seconds before retrying... (get_pdf_link)\")\n",
    "            time.sleep(30)\n",
    "            f = requests.get(url, verify=True).text#, verify=False)    \n",
    "    soup = bs(f, \"html.parser\")\n",
    "    \n",
    "    #Coletando link para as teses\n",
    "    link_list = []\n",
    "    for doc in soup.find_all('a', href=True):\n",
    "        if doc['href'].startswith('/bitstream'):     # (doc['href'].endswith('.pdf')):# & doc['href'].startswith('/bitstream')):\n",
    "            path = doc['href']\n",
    "            prefix_uni = 'https://repositorio.ufsc.br'\n",
    "            link = prefix_uni + path\n",
    "            link_list.append(link)\n",
    "    if link_list != []:\n",
    "        return list(set(link_list))\n",
    "    else:\n",
    "        return None\n",
    "    \n",
    "    #return None\n",
    "\n",
    "#fazer download do arquivo\n",
    "def download_file(pdf_link, thesis_uri):\n",
    "\n",
    "\n",
    "    # NOTE the stream=True parameter below\n",
    "    try:\n",
    "        r = requests.get(pdf_link, verify=True, stream=True)\n",
    "    except:\n",
    "        print(\"Sleeping for 5 seconds before retrying... (download_file)\")\n",
    "        time.sleep(5)\n",
    "        try:\n",
    "            r = requests.get(pdf_link, verify=True, stream=True)\n",
    "        except:\n",
    "            print(\"Sleeping for 30 seconds before retrying... (download_file)\")\n",
    "            time.sleep(30)\n",
    "            r = requests.get(pdf_link, verify=True, stream=True)\n",
    "    # raise_for_status() is not needed with stream=True\n",
    "    # r.raise_for_status()\n",
    "    with open('tese UFSC.pdf', 'wb') as f:\n",
    "        for chunk in r.iter_content(chunk_size=8192):\n",
    "            f.write(chunk)\n",
    "    return \n",
    "\n",
    "#Carregando os modelos SpaCy para inglês e português \n",
    "nlp_en = spacy.load(\"en_core_web_lg\")\n",
    "nlp_pt = spacy.load(\"pt_core_news_lg\")\n",
    "\n",
    "# Funcão que recebe uma string e a limpar para ficar no formato aceitável para uma URI\n",
    "def process_uri(x):\n",
    "    return (re.sub('[^a-zA-Z0-9_ ]', '',\n",
    "            unidecode(x.strip())\n",
    "                        .replace(\" \", \"_\")\n",
    "                        .replace(\"[\",\"\")\n",
    "                        .replace(\"]\",\"\")\n",
    "                        .replace(\"?\",\"\")\n",
    "                        .replace(\"'\",\"\")\n",
    "                        .lower()))\n",
    "\n",
    "\n",
    "# Função para extrair texto de uma tese em PDF e identificar entidades\n",
    "def extratc_text(tese_path):\n",
    "    \n",
    "    # Processando o arquivo em PDF\n",
    "    try:\n",
    "        reader = PdfReader(tese_path)\n",
    "        number_of_pages = len(reader.pages)\n",
    "    except:\n",
    "        print(f\"Erro ao ler o arquivo {tese_path}. \")\n",
    "        excerpt = {}\n",
    "        return excerpt\n",
    "    \n",
    "    excerpt = {}\n",
    "    \n",
    "\n",
    "    # Iterando por cada página\n",
    "    for page_number in range(number_of_pages):\n",
    "        \n",
    "        \n",
    "        \n",
    "        # Extraindo o texto da página\n",
    "        try:\n",
    "            if page_number == 0:\n",
    "                try:\n",
    "                    page_text = (reader.pages[page_number].extract_text() + '\\n ' \n",
    "                                + reader.pages[page_number+1].extract_text()[:400])\n",
    "                except:\n",
    "                    page_text = reader.pages[page_number].extract_text()\n",
    "            else:\n",
    "                \n",
    "                if page_number == number_of_pages -1:\n",
    "                    try:\n",
    "                        page_text = (reader.pages[page_number-1].extract_text()[-400:] + '\\n ' \n",
    "                                    + reader.pages[page_number].extract_text())\n",
    "                    except:\n",
    "                        page_text = reader.pages[page_number].extract_text()\n",
    "                \n",
    "                else:\n",
    "                    try:\n",
    "                        page_text = (reader.pages[page_number-1].extract_text()[-400:] + '\\n ' \n",
    "                                    + reader.pages[page_number].extract_text() + '\\n ' \n",
    "                                    + reader.pages[page_number+1].extract_text()[:400])  \n",
    "                    except:\n",
    "                        page_text = reader.pages[page_number].extract_text()\n",
    "        except:\n",
    "            page_text = ''\n",
    "        \n",
    "        # Limpando page text         \n",
    "        page_text = page_text.replace(\"'\", \"\").replace('\"', '')\n",
    "        # Verifica se o último caractere é uma barra invertida\n",
    "        if page_text != '':\n",
    "            if page_text[-1] == '\\\\': \n",
    "                page_text = page_text[:-2]\n",
    "        page_text = re.sub(r\"[\\ud800-\\udfff]\", \" \", page_text)\n",
    "        page_text = page_text.encode('utf-8').decode('utf-8')\n",
    "        \n",
    "        \n",
    "        # Detectando o idioma do texto\n",
    "        try:\n",
    "            lang = detect(page_text)\n",
    "            \n",
    "        except:\n",
    "            lang = 'Não_detectado'\n",
    "        \n",
    "        \n",
    "        # Extraindo as entidades\n",
    "        page_extracted = False\n",
    "        if lang == 'pt':\n",
    "            doc = nlp_pt(page_text)\n",
    "            page_extracted = True\n",
    "        if lang == 'en':\n",
    "            doc = nlp_en(page_text)\n",
    "            page_extracted = True\n",
    "        \n",
    "\n",
    "        if page_extracted:\n",
    "\n",
    "            persons = []\n",
    "            gpes = []\n",
    "            #orgs = []\n",
    "            for ent in doc.ents:\n",
    "                if ent.label_ == \"PER\": #\"PERSON\":\n",
    "                    persons.append(process_uri(ent.text))\n",
    "                if ent.label_ == \"LOC\": #\"GPE\":\n",
    "                    gpes.append(process_uri(ent.text))\n",
    "                #if ent.label_ == \"ORG\":\n",
    "                #    orgs.append(process_uri(ent.text))\n",
    "                    \n",
    "            excerpt[page_number] = {'text': page_text, \n",
    "                                    'lang': lang, \n",
    "                                    'persons': list(set(persons)), \n",
    "                                    'gpes': list(set(gpes)),\n",
    "                                #'orgs': list(set(orgs))\n",
    "                                }\n",
    "\n",
    "    return excerpt"
   ]
  },
  {
   "cell_type": "markdown",
   "metadata": {},
   "source": [
    "Iterando por todas as URI para extrair o texto e gravar no grafo NEO4j"
   ]
  },
  {
   "cell_type": "code",
   "execution_count": null,
   "metadata": {},
   "outputs": [
    {
     "name": "stdout",
     "output_type": "stream",
     "text": [
      "0 - Downloading and extracting: entre_o_diario_e_o_anuario_a_queda_ecoa_no_apocalipse from https://repositorio.ufsc.br/bitstream/handle/123456789/229255/PLIT0889-T.pdf?sequence=-1&isAllowed=y\n"
     ]
    },
    {
     "name": "stderr",
     "output_type": "stream",
     "text": [
      "incorrect startxref pointer(1)\n"
     ]
    },
    {
     "name": "stdout",
     "output_type": "stream",
     "text": [
      "Erro ao ler o arquivo tese UFSC.pdf. \n",
      "Loading triplas: entre_o_diario_e_o_anuario_a_queda_ecoa_no_apocalipse\n",
      "Total time: 0 days 00:00:21.116527\n",
      "Partial time: 0 days 00:00:21.116527\n",
      "1 - Downloading and extracting: por_historias_indigenas_o_povo_makurap_e_o_ocupar_seringalista_na_amazonia from https://repositorio.ufsc.br/bitstream/handle/123456789/226949/PHST0719-T.pdf?sequence=-1&isAllowed=y\n"
     ]
    },
    {
     "name": "stderr",
     "output_type": "stream",
     "text": [
      "incorrect startxref pointer(1)\n"
     ]
    },
    {
     "name": "stdout",
     "output_type": "stream",
     "text": [
      "Erro ao ler o arquivo tese UFSC.pdf. \n",
      "Loading triplas: por_historias_indigenas_o_povo_makurap_e_o_ocupar_seringalista_na_amazonia\n",
      "Total time: 0 days 00:00:41.959607\n",
      "Partial time: 0 days 00:00:20.843080\n",
      "2 - Downloading and extracting: o_que_e_ser_um_crackudo_processos_de_desumanizacao_e_ceticismo_misantropico_na_contemporaneidade from https://repositorio.ufsc.br/bitstream/handle/123456789/230968/PICH0235-T.pdf?sequence=-1&isAllowed=y\n"
     ]
    },
    {
     "name": "stderr",
     "output_type": "stream",
     "text": [
      "incorrect startxref pointer(1)\n"
     ]
    },
    {
     "name": "stdout",
     "output_type": "stream",
     "text": [
      "Erro ao ler o arquivo tese UFSC.pdf. \n",
      "Loading triplas: o_que_e_ser_um_crackudo_processos_de_desumanizacao_e_ceticismo_misantropico_na_contemporaneidade\n",
      "Total time: 0 days 00:01:13.130163\n",
      "Partial time: 0 days 00:00:31.170556\n",
      "3 - Downloading and extracting: decolonialidade_quadrinistica_na_educacao_em_ciencias_um_olhar_para_herois_de_historias_em_quadrinhos_brasileiras from https://repositorio.ufsc.br/bitstream/handle/123456789/216713/PECT0446-D.pdf?sequence=-1&isAllowed=y\n"
     ]
    },
    {
     "name": "stderr",
     "output_type": "stream",
     "text": [
      "incorrect startxref pointer(3)\n"
     ]
    },
    {
     "name": "stdout",
     "output_type": "stream",
     "text": [
      "Loading triplas: decolonialidade_quadrinistica_na_educacao_em_ciencias_um_olhar_para_herois_de_historias_em_quadrinhos_brasileiras\n",
      "Total time: 0 days 00:01:54.922747\n",
      "Partial time: 0 days 00:00:41.793584\n",
      "4 - Downloading and extracting: educacao_das_relacoes_etnicoraciais_branquitude_e_educacao_das_ciencias from https://repositorio.ufsc.br/bitstream/handle/123456789/219478/PECT0461-T.pdf?sequence=-1&isAllowed=y\n"
     ]
    },
    {
     "name": "stderr",
     "output_type": "stream",
     "text": [
      "incorrect startxref pointer(1)\n"
     ]
    },
    {
     "name": "stdout",
     "output_type": "stream",
     "text": [
      "Loading triplas: educacao_das_relacoes_etnicoraciais_branquitude_e_educacao_das_ciencias\n",
      "Total time: 0 days 00:02:45.415932\n",
      "Partial time: 0 days 00:00:50.492185\n",
      "5 - Downloading and extracting: militarizacao_da_fronteira_meridional_as_forcas_terrestres_em_santa_catarina_de_fins_do_sec_xviii_ao_inicio_do_segundo_reinado from https://repositorio.ufsc.br/bitstream/handle/123456789/229091/PHST0729-T.pdf?sequence=-1&isAllowed=y\n"
     ]
    },
    {
     "name": "stderr",
     "output_type": "stream",
     "text": [
      "incorrect startxref pointer(1)\n"
     ]
    },
    {
     "name": "stdout",
     "output_type": "stream",
     "text": [
      "Loading triplas: militarizacao_da_fronteira_meridional_as_forcas_terrestres_em_santa_catarina_de_fins_do_sec_xviii_ao_inicio_do_segundo_reinado\n",
      "Total time: 0 days 00:04:25.869514\n",
      "Partial time: 0 days 00:01:40.453582\n",
      "6 - Downloading and extracting: a_violencia_no_arco_do_desmatamento_da_amazonia_crimes_dos_poderosos_e_danos_socioambientais from https://repositorio.ufsc.br/bitstream/handle/123456789/241158/PDPC1555-D.pdf?sequence=-1&isAllowed=y\n"
     ]
    },
    {
     "name": "stderr",
     "output_type": "stream",
     "text": [
      "incorrect startxref pointer(1)\n"
     ]
    },
    {
     "name": "stdout",
     "output_type": "stream",
     "text": [
      "Erro ao ler o arquivo tese UFSC.pdf. \n",
      "Loading triplas: a_violencia_no_arco_do_desmatamento_da_amazonia_crimes_dos_poderosos_e_danos_socioambientais\n",
      "Total time: 0 days 00:04:43.566462\n",
      "Partial time: 0 days 00:00:17.697946\n",
      "7 - Downloading and extracting: piyaretsi_musicalidades_rituais_entre_os_ashenika_do_rio_amonia_da_amazonia_acreana from https://repositorio.ufsc.br/bitstream/handle/123456789/227045/PASO0542-T.pdf?sequence=-1&isAllowed=y\n"
     ]
    },
    {
     "name": "stderr",
     "output_type": "stream",
     "text": [
      "incorrect startxref pointer(1)\n"
     ]
    },
    {
     "name": "stdout",
     "output_type": "stream",
     "text": [
      "Loading triplas: piyaretsi_musicalidades_rituais_entre_os_ashenika_do_rio_amonia_da_amazonia_acreana\n",
      "Total time: 0 days 00:06:09.512221\n",
      "Partial time: 0 days 00:01:25.944761\n",
      "8 - Downloading and extracting: biogeografia_de_ilhas_marinhas_atraves_da_abordagem_funcional from https://repositorio.ufsc.br/bitstream/handle/123456789/226768/PECO0181-D.pdf?sequence=-1&isAllowed=y\n"
     ]
    },
    {
     "name": "stderr",
     "output_type": "stream",
     "text": [
      "incorrect startxref pointer(1)\n"
     ]
    },
    {
     "name": "stdout",
     "output_type": "stream",
     "text": [
      "Loading triplas: biogeografia_de_ilhas_marinhas_atraves_da_abordagem_funcional\n",
      "Total time: 0 days 00:06:35.224588\n",
      "Partial time: 0 days 00:00:25.712367\n",
      "9 - Downloading and extracting: relacoes_etnicoraciais_no_ensino_de_biologia_dialogos_com_professoras_a_partir_de_uma_proposta_didatica from https://repositorio.ufsc.br/bitstream/handle/123456789/227081/PECT0474-D.pdf?sequence=-1&isAllowed=y\n"
     ]
    },
    {
     "name": "stderr",
     "output_type": "stream",
     "text": [
      "incorrect startxref pointer(1)\n"
     ]
    },
    {
     "name": "stdout",
     "output_type": "stream",
     "text": [
      "Loading triplas: relacoes_etnicoraciais_no_ensino_de_biologia_dialogos_com_professoras_a_partir_de_uma_proposta_didatica\n",
      "Total time: 0 days 00:07:16.180225\n",
      "Partial time: 0 days 00:00:40.955637\n",
      "10 - Downloading and extracting: uso_tradicional_de_varronia_curassavica_jacq_boraginacea_e_sua_contribuicao_para_o_aperfeicoamento_da_lei_de_acesso_e_reparticao_de_beneficios_no_131232015 from https://repositorio.ufsc.br/bitstream/handle/123456789/216746/PRGV0326-D.pdf?sequence=-1&isAllowed=y\n"
     ]
    },
    {
     "name": "stderr",
     "output_type": "stream",
     "text": [
      "incorrect startxref pointer(3)\n"
     ]
    },
    {
     "name": "stdout",
     "output_type": "stream",
     "text": [
      "Loading triplas: uso_tradicional_de_varronia_curassavica_jacq_boraginacea_e_sua_contribuicao_para_o_aperfeicoamento_da_lei_de_acesso_e_reparticao_de_beneficios_no_131232015\n",
      "Total time: 0 days 00:08:07.284382\n",
      "Partial time: 0 days 00:00:51.104157\n",
      "11 - Downloading and extracting: um_estado_de_visao_a_cartografia_na_legibilidade_do_brasil_imperio from https://repositorio.ufsc.br/bitstream/handle/123456789/220534/PHST0716-T.pdf?sequence=-1&isAllowed=y\n"
     ]
    },
    {
     "name": "stderr",
     "output_type": "stream",
     "text": [
      "incorrect startxref pointer(1)\n"
     ]
    },
    {
     "name": "stdout",
     "output_type": "stream",
     "text": [
      "Loading triplas: um_estado_de_visao_a_cartografia_na_legibilidade_do_brasil_imperio\n",
      "Total time: 0 days 00:09:43.935713\n",
      "Partial time: 0 days 00:01:36.651331\n",
      "12 - Downloading and extracting: efeito_do_controle_de_especie_arborea_exotica_invasora_nas_raizes_de_uma_comunidade_vegetal_de_restinga_no_sul_do_brasil from https://repositorio.ufsc.br/bitstream/handle/123456789/229340/PBFA0068-D.pdf?sequence=-1&isAllowed=y\n"
     ]
    },
    {
     "name": "stderr",
     "output_type": "stream",
     "text": [
      "incorrect startxref pointer(1)\n"
     ]
    },
    {
     "name": "stdout",
     "output_type": "stream",
     "text": [
      "Loading triplas: efeito_do_controle_de_especie_arborea_exotica_invasora_nas_raizes_de_uma_comunidade_vegetal_de_restinga_no_sul_do_brasil\n",
      "Total time: 0 days 00:10:05.237512\n",
      "Partial time: 0 days 00:00:21.301799\n",
      "13 - Downloading and extracting: inventario_de_linguas_de_sinais_emergentes_encontradas_no_brasil_o_caso_da_cena_jaicos__pi_e_da_lingua_de_sinais_de_caicara_varzea_alegre__ce from https://repositorio.ufsc.br/bitstream/handle/123456789/229358/PLLG0845-T.pdf?sequence=-1&isAllowed=y\n"
     ]
    },
    {
     "name": "stderr",
     "output_type": "stream",
     "text": [
      "incorrect startxref pointer(1)\n"
     ]
    },
    {
     "name": "stdout",
     "output_type": "stream",
     "text": [
      "Erro ao ler o arquivo tese UFSC.pdf. \n",
      "Loading triplas: inventario_de_linguas_de_sinais_emergentes_encontradas_no_brasil_o_caso_da_cena_jaicos__pi_e_da_lingua_de_sinais_de_caicara_varzea_alegre__ce\n",
      "Total time: 0 days 00:10:24.171978\n",
      "Partial time: 0 days 00:00:18.934466\n",
      "14 - Downloading and extracting: o_projeto_educacional_intercultural_do_estado_plurinacional_da_bolivia_analise_da_lei_de_educacao_070_avelino_sinani_y_elizardo_perez_2010_e_os_impactos_de_seu_processo_de_implementacao from https://repositorio.ufsc.br/bitstream/handle/123456789/216273/PSOP0684-D.pdf?sequence=-1&isAllowed=y\n"
     ]
    },
    {
     "name": "stderr",
     "output_type": "stream",
     "text": [
      "incorrect startxref pointer(1)\n"
     ]
    },
    {
     "name": "stdout",
     "output_type": "stream",
     "text": [
      "Loading triplas: o_projeto_educacional_intercultural_do_estado_plurinacional_da_bolivia_analise_da_lei_de_educacao_070_avelino_sinani_y_elizardo_perez_2010_e_os_impactos_de_seu_processo_de_implementacao\n",
      "Total time: 0 days 00:11:04.504854\n",
      "Partial time: 0 days 00:00:40.332876\n",
      "15 - Downloading and extracting: pan_vanh__rastros_videocarta_para_meu_avo_orlando_mongconann_e_memorial from https://repositorio.ufsc.br/bitstream/handle/123456789/229926/PASO0548-D.pdf?sequence=-1&isAllowed=y\n"
     ]
    },
    {
     "name": "stderr",
     "output_type": "stream",
     "text": [
      "incorrect startxref pointer(1)\n"
     ]
    },
    {
     "name": "stdout",
     "output_type": "stream",
     "text": [
      "Loading triplas: pan_vanh__rastros_videocarta_para_meu_avo_orlando_mongconann_e_memorial\n",
      "Total time: 0 days 00:11:30.385173\n",
      "Partial time: 0 days 00:00:25.880319\n",
      "16 - Downloading and extracting: traducao_comentada_de_belen_de_francisco_izquierdo_rios_para_o_portugues_brasileiro from https://repositorio.ufsc.br/bitstream/handle/123456789/216654/PGET0463-T.pdf?sequence=-1&isAllowed=y\n"
     ]
    },
    {
     "name": "stderr",
     "output_type": "stream",
     "text": [
      "incorrect startxref pointer(1)\n"
     ]
    },
    {
     "name": "stdout",
     "output_type": "stream",
     "text": [
      "Loading triplas: traducao_comentada_de_belen_de_francisco_izquierdo_rios_para_o_portugues_brasileiro\n",
      "Total time: 0 days 00:12:53.846132\n",
      "Partial time: 0 days 00:01:23.460959\n",
      "17 - Downloading and extracting: avaliacao_da_circulacao_superior_do_atlantico_sul_baseada_em_medicoes_diretas_e_modelos_de_circulacao from https://repositorio.ufsc.br/bitstream/handle/123456789/215856/POCE0038-D.pdf?sequence=-1&isAllowed=y\n"
     ]
    },
    {
     "name": "stderr",
     "output_type": "stream",
     "text": [
      "incorrect startxref pointer(3)\n"
     ]
    },
    {
     "name": "stdout",
     "output_type": "stream",
     "text": [
      "Erro ao ler o arquivo tese UFSC.pdf. \n",
      "Loading triplas: avaliacao_da_circulacao_superior_do_atlantico_sul_baseada_em_medicoes_diretas_e_modelos_de_circulacao\n",
      "Total time: 0 days 00:13:17.854382\n",
      "Partial time: 0 days 00:00:24.008250\n",
      "18 - Downloading and extracting: historia_de_instituicoes_escolares_de_sao_francisco_do_sul_sc_1835__1935 from https://repositorio.ufsc.br/bitstream/handle/123456789/214668/PEED1477-D.pdf?sequence=-1&isAllowed=y\n"
     ]
    },
    {
     "name": "stderr",
     "output_type": "stream",
     "text": [
      "incorrect startxref pointer(1)\n"
     ]
    },
    {
     "name": "stdout",
     "output_type": "stream",
     "text": [
      "Loading triplas: historia_de_instituicoes_escolares_de_sao_francisco_do_sul_sc_1835__1935\n",
      "Total time: 0 days 00:13:51.723687\n",
      "Partial time: 0 days 00:00:33.869305\n",
      "19 - Downloading and extracting: entre_silenciamentos_e_resistencias_educacao_das_relacoes_etnicoraciais_nas_narrativas_de_professorases_de_ciencias_biologicas_da_ufsc from https://repositorio.ufsc.br/bitstream/handle/123456789/219326/PEED1541-T.pdf?sequence=-1&isAllowed=y\n"
     ]
    },
    {
     "name": "stderr",
     "output_type": "stream",
     "text": [
      "incorrect startxref pointer(1)\n"
     ]
    },
    {
     "name": "stdout",
     "output_type": "stream",
     "text": [
      "Erro ao ler o arquivo tese UFSC.pdf. \n",
      "Loading triplas: entre_silenciamentos_e_resistencias_educacao_das_relacoes_etnicoraciais_nas_narrativas_de_professorases_de_ciencias_biologicas_da_ufsc\n",
      "Total time: 0 days 00:14:11.961944\n",
      "Partial time: 0 days 00:00:20.238257\n",
      "20 - Downloading and extracting: memorias_laklanoxokleng_conhecimentos_silencios_e_temporalidades from https://repositorio.ufsc.br/bitstream/handle/123456789/216469/PASO0529-T.pdf?sequence=-1&isAllowed=y\n"
     ]
    },
    {
     "name": "stderr",
     "output_type": "stream",
     "text": [
      "incorrect startxref pointer(1)\n"
     ]
    },
    {
     "name": "stdout",
     "output_type": "stream",
     "text": [
      "Loading triplas: memorias_laklanoxokleng_conhecimentos_silencios_e_temporalidades\n",
      "Total time: 0 days 00:15:23.736242\n",
      "Partial time: 0 days 00:01:11.775306\n",
      "21 - Downloading and extracting: analise_de_fatores_criticos_para_a_assistencia_a_comunidades_indigenas_na_amazonia from https://repositorio.ufsc.br/bitstream/handle/123456789/231077/PTRA0091-D.pdf?sequence=-1&isAllowed=y\n"
     ]
    },
    {
     "name": "stderr",
     "output_type": "stream",
     "text": [
      "incorrect startxref pointer(1)\n"
     ]
    },
    {
     "name": "stdout",
     "output_type": "stream",
     "text": [
      "Loading triplas: analise_de_fatores_criticos_para_a_assistencia_a_comunidades_indigenas_na_amazonia\n",
      "Total time: 0 days 00:15:53.244907\n",
      "Partial time: 0 days 00:00:29.508657\n",
      "22 - Downloading and extracting: iniquidades_na_assistencia_prenatal_no_brasil_uma_analise_interseccional from https://repositorio.ufsc.br/bitstream/handle/123456789/234553/PGSC0283-D.pdf?sequence=-1&isAllowed=y\n"
     ]
    },
    {
     "name": "stderr",
     "output_type": "stream",
     "text": [
      "incorrect startxref pointer(1)\n"
     ]
    },
    {
     "name": "stdout",
     "output_type": "stream",
     "text": [
      "Loading triplas: iniquidades_na_assistencia_prenatal_no_brasil_uma_analise_interseccional\n",
      "Total time: 0 days 00:16:17.893311\n",
      "Partial time: 0 days 00:00:24.647404\n",
      "23 - Downloading and extracting: a_quarta_revolucao_industrial_e_seus_impactos_na_civilizacao_e_na_educacao_40_muitas_variaveis_de_uma_nova_e_complexa_equacao_civilizatoria from https://repositorio.ufsc.br/bitstream/handle/123456789/219307/PECT0459-T.pdf?sequence=-1&isAllowed=y\n"
     ]
    },
    {
     "name": "stderr",
     "output_type": "stream",
     "text": [
      "incorrect startxref pointer(1)\n"
     ]
    },
    {
     "name": "stdout",
     "output_type": "stream",
     "text": [
      "Loading triplas: a_quarta_revolucao_industrial_e_seus_impactos_na_civilizacao_e_na_educacao_40_muitas_variaveis_de_uma_nova_e_complexa_equacao_civilizatoria\n",
      "Total time: 0 days 00:17:10.302820\n",
      "Partial time: 0 days 00:00:52.409509\n",
      "24 - Downloading and extracting: a_representacao_da_informacao_de_acervos_etnograficos_uma_abordagem_dos_museus_da_regiao_sul_do_brasil from https://repositorio.ufsc.br/bitstream/handle/123456789/229915/PCIN0280-D.pdf?sequence=-1&isAllowed=y\n"
     ]
    },
    {
     "name": "stderr",
     "output_type": "stream",
     "text": [
      "incorrect startxref pointer(1)\n"
     ]
    },
    {
     "name": "stdout",
     "output_type": "stream",
     "text": [
      "Loading triplas: a_representacao_da_informacao_de_acervos_etnograficos_uma_abordagem_dos_museus_da_regiao_sul_do_brasil\n",
      "Total time: 0 days 00:17:38.088776\n",
      "Partial time: 0 days 00:00:27.785048\n",
      "25 - Downloading and extracting: fazendo_a_vida_junto_trajetorias_e_experiencias_de_sujeitos_tupinamba_de_olivencaba_no_acesso_a_saude from https://repositorio.ufsc.br/bitstream/handle/123456789/229247/PASO0543-T.pdf?sequence=-1&isAllowed=y\n"
     ]
    },
    {
     "name": "stderr",
     "output_type": "stream",
     "text": [
      "incorrect startxref pointer(1)\n"
     ]
    },
    {
     "name": "stdout",
     "output_type": "stream",
     "text": [
      "Loading triplas: fazendo_a_vida_junto_trajetorias_e_experiencias_de_sujeitos_tupinamba_de_olivencaba_no_acesso_a_saude\n",
      "Total time: 0 days 00:18:34.814668\n",
      "Partial time: 0 days 00:00:56.725892\n",
      "26 - Downloading and extracting: modelo_para_avaliar_a_probabilidade_de_evasao_de_cursos_de_uma_instituicao_federal_de_ensino_superior_ifes from https://repositorio.ufsc.br/bitstream/handle/123456789/220436/PMGA0056-D.pdf?sequence=-1&isAllowed=y\n"
     ]
    },
    {
     "name": "stderr",
     "output_type": "stream",
     "text": [
      "incorrect startxref pointer(1)\n"
     ]
    },
    {
     "name": "stdout",
     "output_type": "stream",
     "text": [
      "Loading triplas: modelo_para_avaliar_a_probabilidade_de_evasao_de_cursos_de_uma_instituicao_federal_de_ensino_superior_ifes\n",
      "Total time: 0 days 00:19:11.685598\n",
      "Partial time: 0 days 00:00:36.870930\n",
      "27 - Downloading and extracting: comunidades_de_fungos_micorrizicos_arbusculares_autoctones_de_vinhedos_da_regiao_do_vale_da_uva_goethe_sc_e_seus_efeitos_no_crescimento_e_parametros_fisiologicos_da_videira from https://repositorio.ufsc.br/bitstream/handle/123456789/215837/PRGV0336-T.pdf?sequence=-1&isAllowed=y\n"
     ]
    },
    {
     "name": "stderr",
     "output_type": "stream",
     "text": [
      "incorrect startxref pointer(1)\n"
     ]
    },
    {
     "name": "stdout",
     "output_type": "stream",
     "text": [
      "Loading triplas: comunidades_de_fungos_micorrizicos_arbusculares_autoctones_de_vinhedos_da_regiao_do_vale_da_uva_goethe_sc_e_seus_efeitos_no_crescimento_e_parametros_fisiologicos_da_videira\n",
      "Total time: 0 days 00:19:54.287079\n",
      "Partial time: 0 days 00:00:42.601481\n",
      "28 - Downloading and extracting: a_variabilidade_da_frente_subantartica_e_do_jato_atmosferico_no_hemisferico_sul from https://repositorio.ufsc.br/bitstream/handle/123456789/214446/POCE0017-D.pdf?sequence=-1&isAllowed=y\n"
     ]
    },
    {
     "name": "stderr",
     "output_type": "stream",
     "text": [
      "incorrect startxref pointer(1)\n"
     ]
    },
    {
     "name": "stdout",
     "output_type": "stream",
     "text": [
      "Erro ao ler o arquivo tese UFSC.pdf. \n",
      "Loading triplas: a_variabilidade_da_frente_subantartica_e_do_jato_atmosferico_no_hemisferico_sul\n",
      "Total time: 0 days 00:20:10.993706\n",
      "Partial time: 0 days 00:00:16.706627\n",
      "29 - Downloading and extracting: a_lei_116452008_e_a_historia_indigena_no_contexto_dos_cursos_de_graduacao_em_historia_das_universidades_publicas_em_florianopolis_20062018_reflexoes_e_perspectivas from https://repositorio.ufsc.br/bitstream/handle/123456789/214910/PHST0653-D.pdf?sequence=-1&isAllowed=y\n"
     ]
    },
    {
     "name": "stderr",
     "output_type": "stream",
     "text": [
      "incorrect startxref pointer(3)\n"
     ]
    },
    {
     "name": "stdout",
     "output_type": "stream",
     "text": [
      "Loading triplas: a_lei_116452008_e_a_historia_indigena_no_contexto_dos_cursos_de_graduacao_em_historia_das_universidades_publicas_em_florianopolis_20062018_reflexoes_e_perspectivas\n",
      "Total time: 0 days 00:21:11.096154\n",
      "Partial time: 0 days 00:01:00.102448\n",
      "30 - Downloading and extracting: as_mulheres_indigenas_na_regulacao_do_clima_da_america_latina_caminhos_para_um_direito_ecologico from https://repositorio.ufsc.br/bitstream/handle/123456789/216206/PDPC1488-D.pdf?sequence=-1&isAllowed=y\n"
     ]
    },
    {
     "name": "stderr",
     "output_type": "stream",
     "text": [
      "incorrect startxref pointer(3)\n"
     ]
    },
    {
     "name": "stdout",
     "output_type": "stream",
     "text": [
      "Loading triplas: as_mulheres_indigenas_na_regulacao_do_clima_da_america_latina_caminhos_para_um_direito_ecologico\n",
      "Total time: 0 days 00:21:53.399482\n",
      "Partial time: 0 days 00:00:42.304325\n",
      "31 - Downloading and extracting: instrumentos_astronomicos_historicos_iahs_dialogos_interculturais_com_estudantes_indigenas_e_conhecimento_geografico_brasil_e_colombia from https://repositorio.ufsc.br/bitstream/handle/123456789/214445/PGCN0728-D.pdf?sequence=-1&isAllowed=y\n"
     ]
    },
    {
     "name": "stderr",
     "output_type": "stream",
     "text": [
      "incorrect startxref pointer(1)\n"
     ]
    },
    {
     "name": "stdout",
     "output_type": "stream",
     "text": [
      "Loading triplas: instrumentos_astronomicos_historicos_iahs_dialogos_interculturais_com_estudantes_indigenas_e_conhecimento_geografico_brasil_e_colombia\n",
      "Total time: 0 days 00:22:59.107149\n",
      "Partial time: 0 days 00:01:05.707669\n",
      "32 - Downloading and extracting: o_desejo_dos_outros_uma_etnografia_dos_sonhos_yanomami_pya_u_toototopi from https://repositorio.ufsc.br/bitstream/handle/123456789/206414/PASO0501-T.pdf?sequence=-1&isAllowed=y\n"
     ]
    },
    {
     "name": "stderr",
     "output_type": "stream",
     "text": [
      "incorrect startxref pointer(1)\n"
     ]
    },
    {
     "name": "stdout",
     "output_type": "stream",
     "text": [
      "Loading triplas: o_desejo_dos_outros_uma_etnografia_dos_sonhos_yanomami_pya_u_toototopi\n",
      "Total time: 0 days 00:23:35.673545\n",
      "Partial time: 0 days 00:00:36.565397\n",
      "33 - Downloading and extracting: as_vozes_da_periferia_carolina_e_o_seu_quarto_de_despejo from https://repositorio.ufsc.br/bitstream/handle/123456789/205876/PLIT0770-D.pdf?sequence=-1&isAllowed=y\n"
     ]
    },
    {
     "name": "stderr",
     "output_type": "stream",
     "text": [
      "incorrect startxref pointer(1)\n"
     ]
    },
    {
     "name": "stdout",
     "output_type": "stream",
     "text": [
      "Erro ao ler o arquivo tese UFSC.pdf. \n",
      "Loading triplas: as_vozes_da_periferia_carolina_e_o_seu_quarto_de_despejo\n",
      "Total time: 0 days 00:23:51.774103\n",
      "Partial time: 0 days 00:00:16.099561\n",
      "34 - Downloading and extracting: fundos_rotativos_solidarios_avancos_e_limites_para_a_construcao_de_financas_solidarias_no_brasil from https://repositorio.ufsc.br/bitstream/handle/123456789/193317/PSOP0619-T.pdf?sequence=1&isAllowed=y\n"
     ]
    },
    {
     "name": "stderr",
     "output_type": "stream",
     "text": [
      "incorrect startxref pointer(1)\n"
     ]
    },
    {
     "name": "stdout",
     "output_type": "stream",
     "text": [
      "Erro ao ler o arquivo tese UFSC.pdf. \n",
      "Loading triplas: fundos_rotativos_solidarios_avancos_e_limites_para_a_construcao_de_financas_solidarias_no_brasil\n",
      "Total time: 0 days 00:24:08.756897\n",
      "Partial time: 0 days 00:00:16.983881\n",
      "35 - Downloading and extracting: direitos_linguisticos_dos_povos_indigenas_no_acesso_a_justica_a_disputa_pelo_direito_ao_uso_das_linguas_indigenas_em_juizo_a_partir_da_analise_de_tres_processos_judiciais from https://repositorio.ufsc.br/bitstream/handle/123456789/215161/PLLG0772-T.pdf?sequence=-1&isAllowed=y\n"
     ]
    },
    {
     "name": "stderr",
     "output_type": "stream",
     "text": [
      "incorrect startxref pointer(1)\n"
     ]
    },
    {
     "name": "stdout",
     "output_type": "stream",
     "text": [
      "Erro ao ler o arquivo tese UFSC.pdf. \n",
      "Loading triplas: direitos_linguisticos_dos_povos_indigenas_no_acesso_a_justica_a_disputa_pelo_direito_ao_uso_das_linguas_indigenas_em_juizo_a_partir_da_analise_de_tres_processos_judiciais\n",
      "Total time: 0 days 00:24:25.058119\n",
      "Partial time: 0 days 00:00:16.300135\n",
      "36 - Downloading and extracting: ukusse_forma_de_conhecimento_tukano_via_arte_do_dialogo_kumuanica from https://repositorio.ufsc.br/bitstream/handle/123456789/214435/PASO0504-T.pdf?sequence=-1&isAllowed=y\n"
     ]
    },
    {
     "name": "stderr",
     "output_type": "stream",
     "text": [
      "incorrect startxref pointer(1)\n"
     ]
    },
    {
     "name": "stdout",
     "output_type": "stream",
     "text": [
      "Loading triplas: ukusse_forma_de_conhecimento_tukano_via_arte_do_dialogo_kumuanica\n",
      "Total time: 0 days 00:25:40.107033\n",
      "Partial time: 0 days 00:01:15.048914\n",
      "37 - Downloading and extracting: direitos_indigenas_e_jurisdicao_constitucional_uma_analise_critica_do_caso_raposa_serra_do_sol from https://repositorio.ufsc.br/bitstream/handle/123456789/215285/PDPC1449-D.pdf?sequence=-1&isAllowed=y\n"
     ]
    },
    {
     "name": "stderr",
     "output_type": "stream",
     "text": [
      "incorrect startxref pointer(1)\n"
     ]
    },
    {
     "name": "stdout",
     "output_type": "stream",
     "text": [
      "Erro ao ler o arquivo tese UFSC.pdf. \n",
      "Loading triplas: direitos_indigenas_e_jurisdicao_constitucional_uma_analise_critica_do_caso_raposa_serra_do_sol\n",
      "Total time: 0 days 00:26:29.746545\n",
      "Partial time: 0 days 00:00:49.638517\n",
      "38 - Downloading and extracting: um_aprendizado_sobre_esteticas_decoloniais_com_o_coletivo_mahku from https://repositorio.ufsc.br/bitstream/handle/123456789/214433/PPSI0842-D.pdf?sequence=-1&isAllowed=y\n"
     ]
    },
    {
     "name": "stderr",
     "output_type": "stream",
     "text": [
      "incorrect startxref pointer(1)\n"
     ]
    },
    {
     "name": "stdout",
     "output_type": "stream",
     "text": [
      "Erro ao ler o arquivo tese UFSC.pdf. \n",
      "Loading triplas: um_aprendizado_sobre_esteticas_decoloniais_com_o_coletivo_mahku\n",
      "Total time: 0 days 00:26:46.260191\n",
      "Partial time: 0 days 00:00:16.513646\n",
      "39 - Downloading and extracting: os_mapas_que_fizeram_angola_desenhos_e_designios_na_producao_cartografica_do_sul_de_angola_17851886 from https://repositorio.ufsc.br/bitstream/handle/123456789/198704/PHST0635-T.pdf?sequence=-1&isAllowed=y\n"
     ]
    },
    {
     "name": "stderr",
     "output_type": "stream",
     "text": [
      "incorrect startxref pointer(1)\n"
     ]
    },
    {
     "name": "stdout",
     "output_type": "stream",
     "text": [
      "Loading triplas: os_mapas_que_fizeram_angola_desenhos_e_designios_na_producao_cartografica_do_sul_de_angola_17851886\n",
      "Total time: 0 days 00:27:50.126922\n",
      "Partial time: 0 days 00:01:03.866731\n",
      "40 - Downloading and extracting: entre_o_voo_e_pouso_de_yapucani_e_os_repertorios_musicais_xamanisticos_do_povo_kaapor from https://repositorio.ufsc.br/bitstream/handle/123456789/198995/PASO0483-D.pdf?sequence=-1&isAllowed=y\n"
     ]
    },
    {
     "name": "stderr",
     "output_type": "stream",
     "text": [
      "incorrect startxref pointer(1)\n"
     ]
    },
    {
     "name": "stdout",
     "output_type": "stream",
     "text": [
      "Erro ao ler o arquivo tese UFSC.pdf. \n",
      "Loading triplas: entre_o_voo_e_pouso_de_yapucani_e_os_repertorios_musicais_xamanisticos_do_povo_kaapor\n",
      "Total time: 0 days 00:28:06.113309\n",
      "Partial time: 0 days 00:00:15.986387\n",
      "41 - Downloading and extracting: caminhando_na_trilha_da_sapopema_pratica_cultura_e_conhecimento_entre_os_laklanoxokleng from https://repositorio.ufsc.br/bitstream/handle/123456789/214323/PASO0506-D.pdf?sequence=-1&isAllowed=y\n"
     ]
    },
    {
     "name": "stderr",
     "output_type": "stream",
     "text": [
      "incorrect startxref pointer(1)\n"
     ]
    },
    {
     "name": "stdout",
     "output_type": "stream",
     "text": [
      "Loading triplas: caminhando_na_trilha_da_sapopema_pratica_cultura_e_conhecimento_entre_os_laklanoxokleng\n",
      "Total time: 0 days 00:28:44.468728\n",
      "Partial time: 0 days 00:00:38.355419\n",
      "42 - Downloading and extracting: gestao_costeira_em_santa_catarina_priorizacao_das_propostas_do_plano_estadual from https://repositorio.ufsc.br/bitstream/handle/123456789/191064/PGCN0670-D.pdf?sequence=-1&isAllowed=y\n"
     ]
    },
    {
     "name": "stderr",
     "output_type": "stream",
     "text": [
      "incorrect startxref pointer(1)\n"
     ]
    },
    {
     "name": "stdout",
     "output_type": "stream",
     "text": [
      "Erro ao ler o arquivo tese UFSC.pdf. \n",
      "Loading triplas: gestao_costeira_em_santa_catarina_priorizacao_das_propostas_do_plano_estadual\n",
      "Total time: 0 days 00:28:57.539508\n",
      "Partial time: 0 days 00:00:13.070780\n",
      "43 - Downloading and extracting: entre_o_aceitavel_e_o_reprovavel_dialogos_entre_a_biomedicina_e_antropologia_medica_e_as_perspectivas_sobre_o_consumo_de_alcool_entre_povos_indigenas_e_sua_implicacao_no_cuidado from https://repositorio.ufsc.br/bitstream/handle/123456789/220475/PGSC0271-T.pdf?sequence=-1&isAllowed=y\n"
     ]
    },
    {
     "name": "stderr",
     "output_type": "stream",
     "text": [
      "incorrect startxref pointer(1)\n"
     ]
    },
    {
     "name": "stdout",
     "output_type": "stream",
     "text": [
      "Loading triplas: entre_o_aceitavel_e_o_reprovavel_dialogos_entre_a_biomedicina_e_antropologia_medica_e_as_perspectivas_sobre_o_consumo_de_alcool_entre_povos_indigenas_e_sua_implicacao_no_cuidado\n",
      "Total time: 0 days 00:29:46.464477\n",
      "Partial time: 0 days 00:00:48.924969\n",
      "44 - Downloading and extracting: crescimento_economico_indiano_e_a_industria_de_ti_a_gaiola_de_ouro from https://repositorio.ufsc.br/bitstream/handle/123456789/216379/PGRI0089-D.pdf?sequence=-1&isAllowed=y\n"
     ]
    },
    {
     "name": "stderr",
     "output_type": "stream",
     "text": [
      "incorrect startxref pointer(3)\n"
     ]
    },
    {
     "name": "stdout",
     "output_type": "stream",
     "text": [
      "Erro ao ler o arquivo tese UFSC.pdf. \n",
      "Loading triplas: crescimento_economico_indiano_e_a_industria_de_ti_a_gaiola_de_ouro\n",
      "Total time: 0 days 00:30:01.548136\n",
      "Partial time: 0 days 00:00:15.083659\n",
      "45 - Downloading and extracting: caracterizacao_fenotipica_e_genetica_de_acessos_do_banco_ativo_de_germoplasma_bag_de_acca_sellowiana_o_berg_burret_da_epagri_de_sao_joaquim from https://repositorio.ufsc.br/bitstream/handle/123456789/198250/PRGV0285-D.pdf?sequence=-1&isAllowed=y\n"
     ]
    },
    {
     "name": "stderr",
     "output_type": "stream",
     "text": [
      "incorrect startxref pointer(1)\n"
     ]
    },
    {
     "name": "stdout",
     "output_type": "stream",
     "text": [
      "Erro ao ler o arquivo tese UFSC.pdf. \n",
      "Loading triplas: caracterizacao_fenotipica_e_genetica_de_acessos_do_banco_ativo_de_germoplasma_bag_de_acca_sellowiana_o_berg_burret_da_epagri_de_sao_joaquim\n",
      "Total time: 0 days 00:30:16.913293\n",
      "Partial time: 0 days 00:00:15.365157\n",
      "46 - Downloading and extracting: o_pioneirismo_na_terra_sem_deus_sem_rei_sem_lei_eurocentrismo_e_interculturalidade_desde_o_sul_do_brasil from https://repositorio.ufsc.br/bitstream/handle/123456789/214448/PSOP0652-T.pdf?sequence=-1&isAllowed=y\n"
     ]
    },
    {
     "name": "stderr",
     "output_type": "stream",
     "text": [
      "incorrect startxref pointer(1)\n"
     ]
    },
    {
     "name": "stdout",
     "output_type": "stream",
     "text": [
      "Erro ao ler o arquivo tese UFSC.pdf. \n",
      "Loading triplas: o_pioneirismo_na_terra_sem_deus_sem_rei_sem_lei_eurocentrismo_e_interculturalidade_desde_o_sul_do_brasil\n",
      "Total time: 0 days 00:30:34.583677\n",
      "Partial time: 0 days 00:00:17.670384\n",
      "47 - Downloading and extracting: e_preciso_limpar_para_depois_plantar__praticas_agricolas_do_imigrante_polones_e_a_paisagem_colonial_paranaense_na_virada_dos_seculos_xixxx from https://repositorio.ufsc.br/bitstream/handle/123456789/204567/PHST0666-D.pdf?sequence=-1&isAllowed=y\n"
     ]
    },
    {
     "name": "stderr",
     "output_type": "stream",
     "text": [
      "incorrect startxref pointer(1)\n"
     ]
    },
    {
     "name": "stdout",
     "output_type": "stream",
     "text": [
      "Erro ao ler o arquivo tese UFSC.pdf. \n",
      "Loading triplas: e_preciso_limpar_para_depois_plantar__praticas_agricolas_do_imigrante_polones_e_a_paisagem_colonial_paranaense_na_virada_dos_seculos_xixxx\n",
      "Total time: 0 days 00:30:52.810848\n",
      "Partial time: 0 days 00:00:18.227171\n",
      "48 - Downloading and extracting: terra_e_territorio_na_america_latina__o_desafio_indigena_na_era_do_capital from https://repositorio.ufsc.br/bitstream/handle/123456789/199435/Tese%20diagramada%20Elaine.pdf?sequence=1&isAllowed=y\n",
      "Loading triplas: terra_e_territorio_na_america_latina__o_desafio_indigena_na_era_do_capital\n",
      "Total time: 0 days 00:31:47.861404\n",
      "Partial time: 0 days 00:00:55.051554\n",
      "49 - Downloading and extracting: ensino_de_historia_indigena_e_identidade_quebrando_estereotipos_atraves_da_elaboracao_de_jogos_sobre_os_laklanoxokleng from https://repositorio.ufsc.br/bitstream/handle/123456789/216527/PPEH0021-D.pdf?sequence=-1&isAllowed=y\n"
     ]
    },
    {
     "name": "stderr",
     "output_type": "stream",
     "text": [
      "incorrect startxref pointer(1)\n"
     ]
    },
    {
     "name": "stdout",
     "output_type": "stream",
     "text": [
      "Loading triplas: ensino_de_historia_indigena_e_identidade_quebrando_estereotipos_atraves_da_elaboracao_de_jogos_sobre_os_laklanoxokleng\n",
      "Total time: 0 days 00:32:22.400567\n",
      "Partial time: 0 days 00:00:34.538165\n",
      "50 - Downloading and extracting: pluralismo_juridico_e_interculturalidade_os_sistemas_juridicos_indigenas_latinoamericanos_e_as_formas_alternativas_na_resolucao_de_conflitos from https://repositorio.ufsc.br/bitstream/handle/123456789/214299/PDPC1462-T.pdf?sequence=1&isAllowed=y\n",
      "Loading triplas: pluralismo_juridico_e_interculturalidade_os_sistemas_juridicos_indigenas_latinoamericanos_e_as_formas_alternativas_na_resolucao_de_conflitos\n",
      "Total time: 0 days 00:33:07.952833\n",
      "Partial time: 0 days 00:00:45.552266\n",
      "51 - Downloading and extracting: performance_assessment_of_solar_photovoltaic_technologies_under_different_climatic_conditions_in_brazil from https://repositorio.ufsc.br/bitstream/handle/123456789/204420/PECV1179-T.pdf?sequence=-1&isAllowed=y\n"
     ]
    },
    {
     "name": "stderr",
     "output_type": "stream",
     "text": [
      "incorrect startxref pointer(1)\n"
     ]
    },
    {
     "name": "stdout",
     "output_type": "stream",
     "text": [
      "Loading triplas: performance_assessment_of_solar_photovoltaic_technologies_under_different_climatic_conditions_in_brazil\n",
      "Total time: 0 days 00:33:40.280671\n",
      "Partial time: 0 days 00:00:32.327838\n",
      "52 - Downloading and extracting: a_inutilidade_na_poesia_de_manoel_de_barros_silencios_iluminados_ou_do_olvido_a_voz from https://repositorio.ufsc.br/bitstream/handle/123456789/215154/PLIT0780-D.pdf?sequence=-1&isAllowed=y\n"
     ]
    },
    {
     "name": "stderr",
     "output_type": "stream",
     "text": [
      "incorrect startxref pointer(1)\n"
     ]
    },
    {
     "name": "stdout",
     "output_type": "stream",
     "text": [
      "Erro ao ler o arquivo tese UFSC.pdf. \n",
      "Loading triplas: a_inutilidade_na_poesia_de_manoel_de_barros_silencios_iluminados_ou_do_olvido_a_voz\n",
      "Total time: 0 days 00:33:54.079498\n",
      "Partial time: 0 days 00:00:13.798827\n",
      "53 - Downloading and extracting: arrendamento_de_terras_estudo_de_caso_no_territorio_meio_oeste_de_santa_catarina from https://repositorio.ufsc.br/bitstream/handle/123456789/204474/PAGR0439-T.pdf?sequence=1&isAllowed=y\n",
      "Loading triplas: arrendamento_de_terras_estudo_de_caso_no_territorio_meio_oeste_de_santa_catarina\n",
      "Total time: 0 days 00:34:33.916681\n",
      "Partial time: 0 days 00:00:39.837183\n",
      "54 - Downloading and extracting: impacto_de_terminalia_catappa_l_na_regeneracao_de_restinga_no_sul_do_brasil from https://repositorio.ufsc.br/bitstream/handle/123456789/215757/PECO0156-D.pdf?sequence=-1&isAllowed=y\n"
     ]
    },
    {
     "name": "stderr",
     "output_type": "stream",
     "text": [
      "incorrect startxref pointer(1)\n"
     ]
    },
    {
     "name": "stdout",
     "output_type": "stream",
     "text": [
      "Loading triplas: impacto_de_terminalia_catappa_l_na_regeneracao_de_restinga_no_sul_do_brasil\n",
      "Total time: 0 days 00:34:53.719152\n",
      "Partial time: 0 days 00:00:19.802471\n",
      "55 - Downloading and extracting: diversidade_e_conhecimento_local_associado_de_camucamu_myrciaria_dubia_kunth_mcvaugh_de_povos_indigenas_na_amazonia_colombiana from https://repositorio.ufsc.br/bitstream/handle/123456789/229049/PRGV0340-T.pdf?sequence=-1&isAllowed=y\n"
     ]
    },
    {
     "name": "stderr",
     "output_type": "stream",
     "text": [
      "incorrect startxref pointer(1)\n"
     ]
    },
    {
     "name": "stdout",
     "output_type": "stream",
     "text": [
      "Loading triplas: diversidade_e_conhecimento_local_associado_de_camucamu_myrciaria_dubia_kunth_mcvaugh_de_povos_indigenas_na_amazonia_colombiana\n",
      "Total time: 0 days 00:35:34.472046\n",
      "Partial time: 0 days 00:00:40.752894\n",
      "56 - Downloading and extracting: practicas_de_cuidados_culturales_utilizadas_por_la_comunidad_mapuche_y_su_relacion_con_los_cuidados_profesionales_orientados_a_la_promocion_de_la_salud_en_la_region_de_aysenchile from https://repositorio.ufsc.br/bitstream/handle/123456789/211538/PNFR1118-D.pdf?sequence=-1&isAllowed=y\n"
     ]
    },
    {
     "name": "stderr",
     "output_type": "stream",
     "text": [
      "incorrect startxref pointer(1)\n"
     ]
    },
    {
     "name": "stdout",
     "output_type": "stream",
     "text": [
      "Erro ao ler o arquivo tese UFSC.pdf. \n",
      "Loading triplas: practicas_de_cuidados_culturales_utilizadas_por_la_comunidad_mapuche_y_su_relacion_con_los_cuidados_profesionales_orientados_a_la_promocion_de_la_salud_en_la_region_de_aysenchile\n",
      "Total time: 0 days 00:35:51.923710\n",
      "Partial time: 0 days 00:00:17.451664\n",
      "57 - Downloading and extracting: sob_suspeita_relacoes_politicas_e_corrupcao_no_servico_de_protecao_aos_indios_ao_raiar_do_regime_militar_19631967 from https://repositorio.ufsc.br/bitstream/handle/123456789/216207/PHST0691-D.pdf?sequence=-1&isAllowed=y\n"
     ]
    },
    {
     "name": "stderr",
     "output_type": "stream",
     "text": [
      "incorrect startxref pointer(3)\n"
     ]
    },
    {
     "name": "stdout",
     "output_type": "stream",
     "text": [
      "Erro ao ler o arquivo tese UFSC.pdf. \n",
      "Loading triplas: sob_suspeita_relacoes_politicas_e_corrupcao_no_servico_de_protecao_aos_indios_ao_raiar_do_regime_militar_19631967\n",
      "Total time: 0 days 00:36:08.278660\n",
      "Partial time: 0 days 00:00:16.354950\n",
      "58 - Downloading and extracting: synthesis_and_processing_of_ti3sic2based_inks_via_inkjet_and_screen_printing_technology_for_eletronic_applications from https://repositorio.ufsc.br/bitstream/handle/123456789/189917/PCEM0467-T.pdf?sequence=-1&isAllowed=y\n"
     ]
    },
    {
     "name": "stderr",
     "output_type": "stream",
     "text": [
      "incorrect startxref pointer(1)\n"
     ]
    },
    {
     "name": "stdout",
     "output_type": "stream",
     "text": [
      "Erro ao ler o arquivo tese UFSC.pdf. \n",
      "Loading triplas: synthesis_and_processing_of_ti3sic2based_inks_via_inkjet_and_screen_printing_technology_for_eletronic_applications\n",
      "Total time: 0 days 00:36:26.095584\n",
      "Partial time: 0 days 00:00:17.816924\n",
      "59 - Downloading and extracting: trabalho_decente_e_bem_viver_enlace_necessario_para_a_construcao_do_vinculo_comunitario_fundamentado_no_reconhecimento_relacionalidade_e_reciprocidade from https://repositorio.ufsc.br/bitstream/handle/123456789/215411/PDPC1474-T.pdf?sequence=-1&isAllowed=y\n"
     ]
    },
    {
     "name": "stderr",
     "output_type": "stream",
     "text": [
      "incorrect startxref pointer(3)\n"
     ]
    },
    {
     "name": "stdout",
     "output_type": "stream",
     "text": [
      "Loading triplas: trabalho_decente_e_bem_viver_enlace_necessario_para_a_construcao_do_vinculo_comunitario_fundamentado_no_reconhecimento_relacionalidade_e_reciprocidade\n",
      "Total time: 0 days 00:37:30.937574\n",
      "Partial time: 0 days 00:01:04.841990\n",
      "No PDF link found for ocupar_a_universidade_mas_manter_o_coracao_na_comunidade_caminhos_de_estudantes_laklanoxokleng_na_ufsc\n"
     ]
    }
   ],
   "source": [
    "# Gravar hora de início do processamento\n",
    "start_time = pd.Timestamp.now()\n",
    "parcial_time = pd.Timestamp.now()\n",
    "\n",
    "for i in range(0,len(thesis_repository)):\n",
    "\n",
    "    title = thesis_repository['title'][i].replace(\"?\",\"\").replace('-', ' ').replace('&', ' ')  \n",
    "    repo = get_repository_link(title)\n",
    "\n",
    "    # Coletando o link do PDF\n",
    "    #url = thesis_repository['repository'][i]\n",
    "    thesis_uri = thesis_repository['Thesis'][i][16:]\n",
    "    pdf_link = get_pdf_link(repo)\n",
    "    if pdf_link is not None:\n",
    "        # Itereando pelos links de PDF encontrados (em alguns casos há outros materiais além da tese)\n",
    "        for pdf_num in range(len(pdf_link)):\n",
    "            print(f\"{i} - Downloading and extracting: {thesis_uri} from {pdf_link[pdf_num]}\")\n",
    "            download_file(pdf_link[pdf_num], thesis_uri)\n",
    "\n",
    "            # Extraindo o texto e entidades\n",
    "            tese_path = 'tese UFSC.pdf'\n",
    "            excerpt = extratc_text(tese_path)\n",
    "\n",
    "            excerpts = []\n",
    "            persons = []\n",
    "            gpes = []\n",
    "\n",
    "            # Salvando as triplas em CSV\n",
    "            for n in excerpt.keys():\n",
    "\n",
    "                excerpt_uri = thesis_repository['Thesis'][i] + '_pdf_' + str(pdf_num) + '_p_' + str(n)\n",
    "                excerpt_text = excerpt[n]['text']\n",
    "                # Verifica se o último caractere é uma barra invertida\n",
    "                #if excerpt_text[-1] == '\\\\': \n",
    "                #    excerpt_text = excerpt_text[:-1]\n",
    "                \n",
    "\n",
    "                excerpt_page = 'pdf_' + str(pdf_num) + '_p_' + str(n)\n",
    "                excerpt_lang = excerpt[n]['lang']\n",
    "                \n",
    "                excerpts.append([thesis_repository['Thesis'][i], excerpt_uri, excerpt_text, excerpt_page, excerpt_lang])\n",
    "                    \n",
    "                #Criando as relações com as entidades\n",
    "                for person in excerpt[n]['persons']:\n",
    "                    persons.append([excerpt_uri, 'tag:stardog:api:' + person])\n",
    "                \n",
    "                for gpe in excerpt[n]['gpes']:\n",
    "                    gpes.append([excerpt_uri, 'tag:stardog:api:' + gpe])\n",
    "            \n",
    "            # Salvando os dados em CSV no diretório de importação do Neo4j\n",
    "            pd.DataFrame(excerpts).to_csv('C:\\\\Users\\\\facordei\\\\.Neo4jDesktop\\\\relate-data\\\\dbmss\\\\dbms-792eabfc-5517-4220-ab29-30ef6ec3236e\\\\import\\\\excerptsUFSC.csv', index=False, header=False)\n",
    "            pd.DataFrame(persons).to_csv('C:\\\\Users\\\\facordei\\\\.Neo4jDesktop\\\\relate-data\\\\dbmss\\\\dbms-792eabfc-5517-4220-ab29-30ef6ec3236e\\\\import\\\\personsUFSC.csv', index=False, header=False)\n",
    "            pd.DataFrame(gpes).to_csv('C:\\\\Users\\\\facordei\\\\.Neo4jDesktop\\\\relate-data\\\\dbmss\\\\dbms-792eabfc-5517-4220-ab29-30ef6ec3236e\\\\import\\\\gpesUFSC.csv', index=False, header=False)\n",
    "\n",
    "            #Deletando o arquivo PDF após o processamento\n",
    "            os.remove('tese UFSC.pdf')\n",
    "\n",
    "            print(f\"Loading triplas: {thesis_uri}\")\n",
    "\n",
    "            # Importanto os dados para o Neo4j\n",
    "            #Excerpts\n",
    "            query = \"\"\"\n",
    "            LOAD CSV FROM 'file:///excerptsUFSC.csv'\n",
    "            AS row\n",
    "            MATCH  (t:Thesis{uri: row[0]})\n",
    "            MERGE  (e:Exerpt{\n",
    "                    uri: row[1],\n",
    "                    text: row[2],\n",
    "                    page: row[3],\n",
    "                    lang: row[4]\n",
    "                    })-[r:BFO_0000050]-(t);\n",
    "            \"\"\"\n",
    "            graph = GraphDatabase.driver(NEO4J_URL, auth=(NEO4J_USERNAME, NEO4J_PASSWORD))\n",
    "            results = graph.execute_query(query)\n",
    "            graph.close()\n",
    "\n",
    "            #Persons\n",
    "            query = \"\"\"\n",
    "            LOAD CSV FROM 'file:///personsUFSC.csv'\n",
    "            AS row\n",
    "            MATCH  (e:Exerpt{uri: row[0]})\n",
    "            MERGE  (p:Person{uri: row[1]})\n",
    "            MERGE  (e)-[r:mentions]-(p);\n",
    "            \"\"\"\n",
    "            graph = GraphDatabase.driver(NEO4J_URL, auth=(NEO4J_USERNAME, NEO4J_PASSWORD))\n",
    "            results = graph.execute_query(query)\n",
    "            graph.close()\n",
    "\n",
    "            #GPEs\n",
    "            query = \"\"\"\n",
    "            LOAD CSV FROM 'file:///gpesUFSC.csv'\n",
    "            AS row\n",
    "            MATCH  (e:Exerpt{uri: row[0]})\n",
    "            MERGE  (p:Place{uri: row[1]})\n",
    "            MERGE  (e)-[r:mentions]-(p);\n",
    "            \"\"\"\n",
    "            graph = GraphDatabase.driver(NEO4J_URL, auth=(NEO4J_USERNAME, NEO4J_PASSWORD))\n",
    "            results = graph.execute_query(query)\n",
    "            graph.close()\n",
    "\n",
    "            # Removendo os arquivos CSV após a importação\n",
    "            os.remove('C:\\\\Users\\\\facordei\\\\.Neo4jDesktop\\\\relate-data\\\\dbmss\\\\dbms-792eabfc-5517-4220-ab29-30ef6ec3236e\\\\import\\\\excerptsUFSC.csv')\n",
    "            os.remove('C:\\\\Users\\\\facordei\\\\.Neo4jDesktop\\\\relate-data\\\\dbmss\\\\dbms-792eabfc-5517-4220-ab29-30ef6ec3236e\\\\import\\\\personsUFSC.csv')\n",
    "            os.remove('C:\\\\Users\\\\facordei\\\\.Neo4jDesktop\\\\relate-data\\\\dbmss\\\\dbms-792eabfc-5517-4220-ab29-30ef6ec3236e\\\\import\\\\gpesUFSC.csv')\n",
    "\n",
    "            print(f\"Total time: {pd.Timestamp.now() - start_time}\")\n",
    "            print(f\"Partial time: {pd.Timestamp.now() - parcial_time}\")\n",
    "            # Atualizando a hora parcial\n",
    "            parcial_time = pd.Timestamp.now()\n",
    "    else:\n",
    "        print(f\"No PDF link found for {thesis_uri}\")\n",
    "\n",
    "    # gravando no grafo que a tese foi processada\n",
    "    query = \"\"\"\n",
    "    MATCH  (t:Thesis{uri: \\'\"\"\" + thesis_repository['Thesis'][i] +  \"\"\"\\'})\n",
    "    SET t.processed = true\n",
    "    SET t.repository = \\'\"\"\" + str(repo) +  \"\"\"\\'\n",
    "    \"\"\"\n",
    "    graph = GraphDatabase.driver(NEO4J_URL, auth=(NEO4J_USERNAME, NEO4J_PASSWORD))\n",
    "    results = graph.execute_query(query)\n",
    "    graph.close()\n"
   ]
  }
 ],
 "metadata": {
  "kernelspec": {
   "display_name": ".venv-IndigSlave (3.11.9)",
   "language": "python",
   "name": "python3"
  },
  "language_info": {
   "codemirror_mode": {
    "name": "ipython",
    "version": 3
   },
   "file_extension": ".py",
   "mimetype": "text/x-python",
   "name": "python",
   "nbconvert_exporter": "python",
   "pygments_lexer": "ipython3",
   "version": "3.11.9"
  }
 },
 "nbformat": 4,
 "nbformat_minor": 2
}
