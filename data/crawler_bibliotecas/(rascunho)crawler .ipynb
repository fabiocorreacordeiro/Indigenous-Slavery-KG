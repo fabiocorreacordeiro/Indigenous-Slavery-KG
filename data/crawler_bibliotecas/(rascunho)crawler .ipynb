{
 "cells": [
  {
   "cell_type": "code",
   "execution_count": 4,
   "metadata": {},
   "outputs": [],
   "source": [
    "#%pip install beautifulsoup4"
   ]
  },
  {
   "cell_type": "code",
   "execution_count": 1,
   "metadata": {},
   "outputs": [],
   "source": [
    "import requests\n",
    "from bs4 import BeautifulSoup as bs\n",
    "import pandas as pd\n",
    "import json\n",
    "import stardog\n",
    "import os\n",
    "import io\n",
    "from langchain_community.graphs import Neo4jGraph"
   ]
  },
  {
   "cell_type": "markdown",
   "metadata": {},
   "source": [
    "- Buscar os links para a tese no Neo4j\n",
    "- Buscar o link do PDF no repositório da universidade\n",
    "- Baixar o PDF\n",
    "- Extrair o texto do PDF "
   ]
  },
  {
   "cell_type": "markdown",
   "metadata": {},
   "source": [
    "Buscar links para a tese no Neo4j"
   ]
  },
  {
   "cell_type": "markdown",
   "metadata": {},
   "source": [
    "Conectando ao Neo4j "
   ]
  },
  {
   "cell_type": "markdown",
   "metadata": {},
   "source": [
    "neo4j://localhost:7687"
   ]
  },
  {
   "cell_type": "code",
   "execution_count": 4,
   "metadata": {},
   "outputs": [],
   "source": [
    "\n",
    "# Neo4j variables\n",
    "NEO4J_URL = os.getenv(\"NEO4J_URL\")\n",
    "NEO4J_USERNAME =os.getenv(\"NEO4J_USERNAME\")\n",
    "NEO4J_PASSWORD = os.getenv(\"NEO4J_PASSWORD\")\n",
    "\n",
    "#Connecting to the graph\n",
    "graph = Neo4jGraph(\n",
    "    url=NEO4J_URL,\n",
    "    username=NEO4J_USERNAME,\n",
    "    password=NEO4J_PASSWORD\n",
    ")"
   ]
  },
  {
   "cell_type": "code",
   "execution_count": null,
   "metadata": {},
   "outputs": [],
   "source": [
    "# Stardog variables\n",
    "#STARDOG_ENDPOINT = os.getenv('STARDOG_ENDPOINT')\n",
    "#STARDOG_USERNAME = os.getenv(\"STARDOG_USERNAME\")\n",
    "#STARDOG_PASSWORD = os.getenv(\"STARDOG_PASSWORD\")\n",
    "\n",
    "#connection_details = {\n",
    "#    'endpoint': STARDOG_ENDPOINT,\n",
    "#    'username': STARDOG_USERNAME,\n",
    "#    'password': STARDOG_PASSWORD\n",
    "#}"
   ]
  },
  {
   "cell_type": "code",
   "execution_count": null,
   "metadata": {},
   "outputs": [],
   "source": [
    "#database_name = 'IndigenousSlavery'\n",
    "#conn = stardog.Connection(database_name, **connection_details)"
   ]
  },
  {
   "cell_type": "code",
   "execution_count": 11,
   "metadata": {},
   "outputs": [
    {
     "data": {
      "text/html": [
       "<div>\n",
       "<style scoped>\n",
       "    .dataframe tbody tr th:only-of-type {\n",
       "        vertical-align: middle;\n",
       "    }\n",
       "\n",
       "    .dataframe tbody tr th {\n",
       "        vertical-align: top;\n",
       "    }\n",
       "\n",
       "    .dataframe thead th {\n",
       "        text-align: right;\n",
       "    }\n",
       "</style>\n",
       "<table border=\"1\" class=\"dataframe\">\n",
       "  <thead>\n",
       "    <tr style=\"text-align: right;\">\n",
       "      <th></th>\n",
       "      <th>Thesis</th>\n",
       "      <th>repository</th>\n",
       "    </tr>\n",
       "  </thead>\n",
       "  <tbody>\n",
       "    <tr>\n",
       "      <th>0</th>\n",
       "      <td>tag:stardog:api:substituicao_do_negro_de_fumo_...</td>\n",
       "      <td>https://www.teses.usp.br/teses/disponiveis/3/3...</td>\n",
       "    </tr>\n",
       "    <tr>\n",
       "      <th>1</th>\n",
       "      <td>tag:stardog:api:diversidade_na_unidade_a_tradi...</td>\n",
       "      <td>https://www.teses.usp.br/teses/disponiveis/71/...</td>\n",
       "    </tr>\n",
       "    <tr>\n",
       "      <th>2</th>\n",
       "      <td>tag:stardog:api:kuxima_paa_dizque_antigamente_...</td>\n",
       "      <td>https://www.teses.usp.br/teses/disponiveis/8/8...</td>\n",
       "    </tr>\n",
       "    <tr>\n",
       "      <th>3</th>\n",
       "      <td>tag:stardog:api:vai_da_muito_trabalho_cultura_...</td>\n",
       "      <td>https://www.teses.usp.br/teses/disponiveis/48/...</td>\n",
       "    </tr>\n",
       "    <tr>\n",
       "      <th>4</th>\n",
       "      <td>tag:stardog:api:access_to_maternal_reproductiv...</td>\n",
       "      <td>https://www.teses.usp.br/teses/disponiveis/22/...</td>\n",
       "    </tr>\n",
       "    <tr>\n",
       "      <th>...</th>\n",
       "      <td>...</td>\n",
       "      <td>...</td>\n",
       "    </tr>\n",
       "    <tr>\n",
       "      <th>2203</th>\n",
       "      <td>tag:stardog:api:entre_o_tipo_e_o_sujeito_os_re...</td>\n",
       "      <td>http://www.teses.usp.br/teses/disponiveis/27/2...</td>\n",
       "    </tr>\n",
       "    <tr>\n",
       "      <th>2204</th>\n",
       "      <td>tag:stardog:api:a_equacao_de_blackscholes_com_...</td>\n",
       "      <td>http://www.teses.usp.br/teses/disponiveis/55/5...</td>\n",
       "    </tr>\n",
       "    <tr>\n",
       "      <th>2205</th>\n",
       "      <td>tag:stardog:api:o_feitor_ausente_estudo_sobre_...</td>\n",
       "      <td>https://teses.usp.br/teses/disponiveis/8/8138/...</td>\n",
       "    </tr>\n",
       "    <tr>\n",
       "      <th>2206</th>\n",
       "      <td>tag:stardog:api:um_ator_de_fronteira_uma_anali...</td>\n",
       "      <td>http://www.teses.usp.br/teses/disponiveis/27/2...</td>\n",
       "    </tr>\n",
       "    <tr>\n",
       "      <th>2207</th>\n",
       "      <td>tag:stardog:api:sobre_abolicionismos_penais_a_...</td>\n",
       "      <td>https://www.teses.usp.br/teses/disponiveis/8/8...</td>\n",
       "    </tr>\n",
       "  </tbody>\n",
       "</table>\n",
       "<p>2208 rows × 2 columns</p>\n",
       "</div>"
      ],
      "text/plain": [
       "                                                 Thesis  \\\n",
       "0     tag:stardog:api:substituicao_do_negro_de_fumo_...   \n",
       "1     tag:stardog:api:diversidade_na_unidade_a_tradi...   \n",
       "2     tag:stardog:api:kuxima_paa_dizque_antigamente_...   \n",
       "3     tag:stardog:api:vai_da_muito_trabalho_cultura_...   \n",
       "4     tag:stardog:api:access_to_maternal_reproductiv...   \n",
       "...                                                 ...   \n",
       "2203  tag:stardog:api:entre_o_tipo_e_o_sujeito_os_re...   \n",
       "2204  tag:stardog:api:a_equacao_de_blackscholes_com_...   \n",
       "2205  tag:stardog:api:o_feitor_ausente_estudo_sobre_...   \n",
       "2206  tag:stardog:api:um_ator_de_fronteira_uma_anali...   \n",
       "2207  tag:stardog:api:sobre_abolicionismos_penais_a_...   \n",
       "\n",
       "                                             repository  \n",
       "0     https://www.teses.usp.br/teses/disponiveis/3/3...  \n",
       "1     https://www.teses.usp.br/teses/disponiveis/71/...  \n",
       "2     https://www.teses.usp.br/teses/disponiveis/8/8...  \n",
       "3     https://www.teses.usp.br/teses/disponiveis/48/...  \n",
       "4     https://www.teses.usp.br/teses/disponiveis/22/...  \n",
       "...                                                 ...  \n",
       "2203  http://www.teses.usp.br/teses/disponiveis/27/2...  \n",
       "2204  http://www.teses.usp.br/teses/disponiveis/55/5...  \n",
       "2205  https://teses.usp.br/teses/disponiveis/8/8138/...  \n",
       "2206  http://www.teses.usp.br/teses/disponiveis/27/2...  \n",
       "2207  https://www.teses.usp.br/teses/disponiveis/8/8...  \n",
       "\n",
       "[2208 rows x 2 columns]"
      ]
     },
     "execution_count": 11,
     "metadata": {},
     "output_type": "execute_result"
    }
   ],
   "source": [
    "#Saprql query\n",
    "query1 = \"\"\"\n",
    "SELECT ?thesis ?link\n",
    "WHERE {\n",
    "  ?thesis <http://purl.org/dc/terms/publisher> <tag:stardog:api:USP>.\n",
    "  ?thesis a <http://purl.org/ontology/bibo/Thesis>.\n",
    "  ?thesis <http://purl.org/ontology/bibo/repository> ?link.  \n",
    "}\n",
    "\"\"\"\n",
    "\n",
    "#csv_results = conn.select(query1, content_type='text/csv')\n",
    "#thesis_abstract = pd.read_csv(io.BytesIO(csv_results))\n",
    "#thesis_abstract\n",
    "\n",
    "\n",
    "#Cypher query \n",
    "query2 = \"\"\"\n",
    "MATCH  (t:Thesis)-[:publisher]-(uni:University{uri:'tag:stardog:api:USP'})\n",
    "RETURN  t[\"uri\"] as Thesis, t[\"repository\"] as repository \n",
    "\"\"\"\n",
    "\n",
    "results = graph.query(query2)\n",
    "# Convert the results to a DataFrame\n",
    "thesis_repository = pd.DataFrame(results, columns=[\"Thesis\", \"repository\"])\n",
    "thesis_repository\n",
    "\n",
    "#2213 / 2208"
   ]
  },
  {
   "cell_type": "code",
   "execution_count": 13,
   "metadata": {},
   "outputs": [
    {
     "data": {
      "text/plain": [
       "'https://www.teses.usp.br/teses/disponiveis/3/3133/tde-10082023-152417/'"
      ]
     },
     "execution_count": 13,
     "metadata": {},
     "output_type": "execute_result"
    }
   ],
   "source": [
    "url = thesis_repository['repository'][0]\n",
    "url"
   ]
  },
  {
   "cell_type": "code",
   "execution_count": null,
   "metadata": {},
   "outputs": [],
   "source": [
    "#import certifi\n",
    "#import ssl\n",
    "#import urllib3"
   ]
  },
  {
   "cell_type": "code",
   "execution_count": 14,
   "metadata": {},
   "outputs": [
    {
     "name": "stderr",
     "output_type": "stream",
     "text": [
      "c:\\Users\\facordei\\OneDrive - Capgemini\\Documents\\GitHub\\Indigenous-Slavery-KG\\.venv-IndigSlave\\Lib\\site-packages\\urllib3\\connectionpool.py:1064: InsecureRequestWarning: Unverified HTTPS request is being made to host 'www.teses.usp.br'. Adding certificate verification is strongly advised. See: https://urllib3.readthedocs.io/en/1.26.x/advanced-usage.html#ssl-warnings\n",
      "  warnings.warn(\n",
      "c:\\Users\\facordei\\OneDrive - Capgemini\\Documents\\GitHub\\Indigenous-Slavery-KG\\.venv-IndigSlave\\Lib\\site-packages\\urllib3\\connectionpool.py:1064: InsecureRequestWarning: Unverified HTTPS request is being made to host 'www.teses.usp.br'. Adding certificate verification is strongly advised. See: https://urllib3.readthedocs.io/en/1.26.x/advanced-usage.html#ssl-warnings\n",
      "  warnings.warn(\n"
     ]
    }
   ],
   "source": [
    "#Fazer requisição e parsear o arquivo html\n",
    "f = requests.get(url, verify=False).text#, verify=False) \n",
    "soup = bs(f, \"html.parser\")"
   ]
  },
  {
   "cell_type": "code",
   "execution_count": 16,
   "metadata": {},
   "outputs": [
    {
     "data": {
      "text/plain": [
       "'https://www.teses.usp.br/teses/disponiveis/3/3133/tde-10082023-152417/publico/FabioJoseEsperCorr.pdf'"
      ]
     },
     "execution_count": 16,
     "metadata": {},
     "output_type": "execute_result"
    }
   ],
   "source": [
    "#Coletando link para as teses\n",
    "for doc in soup.find_all('a', href=True):\n",
    "    if doc['href'].endswith('.pdf'):\n",
    "        path = doc['href']\n",
    "        prefix_uni = 'https://www.teses.usp.br'\n",
    "        link = prefix_uni + path\n",
    "\n",
    "link"
   ]
  },
  {
   "cell_type": "code",
   "execution_count": 58,
   "metadata": {},
   "outputs": [],
   "source": [
    "#fazer download do arquivo\n",
    "def download_file(url, local_filename):\n",
    "    # NOTE the stream=True parameter below\n",
    "    r = requests.get(url, verify=False, stream=True)\n",
    "    # raise_for_status() is not needed with stream=True\n",
    "    # r.raise_for_status()\n",
    "    with open(local_filename, 'wb') as f:\n",
    "        for chunk in r.iter_content(chunk_size=8192):\n",
    "            f.write(chunk)\n",
    "    return local_filename"
   ]
  },
  {
   "cell_type": "code",
   "execution_count": 63,
   "metadata": {},
   "outputs": [
    {
     "name": "stderr",
     "output_type": "stream",
     "text": [
      "c:\\Users\\facordei\\OneDrive - Capgemini\\Documents\\GitHub\\Indigenous-Slavery-KG\\.venv-IndigSlave\\Lib\\site-packages\\urllib3\\connectionpool.py:1064: InsecureRequestWarning: Unverified HTTPS request is being made to host 'www.teses.usp.br'. Adding certificate verification is strongly advised. See: https://urllib3.readthedocs.io/en/1.26.x/advanced-usage.html#ssl-warnings\n",
      "  warnings.warn(\n"
     ]
    },
    {
     "data": {
      "text/plain": [
       "'garavazo.pdf'"
      ]
     },
     "execution_count": 63,
     "metadata": {},
     "output_type": "execute_result"
    }
   ],
   "source": [
    "download_file(link, 'garavazo.pdf')"
   ]
  },
  {
   "cell_type": "code",
   "execution_count": 1,
   "metadata": {},
   "outputs": [],
   "source": [
    "#!python -m spacy download pt_core_news_lg\n",
    "#!python -m spacy download en_core_web_lg\n",
    "#%pip install -U scikit-learn"
   ]
  },
  {
   "cell_type": "code",
   "execution_count": 1,
   "metadata": {},
   "outputs": [],
   "source": [
    "import os\n",
    "import io\n",
    "import stardog\n",
    "import pandas as pd\n",
    "import spacy\n",
    "from spacy import displacy\n",
    "from sklearn.cluster import DBSCAN\n",
    "import numpy as np\n",
    "import requests\n",
    "from unidecode import unidecode\n",
    "import re\n",
    "import json\n",
    "from langdetect import detect"
   ]
  },
  {
   "cell_type": "markdown",
   "metadata": {},
   "source": [
    "### Specify Stardog connection details"
   ]
  }
 ],
 "metadata": {
  "kernelspec": {
   "display_name": ".venv-IndigSlave",
   "language": "python",
   "name": "python3"
  },
  "language_info": {
   "codemirror_mode": {
    "name": "ipython",
    "version": 3
   },
   "file_extension": ".py",
   "mimetype": "text/x-python",
   "name": "python",
   "nbconvert_exporter": "python",
   "pygments_lexer": "ipython3",
   "version": "3.11.9"
  }
 },
 "nbformat": 4,
 "nbformat_minor": 2
}
