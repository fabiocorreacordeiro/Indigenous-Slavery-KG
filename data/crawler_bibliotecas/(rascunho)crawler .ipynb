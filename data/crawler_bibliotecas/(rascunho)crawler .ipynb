{
 "cells": [
  {
   "cell_type": "code",
   "execution_count": 4,
   "metadata": {},
   "outputs": [],
   "source": [
    "#%pip install beautifulsoup4"
   ]
  },
  {
   "cell_type": "code",
   "execution_count": 9,
   "metadata": {},
   "outputs": [],
   "source": [
    "import requests\n",
    "from bs4 import BeautifulSoup as bs\n",
    "import pandas as pd\n",
    "import json\n",
    "import stardog\n",
    "import os\n",
    "import io"
   ]
  },
  {
   "cell_type": "markdown",
   "metadata": {},
   "source": [
    "- Buscar os links para a tese no Stardog\n",
    "- Buscar o link do PDF no repositório da universidade\n",
    "- Baixar o PDF\n",
    "- Extrair o texto do PDF "
   ]
  },
  {
   "cell_type": "markdown",
   "metadata": {},
   "source": [
    "Buscar links para a tese no Stardog"
   ]
  },
  {
   "cell_type": "code",
   "execution_count": null,
   "metadata": {},
   "outputs": [],
   "source": []
  },
  {
   "cell_type": "code",
   "execution_count": 6,
   "metadata": {},
   "outputs": [],
   "source": [
    "# Stardog variables\n",
    "STARDOG_ENDPOINT = os.getenv('STARDOG_ENDPOINT')\n",
    "STARDOG_USERNAME = os.getenv(\"STARDOG_USERNAME\")\n",
    "STARDOG_PASSWORD = os.getenv(\"STARDOG_PASSWORD\")\n",
    "\n",
    "connection_details = {\n",
    "    'endpoint': STARDOG_ENDPOINT,\n",
    "    'username': STARDOG_USERNAME,\n",
    "    'password': STARDOG_PASSWORD\n",
    "}"
   ]
  },
  {
   "cell_type": "code",
   "execution_count": 7,
   "metadata": {},
   "outputs": [],
   "source": [
    "database_name = 'IndigenousSlavery'\n",
    "conn = stardog.Connection(database_name, **connection_details)"
   ]
  },
  {
   "cell_type": "code",
   "execution_count": null,
   "metadata": {},
   "outputs": [
    {
     "data": {
      "text/html": [
       "<div>\n",
       "<style scoped>\n",
       "    .dataframe tbody tr th:only-of-type {\n",
       "        vertical-align: middle;\n",
       "    }\n",
       "\n",
       "    .dataframe tbody tr th {\n",
       "        vertical-align: top;\n",
       "    }\n",
       "\n",
       "    .dataframe thead th {\n",
       "        text-align: right;\n",
       "    }\n",
       "</style>\n",
       "<table border=\"1\" class=\"dataframe\">\n",
       "  <thead>\n",
       "    <tr style=\"text-align: right;\">\n",
       "      <th></th>\n",
       "      <th>thesis</th>\n",
       "      <th>link</th>\n",
       "    </tr>\n",
       "  </thead>\n",
       "  <tbody>\n",
       "    <tr>\n",
       "      <th>0</th>\n",
       "      <td>tag:stardog:api:pequeninas_pobres_e_miseraveis...</td>\n",
       "      <td>https://www.teses.usp.br/teses/disponiveis/8/8...</td>\n",
       "    </tr>\n",
       "    <tr>\n",
       "      <th>1</th>\n",
       "      <td>tag:stardog:api:partus_sequitur_ventrem_reprod...</td>\n",
       "      <td>https://www.teses.usp.br/teses/disponiveis/8/8...</td>\n",
       "    </tr>\n",
       "    <tr>\n",
       "      <th>2</th>\n",
       "      <td>tag:stardog:api:o_abolicionismo_escolar_reflex...</td>\n",
       "      <td>http://www.teses.usp.br/teses/disponiveis/48/4...</td>\n",
       "    </tr>\n",
       "    <tr>\n",
       "      <th>3</th>\n",
       "      <td>tag:stardog:api:a_maconaria_e_o_processo_da_ab...</td>\n",
       "      <td>http://www.teses.usp.br/teses/disponiveis/8/81...</td>\n",
       "    </tr>\n",
       "    <tr>\n",
       "      <th>4</th>\n",
       "      <td>tag:stardog:api:garcas_nos_ceus_cafezais_na_te...</td>\n",
       "      <td>https://www.teses.usp.br/teses/disponiveis/8/8...</td>\n",
       "    </tr>\n",
       "    <tr>\n",
       "      <th>...</th>\n",
       "      <td>...</td>\n",
       "      <td>...</td>\n",
       "    </tr>\n",
       "    <tr>\n",
       "      <th>2208</th>\n",
       "      <td>tag:stardog:api:circulos_de_coca_e_fumaca_enco...</td>\n",
       "      <td>http://www.teses.usp.br/teses/disponiveis/8/81...</td>\n",
       "    </tr>\n",
       "    <tr>\n",
       "      <th>2209</th>\n",
       "      <td>tag:stardog:api:trabajando_con_huacos_curander...</td>\n",
       "      <td>https://www.teses.usp.br/teses/disponiveis/71/...</td>\n",
       "    </tr>\n",
       "    <tr>\n",
       "      <th>2210</th>\n",
       "      <td>tag:stardog:api:producao_de_imagens_na_perfoma...</td>\n",
       "      <td>https://www.teses.usp.br/teses/disponiveis/27/...</td>\n",
       "    </tr>\n",
       "    <tr>\n",
       "      <th>2211</th>\n",
       "      <td>tag:stardog:api:niyayou_antagonismo_e_alianca_...</td>\n",
       "      <td>http://www.teses.usp.br/teses/disponiveis/8/81...</td>\n",
       "    </tr>\n",
       "    <tr>\n",
       "      <th>2212</th>\n",
       "      <td>tag:stardog:api:dos_rios_e_suas_margens_narrat...</td>\n",
       "      <td>https://www.teses.usp.br/teses/disponiveis/8/8...</td>\n",
       "    </tr>\n",
       "  </tbody>\n",
       "</table>\n",
       "<p>2213 rows × 2 columns</p>\n",
       "</div>"
      ],
      "text/plain": [
       "                                                 thesis  \\\n",
       "0     tag:stardog:api:pequeninas_pobres_e_miseraveis...   \n",
       "1     tag:stardog:api:partus_sequitur_ventrem_reprod...   \n",
       "2     tag:stardog:api:o_abolicionismo_escolar_reflex...   \n",
       "3     tag:stardog:api:a_maconaria_e_o_processo_da_ab...   \n",
       "4     tag:stardog:api:garcas_nos_ceus_cafezais_na_te...   \n",
       "...                                                 ...   \n",
       "2208  tag:stardog:api:circulos_de_coca_e_fumaca_enco...   \n",
       "2209  tag:stardog:api:trabajando_con_huacos_curander...   \n",
       "2210  tag:stardog:api:producao_de_imagens_na_perfoma...   \n",
       "2211  tag:stardog:api:niyayou_antagonismo_e_alianca_...   \n",
       "2212  tag:stardog:api:dos_rios_e_suas_margens_narrat...   \n",
       "\n",
       "                                                   link  \n",
       "0     https://www.teses.usp.br/teses/disponiveis/8/8...  \n",
       "1     https://www.teses.usp.br/teses/disponiveis/8/8...  \n",
       "2     http://www.teses.usp.br/teses/disponiveis/48/4...  \n",
       "3     http://www.teses.usp.br/teses/disponiveis/8/81...  \n",
       "4     https://www.teses.usp.br/teses/disponiveis/8/8...  \n",
       "...                                                 ...  \n",
       "2208  http://www.teses.usp.br/teses/disponiveis/8/81...  \n",
       "2209  https://www.teses.usp.br/teses/disponiveis/71/...  \n",
       "2210  https://www.teses.usp.br/teses/disponiveis/27/...  \n",
       "2211  http://www.teses.usp.br/teses/disponiveis/8/81...  \n",
       "2212  https://www.teses.usp.br/teses/disponiveis/8/8...  \n",
       "\n",
       "[2213 rows x 2 columns]"
      ]
     },
     "execution_count": 28,
     "metadata": {},
     "output_type": "execute_result"
    }
   ],
   "source": [
    "#Saprql query\n",
    "query1 = \"\"\"\n",
    "SELECT ?thesis ?link\n",
    "WHERE {\n",
    "  ?thesis <http://purl.org/dc/terms/publisher> <tag:stardog:api:USP>.\n",
    "  ?thesis a <http://purl.org/ontology/bibo/Thesis>.\n",
    "  ?thesis <http://purl.org/ontology/bibo/repository> ?link.  \n",
    "}\n",
    "\"\"\"\n",
    "#Cypher query \n",
    "query2 = \"\"\"\n",
    "MATCH  (t:Thesis)-[:publisher]-(uni:University{uri:'tag:stardog:api:USP'})\n",
    "RETURN  t[\"uri\"] as Thesis, t[\"repository\"] as Repositories \n",
    "LIMIT 25\n",
    "\"\"\"\n",
    "\n",
    "csv_results = conn.select(query1, content_type='text/csv')\n",
    "thesis_abstract = pd.read_csv(io.BytesIO(csv_results))\n",
    "thesis_abstract\n",
    "\n",
    "#2213 / 2208"
   ]
  },
  {
   "cell_type": "code",
   "execution_count": 29,
   "metadata": {},
   "outputs": [
    {
     "data": {
      "text/plain": [
       "'https://www.teses.usp.br/teses/disponiveis/8/8138/tde-25112022-164104/'"
      ]
     },
     "execution_count": 29,
     "metadata": {},
     "output_type": "execute_result"
    }
   ],
   "source": [
    "thesis_abstract['link'][0]"
   ]
  },
  {
   "cell_type": "code",
   "execution_count": 42,
   "metadata": {},
   "outputs": [
    {
     "data": {
      "text/plain": [
       "'https://www.teses.usp.br/teses/disponiveis/8/8137/tde-16072007-105821/pt-br.php'"
      ]
     },
     "execution_count": 42,
     "metadata": {},
     "output_type": "execute_result"
    }
   ],
   "source": [
    "url0 = ('https://bdtd.ibict.br/vufind/Search/Results?lookfor=Slave&type=AllFields&limit=20')\n",
    "url = ('https://www.teses.usp.br/teses/disponiveis/8/8137/tde-16072007-105821/pt-br.php')\n",
    "url"
   ]
  },
  {
   "cell_type": "code",
   "execution_count": 19,
   "metadata": {},
   "outputs": [],
   "source": [
    "import certifi\n",
    "import ssl\n",
    "import urllib3"
   ]
  },
  {
   "cell_type": "code",
   "execution_count": 49,
   "metadata": {},
   "outputs": [
    {
     "name": "stderr",
     "output_type": "stream",
     "text": [
      "c:\\Users\\facordei\\OneDrive - Capgemini\\Documents\\GitHub\\Indigenous-Slavery-KG\\.venv-IndigSlave\\Lib\\site-packages\\urllib3\\connectionpool.py:1064: InsecureRequestWarning: Unverified HTTPS request is being made to host 'www.teses.usp.br'. Adding certificate verification is strongly advised. See: https://urllib3.readthedocs.io/en/1.26.x/advanced-usage.html#ssl-warnings\n",
      "  warnings.warn(\n"
     ]
    }
   ],
   "source": [
    "#Fazer requisição e parsear o arquivo html\n",
    "f = requests.get(url, verify=False).text#, verify=False) \n",
    "soup = bs(f, \"html.parser\")"
   ]
  },
  {
   "cell_type": "code",
   "execution_count": 50,
   "metadata": {},
   "outputs": [
    {
     "data": {
      "text/plain": [
       "\n",
       "<!DOCTYPE html PUBLIC \"-//W3C//DTD XHTML 1.0 Transitional//EN\"\n",
       "  \"http://www.w3.org/TR/xhtml1/DTD/xhtml1-transitional.dtd\">\n",
       "\n",
       "<html lang=\"pt-br\" xml:lang=\"pt-br\" xmlns=\"http://www.w3.org/1999/xhtml\">\n",
       "<head>\n",
       "<!-- Google Tag Manager -->\n",
       "<script>(function(w,d,s,l,i){w[l]=w[l]||[];w[l].push({'gtm.start':\n",
       "    new Date().getTime(),event:'gtm.js'});var f=d.getElementsByTagName(s)[0],\n",
       "    j=d.createElement(s),dl=l!='dataLayer'?'&l='+l:'';j.async=true;j.src=\n",
       "    'https://www.googletagmanager.com/gtm.js?id='+i+dl;f.parentNode.insertBefore(j,f);\n",
       "    })(window,document,'script','dataLayer','GTM-TK26HK5H');\n",
       "  </script>\n",
       "<!-- End Google Tag Manager -->\n",
       "<title>Riqueza e escravidão no nordeste paulista: Batatais, 1851-1887</title>\n",
       "<meta content=\"width=device-width, initial-scale=1.0\" name=\"viewport\"/>\n",
       "<meta content=\"text/html; charset=utf-8\" http-equiv=\"content-type\">\n",
       "<meta content=\"index, follow\" name=\"robots\"/>\n",
       "<meta content=\"O presente trabalho dedica-se ao estudo da economia e da demografia da escravidão na cidade de Batatais (SP) no decorrer da segunda metade do século XIX. A pesquisa teve como fonte principal os inventários...\" name=\"description\"/>\n",
       "<meta content=\"19th Century, Demografia escrava, Família escrava., Inventários, Inventories, Riqueza, Século XIX, Slave Demography, Slave Family., Wealth\" name=\"keywords\"/>\n",
       "<meta content=\"Biblioteca Digital de Teses e Dissertações da USP\" name=\"generator\"/>\n",
       "<meta content=\"2025-05-13T01:09:01-03:00\" name=\"date\"/>\n",
       "<link href=\"/templates/bdtd/favicon.ico\" rel=\"shortcut icon\"/>\n",
       "<link href=\"/templates/bdtd/favicon.ico\" rel=\"shortcut icon\" type=\"image/x-icon\"/>\n",
       "<link href=\"/modules/mod_jflanguageselection/tmpl/mod_jflanguageselection.css\" rel=\"stylesheet\" type=\"text/css\"/>\n",
       "<script src=\"/media/system/js/mootools.js\" type=\"text/javascript\"></script>\n",
       "<script src=\"/media/system/js/caption.js\" type=\"text/javascript\"></script>\n",
       "<link href=\"/templates/bdtd/css/design.css\" rel=\"stylesheet\" type=\"text/css\"/>\n",
       "<link href=\"/templates/bdtd/css/servicos.css\" rel=\"stylesheet\" type=\"text/css\"/>\n",
       "<link href=\"/templates/bdtd/css/documento.css\" rel=\"stylesheet\" type=\"text/css\"/>\n",
       "<link href=\"/estante/site/lib/jquery/css/flick/jquery-ui.css\" rel=\"stylesheet\" type=\"text/css\"/>\n",
       "<link href=\"http://purl.org/dc/terms/\" rel=\"schema.DCTERMS\"/>\n",
       "<link href=\"http://purl.org/dc/elements/1.1/\" rel=\"schema.DC\"/>\n",
       "<meta content=\"por\" name=\"DC.language\" scheme=\"DCTERMS.RFC1766\" xml:lang=\"pt-br\"/>\n",
       "<meta content=\"Garavazo, Juliana\" name=\"DC.creator\" xml:lang=\"pt-br\"/>\n",
       "<meta content=\"Motta, Jose Flavio\" name=\"DC.contributor\" xml:lang=\"pt-br\"/>\n",
       "<meta content=\"Riqueza e escravidão no nordeste paulista: Batatais, 1851-1887\" name=\"DC.title\" xml:lang=\"pt-br\"/>\n",
       "<meta content=\"Wealth and slave in the São Paulo\\'s northeast: city of Batatais, 1851-1887\" name=\"DC.title\" xml:lang=\"en\"/>\n",
       "<meta content=\"O presente trabalho dedica-se ao estudo da economia e da demografia da escravidão na cidade de Batatais (SP) no decorrer da segunda metade do século XIX. A pesquisa teve como fonte principal os inventários post-mortem datados de 1851 a 1887 e utilizou, de forma complementar, as escrituras de transações envolvendo escravos, registradas na localidade entre 1861 e 1887, e a Lista de Qualificação de Votantes, de 1874. De início, avançou-se à análise do evolver demográfico e econômico do Sertão do Rio Pardo, e, mais especificamente, de Batatais, durante os séculos XVIII a XX. Em seguida procedeu-se ao exame das formas, distribuição e dinâmica dos recursos possuídos pelos batataenses em uma economia essencialmente pecuarista e agricultora de subsistência, que assistiu, nas últimas décadas do século XIX, ao avanço da cultura cafeeira e à substituição do trabalho compulsório pelo livre. Outrossim, com o auxílio das fontes secundárias, realizou-se uma análise demográfica e de estrutura de posse do contingente escravo ali residente, examinando as principais características dos cativos e dos senhores batataenses, além de acompanhar o impacto exercido pelas modificações ocorridas no sistema escravista brasileiro. Por fim, ocupou-se do exame das relações familiares estabelecidas entre os cativos e ingênuos inventariados e comercializados, delineando seu perfil e investigando sua estabilidade frente à partilha dos bens inventariados\" name=\"DCTERMS.abstract\" xml:lang=\"pt-br\"/>\n",
       "<meta content=\"This research analyzes the economy and slave demography of the city of Batatais (SP) during the second half of the 19th century. The study has, as the main source, the post mortem inventories from 1851 to 1887 and, as secondary sources, the transfer of ownership documents related to slaves - registered between 1861 and 1887 - and the Vote Qualifying List (1874). The work begins with the analysis of the economic and demographic characteristics of Sertão do Rio Pardo and, more specifically, Batatais, from the 18th to the 20th centuries, followed by the analysis of the allocation, accumulation and dynamics of the wealth held by the local inhabitants. At that time, economy was dedicated to cattle and subsistence agriculture and, in the late decades of the 19th century, gave place to the advance of coffee plantation and the shift of slavery work to free work. Hence, this study analyzed the local slaves, concerning demographics and possessions, and observed the main characteristics of the slaves and their owners, related to the changes occurred to the Brazilian slavery. Finally, the structure and demographic characteristics of slave families were analyzed through the information obtained in the inventories and ownership documents, with further investigations of their stability during the division of the inventoried assets\" name=\"DCTERMS.abstract\" xml:lang=\"en\"/>\n",
       "<meta content=\"Demografia escrava\" name=\"DC.subject\" xml:lang=\"pt-br\"/>\n",
       "<meta content=\"Família escrava.\" name=\"DC.subject\" xml:lang=\"pt-br\"/>\n",
       "<meta content=\"Inventários\" name=\"DC.subject\" xml:lang=\"pt-br\"/>\n",
       "<meta content=\"Riqueza\" name=\"DC.subject\" xml:lang=\"pt-br\"/>\n",
       "<meta content=\"Século XIX\" name=\"DC.subject\" xml:lang=\"pt-br\"/>\n",
       "<meta content=\"19th Century\" name=\"DC.subject\" xml:lang=\"en\"/>\n",
       "<meta content=\"Inventories\" name=\"DC.subject\" xml:lang=\"en\"/>\n",
       "<meta content=\"Slave Demography\" name=\"DC.subject\" xml:lang=\"en\"/>\n",
       "<meta content=\"Slave Family.\" name=\"DC.subject\" xml:lang=\"en\"/>\n",
       "<meta content=\"Wealth\" name=\"DC.subject\" xml:lang=\"en\"/>\n",
       "<meta content=\"Dissertação de Mestrado\" name=\"DC.description\" xml:lang=\"pt-br\"/>\n",
       "<meta content=\"Master's Dissertation\" name=\"DC.description\" xml:lang=\"en\"/>\n",
       "<meta content=\"Faculdade de Filosofia, Letras e Ciências Humanas, 2006\" name=\"DC.description\" xml:lang=\"pt-br\"/>\n",
       "<meta content=\"text\" name=\"DC.type\" xml:lang=\"en\"/>\n",
       "<meta content=\"Biblioteca Digital de Teses e Dissertações da Universidade de São Paulo\" name=\"DC.publisher\" xml:lang=\"pt-br\"/>\n",
       "<meta content=\"Universidade de São Paulo\" name=\"DC.publisher\" xml:lang=\"pt-br\"/>\n",
       "<meta content=\"2007\" name=\"DC.date\" xml:lang=\"pt-br\"/>\n",
       "<meta content=\"2006-03-17\" name=\"DCTERMS.issued\" xml:lang=\"pt-br\"/>\n",
       "<meta content=\"2007-08-08\" name=\"DCTERMS.available\" xml:lang=\"pt-br\"/>\n",
       "<meta content=\"tde-16072007-105821\" name=\"DC.identifier\" xml:lang=\"pt-br\"/>\n",
       "<meta content=\"doi:10.11606/D.8.2006.tde-16072007-105821\" name=\"DC.identifier\" xml:lang=\"pt-br\"/>\n",
       "<meta content=\"pt-br\" name=\"citation_language\"/>\n",
       "<meta content=\"Riqueza e escravidão no nordeste paulista: Batatais, 1851-1887\" name=\"citation_title\"/>\n",
       "<meta content=\"Demografia escrava; Família escrava.; Inventários; Riqueza; Século XIX\" name=\"citation_keywords\"/>\n",
       "<meta content=\"2006-03-17\" name=\"citation_publication_date\"/>\n",
       "<meta content=\"2007\" name=\"citation_online_date\"/>\n",
       "<meta content=\"Garavazo, Juliana\" name=\"citation_author\"/>\n",
       "<meta content=\"Universidade de São Paulo\" name=\"citation_dissertation_institution\"/>\n",
       "<meta content=\"Biblioteca Digital de Teses e Dissertações da Universidade de São Paulo\" name=\"citation_publisher\"/>\n",
       "<meta content=\"http://www.teses.usp.br/teses/disponiveis/8/8137/tde-16072007-105821/\" name=\"citation_abstract_html_url\"/>\n",
       "<meta content=\"http://www.teses.usp.br/teses/disponiveis/8/8137/tde-16072007-105821/publico/Garavazo_Juliana_mestrado.pdf\" name=\"citation_pdf_url\"/>\n",
       "<meta content=\"10.11606/D.8.2006.tde-16072007-105821\" name=\"citation_doi\"/>\n",
       "<script src=\"/templates/bdtd/js/nospam.js\" type=\"text/javascript\"></script>\n",
       "<script src=\"/templates/bdtd/js/jquery-latest.js\" type=\"text/javascript\"></script>\n",
       "<script src=\"/estante/site/lib/jquery/jquery-ui.min.js\" type=\"text/javascript\"></script>\n",
       "</meta></head>\n",
       "<body>\n",
       "<!-- Google Tag Manager (noscript) -->\n",
       "<noscript>\n",
       "<iframe height=\"0\" src=\"https://www.googletagmanager.com/ns.html?id=GTM-TK26HK5H\" style=\"display:none;visibility:hidden\" width=\"0\"></iframe>\n",
       "</noscript>\n",
       "<!-- End Google Tag Manager (noscript) -->\n",
       "<script charset=\"utf-8\" src=\"/barra/barra.js\" type=\"text/javascript\"></script>\n",
       "<div id=\"Site\">\n",
       "<div id=\"SiteBackground\">\n",
       "<div id=\"Cabecalho\">\n",
       "<div id=\"CabecalhoBarraUSP\"> </div>\n",
       "<div id=\"CabecalhoTeses\"><a href=\"/?lang=pt-br\" id=\"HomeLink\" title=\"Home\"></a></div>\n",
       "<div id=\"CabecalhoImagens\">\n",
       "<div class=\"moduletable\"><noscript><div class=\"message\">Sorry, but Javascript is not enabled in your browser!</div></noscript>\n",
       "<script language=\"javascript\" type=\"text/javascript\">\n",
       "<!--\n",
       "var embedSIRCSS = '<' + 'style type=\"text/css\" media=\"all\">'\n",
       "+ '@import \"/modules/mod_jw_sir/mod_jw_sir/mod_jw_sir.css\";'\n",
       "+ 'ul#jw-sir,ul#jw-sir li#jw-sir-loading {width:217px;height:90px;}'\n",
       "+ '</' + 'style>';\n",
       "document.write(embedSIRCSS);\n",
       "-->\n",
       "</script>\n",
       "<script src=\"/modules/mod_jw_sir/mod_jw_sir/mod_jw_sir.js\" type=\"text/javascript\"></script>\n",
       "<script type=\"text/javascript\">var delay=5000;var transition=40;var preLoader='jw-sir-loading';</script>\n",
       "<ul class=\"\" id=\"jw-sir\">\n",
       "<li id=\"jw-sir-loading\"></li>\n",
       "<li><img alt=\"JoomlaWorks Simple Image Rotator\" src=\"/templates/bdtd/banner/foto06.png\" style=\"width: 217px; height: 90px;\" title=\"JoomlaWorks Simple Image Rotator\"/></li>\n",
       "<li><img alt=\"JoomlaWorks Simple Image Rotator\" src=\"/templates/bdtd/banner/foto07.png\" style=\"width: 217px; height: 90px;\" title=\"JoomlaWorks Simple Image Rotator\"/></li>\n",
       "<li><img alt=\"JoomlaWorks Simple Image Rotator\" src=\"/templates/bdtd/banner/foto04.png\" style=\"width: 217px; height: 90px;\" title=\"JoomlaWorks Simple Image Rotator\"/></li>\n",
       "<li><img alt=\"JoomlaWorks Simple Image Rotator\" src=\"/templates/bdtd/banner/foto02.png\" style=\"width: 217px; height: 90px;\" title=\"JoomlaWorks Simple Image Rotator\"/></li>\n",
       "<li><img alt=\"JoomlaWorks Simple Image Rotator\" src=\"/templates/bdtd/banner/foto01.png\" style=\"width: 217px; height: 90px;\" title=\"JoomlaWorks Simple Image Rotator\"/></li>\n",
       "<li><img alt=\"JoomlaWorks Simple Image Rotator\" src=\"/templates/bdtd/banner/foto09.png\" style=\"width: 217px; height: 90px;\" title=\"JoomlaWorks Simple Image Rotator\"/></li>\n",
       "<li><img alt=\"JoomlaWorks Simple Image Rotator\" src=\"/templates/bdtd/banner/foto03.png\" style=\"width: 217px; height: 90px;\" title=\"JoomlaWorks Simple Image Rotator\"/></li>\n",
       "<li><img alt=\"JoomlaWorks Simple Image Rotator\" src=\"/templates/bdtd/banner/foto05.png\" style=\"width: 217px; height: 90px;\" title=\"JoomlaWorks Simple Image Rotator\"/></li>\n",
       "<li><img alt=\"JoomlaWorks Simple Image Rotator\" src=\"/templates/bdtd/banner/foto10.png\" style=\"width: 217px; height: 90px;\" title=\"JoomlaWorks Simple Image Rotator\"/></li>\n",
       "<li><img alt=\"JoomlaWorks Simple Image Rotator\" src=\"/templates/bdtd/banner/foto08.png\" style=\"width: 217px; height: 90px;\" title=\"JoomlaWorks Simple Image Rotator\"/></li>\n",
       "</ul>\n",
       "</div>\n",
       "</div>\n",
       "</div>\n",
       "<div id=\"Corpo\">\n",
       "<div class=\"CorpoDivisao\">\n",
       "<div id=\"CorpoMenuTopo\"> </div>\n",
       "</div>\n",
       "<div class=\"CorpoDivisao\">\n",
       "<div id=\"CorpoReferencia\"><span class=\"breadcrumbs pathway\"><a class=\"pathway\" href=\"/?&amp;lang=pt-br\">Inicío</a></span></div>\n",
       "<div id=\"CorpoIdioma\"><div id=\"jflanguageselection\"><div class=\"rawimages\"><span id=\"active_language\"><a href=\"http://www.teses.usp.br/teses/disponiveis/8/8137/tde-16072007-105821/?&amp;lang=pt-br\"><img alt=\"Português (Brasil)\" src=\"/components/com_joomfish/images/flags/pt-br.gif\" title=\"Português (Brasil)\"/></a></span><span><a href=\"http://www.teses.usp.br/teses/disponiveis/8/8137/tde-16072007-105821/?&amp;lang=en\"><img alt=\"English (United Kingdom)\" src=\"/components/com_joomfish/images/flags/en.gif\" title=\"English (United Kingdom)\"/></a></span><span><a href=\"http://www.teses.usp.br/teses/disponiveis/8/8137/tde-16072007-105821/?&amp;lang=es\"><img alt=\"EspañSpanish Formal International)\" src=\"/components/com_joomfish/images/flags/es.gif\" title=\"EspañSpanish Formal International)\"/></a></span><span><a href=\"http://www.teses.usp.br/teses/disponiveis/8/8137/tde-16072007-105821/?&amp;lang=fr\"><img alt=\"French (Fr)\" src=\"/components/com_joomfish/images/flags/fr.gif\" title=\"French (Fr)\"/></a></span></div></div>\n",
       "</div>\n",
       "</div>\n",
       "<div class=\"BotoesCompartilhar\" style=\"margin-top: 52px; margin-bottom: 6.5px\">\n",
       "<div style=\"font-size: 15.6px; font-weight: bold; margin-left: 6.5px;\">Compartilhar:</div>\n",
       "<div style=\"display: flex; justify-content: left; align-items: center; gap: 13px; margin: 13px 0; margin-left: 6.5px;\">\n",
       "<a href=\"#\" id=\"share-whatsapp\" target=\"_blank\" title=\"Compartilhar link no WhatsApp\">\n",
       "<img alt=\"Compartilhar link no WhatsApp\" src=\"https://upload.wikimedia.org/wikipedia/commons/6/6b/WhatsApp.svg\" style=\"width: 30px; height: 30px;\"/>\n",
       "</a>\n",
       "<a href=\"#\" id=\"share-facebook\" target=\"_blank\" title=\"Compartilhar link no Facebook\">\n",
       "<img alt=\"Compartilhar link no Facebook\" src=\"https://upload.wikimedia.org/wikipedia/commons/1/1b/Facebook_icon.svg\" style=\"width: 25px; height: 25px;\"/>\n",
       "</a>\n",
       "<a id=\"share-x\" target=\"_blank\" title=\"Compartilhar link no X\">\n",
       "<img alt=\"Compartilhar link no X (Twitter)\" src=\"https://upload.wikimedia.org/wikipedia/commons/c/cc/X_icon.svg\" style=\"width: 25px; height: 25px;\">\n",
       "</img></a>\n",
       "<a href=\"https://www.researchgate.net\" target=\"_blank\" title=\"Abrir ResearchGate\">\n",
       "<img alt=\"Abrir ResearchGate\" src=\"https://upload.wikimedia.org/wikipedia/commons/5/5e/ResearchGate_icon_SVG.svg\" style=\"width: 25px; height: 25px;\"/>\n",
       "</a>\n",
       "<a href=\"#\" id=\"share-linkedin\" target=\"_blank\" title=\"Compartilhar link no LinkedIn\">\n",
       "<img alt=\"Compartilhar link no LinkedIn\" src=\"https://upload.wikimedia.org/wikipedia/commons/e/e9/Linkedin_icon.svg\" style=\"width: 25px; height: 25px;\"/>\n",
       "</a>\n",
       "</div>\n",
       "<div class=\"bdPanel\"><script src=\"http://www.teses.usp.br/estante/widget/estanteWidget.js\" type=\"text/javascript\"></script>\n",
       "<div id=\"estante\"></div>\n",
       "<form action=\"\" method=\"post\">\n",
       "<input name=\"evAutor\" type=\"hidden\" value=\"Garavazo, Juliana\"/>\n",
       "<input name=\"evTitulo\" type=\"hidden\" value=\"Riqueza e escravidão no nordeste paulista: Batatais, 1851-1887\"/>\n",
       "<input name=\"evAno\" type=\"hidden\" value=\"2006\"/>\n",
       "<input name=\"evID\" type=\"hidden\" value=\"tde-16072007-105821\"/>\n",
       "<input name=\"evIdioma\" type=\"hidden\" value=\"pt-br\"/>\n",
       "</form>\n",
       "</div>\n",
       "</div>\n",
       "<div class=\"CorpoDivisao\">\n",
       "<div class=\"CorpoServico\"> </div>\n",
       "<div class=\"bdPanelServico\">\n",
       "<br/>\n",
       "<br/>\n",
       "<div class=\"menuTabServico\"><a href=\"javascript: void(0);\" id=\"toogleServico\"><img alt=\"Serviços\" border=\"0\" src=\"/templates/bdtd/images/add.png\" title=\"Serviços\"/></a></div>\n",
       "<div class=\"menuPanelServico\" id=\"menuServico\">\n",
       "<div class=\"conteudoPanel\">\n",
       "<div class=\"menuTitulo\">Serviços</div>\n",
       "<hr class=\"servico\"/>\n",
       "<div class=\"menuItem\"><a href=\"#referencias\">Trabalhos decorrentes</a></div>\n",
       "<hr class=\"servico\"/>\n",
       "<!-- <div class=\"menuItem\"><a href=\"javascript: void(0);\">Estatist&iacute;cas</a></div> -->\n",
       "<div class=\"menuItem\">  <div class=\"menuItemTitulo\"><a href=\"javascript: window.open('/stats.php?id=tde-16072007-105821&amp;t=v&amp;lang=pt-br','','');\"><img alt=\"Estatistícas\" border=\"0\" height=\"13\" src=\"/images/chart_bar.png\" width=\"12\"> Estatistícas</img></a></div><div class=\"menuItemValor\"></div></div>\n",
       "<!-- <div class=\"menuItem\">&nbsp;&nbsp;<div class=\"menuItemTitulo\"><a href=\"javascript: window.open('/stats.php?id=tde-16072007-105821&amp;t=d&amp;lang=pt-br','','');\"><img width=\"12\" height=\"13\" src=\"/images/chart_bar.png\" alt=\"Downloads\" border=\"0\" /> Downloads</a></div><div class=\"menuItemValor\"></div></div> -->\n",
       "<hr class=\"servico\"/>\n",
       "<div class=\"menuItem\"><a href=\"javascript: window.open('/cite.php?id=tde-16072007-105821&amp;lang=pt-br','','width=640,height=480,resizable=yes,scrollbars=1,menubar=no');\">Como citar</a></div>\n",
       "<hr class=\"servico\"/>\n",
       "<div class=\"menuItem\"><a href=\"javascript: window.open('/marc.php?id=tde-16072007-105821&amp;lang=pt-br','','width=640,height=480,resizable=yes,scrollbars=1,menubar=no');\">Formato MARC</a></div>\n",
       "<div class=\"menuItem\"><a href=\"javascript: window.open('/xml.php?id=tde-16072007-105821','','width=640,height=480,resizable=yes,scrollbars=1,menubar=no');\">Formato OAI DC</a></div>\n",
       "</div>\n",
       "</div>\n",
       "</div>\n",
       "<script type=\"text/javascript\">\n",
       "          $(\"#toogleServico\").click(function () {\n",
       "\t    $(\"#menuServico\").slideToggle(\"fast\");\n",
       "\t  });\n",
       "        </script>\n",
       "<div class=\"CorpoServicoDivisao\"> </div>\n",
       "</div>\n",
       "<div class=\"CorpoDivisao\">\n",
       "<div id=\"CorpoConteudoDocumento\">\n",
       "<div id=\"CorpoTexto\">\n",
       "<div class=\"DocumentoTitulo\">Dissertação de Mestrado</div>\n",
       "<div class=\"DocumentoTituloTexto\">DOI</div><div class=\"DocumentoTexto\">https://doi.org/10.11606/D.8.2006.tde-16072007-105821</div>\n",
       "<div class=\"DocumentoTituloTexto\">Documento</div><div class=\"DocumentoTexto\"><a href=\"/index.php?option=com_jumi&amp;fileid=11&amp;Itemid=76&amp;lang=pt-br\">Dissertação de Mestrado</a></div>\n",
       "<div class=\"DocumentoTituloTexto\">Autor</div><div class=\"DocumentoTexto\"><a href=\"/index.php?option=com_jumi&amp;fileid=17&amp;Itemid=160&amp;id=F7A377B2FD3F&amp;lang=pt-br\">Garavazo, Juliana</a> (<a href=\"http://dedalus.usp.br/F/?func=scan&amp;scan_code=AUT&amp;scan_start=Garavazo, Juliana\" target=\"_blank\">Catálogo USP</a>)</div>\n",
       "<div class=\"DocumentoTituloTexto\">Nome completo</div><div class=\"DocumentoTexto\">Juliana Garavazo</div>\n",
       "<div class=\"DocumentoTituloTexto\">Unidade da USP</div><div class=\"DocumentoTexto\"><a href=\"/index.php?option=com_jumi&amp;fileid=30&amp;Itemid=162&amp;id=8&amp;lang=pt-br\">Faculdade de Filosofia, Letras e Ciências Humanas</a></div>\n",
       "<div class=\"DocumentoTituloTexto\">Área do Conhecimento</div><div class=\"DocumentoTexto\"><a href=\"/index.php?option=com_jumi&amp;fileid=9&amp;Itemid=159&amp;id=8137&amp;prog=8009&amp;exp=0&amp;lang=pt-br\">História Econômica</a></div>\n",
       "<div class=\"DocumentoTituloTexto\">Data de Defesa</div><div class=\"DocumentoTexto\"><a href=\"/index.php?option=com_jumi&amp;fileid=29&amp;Itemid=158&amp;id=2006&amp;lang=pt-br\">2006-03-17</a></div>\n",
       "<div class=\"DocumentoTituloTexto\">Imprenta</div><div class=\"DocumentoTexto\">São Paulo, 2006</div>\n",
       "<div class=\"DocumentoTituloTexto\">Orientador</div><div class=\"DocumentoTexto\">\n",
       "<a href=\"/index.php?option=com_jumi&amp;fileid=14&amp;Itemid=161&amp;id=37A0B7466A43&amp;lang=pt-br\">Motta, Jose Flavio</a> (<a href=\"http://dedalus.usp.br/F/?func=scan&amp;scan_code=AUT&amp;scan_start=Motta, Jose Flavio\" target=\"_blank\">Catálogo USP</a>)<br/>\n",
       "</div>\n",
       "<div class=\"DocumentoTituloTexto\">Banca examinadora</div><div class=\"DocumentoTexto\">\n",
       "\n",
       "Motta, Jose Flavio (Presidente)<br/>\n",
       "\n",
       "Bacellar, Carlos de Almeida Prado<br/>\n",
       "\n",
       "Marcondes, Renato Leite<br/>\n",
       "</div>\n",
       "<div> </div> <!-- Esta div vazia cria um espa�o -->\n",
       "<div class=\"DocumentoTituloTexto\">Título em português</div><div class=\"DocumentoTexto\"><strong>Riqueza e escravidão no nordeste paulista: Batatais, 1851-1887</strong></div>\n",
       "<div class=\"DocumentoTituloTexto\">Palavras-chave em português</div>\n",
       "<div class=\"DocumentoTexto\">\n",
       "<em>Demografia escrava</em><br/>\n",
       "<em>Família escrava.</em><br/>\n",
       "<em>Inventários</em><br/>\n",
       "<em>Riqueza</em><br/>\n",
       "<em>Século XIX</em><br/>\n",
       "</div>\n",
       "<div class=\"DocumentoTituloTexto2\">Resumo em português</div>\n",
       "<div class=\"DocumentoTextoResumo\">O presente trabalho dedica-se ao estudo da economia e da demografia da escravidão na cidade de Batatais (SP) no decorrer da segunda metade do século XIX. A pesquisa teve como fonte principal os inventários post-mortem datados de 1851 a 1887 e utilizou, de forma complementar, as escrituras de transações envolvendo escravos, registradas na localidade entre 1861 e 1887, e a Lista de Qualificação de Votantes, de 1874. De início, avançou-se à análise do evolver demográfico e econômico do Sertão do Rio Pardo, e, mais especificamente, de Batatais, durante os séculos XVIII a XX. Em seguida procedeu-se ao exame das formas, distribuição e dinâmica dos recursos possuídos pelos batataenses em uma economia essencialmente pecuarista e agricultora de subsistência, que assistiu, nas últimas décadas do século XIX, ao avanço da cultura cafeeira e à substituição do trabalho compulsório pelo livre. Outrossim, com o auxílio das fontes secundárias, realizou-se uma análise demográfica e de estrutura de posse do contingente escravo ali residente, examinando as principais características dos cativos e dos senhores batataenses, além de acompanhar o impacto exercido pelas modificações ocorridas no sistema escravista brasileiro. Por fim, ocupou-se do exame das relações familiares estabelecidas entre os cativos e ingênuos inventariados e  comercializados, delineando seu perfil e investigando sua estabilidade frente à partilha dos bens inventariados</div>\n",
       "<div> </div> <!-- Esta div vazia cria um espa�o -->\n",
       "<div> </div>\n",
       "<div class=\"DocumentoTituloTexto\">Título em inglês</div><div class=\"DocumentoTexto\"><strong>Wealth and slave in the São Paulo's northeast: city of Batatais, 1851-1887</strong></div>\n",
       "<!-- BEGIN bl_palavras_chave_alternativo -->\n",
       "<div class=\"DocumentoTituloTexto\">Palavras-chave em inglês</div><div class=\"DocumentoTexto\">\n",
       "<em>19th Century</em><br/>\n",
       "<em>Inventories</em><br/>\n",
       "<em>Slave Demography</em><br/>\n",
       "<em>Slave Family.</em><br/>\n",
       "<em>Wealth</em><br/>\n",
       "</div>\n",
       "<div class=\"DocumentoTituloTexto2\">Resumo em inglês</div>\n",
       "<div class=\"DocumentoTextoResumo\">This research analyzes the economy and slave demography of the city of Batatais (SP) during the second half of the 19th century. The study has, as the main source, the post mortem inventories from 1851 to 1887 and, as secondary sources, the transfer of ownership documents related to slaves - registered between 1861 and 1887 - and the Vote Qualifying List (1874). The work begins with the analysis of the economic and demographic  characteristics of Sertão do Rio Pardo and, more specifically, Batatais, from the 18th to the 20th centuries, followed by the analysis of the allocation,  accumulation and dynamics of the wealth held by the local inhabitants. At that time, economy was dedicated to cattle and subsistence agriculture and, in the late decades of the 19th century, gave place to the advance of coffee plantation and the shift of slavery work to free work. Hence, this study analyzed the local slaves, concerning  demographics and possessions, and observed the main characteristics of the slaves and their owners, related to the changes occurred to the Brazilian slavery. Finally, the structure and demographic characteristics of slave families were analyzed through the information obtained in the inventories and ownership documents, with further investigations of their stability during the division of the inventoried assets</div>\n",
       "<div class=\"DocumentoTituloTexto4\"> </div>\n",
       "<div class=\"DocumentoTituloTexto2\"></div>\n",
       "<div class=\"DocumentoTituloTexto3\"><b>AVISO - A consulta a este documento fica condicionada na aceitação das seguintes condições de uso:</b><br/>Este trabalho é somente para uso privado de atividades de pesquisa e ensino. Não é autorizada sua reprodução para quaisquer fins lucrativos. Esta reserva de direitos abrange a todos os dados do documento bem como seu conteúdo. Na utilização ou citação de partes do documento é obrigatório mencionar nome da pessoa autora do trabalho.</div>\n",
       "<div class=\"DocumentoTituloTexto2\"><a href=\"/teses/disponiveis/8/8137/tde-16072007-105821/publico/Garavazo_Juliana_mestrado.pdf\">Garavazo_Juliana_mestrado.pdf</a>  (2.78 Mbytes)</div>\n",
       "<div class=\"DocumentoTituloTexto\">Data de Publicação</div><div class=\"DocumentoTexto\">2007-08-08</div>\n",
       "<div class=\"DocumentoTituloTexto4\"> </div>\n",
       "<div class=\"CaixaReferencia\">\n",
       "<div class=\"DocumentoTitulo\"><a name=\"referencias\">Trabalhos decorrentes</a></div>\n",
       "<div class=\"DocumentoTituloTexto3\"><b>AVISO</b>: Saiba o que são os trabalhos decorrentes <a href=\"http://www.teses.usp.br/index.php?option=com_content&amp;view=article&amp;id=64&amp;Itemid=194&amp;lang=pt-br\">clicando aqui</a>.</div>\n",
       "</div>\n",
       "</div>\n",
       "</div>\n",
       "</div>\n",
       "</div>\n",
       "<div id=\"Rodape\">\n",
       "<div id=\"Direitos\">\n",
       "<div class=\"moduletable\">\n",
       "<div>Todos os direitos da tese/dissertação são de seus autores.<br/>\n",
       "          CeTI-SC/STI<br/>\n",
       "          © 2001-2025. Biblioteca Digital de Teses e Dissertações da USP.<br/></div>\n",
       "</div>\n",
       "</div>\n",
       "</div>\n",
       "</div>\n",
       "</div>\n",
       "<script>\n",
       "  document.addEventListener('DOMContentLoaded', function() {\n",
       "      const currentUrl = \"https://www.teses.usp.br/teses/disponiveis/8/8137/tde-16072007-105821/pt-br.php\";\n",
       "      const currentTitle = \"A reabilita��o de mulheres com c�ncer de mama: uma an�lise descritiva do N�cleo de...\";\n",
       "\n",
       "      document.getElementById('share-whatsapp').href = `https://api.whatsapp.com/send?text=${encodeURIComponent(currentTitle)}%20${encodeURIComponent(currentUrl)}`;\n",
       "      document.getElementById('share-facebook').href = `https://www.facebook.com/sharer/sharer.php?u=${encodeURIComponent(currentUrl)}`;\n",
       "      document.getElementById('share-x').href = `https://twitter.com/intent/tweet?text=${encodeURIComponent(currentTitle)}&url=${encodeURIComponent(currentUrl)}`;\n",
       "      document.getElementById('share-linkedin').href = `https://www.linkedin.com/sharing/share-offsite/?url=${encodeURIComponent(currentUrl)}`;\n",
       "  });\n",
       "</script>\n",
       "</body>\n",
       "</html>"
      ]
     },
     "execution_count": 50,
     "metadata": {},
     "output_type": "execute_result"
    }
   ],
   "source": [
    "soup"
   ]
  },
  {
   "cell_type": "code",
   "execution_count": 55,
   "metadata": {},
   "outputs": [
    {
     "data": {
      "text/plain": [
       "'https://www.teses.usp.br/teses/disponiveis/8/8137/tde-16072007-105821/publico/Garavazo_Juliana_mestrado.pdf'"
      ]
     },
     "execution_count": 55,
     "metadata": {},
     "output_type": "execute_result"
    }
   ],
   "source": [
    "#Coletando link para as teses\n",
    "for doc in soup.find_all('a', href=True):\n",
    "    if doc['href'].endswith('.pdf'):\n",
    "        path = doc['href']\n",
    "        prefix_uni = 'https://www.teses.usp.br'\n",
    "        link = prefix_uni + path\n",
    "\n",
    "link"
   ]
  },
  {
   "cell_type": "code",
   "execution_count": 58,
   "metadata": {},
   "outputs": [],
   "source": [
    "#fazer download do arquivo\n",
    "def download_file(url, local_filename):\n",
    "    # NOTE the stream=True parameter below\n",
    "    r = requests.get(url, verify=False, stream=True)\n",
    "    # raise_for_status() is not needed with stream=True\n",
    "    # r.raise_for_status()\n",
    "    with open(local_filename, 'wb') as f:\n",
    "        for chunk in r.iter_content(chunk_size=8192):\n",
    "            f.write(chunk)\n",
    "    return local_filename"
   ]
  },
  {
   "cell_type": "code",
   "execution_count": 63,
   "metadata": {},
   "outputs": [
    {
     "name": "stderr",
     "output_type": "stream",
     "text": [
      "c:\\Users\\facordei\\OneDrive - Capgemini\\Documents\\GitHub\\Indigenous-Slavery-KG\\.venv-IndigSlave\\Lib\\site-packages\\urllib3\\connectionpool.py:1064: InsecureRequestWarning: Unverified HTTPS request is being made to host 'www.teses.usp.br'. Adding certificate verification is strongly advised. See: https://urllib3.readthedocs.io/en/1.26.x/advanced-usage.html#ssl-warnings\n",
      "  warnings.warn(\n"
     ]
    },
    {
     "data": {
      "text/plain": [
       "'garavazo.pdf'"
      ]
     },
     "execution_count": 63,
     "metadata": {},
     "output_type": "execute_result"
    }
   ],
   "source": [
    "download_file(link, 'garavazo.pdf')"
   ]
  },
  {
   "cell_type": "code",
   "execution_count": 1,
   "metadata": {},
   "outputs": [],
   "source": [
    "#!python -m spacy download pt_core_news_lg\n",
    "#!python -m spacy download en_core_web_lg\n",
    "#%pip install -U scikit-learn"
   ]
  },
  {
   "cell_type": "code",
   "execution_count": 1,
   "metadata": {},
   "outputs": [],
   "source": [
    "import os\n",
    "import io\n",
    "import stardog\n",
    "import pandas as pd\n",
    "import spacy\n",
    "from spacy import displacy\n",
    "from sklearn.cluster import DBSCAN\n",
    "import numpy as np\n",
    "import requests\n",
    "from unidecode import unidecode\n",
    "import re\n",
    "import json\n",
    "from langdetect import detect"
   ]
  },
  {
   "cell_type": "markdown",
   "metadata": {},
   "source": [
    "### Specify Stardog connection details"
   ]
  }
 ],
 "metadata": {
  "kernelspec": {
   "display_name": ".venv-IndigSlave",
   "language": "python",
   "name": "python3"
  },
  "language_info": {
   "codemirror_mode": {
    "name": "ipython",
    "version": 3
   },
   "file_extension": ".py",
   "mimetype": "text/x-python",
   "name": "python",
   "nbconvert_exporter": "python",
   "pygments_lexer": "ipython3",
   "version": "3.11.9"
  }
 },
 "nbformat": 4,
 "nbformat_minor": 2
}
