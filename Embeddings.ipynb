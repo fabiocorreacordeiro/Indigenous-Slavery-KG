{
 "cells": [
  {
   "cell_type": "code",
   "execution_count": 1,
   "id": "735f283e",
   "metadata": {},
   "outputs": [],
   "source": [
    "from transformers import TFBertModel\n",
    "from transformers import AutoTokenizer, BertModel\n",
    "import os\n",
    "os.environ['CURL_CA_BUNDLE'] = ''\n",
    "import torch\n",
    "from dotenv import load_dotenv\n",
    "from langchain_community.graphs import Neo4jGraph\n",
    "import json\n",
    "import pandas as pd\n",
    "from openai import AzureOpenAI\n",
    "\n",
    "#from azure.identity import DefaultAzureCredential, get_bearer_token_provider  "
   ]
  },
  {
   "cell_type": "markdown",
   "id": "71442afb",
   "metadata": {},
   "source": [
    "Using Azure OpenAI embedding models"
   ]
  },
  {
   "cell_type": "code",
   "execution_count": null,
   "id": "27be36e7",
   "metadata": {},
   "outputs": [],
   "source": [
    "#client_small = AzureOpenAI(\n",
    "#  api_key = os.getenv(\"OPENAI_API_KEY\"),\n",
    "#  azure_endpoint = os.getenv(\"EMBEDDING_SMALL_ENDPOINT\"),\n",
    "#  api_version = os.getenv(\"API_VERSION\"))\n"
   ]
  },
  {
   "cell_type": "code",
   "execution_count": 3,
   "id": "60dde76d",
   "metadata": {},
   "outputs": [],
   "source": [
    "client_large = AzureOpenAI(\n",
    "  api_key = os.getenv(\"OPENAI_API_KEY\"),\n",
    "  azure_endpoint = os.getenv(\"EMBEDDING_LARGE_ENDPOINT\"),\n",
    "  api_version = os.getenv(\"API_VERSION\"))"
   ]
  },
  {
   "cell_type": "code",
   "execution_count": null,
   "id": "7b49df14",
   "metadata": {},
   "outputs": [],
   "source": [
    "# The function receives a sencence and returns the embedding (1D numpy array)\n",
    "def get_embeddings_openAI(text):\n",
    "    #model = \"text-embedding-3-small\"\n",
    "    #embedding_small = client_small.embeddings.create(input = text, model=model)\n",
    "    #return embedding_small.data\n",
    "    model = \"text-embedding-3-large\"\n",
    "    embedding_large = client_large.embeddings.create(input = text, model=model)\n",
    "    return embedding_large.data\n"
   ]
  },
  {
   "cell_type": "markdown",
   "id": "d806df4d",
   "metadata": {},
   "source": [
    "Load BERT Model (later we can change to other model)"
   ]
  },
  {
   "cell_type": "code",
   "execution_count": 5,
   "id": "0116e839",
   "metadata": {},
   "outputs": [],
   "source": [
    "# Choose the pretrained model\n",
    "#model_checkpoint = 'bert-base-multilingual-cased' #'bert-base-multilingual-cased'   #'google/bert_uncased_L-2_H-128_A-2' (Tiny BERT)\n",
    "# Max number of tokens in the sentence\n",
    "#max_length= 512 #512 #128\n",
    "\n",
    "# Load tokenizer\n",
    "#tokenizer = AutoTokenizer.from_pretrained(model_checkpoint, model_max_length= max_length)\n",
    "\n",
    "# Load the model\n",
    "#bert_model = TFBertModel.from_pretrained(model_checkpoint, from_pt=True)\n",
    "#bert_model = BertModel.from_pretrained(model_checkpoint)"
   ]
  },
  {
   "cell_type": "code",
   "execution_count": null,
   "id": "d574722f",
   "metadata": {},
   "outputs": [],
   "source": [
    "# The function receives a sencence and returns the embedding (1D numpy array)\n",
    "#def get_embeddings(text):\n",
    "#  input_ids = torch.tensor(tokenizer.encode(text, add_special_tokens=True, truncation=True)).unsqueeze(0)  # Batch size 1\n",
    "#  outputs = bert_model(input_ids)\n",
    "#  last_hidden_states = outputs[0]\n",
    "#  pooler_output = torch.mean(last_hidden_states, dim=1) \n",
    "#  return(pooler_output.detach().numpy()[0].tolist())"
   ]
  },
  {
   "cell_type": "markdown",
   "id": "153e0121",
   "metadata": {},
   "source": [
    "Connecting to Neo4j"
   ]
  },
  {
   "cell_type": "code",
   "execution_count": 6,
   "id": "c59d645c",
   "metadata": {},
   "outputs": [],
   "source": [
    "load_dotenv()\n",
    "\n",
    "# Neo4j variables\n",
    "NEO4J_URL = os.getenv(\"NEO4J_URL\")\n",
    "NEO4J_USERNAME =os.getenv(\"NEO4J_USERNAME\")\n",
    "NEO4J_PASSWORD = os.getenv(\"NEO4J_PASSWORD\")\n",
    "\n",
    "#Connecting to the graph\n",
    "graph = Neo4jGraph(\n",
    "    url=NEO4J_URL,\n",
    "    username=NEO4J_USERNAME,\n",
    "    password=NEO4J_PASSWORD\n",
    ")"
   ]
  },
  {
   "cell_type": "code",
   "execution_count": 7,
   "id": "840cc0b8",
   "metadata": {},
   "outputs": [],
   "source": [
    "#Quering the thesis from graph unsing Cypher\n",
    "result = graph.query(\"\"\"\n",
    "MATCH (thesis:Thesis)\n",
    "RETURN thesis.uri, thesis.title, thesis.abstract\n",
    "\"\"\")"
   ]
  },
  {
   "cell_type": "code",
   "execution_count": 137,
   "id": "860e2870",
   "metadata": {},
   "outputs": [
    {
     "name": "stdout",
     "output_type": "stream",
     "text": [
      "Batch number:  3\n",
      "Batch number:  6\n",
      "Batch number:  9\n",
      "Batch number:  12\n"
     ]
    }
   ],
   "source": [
    "### Transformamos o resultado em um DataFrame e CSV.\n",
    "\n",
    "try:\n",
    "    embedding_csv = pd.read_csv('data/embedding_openai_1.csv') \n",
    "    #with open('data/embeddings_BERT.json', 'r') as fp:\n",
    "    #with open('data/embeddings_openai.json', 'r') as fp:\n",
    "    #    dic_embeddings = json.load(fp)\n",
    "\n",
    "except:\n",
    "    embedding_csv = pd.DataFrame(data={'uri':[], 'embeddings': []})\n",
    "    #dic_embeddings = {}\n",
    "\n",
    "batch_size = 3\n",
    "n = 0\n",
    "\n",
    "texts_list = []\n",
    "thesis_uri = []\n",
    "embeddings = []\n",
    "\n",
    "for thesis in result[:12]:\n",
    "    n = n + 1   \n",
    "\n",
    "    texts_list.append(str(thesis['thesis.title']) + '\\n   \\n' + str(thesis['thesis.abstract']))\n",
    "    thesis_uri.append(thesis['thesis.uri'])\n",
    "\n",
    "    if n % batch_size == 0:\n",
    "        print (\"Batch number: \", n)\n",
    "        embs_list = get_embeddings_openAI(texts_list)\n",
    "\n",
    "        for i in range(len(thesis_uri)):\n",
    "            #dic_embeddings[thesis_uri[i]] = embs_list[i].embedding\n",
    "            embeddings.append(embs_list[i].embedding)\n",
    "\n",
    "        #with open('data/embeddings_BERT.json', 'w') as fp:\n",
    "        #with open('data/embeddings_openai.json', 'w') as fp:\n",
    "        #    json.dump(dic_embeddings, fp)\n",
    "\n",
    "        embedding_csv_batch = pd.DataFrame(data={'uri':thesis_uri, 'embeddings': embeddings})\n",
    "        embedding_csv = pd.concat([embedding_csv, embedding_csv_batch], ignore_index=True)\n",
    "        embedding_csv.to_csv('data/embedding_openai_1.csv', index=False)\n",
    "        #embedding_csv.to_csv('data/embedding_BERT.csv', index=False)\n",
    "\n",
    "        texts_list = []\n",
    "        thesis_uri = []\n",
    "        embeddings = []\n",
    "\n",
    "if embeddings != []:\n",
    "    print (\"Batch number: \", n)\n",
    "    embs_list = get_embeddings_openAI(texts_list)\n",
    "\n",
    "    for i in range(len(thesis_uri)):\n",
    "        #dic_embeddings[thesis_uri[i]] = embs_list[i].embedding\n",
    "        embeddings.append(embs_list[i].embedding)\n",
    "\n",
    "    #with open('data/embeddings_BERT.json', 'w') as fp:\n",
    "    #with open('data/embeddings_openai.json', 'w') as fp:\n",
    "    #    json.dump(dic_embeddings, fp)\n",
    "\n",
    "    embedding_csv_batch = pd.DataFrame(data={'uri':thesis_uri, 'embeddings': embeddings})\n",
    "    embedding_csv = pd.concat([embedding_csv, embedding_csv_batch], ignore_index=True)\n",
    "    embedding_csv.to_csv('data/embedding_openai_1.csv', index=False)\n",
    "    #embedding_csv.to_csv('data/embedding_BERT.csv', index=False)"
   ]
  },
  {
   "cell_type": "code",
   "execution_count": 63,
   "id": "7b50bec4",
   "metadata": {},
   "outputs": [
    {
     "data": {
      "text/plain": [
       "[]"
      ]
     },
     "execution_count": 63,
     "metadata": {},
     "output_type": "execute_result"
    }
   ],
   "source": [
    "# Usando cypher para ler o arquivo CSV\n",
    "graph.query(\"\"\"\n",
    "    LOAD CSV WITH HEADERS\n",
    "    FROM 'file:///C:/Users/facordei/OneDrive%20-%20Capgemini/Documents/GitHub/Indigenous-Slavery-KG/data/embedding_openai.csv' AS row\n",
    "    MATCH (n:Thesis) Where n.uri = row.uri\n",
    "    CALL db.create.setNodeVectorProperty(n, 'embedding_openai', apoc.convert.fromJsonList(row.embeddings))\n",
    "    \"\"\")"
   ]
  },
  {
   "cell_type": "code",
   "execution_count": 164,
   "id": "2f8d6307",
   "metadata": {},
   "outputs": [
    {
     "data": {
      "text/plain": [
       "[]"
      ]
     },
     "execution_count": 164,
     "metadata": {},
     "output_type": "execute_result"
    }
   ],
   "source": [
    "# Criando um indice de vetores\n",
    "\n",
    "dimension = len(get_embeddings_openAI('texto de teste')[0].embedding)\n",
    "\n",
    "# Creating a vector index\n",
    "graph.query(\"\"\"\n",
    "    CREATE VECTOR INDEX Thesis_Embeddings IF NOT EXISTS\n",
    "    FOR (n:Thesis)\n",
    "    ON n.embedding_openai\n",
    "    OPTIONS {indexConfig: {\n",
    "    `vector.dimensions`: \"\"\" + str(dimension) + \"\"\",\n",
    "    `vector.similarity_function`: 'cosine'}}\n",
    "    \"\"\")"
   ]
  },
  {
   "cell_type": "code",
   "execution_count": 165,
   "id": "1bd3e178",
   "metadata": {},
   "outputs": [
    {
     "data": {
      "text/plain": [
       "[]"
      ]
     },
     "execution_count": 165,
     "metadata": {},
     "output_type": "execute_result"
    }
   ],
   "source": [
    "# Criand o indice Full Text\n",
    "\n",
    "graph.query(\"\"\"\n",
    "    CREATE FULLTEXT INDEX Thesis_fulltext IF NOT EXISTS FOR (n:Thesis) ON EACH [n.title, n.abstract]\n",
    "    \"\"\")"
   ]
  },
  {
   "cell_type": "markdown",
   "id": "312b3bc0",
   "metadata": {},
   "source": [
    "Buscando teses com vetores similares a um determinado texto"
   ]
  },
  {
   "cell_type": "code",
   "execution_count": 166,
   "id": "bb48fb28",
   "metadata": {},
   "outputs": [],
   "source": [
    "#texto que será usado na busca\n",
    "#query_text = 'Nelson Mandela'\n",
    "personagem = 'Kabengele Munanga'\n",
    "query_text = 'Quem foi ' + personagem + ' ?'\n",
    "# Transformando as query em vetor\n",
    "#query_embedding = get_embeddings(query_text)\n",
    "query_embedding = get_embeddings_openAI(query_text)[0].embedding\n"
   ]
  },
  {
   "cell_type": "code",
   "execution_count": 167,
   "id": "e745a9fb",
   "metadata": {},
   "outputs": [
    {
     "name": "stdout",
     "output_type": "stream",
     "text": [
      "Título: Educação brasileira e identidade negra em Kabengele Munanga \n",
      "Título: This study aimed to identify the theoretical support that grounds the production of Kabengele Munanga and characterize the conception of black identity in the production of the author, and its contributions to the curriculum of the Brazilian Education. To achieve these objectives were researched two books of the author that deal specifically about the construction of the black identity. We also researched the bibliographic production realized by Brazilian and foreigner researchers that deal about the racial relations, the construction of the black identity and its implications for the Brazilian educational context, that are related to the academic production of Kabengele Munanga. This work was based on a theoretical research, starting from the reading of the documents and bibliography about the construction of the black identity and education. The school is understood as a social institution that generates values and reproduces the culture, therefore, becomes of fundamental importance the action of the school in avoiding any discrimination, being it for race, ethnicity, social rate, gender, religion or age. The trajectory of discrimination, segregation and denial of the black identity in all socialization institutions, including the school awakens the debate about initiatives for the statement of the rights of access to the education in all levels, understanding the great importance of the education in changing an unfavorable social context to the black people, as the Brazilian is. The denial of the black identity is characterized as a historical fact since the colonization of Brazil, and has been frequently stated in curricular omissions that are materialized in the silence about this object of study and the African culture. In this context, the educators havent received a specific formation to handle with the ethnic cultural diversity, neither with racial matters involved in their school quotidian. \n",
      " \n",
      "Título: MNU representa Zumbi (1970-2005): cultura histórica, movimento negro e ensino de história \n",
      "Título: This research aimed to do an appreciation of the historical representations (historiography and historical culture) of a black protagonist of the seventeenth century, Zumbi dos Palmares, produced between 1970 and 2005. The analysis was around of the intellectual production (Clovis Moura, Decio Freitas, Birth and Joel Rufino dos Santos) and of the performance of the leaderships of the Black Movement Unified (MNU), established in 1978 (Amauri Mendes Pereira, Edson Cardoso, Helena Machado, Marcos Cardoso, Milton Barbosa, Yedo Ferreira, Oliveira Silveira and Lelia Gonzalez). The proposal was understand through the historiographical review and oral history, the implications political and pedagogical (teaching of history) of the choices of activist intellectuals and black \"militants\" on the interpretations of the experiences of black resistance and the construction of meanings of the ascension of Zumbi dos Palmares as a black brazilian hero. \n",
      " \n",
      "Título: Malunguinho: da narrativa histórica à estética digital \n",
      "Título: Malunguinho é o nome do líder do Quilombo do Catucá formado na primeira metade do século XIX na zona da mata localizada no atual Estado de Pernambuco. Em 2006, alguns atores do contexto pernambucano criaram um grupo de estudos com o objetivo de pesquisar as narrativas construídas acerca desse líder e elaborar estratégias que permitissem conferir visibilidade a Malunguinho para, então, pleitear ao Estado seu reconhecimento legal. No decorrer de processos complementares, esses atores agenciaram as narrativas históricas, criaram redes sociais e produziram um acervo digital a partir de documentos e, principalmente, de imagens - gráficas, fotográficas e audiovisuais - no intuito de conferir autenticidade a tais narrativas, transformando Malunguinho em uma espécie de ícone regional. Paralelamente, eles dialogaram com agentes públicos a fim de que esse ícone fosse reconhecido como patrimônio. Dessa maneira, tomei como foco de pesquisa o problema do reconhecimento propondo-me a analisar os critérios de agenciamento e produção de fontes materiais colocados em ação nesses processos. Tendo como referência o estudo de caso de uma personagem histórica - Malunguinho -, investiguei as estratégias de autenticação documental e, sobretudo, estética dessa personagem em nome da qual os atores envolvidos reivindicaram determinados direitos. \n",
      " \n",
      "Título: Gil Amâncio & Encontros: processos educativos, cultura negra, intervenções de mestres e convivência \n",
      "Título: A população negra usufrui atualmente, no Brasil, de oportunidades de participação e intervenção social maiores do que em décadas anteriores. Isto é possível contando, no decorrer dos anos, com ações de denúncia de práticas racistas sub-reptícias endereçadas aos negros e reivindicações de garantia de usufruto de direitos de cidadania. A literatura informa que integrantes da população afro-brasileira vivem em contexto inibidor de suas expressões, mas que simultaneamente (com iniciativas deles, nas relações cotidianas) é palco da invenção de modos de negociação e afirmação de padrões identitários convenientes a eles. Tais estudos recomendam, então, registros de saberes, modos de viver, sob ótica positiva, realçando a contribuição do negro, do valor desta(s) cultura(s) e visão(ões) de mundo. A expectativa é de que tal produção ao ser socializada, por exemplo, via práticas educativas possibilite a entrada no cenário político-cultural de quadros imagéticos edificantes sobre dada população. Também, que como material simbólico útil seja apropriado por integrantes deste grupo para fins de equipagem e de imunização deles perante situações aversivas. Recorrendo à História de Vida, à estratégia da conversa, ao exercício de amplificação, interessada em investigar a resposta dada por subjetividades negras inseridas em contexto sócio-político referido, como estudo de caso, propus a configuração de trajetória de vida e obra de artista e educador negro, cosmopolita. Ocupei-me com suas proposições de idéias e projetos postos à prova, portanto, submetidos à avaliação pública e que receberam reconhecimento, inclusive, institucional. Como tese do campo da Educação, interessei-me por identificar quais as principais instituições e/ou espaços educativos ele freqüentou, o papel de educadores, o tipo de conexões estabeleceu com outros, e estratégias utilizou e utiliza para elaborar o presente patamar de visibilização coletiva alcançado. Trazendo como premissa que a apropriação de saberes (não exclusivamente científicos ou enciclopédicos) contribui, significativamente, para tal conquista, busquei verificar a pertinência dessa e características principais do tipo de saber apropriado. Encontrei que a sua formação, além de contar com o contexto familiar, foi constituída a partir de convivência, em espaços educativos, principalmente, não formais, com parceiros que lhe fizeram ocupar posições de aprendiz e também de guia. Ele defende a idéia de que saberes elaborados resultantes da prática de negros sejam respeitados em suas peculiaridades e codificados por especialistas para ampla socialização. No decorrer dos anos, identificando necessidades de mudanças, no cenário atual, ele investe na proposição e modos de realização de arte negra contemporânea. Também, visando garantir à população negra que seus saberes sejam publicizados através daquele que os domina, toma iniciativas para tal fim. Assim procedendo, ele se dispõe, sempre que possível em parceria, a investigar e catalogar o que denominou cultura do africano e, da criança. Saberes encontrados no Congado, na Capoeira, no Candomblé, no Jazz, no Samba, também, na roda, em brincadeiras infantis cultivadas principalmente entre negros etc. Apropriando-se das novas tecnologias da informação e comunicação, vem se tornando referência coletiva, como produtor cultural, em música eletrônica (Hip Hop), conjugando com estas produções culturais acima referidas. \n",
      " \n",
      "Título: Fluxos da alteridade: organizações negras e processos identitários no Nordeste Paulista e Triângulo Mineiro (1930-1990) \n",
      "Título: Esta pesquisa está contextualizada nas discussões acerca da diversidade cultural e dos estudos étnico-raciais. Tivemos como foco as organizações negras e os processos sociais de produção da diferença desenvolvidos no nordeste paulista e também no Triângulo Mineiro, onde nos restringimos à cidade de Uberaba, entre a década de 1930 e o final da década de 1980. Buscamos reconstruir e interpretar as redes sociais de significados, as formas de atuação política, assim como os significados e alcances destas atuações para os sujeitos em foco, as populações negras destas regiões. Partimos das organizações negras da cidade de Ribeirão Preto, para estabelecermos quais cidades seriam privilegiadas como foco de nossas incursões em busca de dados. Além desta, foram abordadas mais detidamente as cidades de Araraquara, Batatais, Barretos e São Carlos, além de Uberaba. O critério de escolha se deu em função da existência de interações entre as organizações negras destas cidades com as organizações afroribeirão- pretanas. Outras cidades e regiões acabaram por surgir enquanto partícipes desta rede, entretanto, por motivos metodológicos mantivemos o foco inicial de delimitação e abordagem. Os estudos de Muniz Sodré (1983;1988;1999) sobre populações negras, dinâmica cultural e nação no Brasil, também as reflexões de Marilena Chauí (1986; 2000; 2004) acerca da relações entre culturas, democracia, a concepção da nacionalidade e o autoritarismo no contexto brasileiro foram fontes importantes para nossas interpretações. Também os estudos de Babha (1998), Cardoso de Oliveira (1976), Munanga (1981; 2002) e Woodward (2000) estão entre nossas referências para pensarmos o processo social de produção das diferenças e das identidades. As abordagens referentes à teoria da complexidade, à epistemologia da ciência e a transdisciplinaridade de Edgar Morin... \n",
      " \n",
      "\n"
     ]
    }
   ],
   "source": [
    "# Buscando no índice de vetores \n",
    "result = graph.query(\"\"\"\n",
    "    CALL db.index.vector.queryNodes('Thesis_Embeddings', 5, \"\"\" + str(query_embedding) + \"\"\")\n",
    "    YIELD node, score\n",
    "    RETURN node.title, node.abstract\n",
    "    \"\"\")\n",
    "\n",
    "contexto = ''\n",
    "for r in result:\n",
    "    contexto = contexto + 'Título: ' + r['node.title'] + ' \\n'\n",
    "    contexto = contexto + 'Título: ' + r['node.abstract'] + ' \\n \\n'\n",
    "print(contexto)"
   ]
  },
  {
   "cell_type": "markdown",
   "id": "64ec9328",
   "metadata": {},
   "source": [
    "Buscando usando full text search"
   ]
  },
  {
   "cell_type": "code",
   "execution_count": 168,
   "id": "f435b5a4",
   "metadata": {},
   "outputs": [
    {
     "data": {
      "text/plain": [
       "[{'score': 18.117076873779297,\n",
       "  'node.title': 'Educação brasileira e identidade negra em Kabengele Munanga',\n",
       "  'node.abstract': 'This study aimed to identify the theoretical support that grounds the production of Kabengele Munanga and characterize the conception of black identity in the production of the author, and its contributions to the curriculum of the Brazilian Education. To achieve these objectives were researched two books of the author that deal specifically about the construction of the black identity. We also researched the bibliographic production realized by Brazilian and foreigner researchers that deal about the racial relations, the construction of the black identity and its implications for the Brazilian educational context, that are related to the academic production of Kabengele Munanga. This work was based on a theoretical research, starting from the reading of the documents and bibliography about the construction of the black identity and education. The school is understood as a social institution that generates values and reproduces the culture, therefore, becomes of fundamental importance the action of the school in avoiding any discrimination, being it for race, ethnicity, social rate, gender, religion or age. The trajectory of discrimination, segregation and denial of the black identity in all socialization institutions, including the school awakens the debate about initiatives for the statement of the rights of access to the education in all levels, understanding the great importance of the education in changing an unfavorable social context to the black people, as the Brazilian is. The denial of the black identity is characterized as a historical fact since the colonization of Brazil, and has been frequently stated in curricular omissions that are materialized in the silence about this object of study and the African culture. In this context, the educators havent received a specific formation to handle with the ethnic cultural diversity, neither with racial matters involved in their school quotidian.'},\n",
       " {'score': 8.819482803344727,\n",
       "  'node.title': 'Corpografia de affetos: corpo, poder e relações sociais',\n",
       "  'node.abstract': 'Corpografia de afetos: corpo, poder e relações sociais é um trabalho de dissertação que busca o diálogo com a formação docente tendo como ponto de partida a escuta afetuosa-aprendente, desenvolvida em meio a complexidade das relações sociais escolares. A partir da indagação-nascente: Quem educa o educador para lidar com essa escola viva, que está situada na dinâmica da própria vida, no convívio com a vida que acontece? Quem o prepara para escutar mais, aprendendo com a criança? buscamos desenvolver um percurso que tem por objetivo a retomada da formação docente humanizada, centrada em estudos que visam a construção de novos olhares e novas posturas em relação as questões étnico-raciais, de gênero, de sexualidade, de classe, manifestadas no contexto educacional. Está afirmada por uma escolha política identificada com as diversidades e fundamentada nas categorias: Corpografia dos Afetos/ Corporeidades; Relações sociais e de Poder; Violências e violência escolar; Experiências; Percepções e Memórias; Linguagens, tendo como referências teóricas o pensamento de Kabengele Munanga, Franz Fanon, Paulo Freire, Michel Foucault, Achille Mbembe, Albert Memmi, Homi Bhabha, Jorge Larrosa Bondía, Suely Rolnik, Judith Butler, bell hooks, Jota Mombaça e Airton Krenak. Para investigar esse processo, a etnografia foi utilizada como referência (inserção no contexto educativo, registros em cadernos de campo, consulta aos cadernos de ocorrências e observação em atividades diversas como rodas de conversas, acompanhamento de aulas, aplicação de oficinas artísticas e atividades com desenhos). As observações e escutas se depararam com violências diversas, efeito dos preconceitos, das discriminações e das resistências resultantes da naturalização do machismo, do racismo, do sexismo, da homofobia, entre outras, presentes no cotidiano social. Ainda assim, os resultados revelam que as mudanças são possíveis e que podemos defender a formação das/dos professoras/es através de uma nova ética, que seja insatisfeita e desconfiada. A pesquisa indica rupturas e continuidades que vão possibilitando a produção de novos saberes, novos comportamentos e ações.'},\n",
       " {'score': 7.855351448059082,\n",
       "  'node.title': 'Entender e construir representações do negro brasileiro em parceria com adolescentes',\n",
       "  'node.abstract': 'Este estudo descreve e analisa Sequências Didáticas voltadas para educação étnicoracial e a implementação da lei 10639/03. Em aulas da disciplina Língua Portuguesa, ministradas em escolas públicas, estudantes de ensino médio e ensino fundamental produziram textos sobre algumas representações do negro brasileiro: racismo em situações cotidianas, racismo na TV brasileira e o mito do Saci. Trata-se de uma pesquisa-ação, na qual, as reflexões de adolescentes a partir de situações-problema formam o grande objeto de estudo. O conceito de Sequências Didáticas utilizado foi desenvolvido pelos autores suíços Dolz, Noverraz e Schneuwly. O ensino de língua materna está centrado nos gêneros textuais, conforme estabelecem os Parâmetros Curriculares Nacionais e explicam autores brasileiros filiados aos conceitos de Mikhail Bakhtin. Cada uma das temáticas raciais será examinada em diálogo com pesquisas que trataram especificamente daquele aspecto. Ao longo da obra, contribuições de autores como Kabengele Munanga, Nilma Lino Gomes e Antônio Sérgio Guimarães estarão presentes para melhor compreensão e interpretação das relações raciais no Brasil.'},\n",
       " {'score': 7.360964775085449,\n",
       "  'node.title': 'Educação, identidade e histórias de vidas de pessoas negras do Brasil',\n",
       "  'node.abstract': 'Como as pessoas negras doutoras do Brasil construíram sua identidade negra através da sua história de vida e das influências da educação e se afirmaram nas questões étnico-raciais? Esta foi a questão que problematizou a produção da tese: Educação, identidade e história de vida de pessoas negras doutoras do Brasil. Seu objetivo geral foi compreender o processo de construção da identidade negra através da história de vida e da educação de pessoas negras doutoras do Brasil. Seus objetivos específicos foram: identificar como se deu o processo de construção da identidade negra das pessoas negras doutoras; analisar como vai sendo constituída a autoimagem das pessoas negras a partir das condições e relações sociais e educacionais de sua história de vida; verificar que mudanças ocorreram na história de vida dessas pessoas que a levaram a revelar seu pertencimento étnico-racial; analisar como a afirmação política das pessoas negras doutoras foi consolidada e contribui para ressignificar e fortalecer a vida da população negra. As ideias do autor Norbert Elias deram sustentação teórica para discutir as categorias: educação, identidade e identidade negra com as contribuições de Kabengele Munanga e Paulo Freire. O caminho metodológico foi o da história oral, através da história oral de vida de pessoas negras doutoras do Brasil. As narrativas colhidas para esta pesquisa, através de entrevistas, evidenciaram a pressuposição de que a configuração educacional dificilmente se relaciona de forma satisfatória com a questão étnico-racial, tendo dificuldade de contribuir com o processo de construção da identidade negra.'},\n",
       " {'score': 7.332771301269531,\n",
       "  'node.title': 'A construção da identidade negra na escola: dialogando com o ensino de sociologia',\n",
       "  'node.abstract': 'A dissertação apresentada ao Programa de Pós-graduação em Sociologia – PROFSOCIO – da Faculdade de Filosofia e Ciências, Universidade Estadual Paulista – UNESP – Campus de Marília, analisou as relações raciais de uma escola pública central do interior do estado de São Paulo. Realizou-se um estudo de caso e uma pesquisa-ação nessa escola, onde foi observado a dinâmica escolar e o cotidiano em que esses jovens estão inseridos e como a introjeção e projeção de práticas racistas estão presentes nessas relações. Por meio da observação participante efetuou-se uma coleta e a apropriação dos dados levantados para a compreensão desse processo por meio de ações orientadas. Utilizou-se de um aporte teórico de autores como Nilma Lino Gomes, Kabengele Munanga e Antonio Sérgio Guimarães, dentre outros, que foram relevantes para a apreensão da questão do racismo e as possíveis intersecções desse fenômeno. Ao longo desse trabalho foram realizadas intervenções pontuais a partir da disciplina de Sociologia, mediante o conteúdo previsto no Currículo Paulista. Esse estudo se demonstrou relevante no sentido de se compreender as dinâmicas sociais no interior dessa escola e o modo como o racismo velado incide nas relações sociais entre negros e não-negros em uma escola majoritariamente composta por estudantes pretos e pardos.'}]"
      ]
     },
     "execution_count": 168,
     "metadata": {},
     "output_type": "execute_result"
    }
   ],
   "source": [
    "result = graph.query(\"\"\"\n",
    "CALL db.index.fulltext.queryNodes(\"Thesis_fulltext\", '\"\"\" + query_text + \"\"\"') YIELD node, score\n",
    "RETURN score, node.title, node.abstract \n",
    "LIMIT 5 \n",
    "\"\"\")\n",
    "result"
   ]
  },
  {
   "cell_type": "code",
   "execution_count": null,
   "id": "c2ffb0cc",
   "metadata": {},
   "outputs": [],
   "source": []
  }
 ],
 "metadata": {
  "kernelspec": {
   "display_name": ".venv-IndigSlave",
   "language": "python",
   "name": "python3"
  },
  "language_info": {
   "codemirror_mode": {
    "name": "ipython",
    "version": 3
   },
   "file_extension": ".py",
   "mimetype": "text/x-python",
   "name": "python",
   "nbconvert_exporter": "python",
   "pygments_lexer": "ipython3",
   "version": "3.11.9"
  }
 },
 "nbformat": 4,
 "nbformat_minor": 5
}
