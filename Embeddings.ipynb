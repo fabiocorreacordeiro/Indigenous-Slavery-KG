{
 "cells": [
  {
   "cell_type": "code",
   "execution_count": null,
   "id": "7b388781",
   "metadata": {},
   "outputs": [],
   "source": [
    "#!pip install -U sentence-transformers\n",
    "#!pip3 install torch torchvision --index-url https://download.pytorch.org/whl/cu126"
   ]
  },
  {
   "cell_type": "code",
   "execution_count": 1,
   "id": "c9b011e5",
   "metadata": {},
   "outputs": [],
   "source": [
    "from sentence_transformers import SentenceTransformer\n",
    "from dotenv import load_dotenv\n",
    "import os\n",
    "from langchain_community.graphs import Neo4jGraph\n",
    "import pandas as pd"
   ]
  },
  {
   "cell_type": "code",
   "execution_count": 2,
   "id": "e7da78cd",
   "metadata": {},
   "outputs": [],
   "source": [
    "#Load sentence transformer model ('intfloat/multilingual-e5-large-instruct')\n",
    "model = SentenceTransformer('intfloat/multilingual-e5-large-instruct', device='cuda')"
   ]
  },
  {
   "cell_type": "code",
   "execution_count": 3,
   "id": "bab942ac",
   "metadata": {},
   "outputs": [],
   "source": [
    "# Each query must come with a one-sentence instruction that describes the task\n",
    "\n",
    "def get_detailed_instruct(task_description: str, query: str) -> str:\n",
    "    return f'Instruct: {task_description}\\nQuery: {query}'\n",
    "\n",
    "\n",
    "task = 'Dado uma query de busca na web, recupere trechos relevantes que respondam à consulta'\n",
    "queries = [\n",
    "    get_detailed_instruct(task, 'how much protein should a female eat'),\n",
    "    get_detailed_instruct(task, '南瓜的家常做法')\n",
    "]\n",
    "# No need to add instruction for retrieval documents\n",
    "documents = [\n",
    "    \"As a general guideline, the CDC's average requirement of protein for women ages 19 to 70 is 46 grams per day. But, as you can see from this chart, you'll need to increase that if you're expecting or training for a marathon. Check out the chart below to see how much protein you should be eating each day.\",\n",
    "    \"1.清炒南瓜丝 原料:嫩南瓜半个 调料:葱、盐、白糖、鸡精 做法: 1、南瓜用刀薄薄的削去表面一层皮,用勺子刮去瓤 2、擦成细丝(没有擦菜板就用刀慢慢切成细丝) 3、锅烧热放油,入葱花煸出香味 4、入南瓜丝快速翻炒一分钟左右,放盐、一点白糖和鸡精调味出锅 2.香葱炒南瓜 原料:南瓜1只 调料:香葱、蒜末、橄榄油、盐 做法: 1、将南瓜去皮,切成片 2、油锅8成热后,将蒜末放入爆香 3、爆香后,将南瓜片放入,翻炒 4、在翻炒的同时,可以不时地往锅里加水,但不要太多 5、放入盐,炒匀 6、南瓜差不多软和绵了之后,就可以关火 7、撒入香葱,即可出锅\"\n",
    "]\n",
    "input_texts = queries + documents"
   ]
  },
  {
   "cell_type": "code",
   "execution_count": 4,
   "id": "2921431d",
   "metadata": {},
   "outputs": [
    {
     "name": "stdout",
     "output_type": "stream",
     "text": [
      "[[90.7143783569336, 67.90845489501953], [71.38566589355469, 88.65878295898438]]\n"
     ]
    }
   ],
   "source": [
    "embeddings = model.encode(input_texts, convert_to_tensor=True, normalize_embeddings=True)\n",
    "scores = (embeddings[:2] @ embeddings[2:].T) * 100\n",
    "print(scores.tolist())"
   ]
  },
  {
   "cell_type": "markdown",
   "id": "5a58ed99",
   "metadata": {},
   "source": [
    "Connecting to Neo4j"
   ]
  },
  {
   "cell_type": "code",
   "execution_count": 5,
   "id": "089583da",
   "metadata": {},
   "outputs": [],
   "source": [
    "load_dotenv()\n",
    "\n",
    "# Neo4j variables\n",
    "NEO4J_URL = os.getenv(\"NEO4J_URL\")\n",
    "NEO4J_USERNAME =os.getenv(\"NEO4J_USERNAME\")\n",
    "NEO4J_PASSWORD = os.getenv(\"NEO4J_PASSWORD\")\n",
    "\n",
    "#Connecting to the graph\n",
    "graph = Neo4jGraph(\n",
    "    url=NEO4J_URL,\n",
    "    username=NEO4J_USERNAME,\n",
    "    password=NEO4J_PASSWORD\n",
    ")"
   ]
  },
  {
   "cell_type": "markdown",
   "id": "41fe5ecb",
   "metadata": {},
   "source": [
    "Criando embeddings para as teses"
   ]
  },
  {
   "cell_type": "code",
   "execution_count": 22,
   "id": "490a9a1a",
   "metadata": {},
   "outputs": [
    {
     "data": {
      "text/plain": [
       "0"
      ]
     },
     "execution_count": 22,
     "metadata": {},
     "output_type": "execute_result"
    }
   ],
   "source": [
    "#Querying the thesis from graph using Cypher\n",
    "result = graph.query(\"\"\"\n",
    "MATCH (thesis:Thesis)\n",
    "WHERE (thesis.vector) IS NULL\n",
    "RETURN thesis.uri, thesis.title, thesis.abstract\n",
    "\"\"\")\n",
    "len(result)"
   ]
  },
  {
   "cell_type": "code",
   "execution_count": null,
   "id": "e1136635",
   "metadata": {},
   "outputs": [],
   "source": [
    "for round in range(4):\n",
    "    print(\"Round \", round + 1)\n",
    "\n",
    "    #Quering the thesis from graph unsing Cypher\n",
    "    result = graph.query(\"\"\"\n",
    "    MATCH (thesis:Thesis)\n",
    "    WHERE (thesis.vector) IS NULL\n",
    "    RETURN thesis.uri, thesis.title, thesis.abstract\n",
    "    \"\"\")\n",
    "\n",
    "    ### Transformamos o resultado em um DataFrame e CSV.\n",
    "\n",
    "    #try:\n",
    "    #    embedding_csv = pd.read_csv('data/embedding_abstr.csv') \n",
    "\n",
    "    #except:\n",
    "    embedding_csv = pd.DataFrame(data={'uri':[], 'embeddings': []})\n",
    "\n",
    "    batch_size = 1024\n",
    "    n = 0\n",
    "\n",
    "    texts_list = []\n",
    "    thesis_uri = []\n",
    "    embeddings = []\n",
    "\n",
    "    for thesis in result:\n",
    "        n = n + 1   \n",
    "\n",
    "        texts_list.append(str(thesis['thesis.title']) + '\\n   \\n' + str(thesis['thesis.abstract']))\n",
    "        thesis_uri.append(thesis['thesis.uri'])\n",
    "\n",
    "        if n % batch_size == 0:\n",
    "            print (\"Documents processed: \", n)\n",
    "            embs_list = model.encode(texts_list, convert_to_tensor=True, normalize_embeddings=True).tolist()\n",
    "\n",
    "            embeddings = embeddings + embs_list\n",
    "            \n",
    "            #for i in range(len(thesis_uri)):\n",
    "            #    embeddings.append(embs_list[i])\n",
    "\n",
    "            embedding_csv_batch = pd.DataFrame(data={'uri':thesis_uri, 'embeddings': embeddings})\n",
    "            embedding_csv = pd.concat([embedding_csv, embedding_csv_batch], ignore_index=True)\n",
    "            embedding_csv.to_csv('data/embedding_abstr.csv', index=False)\n",
    "\n",
    "            texts_list = []\n",
    "            thesis_uri = []\n",
    "            embeddings = []\n",
    "\n",
    "    if thesis_uri != []:\n",
    "        print (\"Documents processed: \", n)\n",
    "        embs_list = model.encode(texts_list, convert_to_tensor=True, normalize_embeddings=True).tolist()\n",
    "\n",
    "        embeddings = embeddings + embs_list\n",
    "        \n",
    "        #for i in range(len(thesis_uri)):\n",
    "        #    embeddings.append(embs_list[i])\n",
    "\n",
    "        embedding_csv_batch = pd.DataFrame(data={'uri':thesis_uri, 'embeddings': embeddings})\n",
    "        embedding_csv = pd.concat([embedding_csv, embedding_csv_batch], ignore_index=True)\n",
    "        embedding_csv.to_csv('data/embedding_abstr.csv', index=False)\n",
    "\n",
    "    # Usando cypher para ler o arquivo CSV\n",
    "    graph.query(\"\"\"\n",
    "        LOAD CSV WITH HEADERS\n",
    "        FROM 'file:///C:/Users/facordei/OneDrive%20-%20Capgemini/Documents/GitHub/Indigenous-Slavery-KG/data/embedding_abstr.csv' AS row\n",
    "        MATCH (n:Thesis) Where n.uri = row.uri\n",
    "        CALL db.create.setNodeVectorProperty(n, 'vector', apoc.convert.fromJsonList(row.embeddings))\n",
    "        \"\"\")\n",
    "    \n",
    "    # deletando o arquivo CSV\n",
    "    \n",
    "    os.remove('data/embedding_abstr.csv')\n"
   ]
  },
  {
   "cell_type": "markdown",
   "id": "e2f21c9c",
   "metadata": {},
   "source": [
    "Criando embedding para as páginas (Excerpts)"
   ]
  },
  {
   "cell_type": "code",
   "execution_count": 6,
   "id": "bb159b9c",
   "metadata": {},
   "outputs": [
    {
     "name": "stdout",
     "output_type": "stream",
     "text": [
      "1856473  of  2347487 . ( 79.08341984428455 %)\n"
     ]
    }
   ],
   "source": [
    "#Quering the excerpts from graph unsing Cypher\n",
    "excerpt_not_processed = graph.query(\"\"\"\n",
    "MATCH (excerpt:Excerpt)\n",
    "WHERE (excerpt.vector) IS NULL\n",
    "RETURN count(excerpt)\n",
    "\"\"\")[0]['count(excerpt)']\n",
    "\n",
    "excerpt_total = graph.query(\"\"\"\n",
    "MATCH (excerpt:Excerpt)\n",
    "RETURN count(excerpt)\n",
    "\"\"\")[0]['count(excerpt)']\n",
    "print (excerpt_not_processed, ' of ', excerpt_total, '. (', (excerpt_not_processed / excerpt_total)*100, '%)')"
   ]
  },
  {
   "cell_type": "code",
   "execution_count": null,
   "id": "63e6606b",
   "metadata": {},
   "outputs": [
    {
     "name": "stdout",
     "output_type": "stream",
     "text": [
      "Round  1\n",
      "Documents processed:  1024\n",
      "Documents processed:  2048\n",
      "Documents processed:  3072\n",
      "Documents processed:  4096\n",
      "Documents processed:  5000\n",
      "Round  2\n",
      "Documents processed:  1024\n",
      "Documents processed:  2048\n",
      "Documents processed:  3072\n",
      "Documents processed:  4096\n",
      "Documents processed:  5000\n",
      "Round  3\n",
      "Documents processed:  1024\n",
      "Documents processed:  2048\n",
      "Documents processed:  3072\n",
      "Documents processed:  4096\n",
      "Documents processed:  5000\n",
      "Round  4\n",
      "Documents processed:  1024\n",
      "Documents processed:  2048\n",
      "Documents processed:  3072\n",
      "Documents processed:  4096\n",
      "Documents processed:  5000\n",
      "Round  5\n",
      "Documents processed:  1024\n",
      "Documents processed:  2048\n",
      "Documents processed:  3072\n",
      "Documents processed:  4096\n",
      "Documents processed:  5000\n",
      "Round  6\n",
      "Documents processed:  1024\n",
      "Documents processed:  2048\n",
      "Documents processed:  3072\n",
      "Documents processed:  4096\n",
      "Documents processed:  5000\n",
      "Round  7\n",
      "Documents processed:  1024\n",
      "Documents processed:  2048\n",
      "Documents processed:  3072\n",
      "Documents processed:  4096\n",
      "Documents processed:  5000\n",
      "Round  8\n",
      "Documents processed:  1024\n",
      "Documents processed:  2048\n",
      "Documents processed:  3072\n",
      "Documents processed:  4096\n",
      "Documents processed:  5000\n",
      "Round  9\n",
      "Documents processed:  1024\n",
      "Documents processed:  2048\n",
      "Documents processed:  3072\n",
      "Documents processed:  4096\n",
      "Documents processed:  5000\n",
      "Round  10\n",
      "Documents processed:  1024\n",
      "Documents processed:  2048\n",
      "Documents processed:  3072\n",
      "Documents processed:  4096\n",
      "Documents processed:  5000\n",
      "Round  11\n",
      "Documents processed:  1024\n",
      "Documents processed:  2048\n",
      "Documents processed:  3072\n",
      "Documents processed:  4096\n",
      "Documents processed:  5000\n",
      "Round  12\n",
      "Documents processed:  1024\n",
      "Documents processed:  2048\n",
      "Documents processed:  3072\n",
      "Documents processed:  4096\n",
      "Documents processed:  5000\n",
      "Round  13\n",
      "Documents processed:  1024\n",
      "Documents processed:  2048\n",
      "Documents processed:  3072\n",
      "Documents processed:  4096\n",
      "Documents processed:  5000\n",
      "Round  14\n",
      "Documents processed:  1024\n",
      "Documents processed:  2048\n",
      "Documents processed:  3072\n",
      "Documents processed:  4096\n",
      "Documents processed:  5000\n",
      "Round  15\n",
      "Documents processed:  1024\n",
      "Documents processed:  2048\n",
      "Documents processed:  3072\n",
      "Documents processed:  4096\n",
      "Documents processed:  5000\n",
      "Round  16\n",
      "Documents processed:  1024\n",
      "Documents processed:  2048\n",
      "Documents processed:  3072\n",
      "Documents processed:  4096\n",
      "Documents processed:  5000\n",
      "Round  17\n",
      "Documents processed:  1024\n",
      "Documents processed:  2048\n",
      "Documents processed:  3072\n",
      "Documents processed:  4096\n",
      "Documents processed:  5000\n",
      "Round  18\n",
      "Documents processed:  1024\n",
      "Documents processed:  2048\n",
      "Documents processed:  3072\n",
      "Documents processed:  4096\n",
      "Documents processed:  5000\n",
      "Round  19\n",
      "Documents processed:  1024\n",
      "Documents processed:  2048\n",
      "Documents processed:  3072\n",
      "Documents processed:  4096\n",
      "Documents processed:  5000\n",
      "Round  20\n",
      "Documents processed:  1024\n",
      "Documents processed:  2048\n",
      "Documents processed:  3072\n",
      "Documents processed:  4096\n",
      "Documents processed:  5000\n",
      "Round  21\n",
      "Documents processed:  1024\n",
      "Documents processed:  2048\n",
      "Documents processed:  3072\n",
      "Documents processed:  4096\n",
      "Documents processed:  5000\n",
      "Round  22\n",
      "Documents processed:  1024\n",
      "Documents processed:  2048\n",
      "Documents processed:  3072\n",
      "Documents processed:  4096\n",
      "Documents processed:  5000\n",
      "Round  23\n",
      "Documents processed:  1024\n",
      "Documents processed:  2048\n",
      "Documents processed:  3072\n",
      "Documents processed:  4096\n",
      "Documents processed:  5000\n",
      "Round  24\n",
      "Documents processed:  1024\n",
      "Documents processed:  2048\n",
      "Documents processed:  3072\n",
      "Documents processed:  4096\n",
      "Documents processed:  5000\n",
      "Round  25\n",
      "Documents processed:  1024\n",
      "Documents processed:  2048\n",
      "Documents processed:  3072\n",
      "Documents processed:  4096\n",
      "Documents processed:  5000\n",
      "Round  26\n",
      "Documents processed:  1024\n",
      "Documents processed:  2048\n",
      "Documents processed:  3072\n",
      "Documents processed:  4096\n",
      "Documents processed:  5000\n",
      "Round  27\n",
      "Documents processed:  1024\n",
      "Documents processed:  2048\n",
      "Documents processed:  3072\n",
      "Documents processed:  4096\n",
      "Documents processed:  5000\n",
      "Round  28\n",
      "Documents processed:  1024\n",
      "Documents processed:  2048\n",
      "Documents processed:  3072\n",
      "Documents processed:  4096\n",
      "Documents processed:  5000\n",
      "Round  29\n",
      "Documents processed:  1024\n",
      "Documents processed:  2048\n"
     ]
    }
   ],
   "source": [
    "for round in range(50):\n",
    "    print(\"Round \", round + 1)\n",
    "\n",
    "    #Quering the thesis from graph unsing Cypher\n",
    "    result = graph.query(\"\"\"\n",
    "    MATCH (excerpt:Excerpt)\n",
    "    WHERE (excerpt.vector) IS NULL\n",
    "    RETURN excerpt.uri, excerpt.text\n",
    "    LIMIT 5000\n",
    "    \"\"\")\n",
    "\n",
    "    ### Transformamos o resultado em um DataFrame e CSV.\n",
    "\n",
    "    #try:\n",
    "    #    embedding_csv = pd.read_csv('data/embedding_abstr.csv') \n",
    "\n",
    "    #except:\n",
    "    embedding_csv = pd.DataFrame(data={'uri':[], 'embeddings': []})\n",
    "\n",
    "    batch_size = 1024\n",
    "    n = 0\n",
    "\n",
    "    texts_list = []\n",
    "    thesis_uri = []\n",
    "    embeddings = []\n",
    "\n",
    "    for thesis in result:\n",
    "        n = n + 1   \n",
    "\n",
    "        texts_list.append(str(thesis['excerpt.text']))\n",
    "        thesis_uri.append(thesis['excerpt.uri'])\n",
    "\n",
    "        if n % batch_size == 0:\n",
    "            print (\"Documents processed: \", n)\n",
    "            embs_list = model.encode(texts_list, convert_to_tensor=True, normalize_embeddings=True).tolist()\n",
    "\n",
    "            embeddings = embeddings + embs_list\n",
    "            \n",
    "            #for i in range(len(thesis_uri)):\n",
    "            #    embeddings.append(embs_list[i])\n",
    "\n",
    "            embedding_csv_batch = pd.DataFrame(data={'uri':thesis_uri, 'embeddings': embeddings})\n",
    "            embedding_csv = pd.concat([embedding_csv, embedding_csv_batch], ignore_index=True)\n",
    "            embedding_csv.to_csv('data/embedding_excerpts.csv', index=False)\n",
    "\n",
    "            texts_list = []\n",
    "            thesis_uri = []\n",
    "            embeddings = []\n",
    "\n",
    "    if thesis_uri != []:\n",
    "        print (\"Documents processed: \", n)\n",
    "        embs_list = model.encode(texts_list, convert_to_tensor=True, normalize_embeddings=True).tolist()\n",
    "\n",
    "        embeddings = embeddings + embs_list\n",
    "        \n",
    "        #for i in range(len(thesis_uri)):\n",
    "        #    embeddings.append(embs_list[i])\n",
    "\n",
    "        embedding_csv_batch = pd.DataFrame(data={'uri':thesis_uri, 'embeddings': embeddings})\n",
    "        embedding_csv = pd.concat([embedding_csv, embedding_csv_batch], ignore_index=True)\n",
    "        embedding_csv.to_csv('data/embedding_excerpts.csv', index=False)\n",
    "\n",
    "    # Usando cypher para ler o arquivo CSV\n",
    "    graph.query(\"\"\"\n",
    "        LOAD CSV WITH HEADERS\n",
    "        FROM 'file:///C:/Users/facordei/OneDrive%20-%20Capgemini/Documents/GitHub/Indigenous-Slavery-KG/data/embedding_excerpts.csv' AS row\n",
    "        MATCH (n:Excerpt) Where n.uri = row.uri\n",
    "        CALL db.create.setNodeVectorProperty(n, 'vector', apoc.convert.fromJsonList(row.embeddings))\n",
    "        \"\"\")\n",
    "    \n",
    "    # deletando o arquivo CSV\n",
    "    \n",
    "    os.remove('data/embedding_excerpts.csv')"
   ]
  },
  {
   "cell_type": "markdown",
   "id": "9ed8892e",
   "metadata": {},
   "source": [
    "Criando ídice para os vetores"
   ]
  },
  {
   "cell_type": "code",
   "execution_count": 24,
   "id": "b14e18c4",
   "metadata": {},
   "outputs": [
    {
     "data": {
      "text/plain": [
       "[]"
      ]
     },
     "execution_count": 24,
     "metadata": {},
     "output_type": "execute_result"
    }
   ],
   "source": [
    "# Criando uma label \"Document\" para os nós \"Thesis\" e \"Excerpt\"\n",
    "graph.query(\"\"\"\n",
    "    match (n:Excerpt) SET n:Document\n",
    "    \"\"\")"
   ]
  },
  {
   "cell_type": "code",
   "execution_count": 35,
   "id": "1b2ed932",
   "metadata": {},
   "outputs": [
    {
     "data": {
      "text/plain": [
       "[]"
      ]
     },
     "execution_count": 35,
     "metadata": {},
     "output_type": "execute_result"
    }
   ],
   "source": [
    "# Criando um indice de vetores\n",
    "\n",
    "dimension = len(model.encode(['texto de teste'], convert_to_tensor=True, normalize_embeddings=True)[0])\n",
    "\n",
    "# Criando uma label \"Document\" para os nós \"Thesis\" e \"Excerpt\"\n",
    "\n",
    "graph.query(\"\"\"\n",
    "    match (n:Thesis|Excerpt) SET n:Document\n",
    "    \"\"\")\n",
    "\n",
    "# Creating a vector index\n",
    "graph.query(\"\"\"\n",
    "    CREATE VECTOR INDEX vector_search IF NOT EXISTS\n",
    "    FOR (n:Document)\n",
    "    ON n.vector\n",
    "    OPTIONS {indexConfig: {\n",
    "    `vector.dimensions`: \"\"\" + str(dimension) + \"\"\",\n",
    "    `vector.similarity_function`: 'cosine'}}\n",
    "    \"\"\")"
   ]
  },
  {
   "cell_type": "code",
   "execution_count": null,
   "id": "1a6ca323",
   "metadata": {},
   "outputs": [],
   "source": [
    "# Criando o indice Full Text"
   ]
  },
  {
   "cell_type": "markdown",
   "id": "0a6c79d2",
   "metadata": {},
   "source": [
    "Buscando teses com vetores similares a um determinado texto"
   ]
  },
  {
   "cell_type": "code",
   "execution_count": 28,
   "id": "055b7f6d",
   "metadata": {},
   "outputs": [
    {
     "name": "stdout",
     "output_type": "stream",
     "text": [
      "Instruct: Dado uma query de busca na web, recupere trechos relevantes que respondam à consulta\n",
      "Query: Quem foi Gomes ?\n"
     ]
    }
   ],
   "source": [
    "#texto que será usado na busca\n",
    "#query_text = 'Nelson Mandela'\n",
    "personagem = 'Gomes'\n",
    "query_text = 'Quem foi ' + personagem + ' ?'\n",
    "#query_text = 'Onde mora o autor que fala sobre cegos congênitos?'\n",
    "detailed_query = [get_detailed_instruct(task, query_text)]\n",
    "print (detailed_query[0])\n",
    "# Transformando as query em vetor\n",
    "query_embedding = model.encode(detailed_query, convert_to_tensor=True, normalize_embeddings=True)[0].tolist()"
   ]
  },
  {
   "cell_type": "code",
   "execution_count": 29,
   "id": "869ef84b",
   "metadata": {},
   "outputs": [
    {
     "data": {
      "text/plain": [
       "[{'score': 0.9304913282394409,\n",
       "  'node.uri': 'tag:stardog:api:bahia_em_transe_o_reconcavo_no_movimento_rebelde_de_1798_pdf_0_p_111',\n",
       "  'node.abstract': None,\n",
       "  'node.text': 'o temos dúvidas quanto à participação do padre Francisco Agostinho Gomes no \\nMovimento Rebelde de 1798, especialmente na condução dos jantares políticos e \\nantirreligiosos, na tradução e doutrinação dos conteúdos revolucionários franceses em \\n \\n566 ANTT -TSO -IL, Cx. 1600, processo 15061.  \\n567 ANTT -TSO -IL, processo 13541, 1798, fl. 3 e 7.  \\n568 ANTT -TSO -IL, Cx. 1581, processo 13865 , fl. 5.  \\n 112 \\n \\nSalvador, na d ivulgação dos escritos contidos nos cadernos revolucionários que circularam na \\ncapital baiana e no Recôncavo, sendo um dos líderes na construção de uma sólida rede rebelde \\nque a documentação vem iluminado cada vez mais, revelando e comprovando quem eram os  \\niguais doutores das francesias  que residiam na Cidade da Bahia, além de ser apontado como \\num dos financiadores que sustentaria “a força do levantamento”569. \\nO outro suposto financiador do Movimento Rebelde de 1798 era Antônio da Silva \\nLisboa, um rico negoc iante citado entre os “Armadores” do século XVIII570 e membro do \\n“corpo comercial da Capitania da Bahia em 1769 [ ...]”571, que teve o seu nome associado ao \\npadre Francisco Agostinho Gomes, como um dos poderosos patrocinadores desse projeto \\nrevolucionário. Ao  que parece, Antônio da Silva Lisboa nasceu em Portugal, sendo “natural da \\nFreguesia de São Nicolau, na cidade de Lisboa, filho legítimo de José da Silva e Joana Maria”, \\ntornando -se, ao longo da vida, membro da Ordem Terceira de São Francisco, da Santa Cas a e \\nFamiliar do Santo Ofício572. Segundo Pablo Magalhães, Antônio da Silva Lisboa “nasceu em \\n1746, e em 1797 era Administrador Geral dos Contratos e Dízimos Reais da Bahia, morador no \\nlargo da Quitanda de São Bento”573, tendo pouco mais de 50 anos nesse cont exto de rebeldia \\nbaiana nos finais do século XVIII.  \\nAntônio da Silva Lisboa foi casado com “Dona Mariana Locateli Lisboa com quem teve \\n5 filhos, o mais velho dos quais, João Estanislau da Silva Lisboa, [que] se casou em Calcutá, \\nÍndia, com a inglesa D. Mar ia Ana da Silva [e] desse enlace nasceu o futuro professor João \\nEstanislau da Silva Lisboa”574, envolvido num famoso crime de feminicídio na Bahia, de acordo \\ncom os estudos de Marieta Alves. Segundo Cândido Eugênio Domingues de Souza, “André da \\nSilva Lisboa , filho do traficante Antônio da Silva Lisboa, investia no comércio na Ásia”575, \\ntendo o seu pai feito fortuna com o tráfico negreiro e com o comércio de tabaco na Índia576.\\n Como sinalizamos, o depoimento do oficial de alfaiate Ignácio da Silva Pimentel \\nrevelou que “estava em favor desta empreza e da sua consumação o padre Francisco Agostinho \\nGomes, e Antônio da Silva Lisboa, que ambos ricos e poderozos serião os que havião de \\n \\n569 ADCA (1998, v. I, p. 372).  \\n570 AAPEB (1931, v. 20, p. 83).  \\n571 AAPEB (1931, v. 20, p. 233).  \\n572 ALVES, Marieta. O comércio marítimo e alguns armadores do século XVII I, na Bahia (VI). Revista de \\nHistória , Universidade de São Paulo, v. 34, n. 70, p. 179, 1967.  \\n573 Magalhães (2012, p. 81).  \\n574 Alves (1967, p. 180). O neto de Antônio da Silva Lisboa, o professor João Estanislau da Silva Lisboa, foi o \\nassassino da sua aluna J úlia Fetal, em 20 de abril de 1847, por quem era apaixonado.  \\n575 SOUZA, Cândido Domingues Eugênio de.  O tráfico negreiro na Bahia : agentes investimento e distribuição \\n(1690 -1817). 2023. Tese (Doutorado em História) – Universidade Federal da Bahia, Universida de Nova de \\nLisboa, 2023. p. 272.  \\n576 AAPEB (1931, v. 20, p. 258).  \\n 113 \\n \\nsustentar a força do levantamento, e necessário combate, que delle havia de rezulta r”577. O nome \\nde Antônio da Silva Lisboa tornou a aparecer numa acareação feita com o oficial de alfaiate \\nJosé do Sacramento, em 2 de novembro de 1798, na qual o acareado disse “não está certo se \\nfalou ou não em Antônio da Silva Lisboa”578, colocando dúvidas  quanto ao envolvimento desse \\npersonagem que I'},\n",
       " {'score': 0.9294828176498413,\n",
       "  'node.uri': 'tag:stardog:api:bahia_em_transe_o_reconcavo_no_movimento_rebelde_de_1798_pdf_0_p_98',\n",
       "  'node.abstract': None,\n",
       "  'node.text': 'omes, ver: AAPEB (1918, v. 3, p. 119); ANTT – Justificação de \\nNobreza do padre Francisco Agostinho Gomes – maço 10, n. 14, 1799, p. 8; Carmo (2018, p. 26); Pe dreira (1976, \\np. 27); Tavares (2003, p. 127); Villalta (2016, p. 64 -65). \\n484 Villalta (2016, p. 64).  \\n485 Tavares (2003, p. 127 -128).  \\n486 Villalta (2016, p. 65).  \\n487 ADCA (1998 , v. II, p. 753 -754).  \\n488 Villalta (2016, p. 65).  \\n 99 \\n \\nVeiga489, do oficial de alfaiate Ignácio da Silva Pimentel490e do ourives José de Freitas \\nSacoto491.  \\nDono de uma invejável biblioteca e de uma leit ura atenta dos acontecimentos de sua \\népoca492, o padre Agostinho Gomes era um homem à frente do seu tempo, que não se \\nconformava com os limites impostos pelo Antigo Regime . Tais limites eram m aterializado s na \\nreligião católica e na Monarquia absolutista lusitana , a qual ele  certamente tinha profundas \\ncríticas e oposições, possivelmente explicitadas em jantares recheados de conteúdos \\nrevolucionários que dava em sua casa493. Mas,  certamente ele tinha seu limit e na conquista da \\ncidadania e da igualdade pela gente sem consideração, apesar de depoimentos apontarem para \\na ajuda financeira do rico padre em prol do projeto de revolução, que poderia beneficiar a todos \\nos envolvidos no Movimento Rebelde de 1798.  \\nNo dep oimento do oficial de alfaiate Ignácio da Silva Pimentel, no segredo da Relação \\nda Bahia, em 3 de setembro de 1798, questionaram quem seriam os “capitaens” envolvidos no \\n“terrível projeto” sedicioso, tendo o depoente relatado que “estava a favor desta empr eza e da \\nsua consumação o Padre Francisco Agostinho Gomes, e Antônio da Silva Lisboa, que ambos \\ncomo ricos e poderozos serião os que havião de sustentar a força do levantamento, e necessário \\ncombate, que delle havia de rezultar”494. Assim, ficava apontado não só o suporte intelectual \\ndo padre em prol do movimento rebelde, mas também o suporte financeiro que ele e outros \\npoderosos estariam dispostos a bancar pela causa. Porém, não foi comprovada a informação \\ndesse suposto financiamento do “levantamento” e nem se o apoio financeiro aos rebeldes teria \\nsido dado apenas para a ala dos homens de consideração ou para todos os envolvidos, já que o \\npadre Agostinho Gomes não foi convocado para depor nas respectivas devassa s em curso, dos \\ndesembargadores Manoel de Magalhães Pinto Avelar de Barbedo e Francisco Sabino Álvares \\nda Costa Pinto, ficando a relevante informação de tal apoio financeiro sem ter a devida \\napuração.  \\nEntretanto,  em 19 de janeiro de 1799, o governador D. Fernando José de Portugal e \\nCastro deu ordem para o desembargador Avelar de Barbedo abrir uma devassa específica “[ ...] \\npara saber a verdade das denúncias contra o comerciante e presbítero Francisco Agostinho \\n \\n489 ADCA (1998 , v. I, p. 104).  \\n490 ADCA (1998 , v. I, p. 372).  \\n491 ADCA (1998 , v. II, p. 753 -754).  \\n492 Carmo (2018, p. 81 -90). \\n493 Jancsó (1996, p. 117); Villalta (2016, p. 67); Valim (2018a, p. 255).  \\n494 ADCA (1998, v. I, p. 372).  \\n 100 \\n \\nGomes, suspeito de ‘francezia’ e de ter patrocin ado um jantar de carne em dia de sexta -feira \\nsanta”495, no qual este Auto da devassa assim dizia:  \\n \\nEspalhando -se algumas vozes na Corte, que as principais pessoas desta Cidade por \\nhuma loucura incomprehensivel , e por não entenderem os seus interesses se achão \\ninfectas dos abomináveis princípios franceses e com grande afeição a absurd'},\n",
       " {'score': 0.9290919303894043,\n",
       "  'node.uri': 'tag:stardog:api:bahia_em_transe_o_reconcavo_no_movimento_rebelde_de_1798_pdf_0_p_97',\n",
       "  'node.abstract': None,\n",
       "  'node.text': 'baiano da independência: padre Francisco Agostinho Gomes . \\nRevista do IGHB , Salvador, n. 86, 1976 (original 1973); TAVARES, Luís Henrique Dias. O desconhecido \\nFrancisco Agostinho Gomes. In: TAVARES, Luís Henrique Dias. Da Sedição de 1798 à Revolta de 1824 na \\nBahia . Salvador: EDUFBA; São Paulo: UNESP, 2003. p. 125 -141. \\n481 ADCA (19 98, v. II, p. 753 -754).  \\n482 ADCA (1998, v. I, p. 372).  \\n\\n 98 \\n \\n O padre Francisco Agostinho Gomes nasceu em 4 de julho de 1769, na capital baiana, \\ne era filho de Dona Isabel Maria Maciel Teixeira, que morreu no parto, e do luso Agostinho \\nGomes, um rico negociante da Praça da Bahia, habilitado como Cavaleiro Professo na Ordem \\nde Cristo, Fidalgo da Casa Real e Familiar do Santo Ofício483, que percebeu os dotes intelectuais \\ndo filho lhe encaminhando para o sacerdócio, sendo que este filho único herdo u a herança após \\na morte do seu genitor, mas não se dedicou ao ofício religioso, tendo mais afinidade com a \\nbotânica484. Apesar de ser chamado de “padre Francisco Agostinho Gomes”, acabou não se \\ntornando um presbítero ou pároco, não exercendo o sacerdócio e  constando não passar da \\nfunção de diácono, além de ter seis filhos com a viúva Maria Luísa Viana: “Henriqueta, Sofia, \\nFrancisco, Antônio, Bento e Elisa”485. \\nSem vocação para o exercício do sacerdócio e com pouco interesse na época para o \\ncomércio, no ano d e 1796, o padre Agostinho Gomes “entregou a administração de sua casa \\ncomercial a Manuel José de Melo, o que lhe permitiu viajar para Portugal. Anos depois, veio \\nretomar a administração dos seus negócios, em função dos prejuízos que lhe causou o \\nadministra dor que escolheu”486. Esse administrador da casa comercial do padre Agostinho \\nGomes era o alferes do 2º Regimento de Linha Manoel José de Melo, um homem de “alta \\nestatura cheio de corpo, com sinais de bexigas no rosto, que a pouco passou de Porta Bandeira \\nao dito posto de alferes”487 e que servia junto com outros militares rebeldes, como o tenente \\nHermógenes Pantoja, tendo participado dos ajuntamentos políticos e antirreligiosos ocorridos \\nna Barra nos últimos anos dos setecentos.  \\nAo assumir temporariamente a citada casa comercial, possivelmente o alferes Manoel \\nJosé de Melo deu prejuízos ao padre Agostinho Gomes, por não ser do ramo, mas cumpriu a \\nimportante função de se ocupar com tal tarefa, enquanto o rico padre cuidava de viaja r, estudar, \\ntraduzir livros, reunir rebeldes, além de doutrinar e divulgar os conteúdos revolucionários. \\nSegundo Luiz Carlos Villalta, nos anos seguintes, 1797 -1798, o padre Agostinho Gomes esteve \\nenvolvido com as francesias  na Cidade da Bahia488, tendo o s eu nome nas devassas do \\nMovimento Rebelde de 1798  citado nos depoimentos do soldado Luís Gonzaga das Virgens e \\n \\n483 Para dados biográficos do padre Agostinho Gomes, ver: AAPEB (1918, v. 3, p. 119); ANTT – Justificação de \\nNobreza do padre Francisco Agostinho Gomes – maço 10, n. 14, 1799, p. 8; Carmo (2018, p. 26); Pe dreira (1976, \\np. 27); Tavares (2003, p. 127); Villalta (2016, p. 64 -65). \\n484 Villalta (2016, p. 64).  \\n485 Tavares (2003, p. 127 -128).  \\n486 Villalta (2016, p. 65).  \\n487 ADCA (1998 , v. II, p. 753 -754).  \\n488 Villalta (2016, p. 65).  \\n 99 \\n \\nVeiga489, do oficial de alfaiate Ignácio da Silva Pimentel490e do ourives José de Freitas \\nSacoto491.  \\nDono de uma invejável biblioteca e de uma leit ura atenta dos acontecimentos de sua \\népoca492, o padre Agostinho Gomes era um homem à frente do seu tempo, que não se \\nconformava com os limites impostos pelo Antigo Regime . Tais limites eram m aterializado s na \\nreligião católica e na Monar'},\n",
       " {'score': 0.9279992580413818,\n",
       "  'node.uri': 'tag:stardog:api:bahia_em_transe_o_reconcavo_no_movimento_rebelde_de_1798_pdf_0_p_4',\n",
       "  'node.abstract': None,\n",
       "  'node.text': '4 \\n \\n \\n \\n\\n 5 \\n \\n \\n \\n \\n \\n \\n \\n \\n \\n \\n \\n \\n \\n \\n \\n \\n \\n \\n \\n \\n \\n \\n \\n \\n \\n \\n \\n \\n \\n \\nRecôncavo  \\nPela libertação do homem negro na América […].  \\n \\n                   Edson Gomes  \\n \\n 6 \\n \\n \\n \\n \\n \\n \\n \\n \\n \\n \\n \\n \\n \\n \\n \\n \\n \\n \\n \\n \\n \\n \\n \\n \\n \\n \\n \\n \\n \\n \\n \\n \\n \\n \\n \\n \\n \\n \\nAo meu pai, Elias Moreira do Sacramento ( in \\nmemoriam ), por acreditar na educação como \\nrevolução, e às minhas filhas, Briza e Pérola, \\ninspirações na minha vida.  \\n \\n '},\n",
       " {'score': 0.9278823137283325,\n",
       "  'node.uri': 'tag:stardog:api:bahia_em_transe_o_reconcavo_no_movimento_rebelde_de_1798_pdf_0_p_96',\n",
       "  'node.abstract': None,\n",
       "  'node.text': 'em de \\nconsideração, dizendo a respeito de João de Deus do Nascimento “que elle nunca [o] \\nacompanhou, que he hum pardo”477, mas se contradisse ao afirmar que o co nvidara para jantar \\n \\n473 ADCA (1998 , v. II, p. 753).  \\n474 AHU_CU_CA_Cx . 98, doc. 19177, fl. 6.  \\n475 ADCA (1998 , v. I, p. 614).  \\n476 ADCA (1998 , v. I, p. 514 e 531). Ver: Tavares (1975, p. 65).  \\n477 ADCA (1998, v. I, p. 528).  \\n 97 \\n \\nalgumas vezes em sua casa e que realmente comeu a tal refeição feita pelo mestre alfaiate, \\ncontrária aos preceitos católicos478.  \\nA questão de o tenente José Gomes não acompanhar João de Deus por conta de o mestre \\nalfaiate ser um pardo d emonstra o divisor de águas entre os homens de consideração e os \\nhomens sem consideração, comprovando que a promoção social, a cidadania, a quebra de \\nhierarquias pelo critério de cor e a agenda de busca por igualdade social e racial passariam longe \\nda disc ussão ou da agenda de luta deste oficial militar que, de certo modo, gozava de algum \\nprivilégio na sociedade baiana dos fins dos setecentos.  \\nNão consta na documentação que o tenente José Gomes de Oliveira Borges possuísse \\nalguma biblioteca, tivesse um ente ndimento do francês, traduzisse livros ou divulgasse os \\ncadernos revolucionários, mas esteve presente em reuniões políticas e seu nome foi citado por \\nréus e testemunhas, comprovando o envolvimento deste oficial militar na rede rebelde, de modo \\nque ele foi o que mais tempo durou preso, se somarmos os 14 meses de prisão até a sentença \\nfinal de 7 de novembro de 1799, aliado aos mais seis meses em que seguiu no cárcere da cadeia \\npública da Cidade da Bahia479, cumprindo a pena com o seu parceiro de profissão, de patente e \\nde francesias , Hermógenes Francisco de Aguilar Pantoja, onde entraram para a história como \\nos “dous Tenentes” presos e condenados “por aquele facto” da participação no Movimento de \\n1798, com vários indícios de suas conjuntas ações rebeldes.  \\n \\n2.2 Ambos ricos que haviam de sustentar a força do levantamento  \\n \\nO diácono e negociante branco Francisco Agostinho Gomes foi um destacado doutor \\nem francesias  na Cidade da Bahia480, tido como um dos principais tradutores dos escritos em \\nfrancês e um dos líderes das reuniões antirreligiosas que ocorriam nos ajuntamentos n a Barra, \\nconstruindo uma forte parceria com o tenente Hermógenes Francisco de Aguilar Pantoja481 e \\numa intensa rede de rebeldias com os homens de consideração de sua época, sendo citado como \\num homem rico e poderoso que havia de sustentar a “força do levant amento” de 1798, junto \\ncom o também negociante Antônio da Silva Lisboa482. \\n \\n478 ADCA (1998 , v. I, p. 349).  \\n479 ADCA (1998 , v. II, p. 1191).  \\n480 Sobre o padre Francisco Agostinho Gomes e a sua atuação no Movimento Rebelde de 1798, ver: Carmo (2018); \\nPEDREIRA, Pedro Tomás. Um revolucionário baiano da independência: padre Francisco Agostinho Gomes . \\nRevista do IGHB , Salvador, n. 86, 1976 (original 1973); TAVARES, Luís Henrique Dias. O desconhecido \\nFrancisco Agostinho Gomes. In: TAVARES, Luís Henrique Dias. Da Sedição de 1798 à Revolta de 1824 na \\nBahia . Salvador: EDUFBA; São Paulo: UNESP, 2003. p. 125 -141. \\n481 ADCA (19 98, v. II, p. 753 -754).  \\n482 ADCA (1998, v. I, p. 372).  \\n\\n 98 \\n \\n O padre Francisco Agostinho Gomes nasceu em 4 de julho de 1769, na capital baiana, \\ne era filho de Dona Isabel Maria Maciel Teixeira, que morreu no parto, e do luso Agostinho \\nGomes, um rico negociante da Praça da Bahia, habilitado como Cavaleiro Professo na Ordem \\nde Cristo, Fidalgo da Casa Real e Familiar do Santo Ofício483, que percebeu os dotes intelectuais \\ndo filho lhe encaminhando pa'},\n",
       " {'score': 0.9265184998512268,\n",
       "  'node.uri': 'tag:stardog:api:o_vasto_teatro_civilizatorio_os_indigenas_e_o_trabalho_no_brasil_imperial_entre_1845_a_1890_na_regiao_do_jequitinhonha_pdf_0_p_227',\n",
       "  'node.abstract': None,\n",
       "  'node.text': 'ticos, Hospitais, Estatísticas, Catequese, Assembleia e T ipografia do ano de 1861. SP. \\n949. Diretoria Geral dos Índios. 26 de Junho de 1863.  \\n754 Ibid.  \\n755 Ofício ao Presidente da Província de Minas Gerais. Secretaria do Governo Provincial - SP n. 776. Ofícios e mais \\ndocumentos dirigidos ao Governo sobre Correios, Estatística, Trem Bélico e Catequese. 22 de Março de 1859. APMG.  \\n756 Ibid.  \\n 225 \\n de parte dos indígenas loc ais “seduzido s” pelos irmãos Gomes Leal. Vários grupos estavam sob o \\ncomando de Camilo Gomes Leal e Domingos Gomes Leal. Esses irmãos, de acordo com o diretor, \\nunidos a um outro homem,  \\nde perversos costumes e perito mestre da língua dos índios, Joaquim Fernandes, \\ncom a interna infração da Lei de Terras, introduziram-se na mata e tomaram \\nposição de aldeamentos, escravizando completamente os índios e deles se servindo \\nnão só para seus trabalhos rústicos, como ainda para instrumento de seus crimes. \\nCom eles mataram à tempos a Antonio Ramos, e flecharam a Felix Ramos. \\nExpeliram diversas famílias as roubaram. Neste estado, levantaram-se contra a lei e  \\nacoitaram-se nas matas, unidos aos índios, sendo impossível qualquer diligencia \\npara apreendê-los.757 \\n \\n Também, persuadiam os Aranã a obedecê-los, induzindo-os a cometerem crimes, assustar os \\nhabitantes e provocarem grandes distúrbios à revelia da lei, por isso era imprescindível cumprir o \\nDecreto 426 e “retirar da propriedade dos índios tais pessoas.”758 Assim como os Pêgo, os Gomes \\nLeal possuíam os típicos aldeamentos particulares, ou como bem estabeleceu a autora Soraia \\nDornelles, tais tipos de homens passavam-se por filantrópicos para obterem o aval do Estado na \\nexploração do trabalho indígena.759          \\n A ideia de “amansar índios”, convertendo-os em trabalhadores, era bem vista tanto pela \\nsociedade local, quanto pelas autoridades imperiais. Os Gomes Leal foram especialistas nesse ramo. \\nAntônio Gomes Leal, patriarca da família, desde cedo procurou travar relações com os indígenas \\nlocais, exercendo domínio sobre eles. Ramalho, em sua tese de doutorado, enfatizou que este \\nproprietário constantemente visitava as autoridades imperiais e provinciais acompanhado de grupos \\nindígenas, em demonstração de controle sobre os mesmos. Esse trabalho, de aldear comunidades \\ninteiras, lhe rendeu benesses e títulos, pois esta prática era compreendida enquanto uma ação de \\n“civilização dos bravios.” Assim, Antônio Gomes Leal, além de proprietário de aldeamentos, \\ntornou-se ele mesmo Diretor dos Índios de Alto dos Bois.760  \\n Os aldeamentos particulares funcionavam como centro produtor de mão de obra, que podia \\nser explorada sem maiores problemas. No caso dos Gomes Leal, além de usufruir do trabalho dos \\nindígenas em suas propriedades, alugavam-os aos fazendeiros vizinhos. Saint Hilaire, quando \\npassou pelo Jequitinhonha, constatou que Antônio Gomes Leal possuía “tribos inteiras” habitando \\n \\n757 Ofício do Diretor dos Índios do Mucuri ao Diretor Geral dos Índios. Secretaria do  Governo Provincial - SP 1379. \\nOfícios e mais papéis dirigidos ao Governo sobre Indústria, Catequese, Terras e Terr enos Diamantinos do ano de 1870. \\nCidade de Minas Novas. 23 de Fevereiro de 1870, p. 360. APMG.  \\n758 Ibid.  \\n759 DORNELLES, Soraia Sales. Trabalho compulsório e escravidão indígena no Brasil Imperial: reflexõ es a partir da \\nprovíncia paulista. Revista Brasileira de História . São Paulo, v. 38, n . 79, 2018 , p. 95.  \\n760 RAMALHO, op. cit., p. 162.  \\n 226 \\n as imediações de suas fazendas. Em troca de trabalho, o fazendeiro ensinava aos indígenas os \\npreceitos religiosos, além de ler, escrever, contar e a agricultura.761  \\n Eram centenas de indígenas à disposição dos Gomes Leal. O engenheiro Renault, em sua \\nviagem pelo Mucuri e Jequitinhonha constatou a presença de mais de 300 Botocudos “mansos” , \\nentre homens, mulheres e crianças, entendidos '},\n",
       " {'score': 0.9260096549987793,\n",
       "  'node.uri': 'tag:stardog:api:bahia_em_transe_o_reconcavo_no_movimento_rebelde_de_1798_pdf_0_p_104',\n",
       "  'node.abstract': None,\n",
       "  'node.text': '_CA_Cx . 98, doc. 19178, fl. 22.  \\n516 AHU_CU_CA_Cx . 98, doc. 19178, fl. 17.  \\n517 AHU_CU_CA_Cx . 98, doc. 19178, fl. 17 -18. \\n518 AHU_CU_CA_Cx . 98, doc. 19178, fl. 10.  \\n519 AHU_CU_CA_Cx . 98, doc. 19178, fl. 15.  \\n520 AHU_CU_CA_Cx . 98, doc. 19178, fl. 16.  \\n521 AHU_CU_CA_Cx . 98, doc. 19178, fl. 11 -12. \\n522 AHU_CU_CA_Cx . 98, doc. 19178, fl. 23.  \\n523 AHU_CU_CA_ Cx. 98, doc. 19178, fl. 24.  \\n 105 \\n \\nO advogado José Barbosa de Oliveira isentou o padre Agostinho Gomes da participação \\nem jantares de carne na Sexta Santa, mas revelou nomes “por saber de voz públic a que”  \\n \\n[...] há três anos, pouco mais ou menos, tempo em que se achava nesta Terra, o comboi \\ncomandado pelo almirante Bernardo Ramires Esquivel, se dera um jantar de carne  no  \\nSitio da Barra, em Sexta Maior, ao qual jantar diziam ter assistido hum músico \\nchamado Luís Vieira, de alcunha o Saracura, e hum fulano Borges, que negocia para \\nCosta da Mina, ambos mulatos524.  \\n \\nNão sabemos quem era o músico Saracura, mas o fulano Borges era o pardo José Borges \\nde Barros525 que, segundo Pablo Antônio Iglesias Magalhães, era um pedreiro -livre baiano, \\n“admitido na maçonaria na Ilha da Madeira, por volta de 1780, [que] voltou à Bahia na esquadra \\nde Bernardo Esquível em 1795 [e] nos dois anos s eguintes, estabeleceu um círculo de amizade \\ncom indivíduos que compartilhavam de ideias semelhantes”526. \\nO comerciante Ignácio Francisco Braga mencionou a participação no jantar \\nantirreligioso na Praça da Piedade de “hum tenente, que ali morava, de quem ign ora o nome”, \\ne do coronel Antônio José de Souza Portugal, relatando “que no tempo em que estivera aqui \\nhum capitão Francês, que tinha apresado a Nau Poliferno, também se publicara a notícia de \\noutro jantar que se pretendia dar no Sitio da Barra, o qual for a impedido por ordem do \\ngovernador”527. O advogado Thomas da Costa Ferreira também relatou sobre o jantar na Barra \\nimpedido pelo governador da Bahia, “em ocazião em que aqui se achavão huns certos Franceses \\narribados”528. O tenente de nome ignorado, que moro u no “sítio do portão da Piedade”529, era o \\nHermógenes Francisco de Aguilar Pantoja, o coronel Antônio José de Souza Portugal era o \\ncomandante do “1º Regimento desta Praça e Companhia de Granadeiros”530, “regimento em \\nque servia o soldado Luís Gonzaga das Vi rgens”531, e o capitão francês era o Antoine René \\nLarcher, que estava  na Bahia nos fins de 1796532, passando cerca de um mês em Salvador.  \\nOs historiadores questionaram quanto ao jantar proibido pelo governador no Sitio da \\nBarra, por conta da presença do capitão francês nos fins de 1796, na capital baiana533. Contudo , \\ntal jantar não foi proibido por questões antirreligiosas da Semana Santa, pois jamais seria \\n \\n524 AHU_CU_CA_Cx . 98, doc. 19178, fl. 12 -13. \\n525 Carmo (2018, p. 49).  \\n526 Magalhães (2017, p. 27 -29); Valim (2018a, p. 232 -233).  \\n527 AHU_CU_CA_Cx . 98, doc. 19178, fl. 15 -16. \\n528 AHU_CU_CA_Cx . 98, doc. 19178, fl. 12.  \\n529 ADCA (1998, v. II, p. 845).  \\n530 ADCA (1998, v. I, p. 102). O coronel Antônio José de Souza Portugal foi o responsável pela prisão do soldado \\nLuís Gonzaga das Virgens e Veiga, em 23 de agosto de 1798.  \\n531 Carmo (2018, p. 48).  \\n532 Mattoso (1969, p. 14).  \\n533 Mattoso (1969, p. 14 -15); Tavares (1975, p. 82).  \\n 106 \\n \\nrealizado no período da Paixão de Cristo, mas sim por questões políticas, havendo uma grande \\npossibi lidade desse jantar ter sido pretendido para o dia de Natal, pois o capitão do Regimento \\nAuxiliar Francisco da Costa de Azevedo relatou que “ouvira falar em outro jantar, que pelos \\ndias santos do Natal do ano de mil setecentos e noventa e sete se pretender a dar no Sitio da \\nBarra, e senã'},\n",
       " {'score': 0.9256207942962646,\n",
       "  'node.uri': 'tag:stardog:api:bahia_em_transe_o_reconcavo_no_movimento_rebelde_de_1798_pdf_0_p_99',\n",
       "  'node.abstract': None,\n",
       "  'node.text': 'gador Avelar de Barbedo abrir uma devassa específica “[ ...] \\npara saber a verdade das denúncias contra o comerciante e presbítero Francisco Agostinho \\n \\n489 ADCA (1998 , v. I, p. 104).  \\n490 ADCA (1998 , v. I, p. 372).  \\n491 ADCA (1998 , v. II, p. 753 -754).  \\n492 Carmo (2018, p. 81 -90). \\n493 Jancsó (1996, p. 117); Villalta (2016, p. 67); Valim (2018a, p. 255).  \\n494 ADCA (1998, v. I, p. 372).  \\n 100 \\n \\nGomes, suspeito de ‘francezia’ e de ter patrocin ado um jantar de carne em dia de sexta -feira \\nsanta”495, no qual este Auto da devassa assim dizia:  \\n \\nEspalhando -se algumas vozes na Corte, que as principais pessoas desta Cidade por \\nhuma loucura incomprehensivel , e por não entenderem os seus interesses se achão \\ninfectas dos abomináveis princípios franceses e com grande afeição a absurda \\npretendida Constituição Franceza [ ...], entrando neste número, como mais afeiçoado \\na aqueles princípios, o padre Francisco Agost inho Gomes, de quem se diz que em \\nSexta Feira da Paixão dera hum banquete de carne, para que foram convidadas várias \\npessoas sectários nos mesmos princípios  [...], e achando -o verdadeiro, faça prender \\ntanto ao dito padre, como aos seus amigos sectários no s mesmos princípios, a fim de \\nserem julgados com toda a severidade das leys [ ...]496.  \\n \\nA devassa do padre Francisco Agostinho Gomes interrogou 24 testemunhas, entre os \\ndias 19 e 25 de janeiro de 1799, sendo 23 homens brancos e 1 pardo, todos moradores da C idade \\nda Bahia, dos quais 9 eram negociantes da Praça da Bahia ; 6 eram comerciantes com lojas de \\nsecos, molhados, armazéns e botequins ; 5 eram bacharéis em Direito, dentre eles o advogado \\ndos réus do Movimento Rebelde de 1798, José Barbosa de Oliveira ; 3 eram cabos de polícia \\nnas freguesias da capital baiana ; e 1 era capitão do Regimento Auxiliar da Praça da Bahia.  \\nVeja abaixo a tabela das testemunhas na ordem dos depoimentos desta devassa:  \\n \\nTabela 2 – Testemunhas da Devassa do Padre Francisco Agostinho Gomes, 1799  \\nOrdem e Nome  Profissão  Cor, idade e Estado \\nCivil  Residência na Cidade da \\nBahia  \\n1-João Antônio do \\nOuteiro  Negociante da Praça da \\nBahia  Branco/55 anos e casado  Morador defronte à Igreja \\ndo Corpo Santo  \\n2-Paulo de Oliveira \\nCosta  Negociante da Praça da \\nBahia  Branco/50 anos e casado  Morador na Freguesia de \\nSão Pedro  \\n3-Antônio Vaz de \\nCarvalho  Negociante da Praça da \\nBahia  Branco/36 anos e casado  Morador na Praia  \\n4-Manoel da Silva \\nCunha  Negociante da Praça da \\nBahia  Branco/34 anos e solteiro  Morador na Praia  \\n5-Domingos José de \\nCarvalho  Negociante da Praça da \\nBahia  Branco/51 anos e casado  Morador na rua direita da \\nFonte dos Padres  \\n6-Thomas da Costa \\nFerreira  Advogado  Branco/45 anos e casad o Morador na rua debaixo \\nde São Bento  \\n7-José Barbosa de \\nOliveira  Advogado  Branco /44 anos e viúvo  Morador na rua do \\nSaboeiro  \\n8-Ignácio Barbosa da \\nFranca Corte Real  Advogado  Branco/55 anos e casado  Morador na rua de N. \\nSenhora da Ajuda  \\n \\n495 Tavares (1975, p. 69).  \\n496 AHU_CU_CA_Cx . 98, doc. 19178 – Auto da Devassa que procedeu o Ouvidor Geral do Crime Dr. Manoel de \\nMagalhães Pinto e Avellar de Barbedo para averiguação dos factos de que era acusado o padre Francisco \\nAgostinho Gomes. Bahia, 19 de janeiro de 1799, fl. 8.  \\n 101 \\n \\n9-Jacinto Manoel \\nPereira Lisboa Rocha  Advogado  Branco/41 anos e solteiro  Morador na rua da \\nGuadalupe  \\n10-Manoel Pereira Dias  Advogado  Branco/51 anos e casado  Morador na rua de traz \\ndas cadeias da Relação  \\n11-Ignácio Francisco \\nBraga  Comerciante de fazendas \\nsecas  Branco/49 anos e casado  Morador na rua direita da \\nMatriz de São Pedro  \\n12-Francisco da Costa \\nAzevedo  Capitão do'},\n",
       " {'score': 0.9250403642654419,\n",
       "  'node.uri': 'tag:stardog:api:bahia_em_transe_o_reconcavo_no_movimento_rebelde_de_1798_pdf_0_p_101',\n",
       "  'node.abstract': None,\n",
       "  'node.text': 'Francisco Agostinho \\nGomes envolvido em jantares de carne em dias de preceitos religiosos ligados à Sexta Feira \\nSanta ou que o padre estaria afeiçoado com os “abomináveis princípios franceses”, numa tônica \\nde narrativas ligadas ao “ouviu dizer”, “ouviu dizer vagamente”, “nunca ouvira dizer”, “ouviu \\nfalar”, “nunca ouvira falar”, sabe -se “por voz pública”, sabe -se “po r voz vaga” e/ou “não tem \\n 102 \\n \\ncerteza” dos relatos que testemunharam497. No depoimento do pardo livre Valério Francisco da \\nSilva ficou explícito que ele quis esquivar -se totalmente dessa história, dizendo que “nem \\nconhece ao padre Francisco Agostinho Gomes, nem  sabe quem he, e nem ao seo respeito ouvira \\nfalar em matéria alguma”498, deixando para os brancos a resolução dos seus problemas. E como \\nanalisou Luís Henrique Dias Tavares: “Por que [acusariam] um homem de consideração?”499. \\nPossivelmente, sabendo da abertu ra da citada devassa, o padre Agostinho Gomes \\nrecorreu ao arcebispo da Bahia, D. Antônio Corrêa, solicitando licença para viajar ao Reino de \\nPortugal, num ofício que foi enviado para o ministro D. Rodrigo de Sousa Coutinho, em 19 de \\njaneiro de 1799, justam ente na data em que começava o interrogatório das testemunhas a \\nrespeito das acusações contra ele. Nas palavras do arcebispo: “Passo a dizer que agora vai para \\nLisboa o diácono Francisco Agostinho Gomes, ainda que só irá em fevereiro [1799]. Concedi -\\nlhe a licença [ ...] a pedir me [e] julgo não vai com o intuito de ser presbítero, ou pároco”500. \\nO pedido de licença do padre Agostinho Gomes para ir à Lisboa não era por motivos \\neclesiásticos, segundo o próprio D. Antônio Corrêa, mas sim para resolver questões a pós a \\nmorte do seu pai, pois este teria que continuar os negócios, que deveria ter o aval do arcebispo \\ne do papa. Na verdade, essa foi uma tentativa de saída estratégica do padre para escapar de uma \\npossível prisão diante da devassa em curso, que parece te r sido percebida pelo arcebispo, já que \\nD. Antônio Corrêa afirmou que o diácono Francisco Agostinho Gomes só iria em fevereiro para \\na Corte, possivelmente após a apuração e resolução de seu processo pelas autoridades régias na \\nBahia, dizendo também que est e requerente da licença, “entre todos os eclesiásticos he aquele \\nde quem ouço falar menos bem a respeito dos perniciosos sentimentos modernos”501. \\nA devassa do padre Agostinho Gomes explicitou a blindagem des se poderoso homem \\nde consideração, na qual se apurou em cima do que as autoridades régias só “ouvira dizer”, com \\ndepoimentos que funcionaram como provas contundentes para a inocência deste devassado, \\nsendo que o padre não foi sequer ouvido nessa investigação particular502, afastando a \\npossibilidade de sua inclusão na condição de réu. Mas, apesar da perceptível linha testemunhal \\nem prol da inocência do padre Agostinho Gomes e da condução das autoridades régias na \\nescolha das testemunhas que responderam rapidamente às questões sem maiores interrogatórios \\n \\n497 AHU_CU_CA_Cx . 98, doc. 19178, fl. 8 -24. \\n498 AHU_CU_C A_Cx . 98, doc. 19178, fl. 20.  \\n499 Tavares (1975, p. 69).  \\n500 AHU_CU_CA_Cx . 97, doc. 19064 – Ofício do Arcebispo D. Fr. Antônio Corrêa para D. Rodrigo de Sousa \\nCoutinho, no qual se refere a assuntos eclesiásticos e em especial aos padres Francisco Agostinho Gomes e \\nVicente José de Moraes. Bahia, 19 de janeiro de 1799, fl. 2. Ver: Carmo (2018, p. 60).  \\n501 AHU_CU_CA_Cx . 97, doc. 19064, fl. 2.  \\n502 Carmo (2018, p. 57).  \\n 103 \\n \\nou complicações, ficaram relatos que chamaram a atenção para os locais, datas e nomes de \\nparticipantes em possíveis jantares antirreligiosos, além de relatos ligados à afeição do padre \\ncitado aos princípios franceses503. \\nPor exemplo, o negociante Manoel da Silva Cunha disse “vagamente ter ouvido dizer, \\nque se dera ou quisera dar no Sitio da Barra, hum jantar de carne em dia de peixe”504'},\n",
       " {'score': 0.9237792491912842,\n",
       "  'node.uri': 'tag:stardog:api:bahia_em_transe_o_reconcavo_no_movimento_rebelde_de_1798_pdf_0_p_107',\n",
       "  'node.abstract': None,\n",
       "  'node.text': 'o e o que o padre investigado teria a ver com isso. Até as informações anteriores \\n \\n542 AHU_CU_CA_Cx . 98, doc. 19178, fl. 16.  \\n543 AHU_CU_CA_Cx . 98, doc. 19178, fl. 10.  \\n544 AHU_CU_CA_Cx . 98, doc. 19178, fl. 12.  \\n545 AHU_CU_CA_Cx . 98, do c. 19178, fl. 17.  \\n546 AHU_CU_CA_Cx . 98, doc. 19178, fl. 18.  \\n547 AHU_CU_CA_Cx . 98, doc. 19178, fl. 18.  \\n548 AHU_CU_CA_Cx . 98, doc. 19178, fl. 20.  \\n 108 \\n \\nque relacionaram o nome do padre Agostinho Gomes ao envol vimento no Movimento Rebelde \\nde 1798 não foram exploradas pelas autoridades régias responsáveis pela citada devassa. \\nApenas um depoimento tocou no assunto, dado pelo negociante Manoel da Silva Cunha, que \\ndisse saber “por voz pública” do jantar proibido no Sitio da Barra “e que nele falarão algumas \\npessoas quando foi do levante, ha pouco projetado nesta Cidade”549, sendo tal informação \\nignorada, silenciada e descartada pelo magistrado Avelar de Barbedo.  \\nÉ inegável que as autoridades régias mostraram preocupaç ão com o envolvimento de \\ngente rica no Movimento Rebelde de 1798 e do suposto apoio que poderia fortalecer um projeto \\nde revolução que, com o desenrolar da trama, possibilitou a inclusão da gente de cor sem \\nconsideração na busca da almejada cidadania, num espalhar de ideias e ações de revolução que \\npoderiam chegar gradualmente aos escravizados, sendo tal preocupação ilustrada no ofício do \\ngovernador da Bahia diante da devassa do padre Agostinho Gomes, no qual D. Fernando José \\nde Portugal e Castro assim escr eveu, em 12 de fevereiro de 1799:  \\n \\nO que sempre se receou nas colônias he a Escravatura, em razão de sua condição e \\nporque he o maior numero de habitantes dellas , não sendo tão natural que os homens \\nempregados, e estabelecidos, que tem bens e propriedades, queirão concorrer para \\nhuma conspiração ou atentado, de que resultarão péssimas consequências, vendo -se \\naté expostos a serem assassinados pelos seus próprios es cravos. Não pretendo com \\nestas ponderaçoens fazer apologia dos habitantes desta Cidade, mas meramente expor \\nos meus sentimentos550. \\n \\nNos estudos de Tavares, o governador da Bahia informava, nesse ofício de 12 de \\nfevereiro de 1799, que “Francisco de Agostinh o Gomes apenas ‘lia os papéis públicos Ingleses \\ne Franceses, por entender estas Línguas, e que as vezes publicava algumas notícias que nellas \\nencontrava’”551, numa linha de blindagem das autoridades régias na devassa desse rico padre, \\nque foi inocentado por que os depoimentos nasciam de “voz vaga” e os depoentes  “não [teriam] \\npresenciado factos, ou palavras que dessem a conhecer o seo mao pensar”552, diante das \\nacusações de participação do padre nos jantares antirreligiosos e nas práticas de francesias , \\nonde concluiu -se que:  \\n \\nNão verificando pois o sumário, o facto de que se trata, nem outro qualquer por onde \\nse mostrasse seguir o dito Padre tão abomináveis princípios, justamente não procede \\ncontra ele, nem contra outrem, por deporem todas as testemunhas unanimemente não \\nserem sabedoras de que hajão alguns indivíduos infectos de tão erradas máximas553. \\n \\n549 AHU_CU_CA_Cx . 98, doc. 19178, fl. 11.  \\n550 AHU_CU_CA_Cx . 98, doc. 19177, fl. 6.  \\n551 Tavares (1975, p. 70).  \\n552 AHU_CU_CA_Cx . 98, doc. 19177, fl. 3.  \\n553 AHU_CU_CA_Cx . 98, doc. 19177, fl. 3.  \\n 109 \\n \\nOs depoentes que chegaram a falar “por ouvir dizer” que o padre era “Francês” não \\ntiveram peso para a acusação, porém aqueles que exaltaram as qualidades do padre Agostinho \\nGomes t iveram relevância na conclusão da devassa, pois “ponderando -se nos depoimentos das \\ntestemunhas seis, e vinte hum, não deixam de abonar a sua conducta e procedimento como \\nquem dele tinhão bastante conheciment'}]"
      ]
     },
     "execution_count": 29,
     "metadata": {},
     "output_type": "execute_result"
    }
   ],
   "source": [
    "# Buscando no índice de vetores \n",
    "result = graph.query(\"\"\"\n",
    "    CALL db.index.vector.queryNodes('vector_search', 300, \"\"\" + str(query_embedding) + \"\"\")\n",
    "    YIELD node, score\n",
    "    RETURN score, node.uri, node.abstract, node.text\n",
    "    LIMIT 10\n",
    "    \"\"\")\n",
    "result"
   ]
  },
  {
   "cell_type": "code",
   "execution_count": null,
   "id": "3ca9e600",
   "metadata": {},
   "outputs": [],
   "source": []
  },
  {
   "cell_type": "code",
   "execution_count": 9,
   "id": "735f283e",
   "metadata": {},
   "outputs": [],
   "source": [
    "from transformers import TFBertModel\n",
    "from transformers import AutoTokenizer, BertModel\n",
    "import os\n",
    "os.environ['CURL_CA_BUNDLE'] = ''\n",
    "import torch\n",
    "from dotenv import load_dotenv\n",
    "from langchain_community.graphs import Neo4jGraph\n",
    "import json\n",
    "import pandas as pd\n",
    "from openai import AzureOpenAI\n",
    "\n",
    "#from azure.identity import DefaultAzureCredential, get_bearer_token_provider  "
   ]
  },
  {
   "cell_type": "markdown",
   "id": "71442afb",
   "metadata": {},
   "source": [
    "Using Azure OpenAI embedding models"
   ]
  },
  {
   "cell_type": "code",
   "execution_count": 10,
   "id": "27be36e7",
   "metadata": {},
   "outputs": [],
   "source": [
    "#client_small = AzureOpenAI(\n",
    "#  api_key = os.getenv(\"OPENAI_API_KEY\"),\n",
    "#  azure_endpoint = os.getenv(\"EMBEDDING_SMALL_ENDPOINT\"),\n",
    "#  api_version = os.getenv(\"API_VERSION\"))\n"
   ]
  },
  {
   "cell_type": "code",
   "execution_count": 11,
   "id": "60dde76d",
   "metadata": {},
   "outputs": [],
   "source": [
    "client_large = AzureOpenAI(\n",
    "  api_key = os.getenv(\"OPENAI_API_KEY\"),\n",
    "  azure_endpoint = os.getenv(\"EMBEDDING_LARGE_ENDPOINT\"),\n",
    "  api_version = os.getenv(\"API_VERSION\"))"
   ]
  },
  {
   "cell_type": "code",
   "execution_count": 12,
   "id": "7b49df14",
   "metadata": {},
   "outputs": [],
   "source": [
    "# The function receives a sencence and returns the embedding (1D numpy array)\n",
    "def get_embeddings_openAI(text):\n",
    "    #model = \"text-embedding-3-small\"\n",
    "    #embedding_small = client_small.embeddings.create(input = text, model=model)\n",
    "    #return embedding_small.data\n",
    "    model = \"text-embedding-3-large\"\n",
    "    embedding_large = client_large.embeddings.create(input = text, model=model)\n",
    "    return embedding_large.data\n"
   ]
  },
  {
   "cell_type": "markdown",
   "id": "d806df4d",
   "metadata": {},
   "source": [
    "Load BERT Model (later we can change to other model)"
   ]
  },
  {
   "cell_type": "code",
   "execution_count": 5,
   "id": "0116e839",
   "metadata": {},
   "outputs": [],
   "source": [
    "# Choose the pretrained model\n",
    "#model_checkpoint = 'bert-base-multilingual-cased' #'bert-base-multilingual-cased'   #'google/bert_uncased_L-2_H-128_A-2' (Tiny BERT)\n",
    "# Max number of tokens in the sentence\n",
    "#max_length= 512 #512 #128\n",
    "\n",
    "# Load tokenizer\n",
    "#tokenizer = AutoTokenizer.from_pretrained(model_checkpoint, model_max_length= max_length)\n",
    "\n",
    "# Load the model\n",
    "#bert_model = TFBertModel.from_pretrained(model_checkpoint, from_pt=True)\n",
    "#bert_model = BertModel.from_pretrained(model_checkpoint)"
   ]
  },
  {
   "cell_type": "code",
   "execution_count": null,
   "id": "d574722f",
   "metadata": {},
   "outputs": [],
   "source": [
    "# The function receives a sencence and returns the embedding (1D numpy array)\n",
    "#def get_embeddings(text):\n",
    "#  input_ids = torch.tensor(tokenizer.encode(text, add_special_tokens=True, truncation=True)).unsqueeze(0)  # Batch size 1\n",
    "#  outputs = bert_model(input_ids)\n",
    "#  last_hidden_states = outputs[0]\n",
    "#  pooler_output = torch.mean(last_hidden_states, dim=1) \n",
    "#  return(pooler_output.detach().numpy()[0].tolist())"
   ]
  },
  {
   "cell_type": "markdown",
   "id": "153e0121",
   "metadata": {},
   "source": [
    "Connecting to Neo4j"
   ]
  },
  {
   "cell_type": "code",
   "execution_count": 13,
   "id": "c59d645c",
   "metadata": {},
   "outputs": [],
   "source": [
    "load_dotenv()\n",
    "\n",
    "# Neo4j variables\n",
    "NEO4J_URL = os.getenv(\"NEO4J_URL\")\n",
    "NEO4J_USERNAME =os.getenv(\"NEO4J_USERNAME\")\n",
    "NEO4J_PASSWORD = os.getenv(\"NEO4J_PASSWORD\")\n",
    "\n",
    "#Connecting to the graph\n",
    "graph = Neo4jGraph(\n",
    "    url=NEO4J_URL,\n",
    "    username=NEO4J_USERNAME,\n",
    "    password=NEO4J_PASSWORD\n",
    ")"
   ]
  },
  {
   "cell_type": "markdown",
   "id": "e9d9f92c",
   "metadata": {},
   "source": [
    "Criando embeddings para as teses"
   ]
  },
  {
   "cell_type": "code",
   "execution_count": 7,
   "id": "840cc0b8",
   "metadata": {},
   "outputs": [],
   "source": [
    "#Quering the thesis from graph unsing Cypher\n",
    "result = graph.query(\"\"\"\n",
    "MATCH (thesis:Thesis)\n",
    "RETURN thesis.uri, thesis.title, thesis.abstract\n",
    "\"\"\")"
   ]
  },
  {
   "cell_type": "code",
   "execution_count": 137,
   "id": "860e2870",
   "metadata": {},
   "outputs": [
    {
     "name": "stdout",
     "output_type": "stream",
     "text": [
      "Batch number:  3\n",
      "Batch number:  6\n",
      "Batch number:  9\n",
      "Batch number:  12\n"
     ]
    }
   ],
   "source": [
    "### Transformamos o resultado em um DataFrame e CSV.\n",
    "\n",
    "try:\n",
    "    embedding_csv = pd.read_csv('data/embedding_openai_1.csv') \n",
    "    #with open('data/embeddings_BERT.json', 'r') as fp:\n",
    "    #with open('data/embeddings_openai.json', 'r') as fp:\n",
    "    #    dic_embeddings = json.load(fp)\n",
    "\n",
    "except:\n",
    "    embedding_csv = pd.DataFrame(data={'uri':[], 'embeddings': []})\n",
    "    #dic_embeddings = {}\n",
    "\n",
    "batch_size = 3\n",
    "n = 0\n",
    "\n",
    "texts_list = []\n",
    "thesis_uri = []\n",
    "embeddings = []\n",
    "\n",
    "for thesis in result[:12]:\n",
    "    n = n + 1   \n",
    "\n",
    "    texts_list.append(str(thesis['thesis.title']) + '\\n   \\n' + str(thesis['thesis.abstract']))\n",
    "    thesis_uri.append(thesis['thesis.uri'])\n",
    "\n",
    "    if n % batch_size == 0:\n",
    "        print (\"Batch number: \", n)\n",
    "        embs_list = get_embeddings_openAI(texts_list)\n",
    "\n",
    "        for i in range(len(thesis_uri)):\n",
    "            #dic_embeddings[thesis_uri[i]] = embs_list[i].embedding\n",
    "            embeddings.append(embs_list[i].embedding)\n",
    "\n",
    "        #with open('data/embeddings_BERT.json', 'w') as fp:\n",
    "        #with open('data/embeddings_openai.json', 'w') as fp:\n",
    "        #    json.dump(dic_embeddings, fp)\n",
    "\n",
    "        embedding_csv_batch = pd.DataFrame(data={'uri':thesis_uri, 'embeddings': embeddings})\n",
    "        embedding_csv = pd.concat([embedding_csv, embedding_csv_batch], ignore_index=True)\n",
    "        embedding_csv.to_csv('data/embedding_openai_1.csv', index=False)\n",
    "        #embedding_csv.to_csv('data/embedding_BERT.csv', index=False)\n",
    "\n",
    "        texts_list = []\n",
    "        thesis_uri = []\n",
    "        embeddings = []\n",
    "\n",
    "if embeddings != []:\n",
    "    print (\"Batch number: \", n)\n",
    "    embs_list = get_embeddings_openAI(texts_list)\n",
    "\n",
    "    for i in range(len(thesis_uri)):\n",
    "        #dic_embeddings[thesis_uri[i]] = embs_list[i].embedding\n",
    "        embeddings.append(embs_list[i].embedding)\n",
    "\n",
    "    #with open('data/embeddings_BERT.json', 'w') as fp:\n",
    "    #with open('data/embeddings_openai.json', 'w') as fp:\n",
    "    #    json.dump(dic_embeddings, fp)\n",
    "\n",
    "    embedding_csv_batch = pd.DataFrame(data={'uri':thesis_uri, 'embeddings': embeddings})\n",
    "    embedding_csv = pd.concat([embedding_csv, embedding_csv_batch], ignore_index=True)\n",
    "    embedding_csv.to_csv('data/embedding_openai_1.csv', index=False)\n",
    "    #embedding_csv.to_csv('data/embedding_BERT.csv', index=False)"
   ]
  },
  {
   "cell_type": "code",
   "execution_count": null,
   "id": "8fe68aef",
   "metadata": {},
   "outputs": [],
   "source": [
    "# Usando cypher para ler o arquivo CSV\n",
    "graph.query(\"\"\"\n",
    "    LOAD CSV WITH HEADERS\n",
    "    FROM 'file:///C:/Users/facordei/OneDrive%20-%20Capgemini/Documents/GitHub/Indigenous-Slavery-KG/data/embedding_openai.csv' AS row\n",
    "    MATCH (n:Thesis) Where n.uri = row.uri\n",
    "    CALL db.create.setNodeVectorProperty(n, 'embedding_openai', apoc.convert.fromJsonList(row.embeddings))\n",
    "    \"\"\")"
   ]
  },
  {
   "cell_type": "markdown",
   "id": "795770f0",
   "metadata": {},
   "source": [
    "Criando embedding para as páginas (Excerpts)"
   ]
  },
  {
   "cell_type": "code",
   "execution_count": 14,
   "id": "5f4a5394",
   "metadata": {},
   "outputs": [],
   "source": [
    "#Quering the excerpts from graph unsing Cypher\n",
    "result = graph.query(\"\"\"\n",
    "MATCH (excerpt:Excerpt)\n",
    "RETURN excerpt.uri, excerpt.description\n",
    "\"\"\")"
   ]
  },
  {
   "cell_type": "code",
   "execution_count": 16,
   "id": "2796900a",
   "metadata": {},
   "outputs": [
    {
     "name": "stdout",
     "output_type": "stream",
     "text": [
      "Batch number:  100\n",
      "Batch number:  200\n",
      "Batch number:  300\n",
      "Batch number:  400\n",
      "Batch number:  500\n",
      "Batch number:  600\n",
      "Batch number:  700\n",
      "Batch number:  800\n",
      "Batch number:  900\n",
      "Batch number:  1000\n",
      "Batch number:  1100\n",
      "Batch number:  1200\n",
      "Batch number:  1300\n",
      "Batch number:  1400\n",
      "Batch number:  1500\n",
      "Batch number:  1600\n",
      "Batch number:  1700\n",
      "Batch number:  1800\n",
      "Batch number:  1900\n",
      "Batch number:  2000\n",
      "Batch number:  2100\n"
     ]
    }
   ],
   "source": [
    "### Transformamos o resultado em um DataFrame e CSV.\n",
    "\n",
    "try:\n",
    "    embedding_csv = pd.read_csv('data/embedding_openai_excerpts.csv') \n",
    "    #with open('data/embeddings_BERT.json', 'r') as fp:\n",
    "    #with open('data/embeddings_openai.json', 'r') as fp:\n",
    "    #    dic_embeddings = json.load(fp)\n",
    "\n",
    "except:\n",
    "    embedding_csv = pd.DataFrame(data={'uri':[], 'embeddings': []})\n",
    "    #dic_embeddings = {}\n",
    "\n",
    "batch_size = 100\n",
    "n = 0\n",
    "\n",
    "texts_list = []\n",
    "excerpt_uri = []\n",
    "embeddings = []\n",
    "\n",
    "for excerpt in result:\n",
    "    n = n + 1   \n",
    "\n",
    "    texts_list.append(str(excerpt['excerpt.description']))\n",
    "    excerpt_uri.append(excerpt['excerpt.uri'])\n",
    "\n",
    "    if n % batch_size == 0:\n",
    "        print (\"Batch number: \", n)\n",
    "        embs_list = get_embeddings_openAI(texts_list)\n",
    "\n",
    "        for i in range(len(excerpt_uri)):\n",
    "            #dic_embeddings[excerpt_uri[i]] = embs_list[i].embedding\n",
    "            embeddings.append(embs_list[i].embedding)\n",
    "\n",
    "        #with open('data/embeddings_BERT.json', 'w') as fp:\n",
    "        #with open('data/embeddings_openai.json', 'w') as fp:\n",
    "        #    json.dump(dic_embeddings, fp)\n",
    "\n",
    "        embedding_csv_batch = pd.DataFrame(data={'uri':excerpt_uri, 'embeddings': embeddings})\n",
    "        embedding_csv = pd.concat([embedding_csv, embedding_csv_batch], ignore_index=True)\n",
    "        embedding_csv.to_csv('data/embedding_openai_excerpts.csv', index=False)\n",
    "        #embedding_csv.to_csv('data/embedding_BERT.csv', index=False)\n",
    "\n",
    "        texts_list = []\n",
    "        excerpt_uri = []\n",
    "        embeddings = []\n",
    "\n",
    "if embeddings != []:\n",
    "    print (\"Batch number: \", n)\n",
    "    embs_list = get_embeddings_openAI(texts_list)\n",
    "\n",
    "    for i in range(len(excerpt_uri)):\n",
    "        #dic_embeddings[thesis_uri[i]] = embs_list[i].embedding\n",
    "        embeddings.append(embs_list[i].embedding)\n",
    "\n",
    "    #with open('data/embeddings_BERT.json', 'w') as fp:\n",
    "    #with open('data/embeddings_openai.json', 'w') as fp:\n",
    "    #    json.dump(dic_embeddings, fp)\n",
    "\n",
    "    embedding_csv_batch = pd.DataFrame(data={'uri':excerpt_uri, 'embeddings': embeddings})\n",
    "    embedding_csv = pd.concat([embedding_csv, embedding_csv_batch], ignore_index=True)\n",
    "    embedding_csv.to_csv('data/eembedding_openai_excerpts.csv', index=False)\n",
    "    #embedding_csv.to_csv('data/embedding_BERT.csv', index=False)\n",
    "\n"
   ]
  },
  {
   "cell_type": "code",
   "execution_count": 17,
   "id": "7b50bec4",
   "metadata": {},
   "outputs": [
    {
     "data": {
      "text/plain": [
       "[]"
      ]
     },
     "execution_count": 17,
     "metadata": {},
     "output_type": "execute_result"
    }
   ],
   "source": [
    "# Usando cypher para ler o arquivo CSV\n",
    "graph.query(\"\"\"\n",
    "    LOAD CSV WITH HEADERS\n",
    "    FROM 'file:///C:/Users/facordei/OneDrive%20-%20Capgemini/Documents/GitHub/Indigenous-Slavery-KG/data/embedding_openai_excerpts.csv' AS row\n",
    "    MATCH (n:Excerpt) Where n.uri = row.uri\n",
    "    CALL db.create.setNodeVectorProperty(n, 'embedding_openai', apoc.convert.fromJsonList(row.embeddings))\n",
    "    \"\"\")"
   ]
  },
  {
   "cell_type": "code",
   "execution_count": 20,
   "id": "5e2a7cf4",
   "metadata": {},
   "outputs": [
    {
     "data": {
      "text/plain": [
       "'3072'"
      ]
     },
     "execution_count": 20,
     "metadata": {},
     "output_type": "execute_result"
    }
   ],
   "source": [
    "str(dimension)"
   ]
  },
  {
   "cell_type": "code",
   "execution_count": 24,
   "id": "2f8d6307",
   "metadata": {},
   "outputs": [
    {
     "data": {
      "text/plain": [
       "[]"
      ]
     },
     "execution_count": 24,
     "metadata": {},
     "output_type": "execute_result"
    }
   ],
   "source": [
    "# Criando um indice de vetores\n",
    "\n",
    "dimension = len(get_embeddings_openAI('texto de teste')[0].embedding)\n",
    "\n",
    "# Criando uma label \"Document\" para os nós \"Thesis\" e \"Excerpt\"\n",
    "graph.query(\"\"\"\n",
    "    match (n:Thesis|Excerpt) SET n:Document\n",
    "    \"\"\")\n",
    "\n",
    "# Creating a vector index\n",
    "graph.query(\"\"\"\n",
    "    CREATE VECTOR INDEX Thesis_Embeddings IF NOT EXISTS\n",
    "    FOR (n:Document)\n",
    "    ON n.embedding_openai\n",
    "    OPTIONS {indexConfig: {\n",
    "    `vector.dimensions`: \"\"\" + str(dimension) + \"\"\",\n",
    "    `vector.similarity_function`: 'cosine'}}\n",
    "    \"\"\")\n"
   ]
  },
  {
   "cell_type": "code",
   "execution_count": null,
   "id": "1bd3e178",
   "metadata": {},
   "outputs": [
    {
     "data": {
      "text/plain": [
       "[]"
      ]
     },
     "execution_count": 165,
     "metadata": {},
     "output_type": "execute_result"
    }
   ],
   "source": [
    "# Criand o indice Full Text\n",
    "\n",
    "graph.query(\"\"\"\n",
    "    CREATE FULLTEXT INDEX Thesis_fulltext IF NOT EXISTS FOR (n:Thesis|Excerpt) ON EACH [n.title, n.abstract, n.description]\n",
    "    \"\"\")"
   ]
  },
  {
   "cell_type": "markdown",
   "id": "312b3bc0",
   "metadata": {},
   "source": [
    "Buscando teses com vetores similares a um determinado texto"
   ]
  },
  {
   "cell_type": "code",
   "execution_count": 40,
   "id": "bb48fb28",
   "metadata": {},
   "outputs": [],
   "source": [
    "#texto que será usado na busca\n",
    "#query_text = 'Nelson Mandela'\n",
    "personagem = 'Abdias Nascimento'\n",
    "query_text = 'Quem trabalhou com ' + personagem + ' ?'\n",
    "# Transformando as query em vetor\n",
    "#query_embedding = get_embeddings(query_text)\n",
    "query_embedding = get_embeddings_openAI(query_text)[0].embedding\n"
   ]
  },
  {
   "cell_type": "code",
   "execution_count": 41,
   "id": "e745a9fb",
   "metadata": {},
   "outputs": [
    {
     "data": {
      "text/plain": [
       "[{'score': 0.827033281326294,\n",
       "  'node.title': None,\n",
       "  'node.abstract': None,\n",
       "  'node.description': ' à produção literária. Nesse sentido Oliveira \\nSilveira, assim como Abdias, era um profundo conhecedor  da estrutura racista da sociedade \\nbrasileira, e assim como ele, atuou em muitas frentes para o seu desmonte.  \\nAbdias atuou dentro e fora do âmbito partidário, e sua trajetória artística e intelectual \\nsempre se deu concomitante à política. Como já referido anteriormente, na década de 1930 ele \\n 141 \\n \\n \\n integrou a Frente Negra Brasileira, na de 1950 candidatou -se a vereador (PTB)138 e na de 1960 \\na deputado estadual (PTB); após exílio, retomou a atividade partidária nos anos 1980, quando \\nexerceu o mandato de deputado federal (PDT) de 1983 -1986 e se reelegeu para o exercício \\n1987 -1990, já nos 1990 foi senador da república no período en tre 1997 e 1999; em todas suas \\ncandidaturas concorreu pelo estado do Rio de Janeiro. Chegou a fazer “dobradinha ” com Lélia \\nGonzalez na campanha política de 1986:  \\n \\nFigura 34 - Panfleto político de 1986  \\n \\nFonte: Itaú Cultural (2016)  \\n \\nEm 1991, como Secretário Extraordinário para Defesa e Promoção das Populações \\nAfro -Brasileiras (Sedepron), Abdias Nascimento recebe Nelson Mandela no Brasil, quando de \\nsua visita ao governador Leonel Brizola.  \\n \\nFigura 35 - Abdias Nascimento com Nelson Mandela  \\n \\nFonte: Itaú Cultural (2016)  \\n \\nNessa mesma ocasião, o governador do Rio Grande do Sul (1991 -1994), do PDT, \\ntambém esteve com Mandela, que acabara de ser libertado. Era Alceu Colares, o primeiro \\n \\n138 Partido Trabalhista Brasileiro.  \\n\\n 142 \\n \\n \\n político negro a ser eleito prefeito de Porto Alegre, em 1986. Nascido em Bagé, oriundo de uma \\nfamília pobre, tornou -se advogado, servidor público e político, chegando à vereança pelo PTB \\nna capital em 1963, antes do golpe militar de 1964.  \\n \\nFigura 36 - Alceu Collares com Nelson Mandela em 1991 na cidade do Rio de Janeiro  \\n \\nFonte: Wikipedia (2022)  \\n \\nPrimeiro governante amefrican'},\n",
       " {'score': 0.8197193145751953,\n",
       "  'node.title': None,\n",
       "  'node.abstract': None,\n",
       "  'node.description': '                                       \\n85 NASCIMENTO, Elisa Larkin. Abdias Nascimento . Brasília: S enado F ederal, 2014. (Coleção Grandes Vultos \\nque hora ram o Sen ado). \\n86 Ibid. \\n87 Ibid. \\n88 OLIVEIRA, Laiana Lannes. Entre a miscigenação e a multirracializa ção: brasileiros negros ou negros \\nbrasileiros?  2008. Tese (Doutorado em Histór ia) – Universidade Federal Fluminense, Niterói,  2008.  \\n 41 \\nabril de sse ano, ainda chefiou a campanha de auxílio financeiro a Plínio Salgado após o \\nputsch de 1938. Não se ressen tiu de sua ligação com os camisa s-verdes , afirmando que o \\nintegralismo foi:  \\n \\nUma r ica escola de vida o nde comecei a entend er realmente d e arte, literatura, \\neconomia, educação, defesa nacional; a realidade social, econômica e política do \\npaís e as implicações internacionais que o envolvi am. A juventude integralista \\nestudava muito e com s eriedade [...].89  \\n \\nAinda em 1938, Nasc imento foi a Campin as, onde organizou, com outros ativistas, o \\nCongresso Afro -Campineiro, em que foram feitas palestras sobre poesia e literatura negra, \\nalém de questõ es relacionadas à desigualdade e discriminação. Ali  conheceu Aguinaldo \\nCamargo, outr a importante lideranç a do TEN. O que chama a atenção nes se evento foi o \\njuramento final dos participantes do Congresso em revalorizar a identidade africana, que era \\npreteri da em favor de uma identificação puramente nacional  na FNB. Es se tema s erá \\naprofundado no TEN com relevant e contribuição de Ironides Rodrigues.  \\nDe volta ao Rio de Janeiro, Nascimento reencontr ou-se com dois amigos que foram \\nmilitantes integralistas: os poe tas Gerardo Mello Mourão e Napoleão Lopes Filho. Com a \\nchegada de três arg entinos, Efraín Tomás Bó, Juan R aúl Young  e Godofredo Tito Iommi, \\nformou -se um grupo que foi batizado de Santa Hermandad de la Orquidea, em que \\ndesenv olveram intensa convivência soci al e intelectual. Com espírito aventureiro, os amig os \\ndecidiram viajar pel a Amazônia e pela América do Su l. Jornali stas e poetas, os orquideanos \\nconseguiram sobreviver no Pará e no Amazonas, graças a sua “pose” intelectual, recebendo \\ndiversos convites para  conferências e palestras. A certa altura, chegaram  ao Peru.  \\nO ano era 1941, e os orquideanos  assistiram à peça O Imperador Jones , de autoria do \\ndramaturgo norte -americano Eugene O’Neill, no Teatro Municipal de Lima. Para o espanto de \\nAbdias, o protagonist a da peça, um homem negro, era representado por um ator branco, \\npintado de negro:  \\n \\nPor que um branco broc hado de ne gro? Pela inexistência de um intérprete dessa \\nraça? Entretanto, lembrava que, em meu país, onde mais de vinte milhões de negros \\nsomavam quase  a metade de sua população de sessenta milhões de h abitantes, na \\népoca,  jamais assistira a um espetáculo c ujo papel  principal tivesse sido \\n                                                           \\n89 NASCIMENTO apud NASCIMEN TO, Elisa Larkin. Abdias Nasc imento. Brasília: Senado Federal, 2014. \\n(Coleção Grandes Vultos  que horaram o Senado).  p. 131.  \\n 42 \\nrepresentado por um artista da minha cor. Não seria, então, o Brasil, uma verdadeira \\ndemocracia racial?90 \\n \\nNascimento lamentava que aos negros eram destinados apenas pap éis menores n as \\npeças, sendo retratados quase sempre d e forma caricatural e , muitas vezes , pejorativa. De \\nregresso ao Brasil, fundou em 1944 o TEN , entidade aberta “ao prota gonismo do negro, onde \\nele ascen desse da'},\n",
       " {'score': 0.8132126331329346,\n",
       "  'node.title': None,\n",
       "  'node.abstract': None,\n",
       "  'node.description': 'Ironides Rodrigues ali desenvolveu, julga -se necessário se deter brevemente sobre a \\ntrajetória de Nas cimento.  \\n                                                           \\n82 DOMINGUES, Petrôni o. O “messias” negro? Arlindo Veiga dos Santos  (1902- 1978): “Viva a nova \\nmonarquia brasileira; Viva Dom Pedro II!”. Varia História , v. 22, p. 517 -536, 2006.  \\n83 Ibid., p. 534.  \\n84 Ibid., p. 535.  \\n 40 \\nPara falar da trajetória de Nascimento, utiliza -se a biografia escrita por sua esposa, a \\nprofessora Elis a Larkin Nascimento.85 Apesar de seu texto conter um caráter afetivo, tal obra \\nmostra -se de grande utilidade nos subsídios biográficos que of erece para  melhor delinear a \\natuação do fundador do TEN.  \\nAbdias Nascimento nasceu em Franca, interior de São Paulo,  em 1914. Filho de um \\nsapateiro e de uma cozinheira, desde criança presenciou o racism o da sociedade em que vivia. \\nNo curso secundário, form ou-se em contabilidade na Escola de Comércio da cidade natal. Aos  \\n16 anos, deixou Franca rumo a São Paulo, onde cons eguiu alistar -se no Exército graças a um \\ndocumento adulterado. Serviu no exército entr e 1930 e 1936. Em 1932, já promovido a cabo \\n(promoção que se dev eu em grande parte ao seu diploma em contabil idade), participou dos \\nembates da Revolução Constitucionalist a, em que foi ferido com um tiro . Nes sa época, \\nconheceu Sebastião Rodrigues Alves, out ra importante lideran ça negra e membro do TEN. \\nApesar de ter sof rido discriminação racial durante toda sua vida, Larkin Nascimento86 expõe  \\nque ainda não havia no jovem mil itar uma clara consciência racial, o que muda de figura \\nquando Abdias toma conhecimento do Centro Cívico C ampineiro, organização de jovens \\nnegros de Campinas , e principalmente da FNB . Como era militar, Nascimento não p ôde \\nparticipar formalmente da FNB , entretanto, participava de seus des files e atos públicos, tendo \\nconhecimento de suas bandeiras.  \\nSegundo Elisa Larkin Nascimento87, o primeiro  contato que Abdias Na scimento teve \\ncom Plínio Salgado se deu com o Manifesto  da Legião Revolucionária, redigido em 1931 pelo \\nfuturo líder integralista . A partir de 1934, Nascimento e Rodrigues Alves pa rticiparam de \\ndesfile s e atos públicos da AIB, tendo p articipa do de iniciativas sociais promovidas pelo \\nmovimento, a que se ligaram , principalmente , devido ao nacionalismo que lhes era caro. Após \\nseu desli gamento do Exército em 1936, Nascimento partiu para  o Rio de Janeiro e s obreviveu \\nde trabalhos eventuais,  como revi sor no jornal O Radical , até engajar -se de forma regular no \\nperiódico integralista A Offensiva . Nes se jornal, entrevistou diversas personalidades \\nintelectuais, com quem tirava fotos para ilustrar as matérias. Como  as fotos nunca eram \\npublicadas, Nascimento  percebeu o racismo no integralismo e se desligou do movimento em \\nfins de 1936. Oliveira88 aponta que a militâ ncia integralista de Nascimento foi mais longa: \\ncondenado em 1938 por panfletagem c om os integralistas,  foi preso. Após sua libertação, em \\n                                                           \\n85 NASCIMENTO, Elisa Larkin. Abdias Nascimento . Brasília: S enado F ederal, 2014. (Coleção Grandes Vultos \\nque hora ram o Sen ado). \\n86 Ibid. \\n87 Ibid. \\n88 OLIVEIRA, Laiana Lannes. Entre a miscigenação e a multirracializa ção: brasileiros negros ou negros \\nbrasileiros?  2008. Tese (Doutorado em Histór ia) – Universidade Federal Fluminense, Niterói,  2008.  \\n 41 \\nabril de sse ano, ainda chefiou a campanha de auxílio financeiro a Plínio Salgado após o \\nputsch de 1938. Não se ressen tiu de sua ligação com os camisa s-verdes , afirmando que o \\nintegralismo foi:  \\n \\nUma r ica escola de vida o nde comecei a entend er realmente d e arte, literatura, \\neconomia, educação, defesa nacional; a realidade social, econômica e política do \\npaís e as implicações inter'},\n",
       " {'score': 0.8057558536529541,\n",
       "  'node.title': 'Um representante de Palmares no Congresso Nacional: atuação política de Abdias Nascimento, do Atlântico negro às instituições do Estado brasileiro (1983-1999)',\n",
       "  'node.abstract': 'Esta tese analisou a atuação política de Abdias Nascimento (1914-2011), principalmente a partir da sua atividade como deputado federal (1983-1987) e senador da República (1991; 1997-1999). Nome incontornável quando se trata das questões raciais no país, ele ocupou um lugar de muito destaque no protesto negro durante a sua vida. A carreira política integrou um capítulo da sua longeva militância e, por isso, optamos por centrar nossas análises em sua trajetória enquanto representante eleito pela população sem a pretensão de produzir um estudo biográfico definitivo. Ao longo deste trabalho, assumimos o entendimento de Abdias Nascimento, enquanto parlamentar, adotou um posicionamento estratégico no combate ao racismo. Filiado ao Partido Democrático Trabalhista (PDT), conduziu, a partir de 1983, discussões de temas para a promoção da igualdade racial no interior do Congresso Nacional. O problema central da pesquisa que apresentamos está situado no campo político e consiste na tensão permanente entre os sujeitos racializados – representados por Nascimento – e o Estado nacional brasileiro, a exemplo da ocorrência de relações conflituosas sempre que o debate racial era pautado, a fim de que se pudessem efetivar as garantias fundamentais de uma cidadania plena. Em seus mandatos, Nascimento levou a agenda antirracista – historicamente centrada na militância e ligada aos movimentos sociais – para o centro do poder legislativo. A tese que defendemos é a de que a sua identidade política se formou nos trânsitos pelo Atlântico negro – espaço conceituado por Paul Gilroy (2012) – por meio do acúmulo de experiências políticas, estéticas e intelectuais, sob uma perspectiva transnacional e em tensão com a nacionalidade. Durante a representação do seu mandato, identificamos os limites impostos à sua atuação e a incompatibilidade entre os seus argumentos e os de outros parlamentares, o que evidenciou os conflitos estruturais de manutenção das desigualdades raciais dentro das instituições brasileiras. Essa situação refreou e ainda refreia o reconhecimento da cidadania da população negra no Brasil. Para a realização deste trabalho, utilizamos como fontes os discursos de Abdias na Câmara e no Senado, e mobilizamos arranjos teóricos da História política e do debate racial promovido pela Sociologia, além de referências que analisam o impacto da modernidade ocidental nas manifestações do racismo e na existência dos sujeitos racializados.',\n",
       "  'node.description': None},\n",
       " {'score': 0.8036542534828186,\n",
       "  'node.title': None,\n",
       "  'node.abstract': None,\n",
       "  'node.description': 'tude, político, professor universitário, pintor, escritor. Uma passagem da vida de Abdias \\nNascimento evidencia seu pioneirismo, antes do Teatro do Oprimido surgir na segunda metade do século XX, e \\nda própria fundação do TEN, ele cri ou o Teatro do Sentenciado,  em 1942, quando cumpriu uma condenação à \\nrevelia na Penitenciária do Carandiru. Nesta experiência, os presos foram autores e atores.  \\n\\n 163 \\n \\n \\n Figura 54 - Abdias Nascimento como Othelo  (1946)  \\n \\nFonte: Geledés (2011)  \\n \\nA militância de Abdias pelos direitos civis dos afro -brasileiros, desde antes de sua \\nentrada no teatro, fez com que ele transformasse o palco num território privilegiado para a \\ndiscussão social, cuja centralidade está no afro -brasileiro e sua luta contra o  racismo: “deixou \\num legado, ideológico e estético, que se estende até hoje, [...] O TEN correu o risco de se \\ntransformar em panfleto, mas escapou: fez teatro na expressão mais lídima do termo ” (Santos, \\n2014, p. 133).  \\nO surgimento do TEN representou um ponto de inflexão sobre o racismo presente no \\nteatro brasileiro ao reconfigurar o lugar de negro  (Gonzalez; Hasenbalg , 1982), que se \\nreservava no âmbito social e cultural da nação. Ao denunciar a falta de protagonismo do negro \\nna dramaturgia e no palco, rompeu com um corolário de imagens estereotipadas, amplamente \\ndifundidas no teatro nacional no final na segunda metade do século anterior. Nesse sentido, tal \\ncoletivo de artistas e intelectuais negros ultrapassa o lugar que o branco lhe reservou e funda, a \\npartir de e em si, outro lugar, conforme palavras de Elisa Larkin Nascimento (2009):  \\n \\nQuando Joel Rufino afirma que para Guerreiro Ramos o negro não é raça, e sim um \\nlugar (Santos, 1998[1995]), ele capta o modo como os intelectuais do TEN \\nanteciparam um dos princípios básicos da afrocentralidade [...]. Somente de um lugar \\ncentrado na experi ência própria dos povos africanos é possível, no contexto social do \\nsupremacismo branco, perceber a brancura com etnicidade específica [...] \\n(Nascimento, 2009, p. 190) . \\n \\nO TEN configurou -se como uma reação cultural de empoderamento da cidadania negra \\nno campo do teatro e da sociedade brasileira, pois “todo povo no seio do qual nasceu um \\n\\n 164 \\n \\n \\n complexo de inferioridade devido ao sepultamento de sua originalidade cultural — toma \\nposição diante da linguagem da nação civilizadora, isto é, da cultura metropolitana ” (Fanon , \\n2008, p. 34). Assim, “o negro marca a sua presença , conduzindo o teatro em novas direções, \\npropondo novos liames entre a vida e a arte ” (Fernandes , 1972, p. 197, grifo do autor). O \\ntrabalho levado a cab'}]"
      ]
     },
     "execution_count": 41,
     "metadata": {},
     "output_type": "execute_result"
    }
   ],
   "source": [
    "# Buscando no índice de vetores \n",
    "result = graph.query(\"\"\"\n",
    "    CALL db.index.vector.queryNodes('Thesis_Embeddings', 5, \"\"\" + str(query_embedding) + \"\"\")\n",
    "    YIELD node, score\n",
    "    RETURN score, node.title, node.abstract, node.description\n",
    "    \"\"\")\n",
    "result"
   ]
  },
  {
   "cell_type": "markdown",
   "id": "64ec9328",
   "metadata": {},
   "source": [
    "Buscando usando full text search"
   ]
  },
  {
   "cell_type": "code",
   "execution_count": 42,
   "id": "f435b5a4",
   "metadata": {},
   "outputs": [
    {
     "data": {
      "text/plain": [
       "[{'score': 17.276535034179688,\n",
       "  'node.title': 'Quem disse que Exu não monta? Abdias Nascimento, o cavalo do santo no terreiro da história',\n",
       "  'node.abstract': 'This work addresses the mystical experience between Adbias Nascimento (1914-2011) and his relationship with the orixá Exu in the context of mystical patronage. Using the metaphor “saint’s horse” (“cavalo do santo”) we investigated the vital place that orixá occupied into Abdias’ long-lived and multifaceted trajectory (political, theater, painting, poetry etc.) To think about the mystique (or “mystical biography”) under the African and diasporic approach implied to acess other geographies, logics, rationalities and epistemologies. We start from the assumption that the decolonization of minds’ process requires, within the Afro-Brazilian context, the work of decolonization of mystics. In Brazil, Abdias is an iconic figure with regard to combat racism and simulacrum, the “myth of racial democracy”. But, Abdias’ trajectory was not simply the intermittent combat against the genocide of the black population; the scholar and activist was a persistent defender and propagator of African diasporic history and it’s cultural and religious values. From a catholic cradle, Abdias converted to candomblé where he found the ancestral sap that fecundated his life. Thus, the trajectory of the scholar and black activist is not explained outside the religious afro-diasporics referentials. From a Catholic crib, Abdias converted to candomblé where he found the ancestral sap that fecundated his life. In this way, the trajectory of the intellectual and black scholarship is not explained by Afro-diasporic religious references. The orixás filled the life of the mystic-fighter of power, charm and dynamism; and Exu, unmistakably, constuted the force and motive force of all its multifaceted and polyphonic existence. His death was celebrated with the honor of a hero and an ancestor. Its ashes were deposited in Serra da Barriga - in Quilombo dos Palmares. We defend, therefore, in our work, that the heroic vision of the revolted Negro, or as it has also been called, the \"angry Quixote\", rests on a religious basis, which can put Abdias Nascimento, considered under the lens of religiosity, in the role of great mysteries of the history of humanity',\n",
       "  'node.description': None},\n",
       " {'score': 16.07049560546875,\n",
       "  'node.title': 'O pensamento social e político na obra de Abdias do Nascimento',\n",
       "  'node.abstract': 'A presente dissertação tem como tema o pensamento social e político na obra de Abdias do Nascimento. A ideia que norteia este trabalho visa demonstrar a importância da produção intelectual de Abdias do Nascimento no quadro analítico do pensamento social brasileiro. A pesquisa busca apresentar, a partir de sua obra, a forma peculiar como este intelectual compreende os fenômenos sociais no seio da sociedade brasileira. Dono de um estilo próprio de escrita, Nascimento foi um crítico contumaz da estrutura social do país, alicerçada no processo escravagista. O que este trabalho propõe é que se pense sua obra para além do militantismo, já bastante analisado por diversos autores. Pretende-se evidenciar, ao longo do texto, a forma como esse modelo analítico é produzido. Primeiro, com a crítica a um padrão genocida de organização da sociedade, que de forma sutil busca subtrair as possibilidades de acesso aos afrodescendentes, jogando-os à marginalidade dos processos sociais estabelecidos no país desde a constituição do sistema escravagista e após sua supressão. Em seguida a ideia é explorar, de forma sociológica, o significado do quilombismo como modelo de (re) organização social.',\n",
       "  'node.description': None},\n",
       " {'score': 15.15904426574707,\n",
       "  'node.title': 'O negro como tema e sujeito na produção intelectual de Abdias do Nascimento, 1944-1968',\n",
       "  'node.abstract': 'Esta dissertação tem o objetivo de estudar como o negro é pensado e representado na produção intelectual de Abdias Nascimento no período em que esteve à frentedoTeatro Experimental do Negro (1944-1968).Para fins elucidativos recorreremos a fatos que antecederam, e sucederam esteperíodo. No entanto, situaremos o autor no contexto histórico e socialdo pós-Estado Novo ao Ato InstitucionalN°5, e analisaremos a construção de seu pensamento sobre as relações raciais no Brasil, e sua militânciaantirracismo, a partir de correntes intelectuais, políticas e ideológicas que o influenciaram. Discorreremos sobre como a noção de uma identidade cultural negra é construída no discurso de Abdias Nascimento neste período de mudanças sobre as formas de pensar as relações raciais no Brasil.',\n",
       "  'node.description': None},\n",
       " {'score': 14.227256774902344,\n",
       "  'node.title': 'TEN, Abdias do Nascimento e Rosário Fusco : a (re)construção da personagem negra no teatro brasileiro',\n",
       "  'node.abstract': 'O presente trabalho tem por finalidade o estudo das peças Sortilégio \\x96 Mistério Negro (1951), Sortilégio II \\x96 Mistério de Zumbi Redivivo (1979), ambas de Abdias do Nascimento (1914-2011), e Auto da Noiva (1946), autoria de Rosário Fusco (1910-1977), com enfoque na representação da cultura afro-brasileira e das narrativas míticas representadas pelos Orixás e na reconstrução da personagem negra nesse contexto. As peças Sortilégio \\x96 Mistério Negro e Auto da Noiva integram, juntamente com outras sete peças, a antologia de teatro negro brasileiro Drama para negros e prólogo para brancos (1961), a primeira coletânea de produções dramatúrgicas brasileira que colocou o negro, sua cultura e suas aspirações como foco das peças teatrais. Já a peça Sortilégio II trata-se de uma reescrita do primeiro Sortilégio, após 28 anos, na qual o autor revisa detalhes que acentuam o engajamento do mistério negro. As peças em questão foram escritas para o Teatro Experimental do Negro (TEN), movimento fundado em 1944 pelo próprio Abdias do Nascimento, o qual visava introduzir o negro e sua identidade cultural na cena brasileira, como também expor os conflitos e limitações impostas a esta classe pela elite conservadora, através do ponto de vista do oprimido. Desse modo, a partir do marco que foi o TEN, pretende-se, na presente dissertação discutir como são representadas as identidades culturais do novo modelo de personagem negra no teatro brasileiro, a partir das análises das peças de Nascimento e da peça de Fusco, principalmente a relação da cena e das ações com a religiosidade afro e com os Orixás. Considerando a temática abordada pelas referidas peças, a autoria, o lugar de enunciação e os recursos linguísticos empregados, também é incumbência do presente trabalho contextualizar as obras selecionadas para análise, a partir dos estudos e dos conceitos sobre literatura afro-brasileira, principalmente os postulados por Eduardo de Assis Duarte (2011). Por configurar um novo modelo de personagem negra no teatro e na dramaturgia brasileira, o TEN não foi recebido positivamente pela crítica e, consequentemente, pelos membros da comunidade, uma vez que para estes não se justificava a fundação de um teatro de negros com tais propósitos, pois o Brasil era visto como um país em que o racismo não existia. Assim sendo, o presente trabalho também propõe evidenciar o impacto causado pela criação do TEN e sua recepção pela crítica, através das publicações do jornal Quilombo: Vida, problemas e aspirações do negro e dos trabalhos da pesquisadora Elisa Larkin Nascimento (2003). Considerando os recursos dramatúrgicos utilizados por Nascimento e Fusco em suas peças, a presente pesquisa destaca nas referidas produções aspectos inerentes ao Teatro Político (BOAL, 2013) e ao Teatro Épico (BRECHT, 1967), os quais são empregados de maneira a suscitar no público a necessidade de transformação social, uma vez que são capazes de levar os sujeitos a refletirem e a tomarem consciência dos contrassensos compartilhados pelo meio, que no caso das peças do TEN, está relacionado à condição social imposta aos afro-brasileiros.',\n",
       "  'node.description': None},\n",
       " {'score': 14.195297241210938,\n",
       "  'node.title': 'História e protagonismo negro: africanidade, cultura histórica e ensino de história na trajetória de Abdias Nascimento (1944-1999)',\n",
       "  'node.abstract': 'The work aims to study how the black population has developed a new epistemological perspective guided by the black African historical experience, from the encounter between historical knowledge and socio-cultural activism, in contrast to the production of knowledge and the teaching of Eurocentric history. Therefore, the research was developed from the analysis of the protagonism of Abdias Nascimento, based on what we call abdisian moments: the blackness pedagogy (1944-1968), the pan-Africanist quilombism (1968-1983) and the parliamentary quilombism (1983-1999). The documentary research corpus is based on his theatrical, intellectual and political production around the national and international anti-racist struggles in the XX century (1944-1999). The protagonism of Abdias Nascimento helped the systematization and coordination between the historical process and the historical acts, where the black population took, at the same time, the role of producing, transmitting and receiving historical knowledge, which was set in a dialectical and dialogical way during his anti-racist social praxis, generated and based on the historical culture of black African resistance.',\n",
       "  'node.description': None}]"
      ]
     },
     "execution_count": 42,
     "metadata": {},
     "output_type": "execute_result"
    }
   ],
   "source": [
    "result = graph.query(\"\"\"\n",
    "CALL db.index.fulltext.queryNodes(\"Thesis_fulltext\", '\"\"\" + query_text + \"\"\"') YIELD node, score\n",
    "RETURN score, node.title, node.abstract, node.description \n",
    "LIMIT 5 \n",
    "\"\"\")\n",
    "result"
   ]
  },
  {
   "cell_type": "code",
   "execution_count": null,
   "id": "c2ffb0cc",
   "metadata": {},
   "outputs": [],
   "source": []
  }
 ],
 "metadata": {
  "kernelspec": {
   "display_name": ".venv-IndigSlave (3.11.9)",
   "language": "python",
   "name": "python3"
  },
  "language_info": {
   "codemirror_mode": {
    "name": "ipython",
    "version": 3
   },
   "file_extension": ".py",
   "mimetype": "text/x-python",
   "name": "python",
   "nbconvert_exporter": "python",
   "pygments_lexer": "ipython3",
   "version": "3.11.9"
  }
 },
 "nbformat": 4,
 "nbformat_minor": 5
}
