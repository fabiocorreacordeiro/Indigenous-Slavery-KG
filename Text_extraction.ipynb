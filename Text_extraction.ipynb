{
 "cells": [
  {
   "cell_type": "code",
   "execution_count": 2,
   "metadata": {},
   "outputs": [],
   "source": [
    "import os\n",
    "import stardog\n",
    "from PyPDF2 import PdfReader\n",
    "from langdetect import detect\n",
    "import spacy\n",
    "import re\n",
    "from unidecode import unidecode\n"
   ]
  },
  {
   "cell_type": "markdown",
   "metadata": {},
   "source": [
    "### Specify Stardog connection details"
   ]
  },
  {
   "cell_type": "code",
   "execution_count": 3,
   "metadata": {},
   "outputs": [],
   "source": [
    "# Stardog variables\n",
    "STARDOG_ENDPOINT = os.getenv('STARDOG_ENDPOINT')\n",
    "STARDOG_USERNAME = os.getenv(\"STARDOG_USERNAME\")\n",
    "STARDOG_PASSWORD = os.getenv(\"STARDOG_PASSWORD\")\n",
    "\n",
    "connection_details = {\n",
    "    'endpoint': STARDOG_ENDPOINT,\n",
    "    'username': STARDOG_USERNAME,\n",
    "    'password': STARDOG_PASSWORD\n",
    "}"
   ]
  },
  {
   "cell_type": "markdown",
   "metadata": {},
   "source": [
    "Preparando o texto em turtle"
   ]
  },
  {
   "cell_type": "code",
   "execution_count": 4,
   "metadata": {},
   "outputs": [],
   "source": [
    "# Prefixos\n",
    "prefixos = \"\"\" @prefix ns: <http://www.w3.org/2003/06/sw-vocab-status/ns#> .\n",
    "@prefix owl: <http://www.w3.org/2002/07/owl#> .\n",
    "@prefix rdf: <http://www.w3.org/1999/02/22-rdf-syntax-ns#> .\n",
    "@prefix xml: <http://www.w3.org/XML/1998/namespace> .\n",
    "@prefix xsd: <http://www.w3.org/2001/XMLSchema#> .\n",
    "@prefix bibo: <http://purl.org/ontology/bibo/> .\n",
    "@prefix foaf: <http://xmlns.com/foaf/0.1/> .\n",
    "@prefix rdfs: <http://www.w3.org/2000/01/rdf-schema#> .\n",
    "@prefix skos: <http://www.w3.org/2004/02/skos/core#> .\n",
    "@prefix vann: <http://purl.org/vocab/vann/> .\n",
    "@prefix event: <http://purl.org/NET/c4dm/event.owl#> .\n",
    "@prefix prism: <http://prismstandard.org/namespaces/1.2/basic/> .\n",
    "@prefix terms: <http://purl.org/dc/terms/> .\n",
    "@prefix schema: <http://schemas.talis.com/2005/address/schema#> .\n",
    "@prefix status: <http://purl.org/ontology/bibo/status/> .\n",
    "@prefix degrees: <http://purl.org/ontology/bibo/degrees/> .\n",
    "@prefix stardog: <tag:stardog:api:> .\n",
    "@base <http://www.w3.org/2002/07/owl#> .\n",
    "\n",
    "\"\"\""
   ]
  },
  {
   "cell_type": "code",
   "execution_count": 5,
   "metadata": {},
   "outputs": [],
   "source": [
    "# Funcão que recebe os prefixos e triplas e as carrega à base de dados\n",
    "def add_triplas_to_stardog(prefixos, triplas):\n",
    "\n",
    "    # Incluindo prefixos às triplas\n",
    "    triplas = prefixos + \" \" + triplas\n",
    "\n",
    "    ### Connect to the Stardog database\n",
    "    database_name = 'IndigenousSlavery'\n",
    "    conn = stardog.Connection(database_name, **connection_details)\n",
    "\n",
    "    conn.begin()\n",
    "    conn.add(stardog.content.Raw(triplas.encode('utf-8'), 'text/turtle'))\n",
    "    conn.commit() # commit the transaction"
   ]
  },
  {
   "cell_type": "code",
   "execution_count": 6,
   "metadata": {},
   "outputs": [],
   "source": [
    "#Carregando os modelos SpaCy para inglês e português \n",
    "nlp_en = spacy.load(\"en_core_web_lg\")\n",
    "nlp_pt = spacy.load(\"pt_core_news_lg\")"
   ]
  },
  {
   "cell_type": "code",
   "execution_count": 7,
   "metadata": {},
   "outputs": [],
   "source": [
    "# Funcão que recebe uma string e a limpar para ficar no formato aceitável para uma URI\n",
    "def process_uri(x):\n",
    "    return (re.sub('[^a-zA-Z0-9_ ]', '',\n",
    "            unidecode(x.strip())\n",
    "                        .replace(\" \", \"_\")\n",
    "                        .replace(\"[\",\"\")\n",
    "                        .replace(\"]\",\"\")\n",
    "                        .replace(\"?\",\"\")\n",
    "                        .replace(\"'\",\"\")\n",
    "                        .lower()))"
   ]
  },
  {
   "cell_type": "markdown",
   "metadata": {},
   "source": [
    "### Para cada Tese, precisamos identificar a página que contem o documento inteiro, baixar o arquivo PDF para então extrair os textos das páginas."
   ]
  },
  {
   "cell_type": "code",
   "execution_count": null,
   "metadata": {},
   "outputs": [],
   "source": []
  },
  {
   "cell_type": "markdown",
   "metadata": {},
   "source": [
    "Extraindo o texto de uma tese e carregando no grafo"
   ]
  },
  {
   "cell_type": "code",
   "execution_count": 16,
   "metadata": {},
   "outputs": [],
   "source": [
    "def extratc_text_NER(tese_uri, tese_path):\n",
    "\n",
    "    triplas = \"\"\" \"\"\"\n",
    "\n",
    "    # Processando o arquivo em PDF\n",
    "    reader = PdfReader(tese_path)\n",
    "    number_of_pages = len(reader.pages)\n",
    "\n",
    "    # Iterando por cada página\n",
    "    for page_number in range(number_of_pages):\n",
    "        \n",
    "\n",
    "        # Extraindo o texto da página\n",
    "        if page_number == 0:\n",
    "            page_text = (reader.pages[page_number].extract_text() + '\\n ' \n",
    "                        + reader.pages[page_number+1].extract_text()[:400])\n",
    "        else:\n",
    "            \n",
    "            if page_number == number_of_pages -1:\n",
    "                page_text = (reader.pages[page_number-1].extract_text()[-400:] + '\\n ' \n",
    "                            + reader.pages[page_number].extract_text())\n",
    "            \n",
    "            else:\n",
    "                page_text = (reader.pages[page_number-1].extract_text()[-400:] + '\\n ' \n",
    "                            + reader.pages[page_number].extract_text() + '\\n ' \n",
    "                            + reader.pages[page_number+1].extract_text()[:400])  \n",
    "\n",
    "        # Detectando o idioma do texto\n",
    "        try:\n",
    "            lang = detect(page_text)\n",
    "        except:\n",
    "            lang = None\n",
    "\n",
    "        # Extraindo as entidades\n",
    "        if lang == 'pt':\n",
    "            doc = nlp_pt(page_text)\n",
    "        if lang == 'en':\n",
    "            doc = nlp_en(page_text)\n",
    "\n",
    "        persons = []\n",
    "        gpes = []\n",
    "        #orgs = []\n",
    "        for ent in doc.ents:\n",
    "            if ent.label_ == \"PER\": #\"PERSON\":\n",
    "                persons.append(process_uri(ent.text))\n",
    "            if ent.label_ == \"LOC\": #\"GPE\":\n",
    "                gpes.append(process_uri(ent.text))\n",
    "            #if ent.label_ == \"ORG\":\n",
    "            #    orgs.append(process_uri(ent.text))\n",
    "\n",
    "\n",
    "            \n",
    "        tripla = \"\"\"\n",
    "        stardog:\"\"\" + tese_uri + \"__page_\" + str(page_number + 1) + \"\"\" rdf:type bibo:Excerpt.\n",
    "        stardog:\"\"\" + tese_uri +  \"\"\" <http://purl.obolibrary.org/obo/BFO_0000051> stardog:\"\"\" + tese_uri + \"__page_\" + str(page_number + 1 ) + \"\"\".\n",
    "        stardog:\"\"\" + tese_uri + \"__page_\" + str(page_number + 1 ) + \"\"\" bibo:pages '\"\"\" + str(page_number + 1) +  \"\"\"'. \n",
    "        \"\"\"\n",
    "        if lang == 'pt':\n",
    "            tripla = tripla + \"stardog:\" + tese_uri + \"__page_\" + str(page_number + 1 ) + \" <http://purl.org/dc/terms/description> '\" + page_text.replace(\"'\",\"\").replace(u'\\\\', u' ') +  \"'@pt.\"\n",
    "        if lang == 'en':\n",
    "            tripla = tripla + \"stardog:\" + tese_uri + \"__page_\" + str(page_number + 1 ) + \" <http://purl.org/dc/terms/description> '\" + page_text.replace(\"'\",\"\").replace(u'\\\\', u' ') +  \"'@en.\"\n",
    "        \n",
    "        #print(set(persons), set(gpes))\n",
    "        for per in set(persons):  \n",
    "            tripla = tripla + \"\"\"\n",
    "            stardog:\"\"\" + per + \"\"\" rdf:type foaf:Person.\n",
    "            stardog:\"\"\" + tese_uri + \"__page_\" + str(page_number + 1) + \"\"\" <https://schema.org/mentions> stardog:\"\"\" + per + \"\"\". \n",
    "            \"\"\"\n",
    "\n",
    "        for gpe in set(gpes): \n",
    "            tripla = tripla + \"\"\"\n",
    "            stardog:\"\"\" + gpe + \"\"\" rdf:type <https://schema.org/Place>.\n",
    "            stardog:\"\"\" + tese_uri + \"__page_\" + str(page_number + 1) + \"\"\" <https://schema.org/mentions> stardog:\"\"\" + gpe + \"\"\". \n",
    "            \"\"\"\n",
    "\n",
    "        triplas = triplas + \" \" + tripla\n",
    "\n",
    "    add_triplas_to_stardog(prefixos, triplas)\n",
    "    return\n"
   ]
  },
  {
   "cell_type": "code",
   "execution_count": 17,
   "metadata": {},
   "outputs": [],
   "source": [
    "teses_tuplas = [(\"dramaturgias_negras_do_pampa__uma_analise_decolonial\", \n",
    "                 \"data/BDTD/Teses/abdias_nascimento/001177775.pdf\"),\n",
    "                 (\"a_rememoracao_nas_imagens_dos_quilombos\", \n",
    "                 \"data/BDTD/Teses/abdias_nascimento/A rememoração nas imagens dos quilombos Dissertação Alessandra Brito.pdf\"),\n",
    "                 (\"aquilombamento_virtual_midiatico_uma_proposta_teoricometodologica_para_o_estudo_das_midias_negras\", \n",
    "                 \"data/BDTD/Teses/abdias_nascimento/Aquilombamentovirtualmidiatico_Andrade_2023.pdf\"),\n",
    "                 (\"corpokalunga_fluxos_memorialisticos_e_identitarios_em_um_defeito_de_cor_de_ana_maria_goncalves\", \n",
    "                 \"data/BDTD/Teses/abdias_nascimento/CorpoKalungafluxos_Silveira_2022.pdf\"),\n",
    "                 (\"a_trajetoria_e_as_colunas_cinematograficas_de_ironides_rodrigues_para_a_marcha_19541962\", \n",
    "                 \"data/BDTD/Teses/abdias_nascimento/FINAL_Dissertação_Gabriel_10-04-2019_.pdf\"),\n",
    "                 (\"escrita_pela_vivencia_memoria_em_letra_reexistindo_as_identidades\", \n",
    "                 \"data/BDTD/Teses/abdias_nascimento/MEMORIAL 9 DE NOVEMBRO COM FICHA CATOLOGRÁFICA (1).pdf\"),\n",
    "                 (\"faz_parte_da_familia_contradicoes_do_trabalho_domestico_remunerado_uma_narrativa_a_partir_da_memoria_de_quartinhos_de_empregada\", \n",
    "                 \"data/BDTD/Teses/abdias_nascimento/tatianedemenezesbezerra.pdf\"),\n",
    "                 (\"acoes_afirmativas_com_recorte_racial_no_ensino_superior_e_disputas_de_identidade_nacional_no_brasil\", \n",
    "                 \"data/BDTD/Teses/abdias_nascimento/TESE Aristeu Portela Júnior.pdf\"),\n",
    "                 (\"a_dramaturgia_do_teatro_experimental_do_negro_ten_e_do_teatro_profissional_do_negro_tepron_corpo_e_identidades\", \n",
    "                 \"data/BDTD/Teses/abdias_nascimento/tese_girlene_verly_ferreira_de_carvalho_rezende.pdf\")\n",
    "                ]"
   ]
  },
  {
   "cell_type": "code",
   "execution_count": 18,
   "metadata": {},
   "outputs": [
    {
     "name": "stdout",
     "output_type": "stream",
     "text": [
      "dramaturgias_negras_do_pampa__uma_analise_decolonial\n",
      "a_rememoracao_nas_imagens_dos_quilombos\n",
      "aquilombamento_virtual_midiatico_uma_proposta_teoricometodologica_para_o_estudo_das_midias_negras\n",
      "corpokalunga_fluxos_memorialisticos_e_identitarios_em_um_defeito_de_cor_de_ana_maria_goncalves\n",
      "a_trajetoria_e_as_colunas_cinematograficas_de_ironides_rodrigues_para_a_marcha_19541962\n",
      "escrita_pela_vivencia_memoria_em_letra_reexistindo_as_identidades\n",
      "faz_parte_da_familia_contradicoes_do_trabalho_domestico_remunerado_uma_narrativa_a_partir_da_memoria_de_quartinhos_de_empregada\n",
      "acoes_afirmativas_com_recorte_racial_no_ensino_superior_e_disputas_de_identidade_nacional_no_brasil\n",
      "a_dramaturgia_do_teatro_experimental_do_negro_ten_e_do_teatro_profissional_do_negro_tepron_corpo_e_identidades\n"
     ]
    }
   ],
   "source": [
    "for tese_uri, tese_path in teses_tuplas:\n",
    "    extratc_text_NER(tese_uri, tese_path)\n",
    "    print(tese_uri)"
   ]
  },
  {
   "cell_type": "code",
   "execution_count": null,
   "metadata": {},
   "outputs": [],
   "source": []
  },
  {
   "cell_type": "code",
   "execution_count": 32,
   "metadata": {},
   "outputs": [
    {
     "data": {
      "text/plain": [
       "284"
      ]
     },
     "execution_count": 32,
     "metadata": {},
     "output_type": "execute_result"
    }
   ],
   "source": [
    "number_of_pages"
   ]
  },
  {
   "cell_type": "code",
   "execution_count": 21,
   "metadata": {},
   "outputs": [],
   "source": [
    "number_of_pages = len(reader.pages)\n",
    "page_n = 15\n",
    "page = reader.pages[page_n]\n",
    "page_ant = reader.pages[page_n-1]\n",
    "page_pos = reader.pages[page_n+1]\n",
    "text = page.extract_text()\n",
    "text_ant = page_ant.extract_text()\n",
    "text_pos = page_pos.extract_text()"
   ]
  },
  {
   "cell_type": "code",
   "execution_count": 22,
   "metadata": {},
   "outputs": [
    {
     "data": {
      "text/plain": [
       "446"
      ]
     },
     "execution_count": 22,
     "metadata": {},
     "output_type": "execute_result"
    }
   ],
   "source": [
    "number_of_pages"
   ]
  },
  {
   "cell_type": "code",
   "execution_count": 23,
   "metadata": {},
   "outputs": [
    {
     "name": "stdout",
     "output_type": "stream",
     "text": [
      " do teatro brasileiro, como é o \n",
      "caso de  Panorama do Teatro Brasileiro , de Sábato Magaldi (2004), que cita o TEN \n",
      "brevemente, e O Teatro Moderno Brasileir o, de Décio de Almeida Prado (2009), que não cita \n",
      "nenhuma delas.  \n",
      "Magaldi tem seu olhar inicialmente voltado para o século XVII e diz que, desde essa \n",
      "época, alguns negros já faziam teatro, mas de forma muito marginal ou discreta (MA GALDI, \n",
      "--------\n",
      " \n",
      " \n",
      " \n",
      "16 \n",
      " \n",
      " \n",
      " \n",
      "   2004, p. 30) . Ness a obra do autor , a única referência acerca de Abdias Nascimento é uma \n",
      "breve passagem em que, citado ao lado de diversos outros que se aventuraram rapidamente no \n",
      "teatro, diz: “ele não alcançou forma válida para a volta às raízes raciais, na luta de protesto s \n",
      "contra injustiças do mundo branco ” (MAGALDI, 2004, p. 278) . Ainda que a iniciativa de \n",
      "Nascimento não estivesse de acordo com os princípios valorizados pelo teatro de Magaldi,  e \n",
      "de outros,  diante dos comentários de críticos e artistas da época, material h oje acessível a \n",
      "todos, o trabalho do TEN não merecia ser tão menosprezado em razão do tamanho esforço e \n",
      "êxitos alcançados durante muito mais tempo do que outros também citados por apenas uma \n",
      "obra de sucesso. Como veremos  adiante, até uma dramaturgia voltad a para a temática do \n",
      "negro passou a ser desenvolvida a partir  do TEN  no sentido de que  uma literatura específica \n",
      "nascia com e para a companhia de Nascimento  e, além do Rio de Janeiro, outras cidades como \n",
      "São Paulo e Santos também criaram seu Teatro negro . \n",
      " A obra de Prado pretende abordar o período de 1930 a 1980, mas o autor assume que, \n",
      "por várias razões, seu foco se concentra entre 1940 e 1970. O curioso é que o marco da \n",
      "modernidade do teatro brasileiro  – a estreia de Vestido de Noiva em 1943 – aconteceu  \n",
      "somente um ano antes do início do TEN (1944), e, ainda na mesma década, estreia Anjo \n",
      "Negro , novamente um trabalho de Nelson Rodrigues de grande repercussão e polêmica pelas \n",
      "mesmas questões que aparecem debatidas pelo TEN. Tudo isso está registrado na obra de \n",
      "Prado, menos a existência  da companhia negra . Uma ironia  já que, segundo Nelson \n",
      "Rodrigues, Anjo Negro  deve ria ser protagonizado por  Nascimento. Soa incompreensível que, \n",
      "no mesmo momento em que se fala de um novo teatro ou de um teatro verdadeiramente \n",
      "brasileiro e moderno, a iniciativa singular de Abdias Nascimento e de seus companheiros  – \n",
      "com o apoio  de personalidades de referência  como  Santa Rosa e Bibi Ferreira, ent re outras  – \n",
      "não tenha sido  suficiente para citá -lo. Décio de Almeida Prado refere -se ao Arena como a \n",
      "primeira companhia a ter em seu quadro permanente de atores um artista negro, caso de \n",
      "Milton Gonçalves (PRADO, 2009, p. 68) . Se esse dado é importante na década de 1960, por \n",
      "que também não seria o fato de haver existido toda uma companhia, mes mo que amadora, \n",
      "composta basicamente de negros? Mesmo que o trabalho do grupo não fosse compreendido, \n",
      "acreditamos  que sua luta e pioneirismo foram dignos de referênc ias e reflexões mais \n",
      "profundas.  \n",
      " Augusto Boal, em depoimento na Odisseia do Teatro Brasilei ro (2002), comenta o \n",
      "fato de o Arena,  mesmo  voltado para questões sociais e com mensagens que pudessem ser \n",
      "levadas ao público, não trazer em seu elenco  mais do que um ator negro. “Nós escrevíamos \n",
      "--------\n",
      " \n",
      " \n",
      " \n",
      "17 \n",
      " \n",
      " \n",
      " \n",
      "   peças que denunciavam o racismo, mas nós, que escrevíamos e representávamos, éramos \n",
      "brancos ” (BOAL, 2002, p. 246) .  \n",
      "O que vemos hoje é que há tempos surgem  pessoas lutando para mudar tais condições. \n",
      "E na década de 1970 o destaque vai para  Ubirajara Fidalgo  que criou o Teatro Profissional do \n",
      "Negro (TEPRON), título n ada gratuito e que já apontava para um avanço e m relaç\n"
     ]
    }
   ],
   "source": [
    "print(text_ant[-400:])\n",
    "print('--------')\n",
    "print(text)\n",
    "print('--------')\n",
    "print(text_pos[:400])"
   ]
  },
  {
   "cell_type": "code",
   "execution_count": null,
   "metadata": {},
   "outputs": [],
   "source": [
    "triplas = \"\"\" \"\"\"\n",
    "\n",
    "for m in range(len(thesis_uri)):\n",
    "    tripla = \"\"\"\n",
    "    stardog:\"\"\" + thesis_uri[m] + \"\"\" rdf:type bibo:Thesis.\n",
    "    stardog:\"\"\" + thesis_uri[m] + \"\"\" terms:title '\"\"\" + titulo[m].replace(\"'\",\"\").replace(u'\\\\', u' ') +  \"\"\"'.\n",
    "    stardog:\"\"\" + thesis_uri[m] + \"\"\" terms:created '\"\"\" + str(ano[m]) +  \"\"\"'^^xsd:gYear.\n",
    "    \"\"\"\n",
    "    if link[m].startswith(\"http\"):\n",
    "        tripla = tripla + \"\"\"stardog:\"\"\" + thesis_uri[m] + \"\"\" bibo:repository '\"\"\" + link[m].replace(\"'\",\"\").replace(u'\\\\', u' ') + \"\"\"'. \"\"\"\n",
    "\n",
    "    if referencia[m] != 'Não informado pela instituição':\n",
    "        tripla = tripla + \"\"\"stardog:\"\"\" + thesis_uri[m] + \"\"\" bibo:identifier '\"\"\" + referencia[m].replace(\"'\",\"\").replace(u'\\\\', u' ') + \"\"\"'. \"\"\"\n",
    "\n",
    "    if resumo[m] != 'Não informado pela instituição':\n",
    "        tripla = tripla + \"\"\"stardog:\"\"\" + thesis_uri[m] + \"\"\" bibo:abstract '\"\"\" + str(resumo[m]).replace(\"'\",\"\").replace(u'\\\\', u' ') + \"\"\"'@\"\"\" + resumo_lang[m] + \"\"\". \"\"\"\n",
    "    \n",
    "    if resumo_pt[m] != 'Não informado pela instituição':\n",
    "        tripla = tripla + \"\"\"stardog:\"\"\" + thesis_uri[m] + \"\"\" bibo:abstract '\"\"\" + str(resumo_pt[m]).replace(\"'\",\"\").replace(u'\\\\', u' ') + \"\"\"'@pt. \"\"\"\n",
    "\n",
    "    if resumo_en[m] != 'Não informado pela instituição':\n",
    "        tripla = tripla + \"\"\"stardog:\"\"\" + thesis_uri[m] + \"\"\" bibo:abstract '\"\"\" + str(resumo_en[m]).replace(\"'\",\"\").replace(u'\\\\', u' ') + \"\"\"'@en. \"\"\"\n",
    "\n",
    "    triplas = triplas + \" \" + tripla\n",
    "\n",
    "# stardog:\"\"\" + thesis_uri[m] + \"\"\" rdf:type owl:NamedIndividual."
   ]
  }
 ],
 "metadata": {
  "kernelspec": {
   "display_name": ".venv-IndigSlave",
   "language": "python",
   "name": "python3"
  },
  "language_info": {
   "codemirror_mode": {
    "name": "ipython",
    "version": 3
   },
   "file_extension": ".py",
   "mimetype": "text/x-python",
   "name": "python",
   "nbconvert_exporter": "python",
   "pygments_lexer": "ipython3",
   "version": "3.11.9"
  }
 },
 "nbformat": 4,
 "nbformat_minor": 2
}
