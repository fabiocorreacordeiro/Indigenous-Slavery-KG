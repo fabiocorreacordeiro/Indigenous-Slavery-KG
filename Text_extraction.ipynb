{
 "cells": [
  {
   "cell_type": "code",
   "execution_count": 8,
   "metadata": {},
   "outputs": [
    {
     "name": "stdout",
     "output_type": "stream",
     "text": [
      "Collecting PyPDF2\n",
      "  Downloading pypdf2-3.0.1-py3-none-any.whl.metadata (6.8 kB)\n",
      "Downloading pypdf2-3.0.1-py3-none-any.whl (232 kB)\n",
      "Installing collected packages: PyPDF2\n",
      "Successfully installed PyPDF2-3.0.1\n"
     ]
    },
    {
     "name": "stderr",
     "output_type": "stream",
     "text": [
      "\n",
      "[notice] A new release of pip is available: 24.2 -> 24.3.1\n",
      "[notice] To update, run: python.exe -m pip install --upgrade pip\n"
     ]
    }
   ],
   "source": [
    "!pip install PyPDF2"
   ]
  },
  {
   "cell_type": "code",
   "execution_count": 9,
   "metadata": {},
   "outputs": [],
   "source": [
    "from PyPDF2 import PdfReader\n"
   ]
  },
  {
   "cell_type": "code",
   "execution_count": 37,
   "metadata": {},
   "outputs": [],
   "source": [
    "reader = PdfReader(\"data/BDTD/Teses/abdias_nascimento/tese_girlene_verly_ferreira_de_carvalho_rezende.pdf\")\n",
    "\n"
   ]
  },
  {
   "cell_type": "code",
   "execution_count": 38,
   "metadata": {},
   "outputs": [],
   "source": [
    "number_of_pages = len(reader.pages)\n",
    "page = reader.pages[80]\n",
    "text = page.extract_text()"
   ]
  },
  {
   "cell_type": "code",
   "execution_count": 39,
   "metadata": {},
   "outputs": [
    {
     "data": {
      "text/plain": [
       "446"
      ]
     },
     "execution_count": 39,
     "metadata": {},
     "output_type": "execute_result"
    }
   ],
   "source": [
    "number_of_pages"
   ]
  },
  {
   "cell_type": "code",
   "execution_count": 40,
   "metadata": {},
   "outputs": [
    {
     "name": "stdout",
     "output_type": "stream",
     "text": [
      " \n",
      " \n",
      " \n",
      "81 \n",
      " \n",
      " \n",
      " \n",
      "   havia estrelas ” (FIDALGO,  S., 2014) . E ela percebeu que havia uma relação  entre o ideal de \n",
      "seu pai,  o do grupo e alguns acontecimentos mundiais importantes:  \n",
      " \n",
      "Era uma época em que o mundo estava em ebulição, os direitos civis nos \n",
      "EUA, os Black Panters , eram informações que já chegavam até aqui, e acho \n",
      "que esse inconsciente coletivo mundial, aliado a pessoas que ele conheceu \n",
      "no Brasil, o movimento negro, tudo contribuiu para o que ele fez.  \n",
      "(LEGÍTIMA DEFESA, 2014)  \n",
      " \n",
      " O teatro de Fidalgo está intimamente ligado a questões de cunho racial, abordando, \n",
      "ainda, te mas polêmicos como a homofobi a, a desigualdade social , o feminismo  e a ditadura \n",
      "militar. Outra característica de seu teatro é que, na prática, após cada representação, \n",
      "formavam -se debates para discussão de todos esses te mas. Prática iniciada com Augusto Boal, \n",
      "através do Teatro do Opri mido, teatro que contempla várias  técnicas para  conscientização, \n",
      "politização e mobilização social em prol de uma população marginalizada e silenciada  \n",
      "(GARCIA, 2002) .  \n",
      " No teatro tradicional, as ideias e visões sobre d eterminados assuntos vêm “prontas ” \n",
      "para o público e, com a iniciativa de Boal, esse espectador recebe  um poder de atuação que \n",
      "diminui  sua passividade , tornando -o também “ator” (GUINSBURG, 2009, p. 254).  Um de \n",
      "seus objetivos  era “fazer o público repensar a realidade e reformulá -la, uma vez que s e \n",
      "conscientize estar a sociedade dividida entre opressores e oprimidos ” (GUINSBURG, 2009, \n",
      "p. 254) . Daí não podermos esquecer de que essas posições são intercambiáveis, se alternando \n",
      "e se alterando todo o tempo. Não é incomum que uma vítima de algum tipo de  opressão, em \n",
      "sua primeira oportunidade, haja da mesma forma  que seu opressor . Preconceito  que, por \n",
      "vezes, acomete algumas pessoas, representadas em alguns personagens dos quais falaremos \n",
      "no terceiro capítulo .  \n",
      " Neste, focando a questão do corpo , veremos c omo uma mente oprimida torna -se um \n",
      "corpo oprimido. Não há dicotomias. Tudo está in terligado. Daí a importância do teatro , \n",
      "independente da realização de debates o u fóruns. Ele, por  sua constituição, prima  como meio \n",
      "de difusão de questões polêmicas e complex as que precisam ser pensadas. Questões que, \n",
      "logicamente, atr avessam a questão da negritude. D iante de nossa existência , \n",
      "independentemente da questão da cor da pele,  são muitas as opressões que nos a tingem, como \n",
      "a econômi ca, a sexual, a  religiosa , a cultura l e a política , por exemplo.  Poderia o teatro tratar \n",
      "dessas questões não fosse pelo corpo? Qual o corpo mais presente? O mental ou o físico? \n",
      "Veremos que um não se separa do outro. Existe um diálogo ou uma coexistência que \n"
     ]
    }
   ],
   "source": [
    "print(text)"
   ]
  }
 ],
 "metadata": {
  "kernelspec": {
   "display_name": ".venv-IndigSlave",
   "language": "python",
   "name": "python3"
  },
  "language_info": {
   "codemirror_mode": {
    "name": "ipython",
    "version": 3
   },
   "file_extension": ".py",
   "mimetype": "text/x-python",
   "name": "python",
   "nbconvert_exporter": "python",
   "pygments_lexer": "ipython3",
   "version": "3.11.9"
  }
 },
 "nbformat": 4,
 "nbformat_minor": 2
}
