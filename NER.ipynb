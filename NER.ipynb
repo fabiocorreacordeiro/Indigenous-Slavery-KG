{
 "cells": [
  {
   "cell_type": "code",
   "execution_count": 1,
   "metadata": {},
   "outputs": [],
   "source": [
    "#!python -m spacy download pt_core_news_lg"
   ]
  },
  {
   "cell_type": "code",
   "execution_count": 2,
   "metadata": {},
   "outputs": [],
   "source": [
    "import os\n",
    "import io\n",
    "import stardog\n",
    "import pandas as pd\n",
    "import spacy\n",
    "from spacy import displacy"
   ]
  },
  {
   "cell_type": "markdown",
   "metadata": {},
   "source": [
    "### Specify Stardog connection details"
   ]
  },
  {
   "cell_type": "code",
   "execution_count": 3,
   "metadata": {},
   "outputs": [],
   "source": [
    "# Stardog variables\n",
    "STARDOG_ENDPOINT = os.getenv('STARDOG_ENDPOINT')\n",
    "STARDOG_USERNAME = os.getenv(\"STARDOG_USERNAME\")\n",
    "STARDOG_PASSWORD = os.getenv(\"STARDOG_PASSWORD\")\n",
    "\n",
    "connection_details = {\n",
    "    'endpoint': STARDOG_ENDPOINT,\n",
    "    'username': STARDOG_USERNAME,\n",
    "    'password': STARDOG_PASSWORD\n",
    "}"
   ]
  },
  {
   "cell_type": "code",
   "execution_count": 4,
   "metadata": {},
   "outputs": [],
   "source": [
    "database_name = 'IndigenousSlavery'\n",
    "conn = stardog.Connection(database_name, **connection_details)"
   ]
  },
  {
   "cell_type": "code",
   "execution_count": 110,
   "metadata": {},
   "outputs": [
    {
     "data": {
      "text/html": [
       "<div>\n",
       "<style scoped>\n",
       "    .dataframe tbody tr th:only-of-type {\n",
       "        vertical-align: middle;\n",
       "    }\n",
       "\n",
       "    .dataframe tbody tr th {\n",
       "        vertical-align: top;\n",
       "    }\n",
       "\n",
       "    .dataframe thead th {\n",
       "        text-align: right;\n",
       "    }\n",
       "</style>\n",
       "<table border=\"1\" class=\"dataframe\">\n",
       "  <thead>\n",
       "    <tr style=\"text-align: right;\">\n",
       "      <th></th>\n",
       "      <th>thesis</th>\n",
       "      <th>abstract</th>\n",
       "      <th>lang</th>\n",
       "    </tr>\n",
       "  </thead>\n",
       "  <tbody>\n",
       "    <tr>\n",
       "      <th>0</th>\n",
       "      <td>tag:stardog:api:com_a_condicao_de_servir_gratu...</td>\n",
       "      <td>A presente pesquisa parte da emancipação de es...</td>\n",
       "      <td>pt</td>\n",
       "    </tr>\n",
       "    <tr>\n",
       "      <th>1</th>\n",
       "      <td>tag:stardog:api:educando_libertos_escravizados...</td>\n",
       "      <td>Esta tese parte da trajetória de Cincinato Fra...</td>\n",
       "      <td>pt</td>\n",
       "    </tr>\n",
       "    <tr>\n",
       "      <th>2</th>\n",
       "      <td>tag:stardog:api:marambaia_historia_memoria_e_d...</td>\n",
       "      <td>A presente tese se desdobra em dois objetivos ...</td>\n",
       "      <td>pt</td>\n",
       "    </tr>\n",
       "    <tr>\n",
       "      <th>3</th>\n",
       "      <td>tag:stardog:api:mulheres_negras_politicas_iden...</td>\n",
       "      <td>O objetivo do presente estudo é conhecer as in...</td>\n",
       "      <td>pt</td>\n",
       "    </tr>\n",
       "    <tr>\n",
       "      <th>4</th>\n",
       "      <td>tag:stardog:api:os_sentidos_da_liberdade_traje...</td>\n",
       "      <td>Esta tese acompanhará trajetórias individuais ...</td>\n",
       "      <td>pt</td>\n",
       "    </tr>\n",
       "    <tr>\n",
       "      <th>5</th>\n",
       "      <td>tag:stardog:api:jose_do_patrocinio_marques_toc...</td>\n",
       "      <td>O propósito desta dissertação é refletir sobre...</td>\n",
       "      <td>pt</td>\n",
       "    </tr>\n",
       "    <tr>\n",
       "      <th>6</th>\n",
       "      <td>tag:stardog:api:a_escravidao_livre_na_corte_es...</td>\n",
       "      <td>Durante a segunda metade do século XIX, na Cor...</td>\n",
       "      <td>pt</td>\n",
       "    </tr>\n",
       "    <tr>\n",
       "      <th>7</th>\n",
       "      <td>tag:stardog:api:ave_libertas_abolicionismos_e_...</td>\n",
       "      <td>O objetivo principal deste trabalho é compreen...</td>\n",
       "      <td>pt</td>\n",
       "    </tr>\n",
       "    <tr>\n",
       "      <th>8</th>\n",
       "      <td>tag:stardog:api:sou_da_macumba_e_no_feitico_na...</td>\n",
       "      <td>Pretende-se aqui discutir a vida e a obra do m...</td>\n",
       "      <td>pt</td>\n",
       "    </tr>\n",
       "    <tr>\n",
       "      <th>9</th>\n",
       "      <td>tag:stardog:api:a_gente_da_felisberta_conscien...</td>\n",
       "      <td>No presente trabalho tenho como objetivo anali...</td>\n",
       "      <td>pt</td>\n",
       "    </tr>\n",
       "    <tr>\n",
       "      <th>10</th>\n",
       "      <td>tag:stardog:api:a_congada_e_do_mundo_e_da_raca...</td>\n",
       "      <td>O objetivo dessa tese é analisar as memórias d...</td>\n",
       "      <td>pt</td>\n",
       "    </tr>\n",
       "    <tr>\n",
       "      <th>11</th>\n",
       "      <td>tag:stardog:api:em_nome_da_ordem_o_jornal_do_c...</td>\n",
       "      <td>Nosso objeto de estudo na presente tese é a at...</td>\n",
       "      <td>pt</td>\n",
       "    </tr>\n",
       "    <tr>\n",
       "      <th>12</th>\n",
       "      <td>tag:stardog:api:pelos_caminhos_da_abolicao_os_...</td>\n",
       "      <td>Este estudo procura analisar os anos finais da...</td>\n",
       "      <td>pt</td>\n",
       "    </tr>\n",
       "    <tr>\n",
       "      <th>13</th>\n",
       "      <td>tag:stardog:api:a_reconstrucao_da_opressao_com...</td>\n",
       "      <td>Esta tese abordará o processo de transformação...</td>\n",
       "      <td>pt</td>\n",
       "    </tr>\n",
       "    <tr>\n",
       "      <th>14</th>\n",
       "      <td>tag:stardog:api:ecos_da_casa_grande_o_pensamen...</td>\n",
       "      <td>Este trabalho disserta sobre as diversas reaçõ...</td>\n",
       "      <td>pt</td>\n",
       "    </tr>\n",
       "    <tr>\n",
       "      <th>15</th>\n",
       "      <td>tag:stardog:api:o_rio_de_janeiro_de_coelho_net...</td>\n",
       "      <td>Coelho Neto escreveu muito: produções para cri...</td>\n",
       "      <td>pt</td>\n",
       "    </tr>\n",
       "    <tr>\n",
       "      <th>16</th>\n",
       "      <td>tag:stardog:api:debates_sobre_raca_classe_e_pr...</td>\n",
       "      <td>A dissertação tem como objeto e fonte principa...</td>\n",
       "      <td>pt</td>\n",
       "    </tr>\n",
       "    <tr>\n",
       "      <th>17</th>\n",
       "      <td>tag:stardog:api:entre_as_malhas_repressivas_e_...</td>\n",
       "      <td>A problemática desta tese consiste em analisar...</td>\n",
       "      <td>pt</td>\n",
       "    </tr>\n",
       "    <tr>\n",
       "      <th>18</th>\n",
       "      <td>tag:stardog:api:a_forca_viva_da_cor_preta__ass...</td>\n",
       "      <td>O objetivo central desta pesquisa é entender c...</td>\n",
       "      <td>pt</td>\n",
       "    </tr>\n",
       "    <tr>\n",
       "      <th>19</th>\n",
       "      <td>tag:stardog:api:arautos_da_liberdade__educacao...</td>\n",
       "      <td>O presente estudo tratou das lutas engendradas...</td>\n",
       "      <td>pt</td>\n",
       "    </tr>\n",
       "  </tbody>\n",
       "</table>\n",
       "</div>"
      ],
      "text/plain": [
       "                                               thesis  \\\n",
       "0   tag:stardog:api:com_a_condicao_de_servir_gratu...   \n",
       "1   tag:stardog:api:educando_libertos_escravizados...   \n",
       "2   tag:stardog:api:marambaia_historia_memoria_e_d...   \n",
       "3   tag:stardog:api:mulheres_negras_politicas_iden...   \n",
       "4   tag:stardog:api:os_sentidos_da_liberdade_traje...   \n",
       "5   tag:stardog:api:jose_do_patrocinio_marques_toc...   \n",
       "6   tag:stardog:api:a_escravidao_livre_na_corte_es...   \n",
       "7   tag:stardog:api:ave_libertas_abolicionismos_e_...   \n",
       "8   tag:stardog:api:sou_da_macumba_e_no_feitico_na...   \n",
       "9   tag:stardog:api:a_gente_da_felisberta_conscien...   \n",
       "10  tag:stardog:api:a_congada_e_do_mundo_e_da_raca...   \n",
       "11  tag:stardog:api:em_nome_da_ordem_o_jornal_do_c...   \n",
       "12  tag:stardog:api:pelos_caminhos_da_abolicao_os_...   \n",
       "13  tag:stardog:api:a_reconstrucao_da_opressao_com...   \n",
       "14  tag:stardog:api:ecos_da_casa_grande_o_pensamen...   \n",
       "15  tag:stardog:api:o_rio_de_janeiro_de_coelho_net...   \n",
       "16  tag:stardog:api:debates_sobre_raca_classe_e_pr...   \n",
       "17  tag:stardog:api:entre_as_malhas_repressivas_e_...   \n",
       "18  tag:stardog:api:a_forca_viva_da_cor_preta__ass...   \n",
       "19  tag:stardog:api:arautos_da_liberdade__educacao...   \n",
       "\n",
       "                                             abstract lang  \n",
       "0   A presente pesquisa parte da emancipação de es...   pt  \n",
       "1   Esta tese parte da trajetória de Cincinato Fra...   pt  \n",
       "2   A presente tese se desdobra em dois objetivos ...   pt  \n",
       "3   O objetivo do presente estudo é conhecer as in...   pt  \n",
       "4   Esta tese acompanhará trajetórias individuais ...   pt  \n",
       "5   O propósito desta dissertação é refletir sobre...   pt  \n",
       "6   Durante a segunda metade do século XIX, na Cor...   pt  \n",
       "7   O objetivo principal deste trabalho é compreen...   pt  \n",
       "8   Pretende-se aqui discutir a vida e a obra do m...   pt  \n",
       "9   No presente trabalho tenho como objetivo anali...   pt  \n",
       "10  O objetivo dessa tese é analisar as memórias d...   pt  \n",
       "11  Nosso objeto de estudo na presente tese é a at...   pt  \n",
       "12  Este estudo procura analisar os anos finais da...   pt  \n",
       "13  Esta tese abordará o processo de transformação...   pt  \n",
       "14  Este trabalho disserta sobre as diversas reaçõ...   pt  \n",
       "15  Coelho Neto escreveu muito: produções para cri...   pt  \n",
       "16  A dissertação tem como objeto e fonte principa...   pt  \n",
       "17  A problemática desta tese consiste em analisar...   pt  \n",
       "18  O objetivo central desta pesquisa é entender c...   pt  \n",
       "19  O presente estudo tratou das lutas engendradas...   pt  "
      ]
     },
     "execution_count": 110,
     "metadata": {},
     "output_type": "execute_result"
    }
   ],
   "source": [
    "query = \"\"\"\n",
    "SELECT ?thesis ?abstract (lang(?abstract) AS ?lang) WHERE {\n",
    "  ?thesis a <http://purl.org/ontology/bibo/Thesis>.\n",
    "  ?thesis <http://purl.org/ontology/bibo/abstract> ?abstract.\n",
    "  FILTER (langMatches(lang(?abstract),\"pt\"))\n",
    "}\n",
    "LIMIT 20\n",
    "\"\"\"\n",
    "#  FILTER (langMatches(lang(?abstract),\"en\"))\n",
    "# FILTER (lang(?abstract) NOT IN(\"pt\", \"en\"))\n",
    "\n",
    "csv_results = conn.select(query, content_type='text/csv')\n",
    "df = pd.read_csv(io.BytesIO(csv_results))\n",
    "df\n"
   ]
  },
  {
   "cell_type": "code",
   "execution_count": 129,
   "metadata": {},
   "outputs": [
    {
     "data": {
      "text/plain": [
       "'O propósito desta dissertação é refletir sobre a histórica do afrodescendente em Goiás na segunda metade do século XIX, norteada pela experiência do jornalista e abolicionista goiano, José do Patrocínio Marques Tocantins; dentro do contexto socioeconômico, político e cultural da Província. Para iniciar, realizei uma análise das narrativas históricas já existentes e a visão dos viajantes sobre Goiás, no século XIX, as quais foram e continuam sendo referências para o estudo da História de Goiás; com atenção voltada para a influência dessas narrativas históricas na construção da representação do afrodescendente na memória coletiva da sociedade brasileira e estrangeira. Para (re) construir as experiências de José do Patrocínio, além de bibliografias, utilizei documentos e registros encontrados no Museu das Bandeiras (MUBAN), na Biblioteca Frei Simão e no arquivo diocesano Dom Tomás Baldoíno, ambos da Cidade de Goiás; e também os jornais: A Tribuna Livre e O Publicador Goyano, publicados nas duas últimas décadas do século XIX. Ler as entrelinhas desses documentos facilitou o reavivamento da história desse goiano que enfrentou as dificuldades inerentes à condição familiar e cultural em que vivia: suas ações desenvolvidas nos espaços sociais e culturais em Goiás; seu casamento interétnico com Anna Francisca Tocantins e, também, a importância da imprensa no período de transição política e social na Província, especialmente nos assuntos ligados à abolição.'"
      ]
     },
     "execution_count": 129,
     "metadata": {},
     "output_type": "execute_result"
    }
   ],
   "source": [
    "ex = df['abstract'][5]\n",
    "ex"
   ]
  },
  {
   "cell_type": "code",
   "execution_count": 130,
   "metadata": {},
   "outputs": [
    {
     "name": "stdout",
     "output_type": "stream",
     "text": [
      "Goiás 81 86 LOC\n",
      "José do Patrocínio Marques Tocantins 184 220 PER\n",
      "Província 280 289 LOC\n",
      "Goiás 396 401 LOC\n",
      "História de Goiás 480 497 MISC\n",
      "José do Patrocínio 714 732 PER\n",
      "Museu das Bandeiras 804 823 LOC\n",
      "MUBAN 825 830 LOC\n",
      "Biblioteca Frei Simão 836 857 LOC\n",
      "Dom Tomás Baldoíno 881 899 PER\n",
      "Cidade de Goiás 910 925 LOC\n",
      "Tribuna Livre 950 963 MISC\n",
      "O Publicador Goyano 966 985 MISC\n",
      "Goiás 1270 1275 LOC\n",
      "Anna Francisca Tocantins 1307 1331 PER\n",
      "Província 1414 1423 LOC\n"
     ]
    }
   ],
   "source": [
    "#nlp_en = spacy.load(\"en_core_web_trf\")\n",
    "nlp_pt = spacy.load(\"pt_core_news_lg\")\n",
    "#doc = nlp_en(ex)\n",
    "doc_pt = nlp_pt(ex)\n",
    "\n",
    "persons = []\n",
    "gpes = []\n",
    "orgs = []\n",
    "for ent in doc_pt.ents:\n",
    "    if ent.label_ == \"PER\": #\"PERSON\":\n",
    "        persons.append(ent)\n",
    "    if ent.label_ == \"LOC\": #\"GPE\":\n",
    "        gpes.append(ent)\n",
    "    if ent.label_ == \"ORG\":\n",
    "        orgs.append(ent)\n",
    "\n",
    "    \n",
    "    print(ent.text, ent.start_char, ent.end_char, ent.label_)\n",
    "\n",
    "#for ent in doc_pt.ents:\n",
    "#    print(ent.text, ent.start_char, ent.end_char, ent.label_)"
   ]
  },
  {
   "cell_type": "code",
   "execution_count": 131,
   "metadata": {},
   "outputs": [
    {
     "data": {
      "text/plain": [
       "([José do Patrocínio Marques Tocantins,\n",
       "  José do Patrocínio,\n",
       "  Dom Tomás Baldoíno,\n",
       "  Anna Francisca Tocantins],\n",
       " [Goiás,\n",
       "  Província,\n",
       "  Goiás,\n",
       "  Museu das Bandeiras,\n",
       "  MUBAN,\n",
       "  Biblioteca Frei Simão,\n",
       "  Cidade de Goiás,\n",
       "  Goiás,\n",
       "  Província],\n",
       " [])"
      ]
     },
     "execution_count": 131,
     "metadata": {},
     "output_type": "execute_result"
    }
   ],
   "source": [
    "persons, gpes, orgs"
   ]
  },
  {
   "cell_type": "code",
   "execution_count": 132,
   "metadata": {},
   "outputs": [
    {
     "name": "stdout",
     "output_type": "stream",
     "text": [
      "0 1\n",
      "José do Patrocínio Marques Tocantins --- José do Patrocínio 0.9673900008201599\n",
      "0 2\n",
      "José do Patrocínio Marques Tocantins --- Dom Tomás Baldoíno 0.350134938955307\n",
      "0 3\n",
      "José do Patrocínio Marques Tocantins --- Anna Francisca Tocantins 0.4203408658504486\n",
      "1 2\n",
      "José do Patrocínio --- Dom Tomás Baldoíno 0.2963534891605377\n",
      "1 3\n",
      "José do Patrocínio --- Anna Francisca Tocantins 0.3132151663303375\n",
      "2 3\n",
      "Dom Tomás Baldoíno --- Anna Francisca Tocantins 0.3874610960483551\n"
     ]
    }
   ],
   "source": [
    "for n in range(len(persons)-1):\n",
    "    \n",
    "    for m in range(n+1, len(persons)):\n",
    "        print(n, m)\n",
    "        print(persons[n], \"---\", persons[m], persons[n].similarity(persons[m]))\n"
   ]
  },
  {
   "cell_type": "code",
   "execution_count": 147,
   "metadata": {},
   "outputs": [
    {
     "data": {
      "text/plain": [
       "José do Patrocínio Marques Tocantins"
      ]
     },
     "execution_count": 147,
     "metadata": {},
     "output_type": "execute_result"
    }
   ],
   "source": [
    "persons[0]"
   ]
  },
  {
   "cell_type": "code",
   "execution_count": null,
   "metadata": {},
   "outputs": [],
   "source": []
  },
  {
   "cell_type": "code",
   "execution_count": 16,
   "metadata": {},
   "outputs": [
    {
     "name": "stderr",
     "output_type": "stream",
     "text": [
      "c:\\Users\\facordei\\OneDrive - Capgemini\\Documents\\GitHub\\Indigenous-Slavery-KG\\.venv-IndigSlave\\Lib\\site-packages\\spacy\\displacy\\__init__.py:106: UserWarning: [W011] It looks like you're calling displacy.serve from within a Jupyter notebook or a similar environment. This likely means you're already running a local web server, so there's no need to make displaCy start another one. Instead, you should be able to replace displacy.serve with displacy.render to show the visualization.\n",
      "  warnings.warn(Warnings.W011)\n"
     ]
    },
    {
     "data": {
      "text/html": [
       "<span class=\"tex2jax_ignore\"><!DOCTYPE html>\n",
       "<html lang=\"pt\">\n",
       "    <head>\n",
       "        <title>displaCy</title>\n",
       "    </head>\n",
       "\n",
       "    <body style=\"font-size: 16px; font-family: -apple-system, BlinkMacSystemFont, 'Segoe UI', Helvetica, Arial, sans-serif, 'Apple Color Emoji', 'Segoe UI Emoji', 'Segoe UI Symbol'; padding: 4rem 2rem; direction: ltr\">\n",
       "<figure style=\"margin-bottom: 6rem\">\n",
       "<div class=\"entities\" style=\"line-height: 2.5; direction: ltr\">Esta tese parte da trajetória de \n",
       "<mark class=\"entity\" style=\"background: #ddd; padding: 0.45em 0.6em; margin: 0 0.25em; line-height: 1; border-radius: 0.35em;\">\n",
       "    Cincinato Franca\n",
       "    <span style=\"font-size: 0.8em; font-weight: bold; line-height: 1; border-radius: 0.35em; vertical-align: middle; margin-left: 0.5rem\">PER</span>\n",
       "</mark>\n",
       " (1860-1934), intelectual inserido em uma rede de profissionais liberais, homens e mulheres, negros e negras, brancos e brancas, voltados para a luta pela libertação de escravos. Após a abolição, \n",
       "<mark class=\"entity\" style=\"background: #ddd; padding: 0.45em 0.6em; margin: 0 0.25em; line-height: 1; border-radius: 0.35em;\">\n",
       "    Franca\n",
       "    <span style=\"font-size: 0.8em; font-weight: bold; line-height: 1; border-radius: 0.35em; vertical-align: middle; margin-left: 0.5rem\">PER</span>\n",
       "</mark>\n",
       " também se dedicou a outros ideais em defesa de trabalhadoras, trabalhadores e suas famílias. Esta empreitada investigativa busca reconstruir parcialmente o contexto e as experiências ligadas a esses intelectuais. A tese começa trazendo aquelas que forjaram as primeiras duas décadas de vida de \n",
       "<mark class=\"entity\" style=\"background: #ddd; padding: 0.45em 0.6em; margin: 0 0.25em; line-height: 1; border-radius: 0.35em;\">\n",
       "    Cincinato Franca\n",
       "    <span style=\"font-size: 0.8em; font-weight: bold; line-height: 1; border-radius: 0.35em; vertical-align: middle; margin-left: 0.5rem\">PER</span>\n",
       "</mark>\n",
       ", analisando as relações com suas origens socioeconômicas e familiares. Também foi possível reconstruir, ainda que parcialmente, sua trajetória enquanto educando, desde a instrução primária, passando pelo ensino secundário e até chegar a sua graduação como professor pela \n",
       "<mark class=\"entity\" style=\"background: #7aecec; padding: 0.45em 0.6em; margin: 0 0.25em; line-height: 1; border-radius: 0.35em;\">\n",
       "    Escola Normal da Bahia\n",
       "    <span style=\"font-size: 0.8em; font-weight: bold; line-height: 1; border-radius: 0.35em; vertical-align: middle; margin-left: 0.5rem\">ORG</span>\n",
       "</mark>\n",
       ". Sua trajetória profissional e intelectual como professor público primário começou na cidade de \n",
       "<mark class=\"entity\" style=\"background: #ff9561; padding: 0.45em 0.6em; margin: 0 0.25em; line-height: 1; border-radius: 0.35em;\">\n",
       "    Cachoeira\n",
       "    <span style=\"font-size: 0.8em; font-weight: bold; line-height: 1; border-radius: 0.35em; vertical-align: middle; margin-left: 0.5rem\">LOC</span>\n",
       "</mark>\n",
       ", a partir da década de 1880, durante o fervor das lutas abolicionistas. \n",
       "<mark class=\"entity\" style=\"background: #ddd; padding: 0.45em 0.6em; margin: 0 0.25em; line-height: 1; border-radius: 0.35em;\">\n",
       "    Cincinato Franca\n",
       "    <span style=\"font-size: 0.8em; font-weight: bold; line-height: 1; border-radius: 0.35em; vertical-align: middle; margin-left: 0.5rem\">PER</span>\n",
       "</mark>\n",
       " se engajou no movimento abolicionista \n",
       "<mark class=\"entity\" style=\"background: #ddd; padding: 0.45em 0.6em; margin: 0 0.25em; line-height: 1; border-radius: 0.35em;\">\n",
       "    cachoeirano\n",
       "    <span style=\"font-size: 0.8em; font-weight: bold; line-height: 1; border-radius: 0.35em; vertical-align: middle; margin-left: 0.5rem\">PER</span>\n",
       "</mark>\n",
       ", criando um clube abolicionista e oferecendo aulas noturnas para negros livres, libertos e até escravizados. Participou de meetings, reuniões, cortejos e festejos abolicionistas, além de estar presente em diversas notícias locais, e também de outras localidades, sobre a luta contra a escravidão. Articulou habilmente suas bandeiras de luta com sua atuação intelectual na instrução pública primária, tanto quando defendia a abolição como quando passou a defender os interesses de operários e trabalhadores em geral enquanto deputado da \n",
       "<mark class=\"entity\" style=\"background: #ff9561; padding: 0.45em 0.6em; margin: 0 0.25em; line-height: 1; border-radius: 0.35em;\">\n",
       "    Bahia\n",
       "    <span style=\"font-size: 0.8em; font-weight: bold; line-height: 1; border-radius: 0.35em; vertical-align: middle; margin-left: 0.5rem\">LOC</span>\n",
       "</mark>\n",
       ". Da mesma maneira, articulou meticulosamente suas relações com importantes personalidades políticas em sua luta pelos direitos da categoria docente, durante a greve do professorado baiano, em 1918 e 1919. Procurei reconstruir a dimensão da importância que a educação possuía naquele período, tanto para ele como para sua rede de sociabilidade, investigando sua valorização ou desvalorização, os motivos de sua defesa ou de sua utilização, entre outros. Por último, meu olhar, minha curiosidade e minha atenção se voltaram para os últimos anos da trajetória profissional, intelectual e política do professor \n",
       "<mark class=\"entity\" style=\"background: #ddd; padding: 0.45em 0.6em; margin: 0 0.25em; line-height: 1; border-radius: 0.35em;\">\n",
       "    Cincinato Franca\n",
       "    <span style=\"font-size: 0.8em; font-weight: bold; line-height: 1; border-radius: 0.35em; vertical-align: middle; margin-left: 0.5rem\">PER</span>\n",
       "</mark>\n",
       ", que chegou a ter relativo espaço e destaque na seara política e nos periódicos da cidade da \n",
       "<mark class=\"entity\" style=\"background: #ff9561; padding: 0.45em 0.6em; margin: 0 0.25em; line-height: 1; border-radius: 0.35em;\">\n",
       "    Bahia\n",
       "    <span style=\"font-size: 0.8em; font-weight: bold; line-height: 1; border-radius: 0.35em; vertical-align: middle; margin-left: 0.5rem\">LOC</span>\n",
       "</mark>\n",
       ", assim como de cidades de outros estados brasileiros, entre 1925 e 1934</div>\n",
       "</figure>\n",
       "</body>\n",
       "</html></span>"
      ],
      "text/plain": [
       "<IPython.core.display.HTML object>"
      ]
     },
     "metadata": {},
     "output_type": "display_data"
    },
    {
     "name": "stdout",
     "output_type": "stream",
     "text": [
      "\n",
      "Using the 'ent' visualizer\n",
      "Serving on http://0.0.0.0:5000 ...\n",
      "\n"
     ]
    },
    {
     "ename": "",
     "evalue": "",
     "output_type": "error",
     "traceback": [
      "\u001b[1;31mThe Kernel crashed while executing code in the current cell or a previous cell. \n",
      "\u001b[1;31mPlease review the code in the cell(s) to identify a possible cause of the failure. \n",
      "\u001b[1;31mClick <a href='https://aka.ms/vscodeJupyterKernelCrash'>here</a> for more info. \n",
      "\u001b[1;31mView Jupyter <a href='command:jupyter.viewOutput'>log</a> for further details."
     ]
    }
   ],
   "source": [
    "#displacy.serve(doc_pt, style=\"ent\")"
   ]
  },
  {
   "cell_type": "markdown",
   "metadata": {},
   "source": [
    "Coletando dados da Wikidata"
   ]
  },
  {
   "cell_type": "code",
   "execution_count": 346,
   "metadata": {},
   "outputs": [],
   "source": [
    "query = \"\"\" \n",
    "        \n",
    "        SELECT ?person ?abstract\n",
    "        WHERE{\n",
    "        ?person rdfs:label 'José do Patrocínio'@pt.\n",
    "        ?person a dbo:Person.\n",
    "        ?person dbo:abstract ?abstract.\n",
    "        FILTER (langMatches(lang(?abstract),\"pt\"))\n",
    "        \n",
    "        }\n",
    "        \"\"\"\n"
   ]
  },
  {
   "cell_type": "code",
   "execution_count": 347,
   "metadata": {},
   "outputs": [],
   "source": [
    "import requests\n",
    "\n",
    "url = 'http://dbpedia.org/sparql'\n",
    "\n",
    "r = requests.get(url, params = {'format': 'json', 'query': query})\n",
    "data = r.json()"
   ]
  },
  {
   "cell_type": "code",
   "execution_count": 348,
   "metadata": {},
   "outputs": [
    {
     "data": {
      "text/plain": [
       "{'head': {'link': [], 'vars': ['person', 'abstract']},\n",
       " 'results': {'distinct': False,\n",
       "  'ordered': True,\n",
       "  'bindings': [{'person': {'type': 'uri',\n",
       "     'value': 'http://dbpedia.org/resource/Tomás_Balduino'},\n",
       "    'abstract': {'type': 'literal',\n",
       "     'xml:lang': 'pt',\n",
       "     'value': 'Tomás Balduíno, O.P. (nome de nascimento Paulo Balduino de Sousa Décio, Posse, 31 de dezembro de 1922 — Goiânia, 2 de maio de 2014) foi um bispo e teólogo católico brasileiro, bispo-emérito de Goiás e assessor da Comissão Pastoral da Terra (CPT). Teve um papel de destaque dentro da Igreja Católica, nas questões referentes à reforma agrária e aos direitos dos povos indígenas. Participou da criação do Conselho Indigenista Missionário (Cimi), em 1972, da qual foi presidente entre 1980 e 1984, e da Comissão Pastoral da Terra, (CPT) em 1975, que presidiu de 1999 a 2005.'}}]}}"
      ]
     },
     "execution_count": 348,
     "metadata": {},
     "output_type": "execute_result"
    }
   ],
   "source": [
    "data"
   ]
  },
  {
   "cell_type": "code",
   "execution_count": null,
   "metadata": {},
   "outputs": [],
   "source": []
  }
 ],
 "metadata": {
  "kernelspec": {
   "display_name": ".venv-IndigSlave",
   "language": "python",
   "name": "python3"
  },
  "language_info": {
   "codemirror_mode": {
    "name": "ipython",
    "version": 3
   },
   "file_extension": ".py",
   "mimetype": "text/x-python",
   "name": "python",
   "nbconvert_exporter": "python",
   "pygments_lexer": "ipython3",
   "version": "3.11.9"
  }
 },
 "nbformat": 4,
 "nbformat_minor": 2
}
