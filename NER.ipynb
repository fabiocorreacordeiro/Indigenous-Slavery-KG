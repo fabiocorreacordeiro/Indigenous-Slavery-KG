{
 "cells": [
  {
   "cell_type": "code",
   "execution_count": 62,
   "metadata": {},
   "outputs": [],
   "source": [
    "#!python -m spacy download pt_core_news_lg\n",
    "#%pip install -U scikit-learn"
   ]
  },
  {
   "cell_type": "code",
   "execution_count": 1,
   "metadata": {},
   "outputs": [],
   "source": [
    "import os\n",
    "import io\n",
    "import stardog\n",
    "import pandas as pd\n",
    "import spacy\n",
    "from spacy import displacy\n",
    "from sklearn.cluster import DBSCAN\n",
    "import numpy as np\n",
    "import requests"
   ]
  },
  {
   "cell_type": "markdown",
   "metadata": {},
   "source": [
    "### Specify Stardog connection details"
   ]
  },
  {
   "cell_type": "code",
   "execution_count": 2,
   "metadata": {},
   "outputs": [],
   "source": [
    "# Stardog variables\n",
    "STARDOG_ENDPOINT = os.getenv('STARDOG_ENDPOINT')\n",
    "STARDOG_USERNAME = os.getenv(\"STARDOG_USERNAME\")\n",
    "STARDOG_PASSWORD = os.getenv(\"STARDOG_PASSWORD\")\n",
    "\n",
    "connection_details = {\n",
    "    'endpoint': STARDOG_ENDPOINT,\n",
    "    'username': STARDOG_USERNAME,\n",
    "    'password': STARDOG_PASSWORD\n",
    "}"
   ]
  },
  {
   "cell_type": "code",
   "execution_count": 3,
   "metadata": {},
   "outputs": [],
   "source": [
    "database_name = 'IndigenousSlavery'\n",
    "conn = stardog.Connection(database_name, **connection_details)"
   ]
  },
  {
   "cell_type": "code",
   "execution_count": 4,
   "metadata": {},
   "outputs": [
    {
     "data": {
      "text/html": [
       "<div>\n",
       "<style scoped>\n",
       "    .dataframe tbody tr th:only-of-type {\n",
       "        vertical-align: middle;\n",
       "    }\n",
       "\n",
       "    .dataframe tbody tr th {\n",
       "        vertical-align: top;\n",
       "    }\n",
       "\n",
       "    .dataframe thead th {\n",
       "        text-align: right;\n",
       "    }\n",
       "</style>\n",
       "<table border=\"1\" class=\"dataframe\">\n",
       "  <thead>\n",
       "    <tr style=\"text-align: right;\">\n",
       "      <th></th>\n",
       "      <th>thesis</th>\n",
       "      <th>abstract</th>\n",
       "      <th>lang</th>\n",
       "    </tr>\n",
       "  </thead>\n",
       "  <tbody>\n",
       "    <tr>\n",
       "      <th>0</th>\n",
       "      <td>tag:stardog:api:com_a_condicao_de_servir_gratu...</td>\n",
       "      <td>A presente pesquisa parte da emancipação de es...</td>\n",
       "      <td>pt</td>\n",
       "    </tr>\n",
       "    <tr>\n",
       "      <th>1</th>\n",
       "      <td>tag:stardog:api:educando_libertos_escravizados...</td>\n",
       "      <td>Esta tese parte da trajetória de Cincinato Fra...</td>\n",
       "      <td>pt</td>\n",
       "    </tr>\n",
       "    <tr>\n",
       "      <th>2</th>\n",
       "      <td>tag:stardog:api:marambaia_historia_memoria_e_d...</td>\n",
       "      <td>A presente tese se desdobra em dois objetivos ...</td>\n",
       "      <td>pt</td>\n",
       "    </tr>\n",
       "    <tr>\n",
       "      <th>3</th>\n",
       "      <td>tag:stardog:api:mulheres_negras_politicas_iden...</td>\n",
       "      <td>O objetivo do presente estudo é conhecer as in...</td>\n",
       "      <td>pt</td>\n",
       "    </tr>\n",
       "    <tr>\n",
       "      <th>4</th>\n",
       "      <td>tag:stardog:api:os_sentidos_da_liberdade_traje...</td>\n",
       "      <td>Esta tese acompanhará trajetórias individuais ...</td>\n",
       "      <td>pt</td>\n",
       "    </tr>\n",
       "    <tr>\n",
       "      <th>...</th>\n",
       "      <td>...</td>\n",
       "      <td>...</td>\n",
       "      <td>...</td>\n",
       "    </tr>\n",
       "    <tr>\n",
       "      <th>95</th>\n",
       "      <td>tag:stardog:api:reforma_agraria_e_preco_justo_...</td>\n",
       "      <td>Dissertação (mestrado)—Universidade de Brasíli...</td>\n",
       "      <td>pt</td>\n",
       "    </tr>\n",
       "    <tr>\n",
       "      <th>96</th>\n",
       "      <td>tag:stardog:api:o_trabalho_domestico_e_a_segun...</td>\n",
       "      <td>Dissertação (mestrado)—Universidade de Brasíli...</td>\n",
       "      <td>pt</td>\n",
       "    </tr>\n",
       "    <tr>\n",
       "      <th>97</th>\n",
       "      <td>tag:stardog:api:outras_faces_do_abolicionismo_...</td>\n",
       "      <td>Tese (doutorado)—Universidade de Brasília, Ins...</td>\n",
       "      <td>pt</td>\n",
       "    </tr>\n",
       "    <tr>\n",
       "      <th>98</th>\n",
       "      <td>tag:stardog:api:para_depois_da_escravidao_os_p...</td>\n",
       "      <td>O objetivo desta pesquisa é realizar uma refle...</td>\n",
       "      <td>pt</td>\n",
       "    </tr>\n",
       "    <tr>\n",
       "      <th>99</th>\n",
       "      <td>tag:stardog:api:abolicionismo_e_americanismo_e...</td>\n",
       "      <td>Dissertação (mestrado) - Universidade Federal ...</td>\n",
       "      <td>pt</td>\n",
       "    </tr>\n",
       "  </tbody>\n",
       "</table>\n",
       "<p>100 rows × 3 columns</p>\n",
       "</div>"
      ],
      "text/plain": [
       "                                               thesis  \\\n",
       "0   tag:stardog:api:com_a_condicao_de_servir_gratu...   \n",
       "1   tag:stardog:api:educando_libertos_escravizados...   \n",
       "2   tag:stardog:api:marambaia_historia_memoria_e_d...   \n",
       "3   tag:stardog:api:mulheres_negras_politicas_iden...   \n",
       "4   tag:stardog:api:os_sentidos_da_liberdade_traje...   \n",
       "..                                                ...   \n",
       "95  tag:stardog:api:reforma_agraria_e_preco_justo_...   \n",
       "96  tag:stardog:api:o_trabalho_domestico_e_a_segun...   \n",
       "97  tag:stardog:api:outras_faces_do_abolicionismo_...   \n",
       "98  tag:stardog:api:para_depois_da_escravidao_os_p...   \n",
       "99  tag:stardog:api:abolicionismo_e_americanismo_e...   \n",
       "\n",
       "                                             abstract lang  \n",
       "0   A presente pesquisa parte da emancipação de es...   pt  \n",
       "1   Esta tese parte da trajetória de Cincinato Fra...   pt  \n",
       "2   A presente tese se desdobra em dois objetivos ...   pt  \n",
       "3   O objetivo do presente estudo é conhecer as in...   pt  \n",
       "4   Esta tese acompanhará trajetórias individuais ...   pt  \n",
       "..                                                ...  ...  \n",
       "95  Dissertação (mestrado)—Universidade de Brasíli...   pt  \n",
       "96  Dissertação (mestrado)—Universidade de Brasíli...   pt  \n",
       "97  Tese (doutorado)—Universidade de Brasília, Ins...   pt  \n",
       "98  O objetivo desta pesquisa é realizar uma refle...   pt  \n",
       "99  Dissertação (mestrado) - Universidade Federal ...   pt  \n",
       "\n",
       "[100 rows x 3 columns]"
      ]
     },
     "execution_count": 4,
     "metadata": {},
     "output_type": "execute_result"
    }
   ],
   "source": [
    "query = \"\"\"\n",
    "SELECT ?thesis ?abstract (lang(?abstract) AS ?lang) WHERE {\n",
    "  ?thesis a <http://purl.org/ontology/bibo/Thesis>.\n",
    "  ?thesis <http://purl.org/ontology/bibo/abstract> ?abstract.\n",
    "  FILTER (langMatches(lang(?abstract),\"pt\"))\n",
    "}\n",
    "LIMIT 100\n",
    "\"\"\"\n",
    "#  FILTER (langMatches(lang(?abstract),\"en\"))\n",
    "# FILTER (lang(?abstract) NOT IN(\"pt\", \"en\"))\n",
    "\n",
    "csv_results = conn.select(query, content_type='text/csv')\n",
    "thesis_abstract = pd.read_csv(io.BytesIO(csv_results))\n",
    "thesis_abstract\n"
   ]
  },
  {
   "cell_type": "code",
   "execution_count": 5,
   "metadata": {},
   "outputs": [],
   "source": [
    "#nlp_en = spacy.load(\"en_core_web_trf\")\n",
    "nlp_pt = spacy.load(\"pt_core_news_lg\")\n",
    "\n",
    "instances_dic = {}\n",
    "\n",
    "for n in range(len(thesis_abstract)):\n",
    "\n",
    "    doc_pt = nlp_pt(thesis_abstract['abstract'][n])\n",
    "    persons = []\n",
    "    gpes = []\n",
    "    orgs = []\n",
    "    for ent in doc_pt.ents:\n",
    "        if ent.label_ == \"PER\": #\"PERSON\":\n",
    "            persons.append(ent)\n",
    "        if ent.label_ == \"LOC\": #\"GPE\":\n",
    "            gpes.append(ent)\n",
    "        if ent.label_ == \"ORG\":\n",
    "            orgs.append(ent)\n",
    "\n",
    "    instances_dic[thesis_abstract['thesis'][n].replace('tag:stardog:api:','')] = {'PER':persons, 'LOC':gpes, 'ORG':orgs}\n",
    "    \n",
    "#    print(ent.text, ent.start_char, ent.end_char, ent.label_)\n",
    "\n",
    "#for ent in doc_pt.ents:\n",
    "#    print(ent.text, ent.start_char, ent.end_char, ent.label_)"
   ]
  },
  {
   "cell_type": "code",
   "execution_count": 6,
   "metadata": {},
   "outputs": [],
   "source": [
    "#total = 0\n",
    "#total_set = 0\n",
    "#for i in instances_dic:\n",
    "\n",
    "#    if instances_dic[i]['PER'] != []:\n",
    "#        total = total + len(instances_dic[i]['PER'])\n",
    "#        total_set = total_set + len(set(instances_dic[i]['PER']))\n",
    "#        print (instances_dic[i]['PER'])\n",
    "#print (total, total_set)\n"
   ]
  },
  {
   "cell_type": "code",
   "execution_count": 7,
   "metadata": {},
   "outputs": [],
   "source": [
    "# Para uma lista de entidades verificar se são a mesma instância e qual o termo mais comum para representá-las\n",
    "\n",
    "def entidades_consolidadas(list_ent, th):\n",
    "    \n",
    "    if list_ent == []:\n",
    "        return None\n",
    "\n",
    "    # lista com os vetores das entidades\n",
    "    list_vectors = np.array([i.vector for i in list_ent])\n",
    "\n",
    "    #clusterizando os vetores de acordo com threshold th\n",
    "    clustering = DBSCAN(eps=1-th, min_samples=1, metric='cosine').fit(list_vectors)\n",
    "\n",
    "    #processnado os clusters \n",
    "    ents_dic ={}\n",
    "\n",
    "    for i in set(clustering.labels_):\n",
    "        clus_index = np.where(clustering.labels_ == i)[0]\n",
    "        clus_ent = np.take(np.array(list_ent, dtype=\"object\"), clus_index)\n",
    "\n",
    "        label = []\n",
    "        vec = []\n",
    "        for ent in clus_ent:\n",
    "            vec.append(ent.vector)\n",
    "            label.append(ent.text)\n",
    "\n",
    "        ents_dic[max(set(label), key=label.count)] = {'labels': list(set(label)), 'vector': np.average(vec, axis=0)}\n",
    "\n",
    "    return ents_dic\n",
    "\n"
   ]
  },
  {
   "cell_type": "code",
   "execution_count": 8,
   "metadata": {},
   "outputs": [],
   "source": [
    "th = 0.75\n",
    "#list_ent = instances_dic['vivencias_e_experiencias_associativas_negras_em_bagers_no_posabolicao_imprensa_carnaval_e_clubes_sociais_negros_na_fronteira_sul_do_brasil_19131980']['LOC']\n",
    "#list_ent = instances_dic['com_a_condicao_de_servir_gratuitamente_a_mim_ou_a_meus_herdeiros__alforrias_contratos_e_experiencias_de_trabalho_de_libertos_porto_alegre_1884__1888']['LOC']\n",
    "\n",
    "for key in instances_dic:\n",
    "    for type_ent in instances_dic[key]:\n",
    "        list_ent = instances_dic[key][type_ent]\n",
    "        instances_dic[key][type_ent] = entidades_consolidadas(list_ent, th)\n",
    "#entidades_consolidadeas(list_ent, th)\n"
   ]
  },
  {
   "cell_type": "markdown",
   "metadata": {},
   "source": [
    "Coletando dados da Wikidata"
   ]
  },
  {
   "cell_type": "code",
   "execution_count": 9,
   "metadata": {},
   "outputs": [],
   "source": [
    "people_labels = []\n",
    "\n",
    "for key in instances_dic:\n",
    "    #for type_ent in instances_dic[key]:\n",
    "    type_ent = 'PER'\n",
    "    list_ent = instances_dic[key][type_ent]\n",
    "    if list_ent != None:\n",
    "        for ent in list_ent:\n",
    "            people_labels = people_labels + list_ent[ent]['labels']\n",
    "\n",
    "dbpedia_people = []\n",
    "\n",
    "for per in set(people_labels):\n",
    "\n",
    "    query = \"\"\"     \n",
    "        SELECT ?person ?abstract\n",
    "        WHERE{\n",
    "        ?person rdfs:label '\"\"\" + per + \"\"\"'@pt.\n",
    "        ?person a dbo:Person.\n",
    "        ?person dbo:abstract ?abstract.\n",
    "        FILTER (langMatches(lang(?abstract),\"pt\"))\n",
    "        }\n",
    "        \"\"\"\n",
    "\n",
    "    url = 'http://dbpedia.org/sparql'\n",
    "\n",
    "    r = requests.get(url, params = {'format': 'json', 'query': query})\n",
    "    data = r.json()\n",
    "\n",
    "    if data['results']['bindings'] != []:\n",
    "        dbpedia_people.append((data['results']['bindings'][0]['person']['value'], data['results']['bindings'][0]['abstract']['value']))\n",
    "\n"
   ]
  },
  {
   "cell_type": "code",
   "execution_count": 12,
   "metadata": {},
   "outputs": [
    {
     "data": {
      "text/plain": [
       "[('http://dbpedia.org/resource/Deodoro_da_Fonseca',\n",
       "  'Manuel Deodoro da Fonseca (Alagoas da Lagoa do Sul, 5 de agosto de 1827 – Rio de Janeiro, 23 de agosto de 1892) foi um militar e político brasileiro, primeiro presidente do Brasil e uma das figuras centrais da Proclamação da República no país. Após cursar artilharia na Escola Militar do Rio de Janeiro entre 1843 e 1847, participou de algumas campanhas militares durante o Império, dentre as quais se destacam a Revolução Praieira, o cerco de Montevidéu e a Guerra do Paraguai. Em 1885, tornou-se vice-presidente da província de São Pedro do Rio Grande do Sul; no ano seguinte, com a renúncia do então presidente Barão de Lucena, Deodoro torna-se presidente do Rio Grande. Devido ao seu envolvimento no que ficou conhecido como a Questão Militar — embates entre as forças armadas e o governo civil imperial, — retornou ao Rio de Janeiro. Nomeado para o comando militar da província de Mato Grosso em 1888, exonerou-se do cargo no ano seguinte, face à nomeação do último gabinete ministerial do Império, encabeçado pelo Presidente do Conselho de Ministros Visconde de Ouro Preto. Em meio a diversas crises que assolavam a monarquia brasileira, Deodoro liderou o golpe de Estado que depôs o Império e proclamou a república no país. Com a mudança de sistema de governo, Deodoro assumiu o comando do país na qualidade de chefe do Governo Provisório da República. As primeiras mudanças de seu governo envolviam a criação do Código Penal Brasileiro, a reforma do Código Comercial do Brasil e medidas que oficializavam a separação da Igreja e o Estado, tais como a instituição do casamento civil e a laicização de cemitérios. No plano econômico, ocorreu a chamada crise do Encilhamento, caracterizada por uma grande bolha especulativa e inflação alta, devido às políticas econômicas de seu Ministro da Fazenda Ruy Barbosa. Em 1891, foi promulgada a primeira constituição republicana do país e Deodoro foi eleito presidente em sufrágio indireto. Seu governo constitucional foi marcado por forte tensão política entre suas tendências centralizadoras e as inclinações federalistas da sociedade civil e de parte dos militares, que levou à dissolução do Congresso Nacional. Sob a ameaça da Primeira Revolta da Armada, Deodoro renunciou à presidência em 23 de novembro de 1891. No ano seguinte, morreu no dia 23 de agosto, vítima de uma forte crise de dispneia.'),\n",
       " ('http://dbpedia.org/resource/Edgar_Allan_Poe',\n",
       "  'Edgar Allan Poe (nascido Edgar Poe; Boston, em Massachusetts, nos Estados Unidos, 19 de janeiro de 1809 – Baltimore, em Maryland, nos Estados Unidos, 7 de outubro de 1849) foi um autor, poeta, editor e crítico literário estadunidense, integrante do movimento romântico em seu país. Conhecido por suas histórias que envolvem o mistério e o macabro, Poe foi um dos primeiros escritores norte-americanos de contos e é, geralmente, considerado o inventor do gênero ficção policial, também recebendo crédito por sua contribuição ao emergente gênero de ficção científica. Ele foi o primeiro escritor americano conhecido por tentar ganhar a vida através da escrita por si só, resultando em uma vida e carreira financeiramente difíceis. Ele nasceu como Edgar Poe, em Boston, em Massachusetts. Quando jovem, ficou órfão de mãe, a qual morreu pouco depois de seu pai abandonar a família. Poe foi acolhido por Francis Allan e o seu marido John Allan, de Richmond, na Virgínia, mas nunca foi formalmente adotado. Ele frequentou a Universidade da Virgínia por um semestre, passando a maior parte do tempo entre bebidas e mulheres. Nesse período, teve uma séria discussão com seu pai adotivo e fugiu de casa para se alistar nas forças armadas, onde serviu durante dois anos antes de ser dispensado. Depois de falhar como cadete em West Point, deixou a sua família adotiva. Sua carreira começou humildemente com a publicação de uma coleção anônima de poemas, Tamerlane and Other Poems (1827). Poe mudou seu foco para a prosa e passou os anos seguintes trabalhando para revistas e jornais, tornando-se conhecido por seu estilo próprio de crítica literária. Seu trabalho obrigou-o a se mudar para diversas cidades, incluindo Baltimore, Filadélfia e Nova Iorque. Em Baltimore, casou-se com Virginia Clemm, sua prima de 13 anos de idade. Em 1845, Poe publicou seu poema The Raven, o qual foi um sucesso instantâneo. Sua esposa morreu de tuberculose dois anos após a publicação. Ele começou a planejar a criação de seu próprio jornal, The Penn (posteriormente renomeado para The Stylus), porém, em 7 de outubro de 1849, aos 40 anos, morreu antes que o jornal pudesse ser produzido. A causa de sua morte é desconhecida e foi, por diversas vezes, atribuída ao álcool, congestão cerebral, cólera, drogas, doenças cardiovasculares, raiva, suicídio, tuberculose, entre outros agentes. Suas obras influenciaram a literatura nos Estados Unidos e ao redor do mundo, bem como em campos especializados, tais como a cosmologia e a criptografia. Poe e seu trabalho aparecem ao longo da cultura popular na literatura, música, filmes e televisão. Várias de suas casas são dedicadas como museus atualmente.'),\n",
       " ('http://dbpedia.org/resource/Mikhail_Bakhtin',\n",
       "  'Mikhail Mikhailovich Bakhtin (russo: Михаи́л Миха́йлович Бахти́н; 17 de novembro de 1895, Oriol — 7 de março de 1975, Moscou) foi um filósofo e pensador russo, teórico da cultura europeia e das artes. Bakhtin foi um verdadeiro pesquisador da linguagem humana, seus escritos, em uma variedade de assuntos, inspiraram trabalhos de estudiosos em um número de diferentes tradições (o marxismo, a semiótica, estruturalismo, a crítica religiosa) e em disciplinas tão diversas como a crítica literária, história, filosofia, antropologia e psicologia. Embora Bakhtin fosse ativo nos debates sobre estética e literatura que tiveram lugar na União Soviética na década de 1920, sua posição de destaque não se tornou bem conhecida até que ele foi redescoberto por estudiosos russos na década de 1960. É criador de uma nova teoria sobre o romance europeu, incluindo o conceito de polifonia em uma obra literária. Explorando os princípios artísticos do romance, François Rabelais, Bakhtin desenvolveu a teoria de uma cultura universal de humor popular. Ele é dono de conceitos literários como polifonia e , , , (um eufemismo em relação à linha principal e levando o desenvolvimento do romance europeu no \"grande momento\"). Bakhtin é autor de diversas obras sobre questões teóricas gerais, o estilo e a teoria de gêneros do discurso. Ele é o líder intelectual de estudos científicos e filosóficos desenvolvidos por um grupo de estudiosos russos, que ficou conhecido como o \"Círculo de Bakhtin\".'),\n",
       " ('http://dbpedia.org/resource/Cross',\n",
       "  'Cruz (do latim cruce) é uma figura geométrica, formada por duas linhas ou barras que se cruzam em ângulo de 90°, dividindo uma das linhas, ou ambas, ao meio. As linhas normalmente se apresentam na horizontal e na vertical; se estiverem na diagonal, a figura é chamada de sautor, ou aspa. A cruz é um dos símbolos humanos mais antigos e é usada por diversas religiões, principalmente a católica. Alguns cristãos não a usam como símbolo, como por exemplo as Testemunhas de Jeová Na subcultura gótica, surgida ao final da década de 1970, o símbolo geralmente representa sofrimento, dor ou angústia'),\n",
       " ('http://dbpedia.org/resource/Leon_Festinger',\n",
       "  'Leon Festinger (8 de maio de 1919 - 11 de fevereiro de 1989) foi um psicólogo da cidade de Nova Iorque que se tornou famoso pelo desenvolvimento da Teoria da Dissonância Cognitiva. Festinger se tornou bacharel em ciência pelo City College de Nova Iorque em 1939. Após completar seus estudos na graduação, ingressou na Universidade de Iowa e recebeu seu título de Ph.D em 1942. Kurt Lewin, aclamado como o pai da psicologia social orientou Festinger. O psicólogo novaiorquino também desenvolveu a teoria da comparação social, na qual segundo ele, as pessoas avaliam seus desejos e opiniões através da comparação com outros indivíduos.'),\n",
       " ('http://dbpedia.org/resource/Machado_de_Assis',\n",
       "  'Joaquim Maria Machado de Assis (Rio de Janeiro, 21 de junho de 1839 – Rio de Janeiro, 29 de setembro de 1908) foi um escritor brasileiro, considerado por muitos críticos, estudiosos, escritores e leitores o maior nome da literatura brasileira. Escreveu em praticamente todos os gêneros literários, sendo poeta, romancista, cronista, dramaturgo, contista, folhetinista, jornalista e crítico literário. Testemunhou a Abolição da escravatura e a mudança política no país quando a República substituiu o Império, além das mais diversas reviravoltas pelo mundo em finais do século XIX e início do XX, tendo sido grande comentador e relator dos eventos político-sociais de sua época. Nascido no Morro do Livramento, Rio de Janeiro, de uma família pobre, mal estudou em escolas públicas e nunca frequentou universidade. Para o considerado crítico literário norte-americano Harold Bloom, Machado de Assis é o maior escritor negro de todos os tempos, embora outros estudiosos prefiram especificar que Machado era mestiço, filho de um descendente de negros alforriados com portugueses e de uma lavadeira portuguesa. Seus biógrafos notam que, interessado pela boemia e pela corte, lutou para subir socialmente abastecendo-se de superioridade intelectual e da cultura da capital brasileira. Para isso, assumiu diversos cargos públicos, passando pelo Ministério da Agricultura, do Comércio e das Obras Públicas, e conseguindo precoce notoriedade em jornais onde publicava suas primeiras poesias e crônicas. Machado de Assis pôde assistir, durante sua vida, que abarca o final da primeira metade do século XIX até os anos iniciais do século XX, a enormes mudanças históricas na política, na economia e na sociedade brasileira e também mundial. Em sua maturidade, reunido a intelectuais e colegas próximos, fundou e foi o primeiro presidente unânime da Academia Brasileira de Letras. A extensa obra machadiana constitui-se de dez romances, 205 contos, dez peças teatrais, cinco coletâneas de poemas e sonetos, e mais de seiscentas crônicas. Machado de Assis é considerado o introdutor do Realismo no Brasil, com a publicação de Memórias Póstumas de Brás Cubas (1881). Este romance é posto ao lado de todas suas produções posteriores, Quincas Borba, Dom Casmurro, Esaú e Jacó e Memorial de Aires, ortodoxamente conhecidas como pertencentes à sua segunda fase, em que notam-se traços de crítica social, ironia e até pessimismo, embora não haja rompimento de resíduos românticos. Dessa fase, os críticos destacam que suas melhores obras são as do que se passou a chamar de \"Trilogia Realista\". Sua primeira fase literária é constituída de obras como Ressurreição, A Mão e a Luva, Helena e Iaiá Garcia, onde notam-se características herdadas do Romantismo, ou \"convencionalismo\", como prefere a crítica moderna. Sua obra foi de fundamental importância para as escolas literárias brasileiras do século XIX e do século XX e surge nos dias de hoje como de grande interesse acadêmico e público para entender o Brasil e o mundo. Influenciou grandes nomes das letras, como Olavo Bilac, Lima Barreto, Drummond de Andrade, John Barth, Donald Barthelme e muitos outros. Ainda em vida, alcançou fama e prestígio pelo Brasil e países vizinhos. Hoje em dia, por sua inovação literária e por sua audácia em temas sociais e precoces, é frequentemente visto como o escritor brasileiro de produção sem precedentes, de modo que, recentemente, seu nome e sua obra têm alcançado diversos críticos, influenciados, estudiosos e admiradores do mundo inteiro. Machado de Assis é considerado um dos grandes gênios da história da literatura, ao lado de autores como Dante, Shakespeare e Camões. Machado de Assis e Eça de Queiroz são considerados os dois maiores escritores em língua portuguesa do século XIX. Foi incluído na lista oficial dos Heróis Nacionais do Brasil e é homenageado pelo principal prêmio literário brasileiro, o Prêmio Machado de Assis.'),\n",
       " ('http://dbpedia.org/resource/João_Maurício_Vanderlei,_Baron_of_Cotegipe',\n",
       "  'João Maurício Wanderley, o Barão de Cotegipe (São Francisco de Chagas da Barra do Rio Grande, 23 de outubro de 1815 — Capitania de Pernambuco, 13 de fevereiro de 1889), também escrito como Vanderlei, foi um nobre, magistrado, político brasileiro, membro do Partido Conservador. Um dos principais políticos conservadores do Segundo reinado, foi presidente do Conselho de Ministros de 1885 a 1888, além de presidente do Senado Federal, ministro das Relações Exteriores, ministro da Fazenda, ministro da Marinha, presidente do Banco do Brasil e senador pela Província da Bahia por mais de três décadas.'),\n",
       " ('http://dbpedia.org/resource/Roderic',\n",
       "  'Rodrigo (em gótico: 𐌷𐍂𐍉𐌸𐌰𐍂𐌴𐌹𐌺𐍃; romaniz.: Hroþareiks; nas línguas germânicas: Ruderic, Roderic, Roderik, Roderich ou Roderick; em latim: Rodericus; em árabe: لذريق; Ludharīq; Córdova c.\\u2009687/688? — c.\\u2009711?) foi rei visigodo da Hispânia de 710 a 711. Com ele terminou o Reino Visigótico. Foi o lendário \"último rei dos godos\". Historicamente, pouco pode ser dito com exatidão sobre o seu reinado, exceto que governou parte da Península Ibérica ao mesmo tempo em que seus adversários governavam o resto do território e que foi derrotado e morto pelos muçulmanos, que conquistariam a maior parte da Península.'),\n",
       " ('http://dbpedia.org/resource/Zygmunt_Bauman',\n",
       "  'Zygmunt Bauman (Poznań, Polônia, 19 de novembro de 1925 – Leeds, Reino Unido, 9 de janeiro de 2017) foi um sociólogo e filósofo polonês, professor emérito de sociologia das universidades de Leeds e Varsóvia.'),\n",
       " ('http://dbpedia.org/resource/André_Rebouças',\n",
       "  'André Pinto Rebouças (Vila de Nossa Senhora do Rosário do Porto da Cachoeira, 13 de janeiro de 1838 — Funchal, 9 de maio de 1898) foi um engenheiro, inventor e abolicionista brasileiro. Um dos mais importantes articuladores do movimento Abolicionista e monarquista, partiu para o exílio, juntamente com a família imperial, após a proclamação da república, em 15 de novembro de 1889. Passou os seis últimos anos de sua vida trabalhando pelo desenvolvimento de territórios africanos.'),\n",
       " ('http://dbpedia.org/resource/José_de_Alencar',\n",
       "  'José Martiniano de Alencar (Messejana, 1 de maio de 1829 — Rio de Janeiro, 12 de dezembro de 1877) foi um escritor e político brasileiro. É notável como escritor por ter sido o fundador do romance de temática nacional, e por ser o patrono da cadeira fundada por Machado de Assis na Academia Brasileira de Letras. Na carreira política, foi notória a sua tenaz defesa da escravidão no Brasil quando ministro da Justiça do segundo reinado (ver Gabinete Itaboraí de 1868). Era neto de Bárbara de Alencar, uma heroína da Revolução Pernambucana.'),\n",
       " ('http://dbpedia.org/resource/Angela_Davis',\n",
       "  'Angela Yvonne Davis (Birmingham, 26 de janeiro de 1944) é uma professora e filósofa socialista estadunidense que alcançou notoriedade mundial na década de 1970 como integrante do Partido Comunista dos Estados Unidos, dos Panteras Negras, por sua militância pelos direitos das mulheres e contra a discriminação social e racial nos Estados Unidos, referência entre os marxistas e por ser personagem de um dos mais polêmicos e famosos julgamentos criminais da recente história dos EUA.'),\n",
       " ('http://dbpedia.org/resource/Napoleon',\n",
       "  'Napoleão (Ajaccio, 15 de agosto de 1769 – Longwood, 5 de maio de 1821) foi um estadista e líder militar francês que ganhou destaque durante a Revolução Francesa e liderou várias campanhas militares de sucesso durante as Guerras Revolucionárias Francesas. Foi imperador dos franceses como Napoleão I de 1804 a 1814 e brevemente em 1815 durante os Cem Dias. Napoleão dominou os assuntos europeus e globais por mais de uma década, enquanto liderava a França contra uma série de coalizões nas guerras napoleônicas. Ele venceu a maioria desses conflitos e a grande maioria de suas batalhas, construindo um grande império que governava grande parte da Europa continental antes de seu colapso final em 1815. Ele é considerado um dos maiores comandantes da história e suas guerras e campanhas são estudadas em escolas militares em todo o mundo. O legado político e cultural de Napoleão perdurou como um dos líderes mais célebres e controversos da história da humanidade. Ele nasceu na Córsega de uma família italiana relativamente modesta, da nobreza menor. Ele estava servindo como oficial de artilharia no exército francês quando a Revolução Francesa eclodiu em 1789. Ele rapidamente subiu nas fileiras dos militares, aproveitando as novas oportunidades apresentadas pela Revolução e tornando-se general aos 24 anos. O Diretório Francês acabou por lhe dar o comando do Exército da Itália depois que ele suprimiu a revolta dos 13 Vendémiaire contra o governo dos insurgentes realistas. Aos 26 anos, ele iniciou sua primeira campanha militar contra os austríacos e os monarcas italianos alinhados com os Habsburgos, sendo que venceu praticamente todas as batalhas e conquistou a Península Italiana em um ano, enquanto estabelecia \"repúblicas irmãs\" com apoio local e se tornando um herói de guerra na França. Em 1798, ele liderou uma expedição militar ao Egito que serviu de trampolim para o poder político. Ele orquestrou um golpe em novembro de 1799 e se tornou o primeiro cônsul da República. Na primeira década do século XIX, o império francês sob comando de Napoleão se envolveu em uma série de conflitos com todas as grandes potências europeias, as Guerras Napoleônicas. Após uma sequência de vitórias, a França garantiu uma posição dominante na Europa continental, e Napoleão manteve a esfera de influência da França, através da formação de amplas alianças e a nomeação de amigos e familiares para governar os outros países europeus como dependentes da França. As campanhas de Napoleão são até hoje estudadas nas academias militares de quase todo o mundo. A Campanha da Rússia em 1812 marcou uma virada na sorte de Napoleão. Seu Grande Armée foi seriamente danificado na campanha e nunca se recuperou totalmente. Em 1813, a Sexta Coligação derrotou suas forças em Leipzig. No ano seguinte, a coligação invadiu a França, forçou Napoleão a abdicar e o exilou na ilha de Elba. Napoleão escapou de Elba em fevereiro de 1815 e assumiu o controle da França mais uma vez. Os Aliados responderam formando uma Sétima Coalizão que o derrotou na Batalha de Waterloo, em junho. Os britânicos o exilaram para a remota ilha de Santa Helena, no Atlântico Sul, onde morreu seis anos depois, aos 51 anos. A influência de Napoleão no mundo moderno trouxe reformas liberais para os vários territórios que ele conquistou e controlou, como os Países Baixos, a Suíça e grandes partes da Itália e da Alemanha modernas. Ele implementou políticas liberais fundamentais na França e em toda a Europa Ocidental. Seu Código Napoleônico influenciou os sistemas legais de mais de 70 nações em todo o mundo. O historiador britânico Andrew Roberts declara: \"As ideias que sustentam nosso mundo moderno — meritocracia, igualdade perante a lei, direitos de propriedade, tolerância religiosa, educação secular moderna, finanças sólidas etc. — foram defendidas, consolidadas, codificadas e estendidas geograficamente por Napoleão. Além disso, ele também acrescentou uma administração local racional e eficiente, o fim do banditismo rural, o incentivo à ciência e às artes, a abolição do feudalismo e a maior codificação de leis desde a queda do Império Romano\".'),\n",
       " ('http://dbpedia.org/resource/Floriano_Peixoto',\n",
       "  'Floriano Vieira Peixoto (Maceió, 30 de abril de 1839 – Barra Mansa, 29 de junho de 1895) foi um militar e político brasileiro, primeiro vice-presidente e segundo presidente do Brasil, cujo governo abrange a maior parte do período da história brasileira conhecido como República da Espada.'),\n",
       " ('http://dbpedia.org/resource/Stuart_Hall_(cultural_theorist)',\n",
       "  'Stuart Hall (Kingston, 3 de fevereiro de 1932 — Londres, 10 de fevereiro de 2014) foi um teórico cultural e sociólogo britânico-jamaicano que viveu e atuou no Reino Unido a partir de 1951. Hall, juntamente com e Raymond Williams, foi uma das figuras fundadoras da escola de pensamento que hoje é conhecida como Estudos Culturais britânicos ou a escola Birmingham dos Estudos Culturais. Ele foi presidente da entre 1995 e 1997. Na década de 1950, Hall foi um dos fundadores da influente revista New Left Review. A convite de Hoggart, Hall entrou para o Centro de Estudos de Cultura Contemporânea da Universidade de Birmingham em 1964. Hall assumiu a direção desse centro em 1968 e lá permaneceu até 1979. Stuart Hall é reconhecido por expandir o escopo dos estudos culturais para lidar com raça e gênero, além de ajudar a incorporar novas ideias derivadas do trabalho de teóricos franceses. Hall deixou o centro em 1979 para se tornar um professor de sociologia na Open University da qual se aposenta em 1997, tornando-se Professor Emérito. O jornal britânico The Observer o chamou de \"um dos principais teóricos culturais do país\". Ele foi casado com Catherine Hall, militante feminista e professora de história britânica moderna na University College London.'),\n",
       " ('http://dbpedia.org/resource/Coelho_Neto',\n",
       "  'Henrique Maximiano Coelho Netto (Caxias, 21 de fevereiro de 1864 — Rio de Janeiro, 28 de novembro de 1934) foi um escritor (cronista, contista, folclorista, romancista, crítico e teatrólogo), político e professor brasileiro, membro da Academia Brasileira de Letras onde foi o fundador da Cadeira número 2. Foi considerado o \"Príncipe dos Prosadores Brasileiros\", numa votação realizada em 1928 pela revista O Malho. Apesar disto, foi consideravelmente combatido pelos modernistas, sendo pouco lido desde então, em verdadeiro ostracismo intelectual e literário.'),\n",
       " ('http://dbpedia.org/resource/José_do_Patrocínio',\n",
       "  'José Carlos do Patrocínio (Campos dos Goytacazes, 9 de outubro de 1853 — Rio de Janeiro, 29 de janeiro de 1905) foi um farmacêutico, jornalista, escritor, orador e ativista político brasileiro. Destacou-se como uma das figuras mais importantes do movimento abolicionista no país. Foi também idealizador da Guarda Negra, que era formada por negros e ex-escravos, sendo vanguarda do movimento negro no Brasil e formada para proteger família imperial brasileira contra a aristocracia e os militares.')]"
      ]
     },
     "execution_count": 12,
     "metadata": {},
     "output_type": "execute_result"
    }
   ],
   "source": [
    "dbpedia_people"
   ]
  },
  {
   "cell_type": "code",
   "execution_count": 107,
   "metadata": {},
   "outputs": [],
   "source": [
    "query = \"\"\"     \n",
    "SELECT ?person ?abstract\n",
    "WHERE{\n",
    "?person rdfs:label 'José do Patrocínio'@pt.\n",
    "?person a dbo:Person.\n",
    "?person dbo:abstract ?abstract.\n",
    "FILTER (langMatches(lang(?abstract),\"pt\"))\n",
    "}\n",
    "\"\"\""
   ]
  },
  {
   "cell_type": "code",
   "execution_count": 108,
   "metadata": {},
   "outputs": [],
   "source": [
    "import requests\n",
    "\n",
    "url = 'http://dbpedia.org/sparql'\n",
    "\n",
    "r = requests.get(url, params = {'format': 'json', 'query': query})\n",
    "data = r.json()"
   ]
  },
  {
   "cell_type": "code",
   "execution_count": 121,
   "metadata": {},
   "outputs": [
    {
     "data": {
      "text/plain": [
       "'José Carlos do Patrocínio (Campos dos Goytacazes, 9 de outubro de 1853 — Rio de Janeiro, 29 de janeiro de 1905) foi um farmacêutico, jornalista, escritor, orador e ativista político brasileiro. Destacou-se como uma das figuras mais importantes do movimento abolicionista no país. Foi também idealizador da Guarda Negra, que era formada por negros e ex-escravos, sendo vanguarda do movimento negro no Brasil e formada para proteger família imperial brasileira contra a aristocracia e os militares.'"
      ]
     },
     "execution_count": 121,
     "metadata": {},
     "output_type": "execute_result"
    }
   ],
   "source": [
    "data['results']['bindings'][0]['person']['value']\n",
    "data['results']['bindings'][0]['abstract']['value']"
   ]
  },
  {
   "cell_type": "code",
   "execution_count": null,
   "metadata": {},
   "outputs": [],
   "source": []
  }
 ],
 "metadata": {
  "kernelspec": {
   "display_name": ".venv-IndigSlave",
   "language": "python",
   "name": "python3"
  },
  "language_info": {
   "codemirror_mode": {
    "name": "ipython",
    "version": 3
   },
   "file_extension": ".py",
   "mimetype": "text/x-python",
   "name": "python",
   "nbconvert_exporter": "python",
   "pygments_lexer": "ipython3",
   "version": "3.11.9"
  }
 },
 "nbformat": 4,
 "nbformat_minor": 2
}
