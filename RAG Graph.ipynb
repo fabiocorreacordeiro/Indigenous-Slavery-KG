{
 "cells": [
  {
   "cell_type": "code",
   "execution_count": null,
   "id": "e881490f",
   "metadata": {},
   "outputs": [],
   "source": [
    "%pip install python-dotenv\n",
    "%pip install openai==1.13.3\n",
    "%pip install -qU langchain-openai\n",
    "%pip install neo4j\n",
    "%pip install langchain langchain-community"
   ]
  },
  {
   "cell_type": "code",
   "execution_count": 1,
   "id": "c28e35ca",
   "metadata": {},
   "outputs": [],
   "source": [
    "from dotenv import load_dotenv\n",
    "import os\n",
    "from openai import AzureOpenAI\n",
    "from langchain_community.graphs import Neo4jGraph\n",
    "from langchain_openai import AzureChatOpenAI\n",
    "from langchain.chains import GraphCypherQAChain\n",
    "from langchain.prompts import PromptTemplate\n",
    "from langchain.chains.conversation.memory import ConversationBufferMemory\n",
    "from langchain.chains import LLMChain"
   ]
  },
  {
   "cell_type": "code",
   "execution_count": 2,
   "id": "f889c1e8-d4c5-43d6-9879-37707bf549e0",
   "metadata": {},
   "outputs": [],
   "source": [
    "load_dotenv()\n",
    "\n",
    "# Azure OpenAI variables\n",
    "OPENAI_API_VERSION = os.getenv(\"OPENAI_API_VERSION\")\n",
    "AZURE_OPENAI_ENDPOINT =os.getenv(\"AZURE_OPENAI_ENDPOINT\")\n",
    "AZURE_OPENAI_API_KEY = os.getenv(\"AZURE_OPENAI_API_KEY\")\n",
    "OPENAI_DEPLOYMENT_NAME = os.getenv(\"OPENAI_DEPLOYMENT_NAME\")\n",
    "\n",
    "# Neo4j variables\n",
    "NEO4J_URL = os.getenv(\"NEO4J_URL\")\n",
    "NEO4J_USERNAME =os.getenv(\"NEO4J_USERNAME\")\n",
    "NEO4J_PASSWORD = os.getenv(\"NEO4J_PASSWORD\")"
   ]
  },
  {
   "cell_type": "markdown",
   "id": "5ffe60bf-739b-4ea4-a9fd-3f0f202b0aa3",
   "metadata": {},
   "source": [
    "### Connecting to the graph and making a Cypher query"
   ]
  },
  {
   "cell_type": "code",
   "execution_count": 3,
   "id": "db500e9a-2310-498f-a397-f2b54a584f24",
   "metadata": {},
   "outputs": [],
   "source": [
    "#Connecting to the graph\n",
    "graph = Neo4jGraph(\n",
    "    url=NEO4J_URL,\n",
    "    username=NEO4J_USERNAME,\n",
    "    password=NEO4J_PASSWORD\n",
    ")"
   ]
  },
  {
   "cell_type": "code",
   "execution_count": 16,
   "id": "67dbfe49-e1bd-4e34-a79c-34e5cef53c8e",
   "metadata": {},
   "outputs": [],
   "source": [
    "#Quering the graph unsing Cypher\n",
    "result = graph.query(\"\"\"\n",
    "MATCH (ner{uri:'tag:stardog:api:kabengele_munanga'})\n",
    "MATCH p=(thesis)-[r:mentions]->(ner)\n",
    "RETURN thesis.title, thesis.abstract, thesis.repository\n",
    "LIMIT 15\n",
    "\"\"\")"
   ]
  },
  {
   "cell_type": "code",
   "execution_count": 17,
   "id": "c0b77fff-07ce-4032-9b4e-3248ab751d75",
   "metadata": {
    "collapsed": true,
    "jupyter": {
     "outputs_hidden": true
    }
   },
   "outputs": [
    {
     "data": {
      "text/plain": [
       "[{'thesis.title': 'A inserção de alunos imigrantes africanos negros na rede estadual de ensino na cidade de São Paulo (2014-2016)',\n",
       "  'thesis.abstract': 'This work analyses the insertion of black immigrant students in a secondary school of the state educational system of São Paulo, in São Paulo city, SP, Brazil, among the years of 2014 and 2016. That choice is based on the professional position occupied by the researcher, who works for the same state education system specifically with its racial relations issues. The research aims to describe and evaluate the insertion of those students in the school routine, through identifying the relations among the black African immigrant students, the other students, the teachers, the school administrators and the school staff in general, as well as the relations among cultures in the school environment. To reach those aims, the researcher observed the classes, free times, entrance and leaving of students, how they arrange themselves in the workrooms, the activities realized during the class times and the teacher’s and administrator’s meetings and activities. The purpose was to note in all those situations the presence or absence of actions of discrimination and/or prejudice and of conflicts and barriers directed to the black immigrant students in the scholar environment and routine. It was also analyzed the following documental fonts: documentation from the Centre of Register of the Education Secretary of the State of São Paulo, the document of the pedagogical plan of the school and the laws from union, state and municipal spheres relevant to the insertion of immigrant students and to the racial relations in school. The main authors adopted as theoretical support for this work are the following: Dominique Julia and António V. Frago, for the analysis of the scholar culture; Jacques A. Sayad, Stuart Hall e Pierre Bourdieu, for immigration; Valter Silvério, Nilma L. Gomes e Kabengele Munanga, for racism and racial prejudice. The analysis has shown that the insertion of the black African immigrant students in the secondary school of the state educational system of São Paulo is limited to the right of being registered, that there is no pedagogical politics to assure the proper appreciation of the cultures of immigrants and that the school environment is permeated by discrimination, prejudice and racism, which favors conflictive relations among black immigrant students, non-immigrant students, teachers and school staf',\n",
       "  'thesis.repository': 'https://tede2.pucsp.br/handle/handle/19678'},\n",
       " {'thesis.title': 'A identidade miscigenada em Tenda dos milagres, de Jorge Amado',\n",
       "  'thesis.abstract': 'This work analyzes the novel Tent of miracles (Tenda dos milagres), by Jorge Amado, published in 1969. It aims to grasp the different voices that cross the narrative, to insert the utopia of the mixed-race Brazilian civilization and to ponder on the narrative construction that deals with the past and the present, in search of a national identity. In order to achieve this objective, some questions arose: to what extent the multifaceted and non-linear narrative of Tent of miracles (Tenda dos milagres) creates a hybrid, mixed-race perspective for the Brazilian society? The following assumptions guide the reflection: Tent of miracles (Tenda dos milagres) articulates the negative aspect of miscegenation, operating a collective consciousness to build a fraternal society; the duplicity of dialogic narrators creates a plot with mixed voices in counterpoint; the character Pedro Archanjo tunes the mind of the author/narrator in the construction of a hybrid utopian society. The work makes a portrait of the miscegenation, racism as well as of the historical formation of Brazil. It also presents the vision of literary criticism regarding both the novel and the author, showing at the same time the critical viewpoint of Jorge Amado. The theoretical framework is centered on scholars such as: Sérgio Buarque de Holanda, Kabengele Munanga, Antonio Candido, Fernando Segolin, Roland Barthes, Paul Zumthor. Among the final considerations, it is emphasized the construction of an Amadian tent - a transgressive and liberating, tough and resilient, insistent and persistent work - preaching a hybrid identity possible for the Brazilian society',\n",
       "  'thesis.repository': 'https://tede2.pucsp.br/handle/handle/18906'},\n",
       " {'thesis.title': 'A construção da identidade negra na escola: dialogando com o ensino de sociologia',\n",
       "  'thesis.abstract': 'A dissertação apresentada ao Programa de Pós-graduação em Sociologia – PROFSOCIO – da Faculdade de Filosofia e Ciências, Universidade Estadual Paulista – UNESP – Campus de Marília, analisou as relações raciais de uma escola pública central do interior do estado de São Paulo. Realizou-se um estudo de caso e uma pesquisa-ação nessa escola, onde foi observado a dinâmica escolar e o cotidiano em que esses jovens estão inseridos e como a introjeção e projeção de práticas racistas estão presentes nessas relações. Por meio da observação participante efetuou-se uma coleta e a apropriação dos dados levantados para a compreensão desse processo por meio de ações orientadas. Utilizou-se de um aporte teórico de autores como Nilma Lino Gomes, Kabengele Munanga e Antonio Sérgio Guimarães, dentre outros, que foram relevantes para a apreensão da questão do racismo e as possíveis intersecções desse fenômeno. Ao longo desse trabalho foram realizadas intervenções pontuais a partir da disciplina de Sociologia, mediante o conteúdo previsto no Currículo Paulista. Esse estudo se demonstrou relevante no sentido de se compreender as dinâmicas sociais no interior dessa escola e o modo como o racismo velado incide nas relações sociais entre negros e não-negros em uma escola majoritariamente composta por estudantes pretos e pardos.',\n",
       "  'thesis.repository': 'http://hdl.handle.net/11449/193456||25016016039P8||1046446044110692'},\n",
       " {'thesis.title': 'A disciplina História da África no contexto da Lei 11.645/2008',\n",
       "  'thesis.abstract': 'The referred dissertation analyses the Law 11.645/2008, wich modifies the Law 10.639/2003 and renders mandatory teaching os African History and Afro-Brasilian and Indigenous culture in the basic education curriculum. Considerations over the changs during the implementation period of the Law 11.645 will be presented, specially regarding higher education. The African History is the object under analysis in the research, thus it will be emphasized when such consideratios are presented. Through the analysis of the Universidade Federal de São Paulo (Unifesp) History graduation course syllabus and also a questionnaire handed to the responsible staff professor, it is intented to idenify how the curricular proposal, regarding the History graduation course, was affected by the analyzed Law. The theorists quoted in this research are: Michael Apple for the concepto of Curriculum; Nilma Lino Gomes for the concepto of Ethnic-racial Relations; Kabengele Munanga for Race, Ethnicity and Racism; and Paul E Little for the concepto of Territory. The results founds on this research indicate that a) the analyzed graduation course was established according to the former Law 10.639; b) the professor responsible for the African History subject has autonomy over the curricular syllabus and structures the course according to the Law 11.645, in that way the subject is mandatory in the History graduation course; c) teaching African History is not only an isolated tool for combating racism and resignifying notions of citzenship, but also a space of construction of memory, idenity and ancestry',\n",
       "  'thesis.repository': 'https://tede2.pucsp.br/handle/handle/18924'},\n",
       " {'thesis.title': 'A classificação racial como organizadora da modernidade: uma análise afrocentrada sobre a colonialidade do poder',\n",
       "  'thesis.abstract': 'O propósito da presente dissertação é contribuir com os estudos das Relações Internacionais a partir de um loci enunciativo diverso ao locus anglo-saxônico tradicional, adentrando-se na investigação de exemplos de ações de resistência político-sociais à modernidade eurocêntrica, tendo por base as experiências das populações negras brasileiras. Nesse cenário, o quilombo enquanto resistência negro-africana aos ímpetos imperialistas portugueses, e de forma mais geral aos ímpetos imperialistas ocidentais, foi uma prática contra-hegemônica, e continua a ser. Neste estudo, o resgate histórico do processo colonizatório no Brasil e das partes constituintes da construção da “nação brasileira” foi feito a partir de ponto de vista teórico afrocêntrico brasileiro com nomes como Abdias do Nascimento (1978; 2002), Beatriz Nascimento (2014), Lélia Gonzalez (1988), Clóvis Moura (1988) e Kabengele Munanga (2001). A abordagem teórica tomada para análise do problema se insere na perspectiva do projeto decolonial, no qual “as fronteiras não são somente este espaço onde as diferenças são reinventadas, são também loci enunciativos de onde são formulados conhecimentos a partir das perspectivas, cosmovisões ou experiências dos sujeitos subalternos.” (BENARDINO-COSTA e GROSFOGUEL, 2016, p. 19). As escolhas teóricas delimitadas não se deram pela decisão arbitrária de seleção de autores e autoras unicamente pela identidade racial de cada um deles, mas pelo aparato que apresenta o subalterno compromissado com o conhecimento contra-hegemônico. De maneira mais específica, a escolha do objeto e do objetivo geral deste trabalho, os quais se centram na resistência político-social de herança negro-africana no Brasil, pretendeu incorporar a categoria da “Amefricanidade” de Lélia Gonzalez (1988), enfatizando que não são somente os valores eurocêntricos capazes de moldar as relações político sociais no mundo moderno. A partir disso, faz-se possível apontar parâmetros diversos e alternativos à modernidade.',\n",
       "  'thesis.repository': 'http://repositorio.ufba.br/ri/handle/ri/30834'},\n",
       " {'thesis.title': 'Ações afirmativas com recorte racial no ensino superior e disputas de identidade nacional no Brasil',\n",
       "  'thesis.abstract': 'O trabalho analisa os discursos de identidade nacional brasileira presentes no debate acerca das políticas de ação afirmativa com recorte racial no ensino superior, entre os anos de 2004 e 2012. Partindo da compreensão de identidade nacional como construção discursiva, observamos como os textos opinativos sobre as ações afirmativas publicados no jornal O Globo construíram representações acerca da “memória histórica”, do “caráter nacional” e de “antecipações e orientações para o futuro” do Brasil. Sistematizamos os argumentos dos textos contrários e favoráveis às ações afirmativas, e mostramos como eles são acompanhados de posicionamentos acerca das relações raciais no Brasil, isto é, de um modo particular de interpretá-las. E destacamos que tais discursos são construídos a partir de diálogos interdiscursivos com discussões, temas e conceitos presentes, há décadas, no estudo das relações raciais no país. Mostramos que o discurso de identidade nacional construído pelos textos contrários às ações afirmativas acentua: uma “memória histórica” do Brasil que o caracteriza como uma nação fundada na mestiçagem, entendida tanto como sinal de uma população indistinguível em termos raciais, quanto como indicador de relações raciais harmoniosas; um “caráter nacional” em que o racismo e as distinções raciais não são considerados aspectos centrais; e uma “orientação para o futuro” que aponta para o perigo da “racialização” da sociedade representado pelas políticas de ação afirmativa. Argumentamos que os elementos definidores desse discurso de identidade nacional foram construídos em diálogo com as formulações de Gilberto Freyre acerca das relações raciais no Brasil, mas que adquiriram sua forma atual a partir do Seminário Multiculturalismo e Racismo, de 1996, e sobretudo nas obras de Peter Fry e Yvonne Maggie, principais formuladores teóricos desse discurso de nação, cuja marca é a revitalização e ressignificação do mito da democracia racial, agora visto como ideal civilizacional a ser alcançado. Já os textos favoráveis às ações afirmativas constroem: uma “memória histórica” que enfatiza, no passado, a escravização violentadora da população negra e o abandono por parte do Estado, quando do fim do regime escravocrata – e, no presente, um cenário de desigualdades a dividir brancos e negros, além da presença marcante do racismo; um “caráter nacional” marcado pela negação da existência desses problemas; e uma “orientação para o futuro” relacionada à possibilidade de as ações afirmativas contribuírem para a discussão dessas questões e a criação de uma igualdade de oportunidades. Mostramos que os diálogos interdiscursivos que orientaram essa representação de nação remetem ao Projeto Unesco, e à caracterização da democracia racial como “mito”, por parte de Florestan Fernandes e do movimento negro, bem como à reflexão de Abdias Nascimento e Kabengele Munanga sobre as especificidades do racismo no Brasil. A caracterização das desigualdades raciais é estabelecida no diálogo com a obra de Carlos Hasenbalg e com a ampla divulgação de pesquisas quantitativas no início dos anos 2000. Terminamos por observar como a noção de “mito da democracia racial” aproxima e distancia os dois discursos de identidade nacional, e acentuamos a impossibilidade de conciliação dessas posições, dados os seus posicionamentos acerca das relações raciais amplamente divergentes.',\n",
       "  'thesis.repository': 'https://repositorio.ufpe.br/handle/123456789/31840'},\n",
       " {'thesis.title': 'A pedagogia hip hop e o ensino culturalmente relevante em história: novas estratégias didáticas para o ensino fundamental em escolas públicas de São Paulo',\n",
       "  'thesis.abstract': 'Inspirada no debate teórico promovido pelo Grupo de pesquisa Multiculturalimso e Educação (CNPq) da Faculdade de Educação da USP e pelas experiências de pesquisa empírica desenvolvidas no âmbito das docências compartilhadas com professoras da rede municipal de ensino de São Paulo-SP, como parte do projeto de políticas públicas O ancestral e o contemporâneo nas escolas (FAPESP/2015: 50120-8), a presente dissertação de Mestrado propõe-se a apresentar propostas didáticas que amparem a plena efetivação das Leis 10.639/2003 e 11.645/08. O objetivo é repensar o ensino de história africana, afro-brasileira para as turmas finais do Ensino fundamental público, visando uma proposta pedagógica com orientação crítica e culturalmente relevante. Tomando a Pedagogia Hip hop, defendida por Marc Lamont Hill (2014), como referência para a condução das docências, em diálogo com as teses relativas à Luta pelo reconhecimento, sustentadas por Axel Honneth (2003), articuladas, por sua vez, às ideias de Kabengele Munanga (2004) sobre a influência da ideologia do embranquecimento na formação da sociedade brasileira, propõe-se uma reflexão a propósito de estratégias para o ensino por meio de raps socialmente engajados. Recorrendo a letras de rap, discutimos temas históricos e atuais com os alunos, procurando, por um lado, reconhecer a importância dos povos historicamente prejudicados (HONNETH, 2003) para a formação da sociedade brasileira, e por outro, desenvolver nos educandos um olhar crítico sobre suas próprias histórias. Procurou-se, desse modo, contribuir para a construção de bases identitárias positivas para as populações não-brancas (MUNANGA, 2004) em nosso país, além de colaborar para o combate do racismo, da discriminação racial e do preconceito em nossa sociedade, por meio do reconhecimento histórico e social dos povos coformadores do Brasil.',\n",
       "  'thesis.repository': 'https://doi.org/10.11606/D.48.2019.tde-08042019-164244'},\n",
       " {'thesis.title': 'Ancestralidade, ritual e encruzilhada: sobre a praxis de tradução negra em A morte e o Elesin do Alâfin E O ẸLẸṢIN DO ALÂFIN',\n",
       "  'thesis.abstract': 'A Tradução Negra, enquanto componente pertencente ao campo dos Estudos de Tradução, apresenta-se como um mecanismo teórico e metodológico para o desenvolvimento de projetos tradutórios afrocentrados cuja finalidade maior é a construção de um diálogo igualitário entre os textos produzidos e traduzidos a partir de produções africanas e afrodiaspóricas. Partindo desse princípio, o desenvolvimento e a aplicação de um projeto de tradução afrocentrada, esta pesquisa teve como objetivo geral fazer a tradução literária da peça Death and The King’s Horseman, do escritor nigeriano Wole Soyinka, escrita em inglês e iorubá, para o português brasileiro. Para o desenvolvimento desta produção, foi feito a maturação de um projeto de tradução afrocentrada que concentrou-se, maiormente, em revisitar o conceito de Tradução de Encruzilhada, cunhado pela pesquisadora e tradutora Luciana Reis (2016) e, mais trade, revisto pela pesquisadora Feva Omo Iyanu (2018), buscando acrescer outros elementos que encorpassem a potência teórica e metodológica dessa ferramenta tradutória. Nesse sentido, o conceito foi encorpado a partir de sua reelaboração, levando em conta os seguintes fatores teóricos e metodológicos: i pensar a tradução doravante a perspectiva de ancestralidade; ii reestabelecer a questão do tempo e das temporalidades no processo tradutório, tomando como ponto de partida as encruzilhadas e as manifestações religiosas afro-brasileiras; iii e, por fim, discorrer sobre o ritual enquanto ferramenta tradutória que compõe a perspectiva de Tradução de Encruzilhada, ponderando sobre o processo de tradução negra como práxis tradutória assentada no corpo. Assim sendo, para a primeira parte, centrada na reconstrução historiográfica dos terreiros de candomblé, a tradição, a memória e a história africana e afrodiaspórica no Brasil, como também as perspectivas política e filosófica da ancestralidade, o diálogo se estabeleceu, dentre outras e outros intelectuais, a partir de Verger (1981), Reis (2005), Silveira (2005), Luiz Mott (1986), Laura de Mello e Souza (1986), Parés (2018), Moraes (1916), Freitas (1977), Bordieu (1979), Sodré (2017), Kabengele Munanga (2016), Tigana Santos (2019), Maurício Waldman (1998), Hampaté Bâ (2010), Kwasi Wiredu (2010) e Vanda Machado (2013); para a segunda parte, cuja a centralidade estava alicerçada em elaborar sobre o Espaço e o Território, as perspectivas de Tempo Africano e Tempo-imagético-espiralar, as trocas foram feitas a partir de nomes como Santos (2001), Ediho Lokanga (2021), SILVA-REIS (2018), Sodré (2019), Milton Santos (2001), Borges e Caputo (2016), Edson Carneiro (2008), Carrascosa (2016), John Mbiti (1989), Sunday Babalola e Olusegun Alokan (2013), ZorBari-Nwitambu e Sylva Ezema Kalu (2018), Kazeem (2016), Beniste (2010), Juana Elbein (2012) e Martins (2021); já na terceira parte, concentrada no Ritual como Ethos-Negro e os seus desdobramentos para o processo tradutório na Tradução de Encruzilhada, as elaborações foram gestadas a partir de intelectuais como Etim (2019), Fromm (1950), Kyalo (2013), Soyinka (1976), Santos (2012) e Burley (2020). Para além da abertura do campo teórico e metodológico no campo dos Estudos de Tradução, que também está inserido no campo dos Estudos Literários, esta pesquisa resultou na tradução afrocentrada da peça Death and The King’s Horseman, contribuindo, de mesmo modo, para o desenvolvimento de estudos voltados para outras áreas do conhecimento tais como as áreas de Artes Cênicas, História, Sociologia, Linguística, Antropologia, Estudos Étnicos e Religião.',\n",
       "  'thesis.repository': 'https://repositorio.ufba.br/handle/ri/38437'},\n",
       " {'thesis.title': 'As representações do negro na literatura infantil: algumas leituras do acervo do Programa Nacional Biblioteca da Escola (PNBE) do ano de 2013',\n",
       "  'thesis.abstract': 'Esta dissertação trata das representações do negro na literatura infantil contemporânea, considerando algumas leituras do acervo do Programa Nacional Biblioteca da Escola (PNBE) do ano de 2013 e tem por objetivo aprofundar o conhecimento sobre o tema, abordando a diversidade étnica afrodescendente como contribuição para a cultura brasileira. O corpus da pesquisa incluiu dez obras literárias infantis que compuseram o acervo do (PNBE) do ano de 2013, destinadas a alfabetizandos do ensino fundamental. A seleção dessas obras considerou primordialmente as que tratam da temática étnico-racial, especialmente no que se refere a africanidade e negritude. Com base em autores como Stuart Hall, Kabengele Munanga, Nilma Lino Gomes e Manuel Jacinto Sarmento, que tratam das concepções de cultura, identidade, diferença, negritude e infância, foram analisadas as obras acima citadas, o que evidenciou a importância da literatura para a construção da identidade e para a valorização cultural dos negros, além do caráter formativo e educativo para o exercício da cidadania e da convivência com a diversidade. Observou-se que, embora as obras, de um modo geral, valorizem aspectos culturais e biológicos (cor dos olhos, tipo de cabelo, cor da pele...) referentes aos negros, há pouca problematização das assimetrias sociais e das relações de poder entre os negros e demais etnias na sociedade brasileira. Questões como o preconceito e o racismo, por exemplo, não são explicitamente tratadas. O combate ao racismo deve ser tema de discussão entre os estudantes na sala de aula, estando a literatura a contribuir para o acesso à informação e à reflexão sobre as práticas sociais vigentes e as relações étnico-raciais. A cultura negra seria de fato valorizada, não como curiosidade ou exotismo, mas como elemento constitutivo da cultura e da sociedade brasileira.',\n",
       "  'thesis.repository': 'http://repositorio.unesc.net/handle/1/4768'},\n",
       " {'thesis.title': 'As relações étnico-raciais no manual do professor dos livros didáticos de História: análise da presença/ausência de uma pedagogia de concienctização contra o preconceito',\n",
       "  'thesis.abstract': 'The school is the place where the formation of citizens begins. Its role goes beyond its walls, because in its interior society is reflected through the students who are in it, and, many times, problems of all kinds are identified and worked pedagogically, in the search for paths and solutions. The present study aims to identify and analyze in the teachers manuals of history textbooks if and how the ethnic-racial issue appears, in accordance with Law n°10.639/2003 and 11645/2008, in order to contribute to the discussion about prejudice at school and to raise awareness of society in favor of strengthening the identity, culture and history of Afro-descendant peoples throughout the history of our country. When looking at the manuals, we propose to analyze the editorial guidelines on ethnic-racial relations, realizing if they are present, what they delimit, how they approach, what kind of support they offer to teachers. Therefore, we aim to reflect on the guidelines given to the History teacher in order to combat discrimination. In the course of the research, we observed a reduced presence of the theme in the didactic materials under analysis and in this sense we prepared as a final product an orientation manual for teachers with a focus on the final years of Elementary School, but which can be adapted and implemented in other levels of education seeking contribute to a history teaching focused on the racial and cultural diversity present in Brazilian society. racial and cultural diversity present in Brazilian society. Within the scope of this research, we find relevant a foundation on racism in Brazilian society and in the school space to understand how public policies of reparation for black people are necessary for secular inequalities to be repaired. We dialogued with Lília Moritz Shwarcz, Kabengele Munanga, Sílvio de Almeida and Nilma Lino Gomes, among other authors, which provided us with subsidies to understand how ethnic-racial relations are addressed in the Teachers Manual of History textbooks. In this sense, in the chapters of this research, we will carry out an analysis of the Teachers Manuals in History textbooks to understand how the ethnic-racial issue is approached. We will seek to understand the role, advances and limits of official documents that deal with the teaching of this subject, and highlight the importance of devising strategies to combat racism in the school environment.',\n",
       "  'thesis.repository': 'https://repositorio.ufpb.br/jspui/handle/123456789/25519'},\n",
       " {'thesis.title': 'As tramas do racismo à brasileira: o ensino da História e Cultura Afro-brasileira nas instituições escolares de Itapagipe/MG (2003-2006)/',\n",
       "  'thesis.abstract': 'A pesquisa apresentada aborda o racismo a partir da análise do processo de implementação, da Lei n.º 10.639/03, tendo como campo de pesquisa duas escolas públicas de Ensino Fundamental da cidade de Itapagipe/MG. A Lei n.º 10.639/2003, posteriormente alterada pela Lei n.º 11.645/2008, sem perder sua essencialidade, mas para incluir os povos indígenas brasileiros, tornando obrigatório o ensino da história e cultura afro-brasileira e indígena. Durante a realização da pesquisa foram lidas e consultadas diversas fontes bibliográficas como o objetivo de se compreender e analisar historicamente os discursos construídos em torno da marginalização do negro e da população afrodescendente, assim como a continuidade do racismo, observado nas relações cotidianas dentro das escolas. A metodologia qualitativa foi a base desta pesquisa, com o amparo de dados quantitativos e qualitativos auferidos da observação empírica dentro das escolas, não apenas como pesquisadora, mas como professora efetiva destas instituições, a aplicação de questionários aos professores e alunos, a interpretação analítica das respostas obtidas em entrevistas com professores, diretores, secretárias das escolas, moradores da cidade de Itapagipe, assistente social e o secretário municipal de educação entre outras fontes documentais. As discussões bibliográficas foram embasadas em autores como Kabengele Munanga, Dagoberto da Fonseca, Lilia Schwarcz. Através do diálogo com as variadas fontes supracitadas foi possível evidenciar a manutenção do racismo no âmbito escolar, nas falas das secretárias ao descrever o racismo como inerente aos próprios negros e o desconhecimento e descrédito por parte dos educadores referente à Lei n.º 10.639/03, que tem como intuito a construção e o fortalecimento da identidade afro-brasileira e de práticas antirracistas, a partir do reconhecimento do legado da história e cultura Afro-brasileira e Africana.',\n",
       "  'thesis.repository': 'https://repositorio.ufu.br/handle/123456789/18766'},\n",
       " {'thesis.title': 'Corpografia de affetos: corpo, poder e relações sociais',\n",
       "  'thesis.abstract': 'Corpografia de afetos: corpo, poder e relações sociais é um trabalho de dissertação que busca o diálogo com a formação docente tendo como ponto de partida a escuta afetuosa-aprendente, desenvolvida em meio a complexidade das relações sociais escolares. A partir da indagação-nascente: Quem educa o educador para lidar com essa escola viva, que está situada na dinâmica da própria vida, no convívio com a vida que acontece? Quem o prepara para escutar mais, aprendendo com a criança? buscamos desenvolver um percurso que tem por objetivo a retomada da formação docente humanizada, centrada em estudos que visam a construção de novos olhares e novas posturas em relação as questões étnico-raciais, de gênero, de sexualidade, de classe, manifestadas no contexto educacional. Está afirmada por uma escolha política identificada com as diversidades e fundamentada nas categorias: Corpografia dos Afetos/ Corporeidades; Relações sociais e de Poder; Violências e violência escolar; Experiências; Percepções e Memórias; Linguagens, tendo como referências teóricas o pensamento de Kabengele Munanga, Franz Fanon, Paulo Freire, Michel Foucault, Achille Mbembe, Albert Memmi, Homi Bhabha, Jorge Larrosa Bondía, Suely Rolnik, Judith Butler, bell hooks, Jota Mombaça e Airton Krenak. Para investigar esse processo, a etnografia foi utilizada como referência (inserção no contexto educativo, registros em cadernos de campo, consulta aos cadernos de ocorrências e observação em atividades diversas como rodas de conversas, acompanhamento de aulas, aplicação de oficinas artísticas e atividades com desenhos). As observações e escutas se depararam com violências diversas, efeito dos preconceitos, das discriminações e das resistências resultantes da naturalização do machismo, do racismo, do sexismo, da homofobia, entre outras, presentes no cotidiano social. Ainda assim, os resultados revelam que as mudanças são possíveis e que podemos defender a formação das/dos professoras/es através de uma nova ética, que seja insatisfeita e desconfiada. A pesquisa indica rupturas e continuidades que vão possibilitando a produção de novos saberes, novos comportamentos e ações.',\n",
       "  'thesis.repository': 'http://hdl.handle.net/11449/239772||33004030079P2'},\n",
       " {'thesis.title': 'Das comissões de heteroidentificação às construções de identidades: uma análise sociológica da negritude (re)significada pelos alunos pardos dos cursos de Direito e Medicina da UFGD ingressantes pelo PSV e SiSU (2019-2021)',\n",
       "  'thesis.abstract': 'Analisa-se o impacto dos procedimentos para validação da autodeclaração de negro/a (preto/a ou pardo/a), realizados pela Comissão Geral de Heteroidentificação da Universidade Federal da Grande Dourados (UFGD), sobre a identidade étnico-racial dos alunos pardos ingressantes, nos cursos de Medicina e Direito, por meio de Processo Seletivo Vestibular (PSV/UFGD) e do Sistema de Seleção Unificada (SiSU/MEC), referentes ao período de 2019-2021. Buscou-se identificar a superação de desafios enfrentados pelos alunos negros-pardos para sua (re)significação enquanto pessoas negras diante da Comissão e a consequente descoberta da sua identidade negra. A metodologia adotada tem como base a revisão bibliográfica, no que se refere à construção da identidade étnico-racial a partir da teorização de Kabengele Munanga, Stuart Hall, Fantz Fanon, Homi Bhaha, Oracy nogueira e Neuza Santos Souza, bem como a reconstituição de pesquisas existentes sobre ações afirmativas para acesso à universidade. Quanto aos processos de ingressos normatizados na UFGD, foram realizadas análises de documentos institucionais e entrevistas com membros da Comissão Geral de Heteroidentificação e alunos dos dois cursos mencionados. Igualmente, foram analisados os desafios enfrentados pela referida Comissão para coibir fraudes nas vagas de recorte racial do PSV/UFGD e do SiSU/MEC, no recorte temporal mencionado, sem incorrer no risco da racialização. Os principais resultados encontrados demonstraram que os alunos negros-pardos dos cursos de Medicina e Direito são vítimas de preconceito racial, muito embora não tenham muito clara a consciência da sua identidade negra até o momento da validação da sua autodeclaração racial. Dentre as conclusões, destaca-se que um dos efeitos observados foi a congruência acerca do mecanismo de controle da ação afirmativa pela referida Comissão, como meio que favorece a redescoberta da identidade negra de negros-pardos, auxiliando-os a se autoafirmarem enquanto negros, possuidores de direitos e protagonistas de transformação da sociedade brasileira; o que ratifica a Comissão de Heteroidentificação como a porta de entrada para um mundo de redescobrimentos e (re)significação identitária dentro da universidade pública brasileira.',\n",
       "  'thesis.repository': 'http://repositorio.ufgd.edu.br/jspui/handle/prefix/5165'},\n",
       " {'thesis.title': 'Diferen?as e indiferen?as: reflex?es sobre as quest?es raciais na escola por uma educa??o antirracista',\n",
       "  'thesis.abstract': 'As an educator and through my daily experiences, I am motivated to research on the issue of education and ethnic-racial relations. The theme, subject and object of this research are racism and racial prejudice in everyday school life. Reflecting on the creation of Law 10. 639/03, the challenge of its real implementation, which will lead to historical knowledge about the Negro, his contribution to the construction of our country, a truth that is hidden about its real origin and that consequently leads to the silence of racism in school. Understand how educators perceive racial issues, highlighting the importance of their role in the formative process, the deconstruction of racism and the promotion of antiracist education. Our research develops in the field of language and will seek to understand verbal and nonverbal utterances. Modus operandi of racism as racism and prejudice are human from the racial relations between people of a certain place. The research was carried out in a teaching unit in Baixada Fluminense. From the theoretical-methodological point of view, the approach was sociocultural supported in the studies of Bakhtin, in a dialogical perspective of the school everyday. One of the instruments used to collect data and information was a questionnaire applied to the teachers of the school unit. As interlocutors authors such as: Eliane Cavalleiro (2003), Kabengele Munanga (2002) and Fanon (2008). It is sought through this research to indicate new paths in the discussions on ethnic-racial education and diversity, as well as to construct reflections that help and collaborate in the development of the quality of education.',\n",
       "  'thesis.repository': 'https://tede.ufrrj.br/jspui/handle/jspui/4663'},\n",
       " {'thesis.title': 'Educação brasileira e identidade negra em Kabengele Munanga',\n",
       "  'thesis.abstract': 'This study aimed to identify the theoretical support that grounds the production of Kabengele Munanga and characterize the conception of black identity in the production of the author, and its contributions to the curriculum of the Brazilian Education. To achieve these objectives were researched two books of the author that deal specifically about the construction of the black identity. We also researched the bibliographic production realized by Brazilian and foreigner researchers that deal about the racial relations, the construction of the black identity and its implications for the Brazilian educational context, that are related to the academic production of Kabengele Munanga. This work was based on a theoretical research, starting from the reading of the documents and bibliography about the construction of the black identity and education. The school is understood as a social institution that generates values and reproduces the culture, therefore, becomes of fundamental importance the action of the school in avoiding any discrimination, being it for race, ethnicity, social rate, gender, religion or age. The trajectory of discrimination, segregation and denial of the black identity in all socialization institutions, including the school awakens the debate about initiatives for the statement of the rights of access to the education in all levels, understanding the great importance of the education in changing an unfavorable social context to the black people, as the Brazilian is. The denial of the black identity is characterized as a historical fact since the colonization of Brazil, and has been frequently stated in curricular omissions that are materialized in the silence about this object of study and the African culture. In this context, the educators havent received a specific formation to handle with the ethnic cultural diversity, neither with racial matters involved in their school quotidian.',\n",
       "  'thesis.repository': 'http://www.repositorio.ufpa.br:8080/jspui/handle/2011/1987'}]"
      ]
     },
     "execution_count": 17,
     "metadata": {},
     "output_type": "execute_result"
    }
   ],
   "source": [
    "result"
   ]
  },
  {
   "cell_type": "code",
   "execution_count": 6,
   "id": "633f3aed-66b6-461f-a6a5-6bb0957ca803",
   "metadata": {
    "collapsed": true,
    "jupyter": {
     "outputs_hidden": true
    },
    "scrolled": true
   },
   "outputs": [
    {
     "name": "stdout",
     "output_type": "stream",
     "text": [
      "Node properties:\n",
      "Resource {label: STRING, uri: STRING, family_name: STRING, givenname: STRING, repository: STRING, created: STRING, abstract: STRING, title: STRING, identifier: STRING}\n",
      "_GraphConfig {_dataTypePropertyLabel: STRING, _subPropertyOfRel: STRING, _classNamePropName: STRING, _handleVocabUris: INTEGER, _applyNeo4jNaming: BOOLEAN, _relNamePropName: STRING, _domainRel: STRING, _keepLangTag: BOOLEAN, _keepCustomDataTypes: BOOLEAN, _handleMultival: INTEGER, _objectPropertyLabel: STRING, _rangeRel: STRING, _classLabel: STRING, _handleRDFTypes: INTEGER, _subClassOfRel: STRING}\n",
      "Program {uri: STRING, label: STRING}\n",
      "NamedIndividual {family_name: STRING, label: STRING, uri: STRING, givenname: STRING, acronym: STRING, identifier: STRING, created: STRING, abstract: STRING, title: STRING, repository: STRING}\n",
      "Department {label: STRING, uri: STRING}\n",
      "Person {family_name: STRING, label: STRING, givenname: STRING, uri: STRING}\n",
      "University {label: STRING, acronym: STRING, uri: STRING}\n",
      "Subject {label: STRING, uri: STRING}\n",
      "ThesisDegree {uri: STRING, label: STRING}\n",
      "Thesis {uri: STRING, created: STRING, abstract: STRING, title: STRING, repository: STRING, identifier: STRING}\n",
      "AnnotationProperty {uri: STRING}\n",
      "CNPQ {label: STRING, uri: STRING}\n",
      "Ontology {uri: STRING}\n",
      "Datatype {uri: STRING}\n",
      "Place {uri: STRING, label: STRING}\n",
      "Relationship properties:\n",
      "\n",
      "The relationships:\n",
      "(:Resource)-[:BFO_0000050]->(:Resource)\n",
      "(:Resource)-[:BFO_0000050]->(:NamedIndividual)\n",
      "(:Resource)-[:BFO_0000050]->(:University)\n",
      "(:Resource)-[:publisher]->(:Resource)\n",
      "(:Resource)-[:publisher]->(:NamedIndividual)\n",
      "(:Resource)-[:publisher]->(:University)\n",
      "(:Resource)-[:publisher]->(:Program)\n",
      "(:Resource)-[:publisher]->(:Department)\n",
      "(:Resource)-[:subject]->(:Resource)\n",
      "(:Resource)-[:subject]->(:NamedIndividual)\n",
      "(:Resource)-[:subject]->(:Subject)\n",
      "(:Resource)-[:subject]->(:CNPQ)\n",
      "(:Resource)-[:subject]->(:Person)\n",
      "(:Resource)-[:subject]->(:Place)\n",
      "(:Resource)-[:author]->(:Resource)\n",
      "(:Resource)-[:author]->(:NamedIndividual)\n",
      "(:Resource)-[:author]->(:Person)\n",
      "(:Resource)-[:degree]->(:Resource)\n",
      "(:Resource)-[:degree]->(:NamedIndividual)\n",
      "(:Resource)-[:degree]->(:ThesisDegree)\n",
      "(:Resource)-[:advisor]->(:Resource)\n",
      "(:Resource)-[:advisor]->(:NamedIndividual)\n",
      "(:Resource)-[:advisor]->(:Person)\n",
      "(:Resource)-[:mentions]->(:Resource)\n",
      "(:Resource)-[:mentions]->(:NamedIndividual)\n",
      "(:Resource)-[:mentions]->(:Person)\n",
      "(:Resource)-[:mentions]->(:Subject)\n",
      "(:Resource)-[:mentions]->(:Place)\n",
      "(:Resource)-[:opponent]->(:Resource)\n",
      "(:Resource)-[:opponent]->(:NamedIndividual)\n",
      "(:Resource)-[:opponent]->(:Person)\n",
      "(:Resource)-[:BFO_0000051]->(:Resource)\n",
      "(:Resource)-[:BFO_0000051]->(:NamedIndividual)\n",
      "(:Resource)-[:BFO_0000051]->(:CNPQ)\n",
      "(:Program)-[:BFO_0000050]->(:Resource)\n",
      "(:Program)-[:BFO_0000050]->(:NamedIndividual)\n",
      "(:Program)-[:BFO_0000050]->(:University)\n",
      "(:NamedIndividual)-[:BFO_0000050]->(:Resource)\n",
      "(:NamedIndividual)-[:BFO_0000050]->(:NamedIndividual)\n",
      "(:NamedIndividual)-[:BFO_0000050]->(:University)\n",
      "(:NamedIndividual)-[:publisher]->(:Resource)\n",
      "(:NamedIndividual)-[:publisher]->(:NamedIndividual)\n",
      "(:NamedIndividual)-[:publisher]->(:University)\n",
      "(:NamedIndividual)-[:publisher]->(:Program)\n",
      "(:NamedIndividual)-[:publisher]->(:Department)\n",
      "(:NamedIndividual)-[:subject]->(:Resource)\n",
      "(:NamedIndividual)-[:subject]->(:NamedIndividual)\n",
      "(:NamedIndividual)-[:subject]->(:Subject)\n",
      "(:NamedIndividual)-[:subject]->(:Place)\n",
      "(:NamedIndividual)-[:subject]->(:CNPQ)\n",
      "(:NamedIndividual)-[:subject]->(:Person)\n",
      "(:NamedIndividual)-[:mentions]->(:Resource)\n",
      "(:NamedIndividual)-[:mentions]->(:NamedIndividual)\n",
      "(:NamedIndividual)-[:mentions]->(:Place)\n",
      "(:NamedIndividual)-[:mentions]->(:Person)\n",
      "(:NamedIndividual)-[:mentions]->(:Subject)\n",
      "(:NamedIndividual)-[:author]->(:Resource)\n",
      "(:NamedIndividual)-[:author]->(:NamedIndividual)\n",
      "(:NamedIndividual)-[:author]->(:Person)\n",
      "(:NamedIndividual)-[:degree]->(:Resource)\n",
      "(:NamedIndividual)-[:degree]->(:NamedIndividual)\n",
      "(:NamedIndividual)-[:degree]->(:ThesisDegree)\n",
      "(:NamedIndividual)-[:advisor]->(:Resource)\n",
      "(:NamedIndividual)-[:advisor]->(:NamedIndividual)\n",
      "(:NamedIndividual)-[:advisor]->(:Person)\n",
      "(:NamedIndividual)-[:advisor]->(:Subject)\n",
      "(:NamedIndividual)-[:opponent]->(:Resource)\n",
      "(:NamedIndividual)-[:opponent]->(:NamedIndividual)\n",
      "(:NamedIndividual)-[:opponent]->(:Person)\n",
      "(:NamedIndividual)-[:BFO_0000051]->(:Resource)\n",
      "(:NamedIndividual)-[:BFO_0000051]->(:NamedIndividual)\n",
      "(:NamedIndividual)-[:BFO_0000051]->(:Subject)\n",
      "(:NamedIndividual)-[:BFO_0000051]->(:CNPQ)\n",
      "(:Department)-[:BFO_0000050]->(:Resource)\n",
      "(:Department)-[:BFO_0000050]->(:NamedIndividual)\n",
      "(:Department)-[:BFO_0000050]->(:University)\n",
      "(:Subject)-[:BFO_0000051]->(:Resource)\n",
      "(:Subject)-[:BFO_0000051]->(:NamedIndividual)\n",
      "(:Subject)-[:BFO_0000051]->(:Subject)\n",
      "(:Subject)-[:BFO_0000051]->(:CNPQ)\n",
      "(:Thesis)-[:subject]->(:Resource)\n",
      "(:Thesis)-[:subject]->(:NamedIndividual)\n",
      "(:Thesis)-[:subject]->(:Subject)\n",
      "(:Thesis)-[:subject]->(:CNPQ)\n",
      "(:Thesis)-[:subject]->(:Place)\n",
      "(:Thesis)-[:subject]->(:Person)\n",
      "(:Thesis)-[:mentions]->(:Resource)\n",
      "(:Thesis)-[:mentions]->(:NamedIndividual)\n",
      "(:Thesis)-[:mentions]->(:Place)\n",
      "(:Thesis)-[:mentions]->(:Subject)\n",
      "(:Thesis)-[:mentions]->(:Person)\n",
      "(:Thesis)-[:publisher]->(:Resource)\n",
      "(:Thesis)-[:publisher]->(:NamedIndividual)\n",
      "(:Thesis)-[:publisher]->(:Department)\n",
      "(:Thesis)-[:publisher]->(:Program)\n",
      "(:Thesis)-[:publisher]->(:University)\n",
      "(:Thesis)-[:author]->(:Resource)\n",
      "(:Thesis)-[:author]->(:NamedIndividual)\n",
      "(:Thesis)-[:author]->(:Person)\n",
      "(:Thesis)-[:degree]->(:Resource)\n",
      "(:Thesis)-[:degree]->(:NamedIndividual)\n",
      "(:Thesis)-[:degree]->(:ThesisDegree)\n",
      "(:Thesis)-[:advisor]->(:Resource)\n",
      "(:Thesis)-[:advisor]->(:NamedIndividual)\n",
      "(:Thesis)-[:advisor]->(:Person)\n",
      "(:Thesis)-[:opponent]->(:Resource)\n",
      "(:Thesis)-[:opponent]->(:NamedIndividual)\n",
      "(:Thesis)-[:opponent]->(:Person)\n",
      "(:Thesis)-[:opponent]->(:Place)\n",
      "(:CNPQ)-[:BFO_0000051]->(:Resource)\n",
      "(:CNPQ)-[:BFO_0000051]->(:NamedIndividual)\n",
      "(:CNPQ)-[:BFO_0000051]->(:Subject)\n",
      "(:CNPQ)-[:BFO_0000051]->(:CNPQ)\n",
      "(:CNPQ)-[:BFO_0000051]->(:Place)\n",
      "(:Ontology)-[:imports]->(:Resource)\n"
     ]
    }
   ],
   "source": [
    "# Printing the graph schema\n",
    "graph.refresh_schema()\n",
    "print(graph.schema)"
   ]
  },
  {
   "cell_type": "markdown",
   "id": "de3a85b5-70a3-430e-b201-bc555cf47561",
   "metadata": {},
   "source": [
    "### Using a cypher query to ground the LLM"
   ]
  },
  {
   "cell_type": "code",
   "execution_count": 7,
   "id": "0beb5c90-653e-413d-b00d-72e0b34ebd25",
   "metadata": {},
   "outputs": [],
   "source": [
    "# Connection to the Azure OpenAI model\n",
    "client = AzureOpenAI(\n",
    "  azure_endpoint=AZURE_OPENAI_ENDPOINT, \n",
    "  api_key=AZURE_OPENAI_API_KEY,  \n",
    "  api_version=OPENAI_API_VERSION\n",
    ")\n",
    "\n",
    "\n",
    "chat_llm = AzureChatOpenAI(deployment_name=OPENAI_DEPLOYMENT_NAME,temperature=0)"
   ]
  },
  {
   "cell_type": "code",
   "execution_count": 22,
   "id": "d70f4a73-e7c5-45a2-9dab-97bb79d63d21",
   "metadata": {},
   "outputs": [],
   "source": [
    "# Using information queried from the knowledge graph\n",
    "ground_information =  graph.query(\"\"\" \n",
    "MATCH (ner{uri:'tag:stardog:api:ana_lucia_silva_souza'})\n",
    "MATCH p=(thesis)-[r:mentions]->(ner)\n",
    "RETURN thesis.title, thesis.abstract, thesis.repository\n",
    "LIMIT 10\n",
    "\"\"\")\n",
    "#ground_information =  graph.query(\"\"\" MATCH (n:Wellbore {WellboreName: \"31/2-22 S\"}) RETURN n;\"\"\")\n",
    "\n",
    "\n",
    "prompt = PromptTemplate(template=\"\"\"You are a bot assistant having a conversation about academic thesis and dissertations. You should strictly follow the information from your context and always provide the references (title of the document and link for the repository immediately after you mention one fact).\n",
    "\n",
    "Chat History: {chat_history}\n",
    "Context: {context}\n",
    "Question: {question}\n",
    "\"\"\", input_variables=[\"chat_history\", \"context\", \"question\"])"
   ]
  },
  {
   "cell_type": "code",
   "execution_count": 23,
   "id": "27fccca2-77cd-436a-b384-2e10b2593c5b",
   "metadata": {},
   "outputs": [
    {
     "name": "stdout",
     "output_type": "stream",
     "text": [
      "Quem foi Ana Lucia Silva Souza?\n",
      "Ana Lucia Silva Souza é uma autora que desenvolveu a teoria dos Letramentos de Reexistências, utilizada em algumas das teses mencionadas no contexto. Você pode encontrar mais informações sobre ela em: https://repositorio.ufba.br/ri/bitstream/ri/34885/1/Disserta%C3%A7%C3%A3o%20Ana%20L%C3%BAcia%20Silva%20Souza.pdf.\n",
      "quit\n",
      "Goodbye! Don't hesitate to ask if you have any more questions.\n"
     ]
    }
   ],
   "source": [
    "memory = ConversationBufferMemory(memory_key=\"chat_history\", input_key=\"question\", return_messages=True)\n",
    "\n",
    "chat_chain = LLMChain(llm=chat_llm, prompt=prompt, memory=memory) #LLMChain\n",
    "\n",
    "while True:\n",
    "    question = input(\"> \")\n",
    "    print(question)\n",
    "    response = chat_chain.invoke({\n",
    "        \"context\": ground_information,\n",
    "        \"question\": question\n",
    "        })\n",
    "    print(response[\"text\"])\n",
    "    if question == \"quit\":\n",
    "        break"
   ]
  },
  {
   "cell_type": "code",
   "execution_count": 29,
   "id": "655d36ac-aa40-409c-a131-e3baaa0845ef",
   "metadata": {},
   "outputs": [],
   "source": [
    "question = input(\"> \")\n",
    "#print (question)\n"
   ]
  },
  {
   "cell_type": "code",
   "execution_count": 6,
   "id": "7b231f98-fbd1-426c-bf58-020e053fdec9",
   "metadata": {
    "jupyter": {
     "source_hidden": true
    }
   },
   "outputs": [],
   "source": [
    "# Connection to the Azure OpenAI model\n",
    "client = AzureOpenAI(\n",
    "  azure_endpoint=AZURE_OPENAI_ENDPOINT, \n",
    "  api_key=AZURE_OPENAI_API_KEY,  \n",
    "  api_version=OPENAI_API_VERSION\n",
    ")\n",
    "\n",
    "\n",
    "llm = AzureChatOpenAI(deployment_name=OPENAI_DEPLOYMENT_NAME,temperature=0)"
   ]
  },
  {
   "cell_type": "markdown",
   "id": "0adb1690-0ebb-4110-b34a-e4e9287102c1",
   "metadata": {},
   "source": [
    "### Using LLM to query the graph using GraphCypherQAChain library"
   ]
  },
  {
   "cell_type": "code",
   "execution_count": 9,
   "id": "e84477b1-76be-4f44-8b24-5718e60412e2",
   "metadata": {
    "collapsed": true,
    "jupyter": {
     "outputs_hidden": true,
     "source_hidden": true
    }
   },
   "outputs": [
    {
     "name": "stdout",
     "output_type": "stream",
     "text": [
      "\n",
      "\n",
      "\u001b[1m> Entering new GraphCypherQAChain chain...\u001b[0m\n",
      "Generated Cypher:\n",
      "\u001b[32;1m\u001b[1;3mWhat are the names of the facilities that are responsible for drilling wellbore with NpdidWellbore '5693-L-008'? \n",
      "\n",
      "Cypher statement:\n",
      "MATCH (:Wellbore {NpdidWellbore: '5693-L-008'})<-[:DRILLED]-(f:Facility) WHERE EXISTS((:Company)-[:IS_RESPONSIBLE_FOR]->(f)) RETURN f.Name\u001b[0m\n"
     ]
    },
    {
     "ename": "ValueError",
     "evalue": "Generated Cypher Statement is not valid\n{code: Neo.ClientError.Statement.SyntaxError} {message: Invalid input 'What': expected\n  \"ALTER\"\n  \"CALL\"\n  \"CREATE\"\n  \"DEALLOCATE\"\n  \"DELETE\"\n  \"DENY\"\n  \"DETACH\"\n  \"DROP\"\n  \"DRYRUN\"\n  \"ENABLE\"\n  \"FINISH\"\n  \"FOREACH\"\n  \"GRANT\"\n  \"INSERT\"\n  \"LOAD\"\n  \"MATCH\"\n  \"MERGE\"\n  \"NODETACH\"\n  \"OPTIONAL\"\n  \"REALLOCATE\"\n  \"REMOVE\"\n  \"RENAME\"\n  \"RETURN\"\n  \"REVOKE\"\n  \"SET\"\n  \"SHOW\"\n  \"START\"\n  \"STOP\"\n  \"TERMINATE\"\n  \"UNWIND\"\n  \"USE\"\n  \"USING\"\n  \"WITH\" (line 1, column 1 (offset: 0))\n\"What are the names of the facilities that are responsible for drilling wellbore with NpdidWellbore '5693-L-008'?\"\n ^}",
     "output_type": "error",
     "traceback": [
      "\u001b[1;31m---------------------------------------------------------------------------\u001b[0m",
      "\u001b[1;31mCypherSyntaxError\u001b[0m                         Traceback (most recent call last)",
      "File \u001b[1;32mc:\\Users\\facordei\\OneDrive - Capgemini\\Documents\\Customers\\Equinor\\PoC\\RAG Graph and Embeddings\\.PoC_venv\\Lib\\site-packages\\langchain_community\\graphs\\neo4j_graph.py:391\u001b[0m, in \u001b[0;36mNeo4jGraph.query\u001b[1;34m(self, query, params)\u001b[0m\n\u001b[0;32m    390\u001b[0m \u001b[38;5;28;01mtry\u001b[39;00m:\n\u001b[1;32m--> 391\u001b[0m     data \u001b[38;5;241m=\u001b[39m \u001b[43msession\u001b[49m\u001b[38;5;241;43m.\u001b[39;49m\u001b[43mrun\u001b[49m\u001b[43m(\u001b[49m\u001b[43mQuery\u001b[49m\u001b[43m(\u001b[49m\u001b[43mtext\u001b[49m\u001b[38;5;241;43m=\u001b[39;49m\u001b[43mquery\u001b[49m\u001b[43m,\u001b[49m\u001b[43m \u001b[49m\u001b[43mtimeout\u001b[49m\u001b[38;5;241;43m=\u001b[39;49m\u001b[38;5;28;43mself\u001b[39;49m\u001b[38;5;241;43m.\u001b[39;49m\u001b[43mtimeout\u001b[49m\u001b[43m)\u001b[49m\u001b[43m,\u001b[49m\u001b[43m \u001b[49m\u001b[43mparams\u001b[49m\u001b[43m)\u001b[49m\n\u001b[0;32m    392\u001b[0m     json_data \u001b[38;5;241m=\u001b[39m [r\u001b[38;5;241m.\u001b[39mdata() \u001b[38;5;28;01mfor\u001b[39;00m r \u001b[38;5;129;01min\u001b[39;00m data]\n",
      "File \u001b[1;32mc:\\Users\\facordei\\OneDrive - Capgemini\\Documents\\Customers\\Equinor\\PoC\\RAG Graph and Embeddings\\.PoC_venv\\Lib\\site-packages\\neo4j\\_sync\\work\\session.py:313\u001b[0m, in \u001b[0;36mSession.run\u001b[1;34m(self, query, parameters, **kwargs)\u001b[0m\n\u001b[0;32m    312\u001b[0m parameters \u001b[38;5;241m=\u001b[39m \u001b[38;5;28mdict\u001b[39m(parameters \u001b[38;5;129;01mor\u001b[39;00m {}, \u001b[38;5;241m*\u001b[39m\u001b[38;5;241m*\u001b[39mkwargs)\n\u001b[1;32m--> 313\u001b[0m \u001b[38;5;28;43mself\u001b[39;49m\u001b[38;5;241;43m.\u001b[39;49m\u001b[43m_auto_result\u001b[49m\u001b[38;5;241;43m.\u001b[39;49m\u001b[43m_run\u001b[49m\u001b[43m(\u001b[49m\n\u001b[0;32m    314\u001b[0m \u001b[43m    \u001b[49m\u001b[43mquery\u001b[49m\u001b[43m,\u001b[49m\u001b[43m \u001b[49m\u001b[43mparameters\u001b[49m\u001b[43m,\u001b[49m\u001b[43m \u001b[49m\u001b[38;5;28;43mself\u001b[39;49m\u001b[38;5;241;43m.\u001b[39;49m\u001b[43m_config\u001b[49m\u001b[38;5;241;43m.\u001b[39;49m\u001b[43mdatabase\u001b[49m\u001b[43m,\u001b[49m\n\u001b[0;32m    315\u001b[0m \u001b[43m    \u001b[49m\u001b[38;5;28;43mself\u001b[39;49m\u001b[38;5;241;43m.\u001b[39;49m\u001b[43m_config\u001b[49m\u001b[38;5;241;43m.\u001b[39;49m\u001b[43mimpersonated_user\u001b[49m\u001b[43m,\u001b[49m\u001b[43m \u001b[49m\u001b[38;5;28;43mself\u001b[39;49m\u001b[38;5;241;43m.\u001b[39;49m\u001b[43m_config\u001b[49m\u001b[38;5;241;43m.\u001b[39;49m\u001b[43mdefault_access_mode\u001b[49m\u001b[43m,\u001b[49m\n\u001b[0;32m    316\u001b[0m \u001b[43m    \u001b[49m\u001b[43mbookmarks\u001b[49m\u001b[43m,\u001b[49m\u001b[43m \u001b[49m\u001b[38;5;28;43mself\u001b[39;49m\u001b[38;5;241;43m.\u001b[39;49m\u001b[43m_config\u001b[49m\u001b[38;5;241;43m.\u001b[39;49m\u001b[43mnotifications_min_severity\u001b[49m\u001b[43m,\u001b[49m\n\u001b[0;32m    317\u001b[0m \u001b[43m    \u001b[49m\u001b[38;5;28;43mself\u001b[39;49m\u001b[38;5;241;43m.\u001b[39;49m\u001b[43m_config\u001b[49m\u001b[38;5;241;43m.\u001b[39;49m\u001b[43mnotifications_disabled_categories\u001b[49m\u001b[43m,\u001b[49m\n\u001b[0;32m    318\u001b[0m \u001b[43m\u001b[49m\u001b[43m)\u001b[49m\n\u001b[0;32m    320\u001b[0m \u001b[38;5;28;01mreturn\u001b[39;00m \u001b[38;5;28mself\u001b[39m\u001b[38;5;241m.\u001b[39m_auto_result\n",
      "File \u001b[1;32mc:\\Users\\facordei\\OneDrive - Capgemini\\Documents\\Customers\\Equinor\\PoC\\RAG Graph and Embeddings\\.PoC_venv\\Lib\\site-packages\\neo4j\\_sync\\work\\result.py:181\u001b[0m, in \u001b[0;36mResult._run\u001b[1;34m(self, query, parameters, db, imp_user, access_mode, bookmarks, notifications_min_severity, notifications_disabled_categories)\u001b[0m\n\u001b[0;32m    180\u001b[0m \u001b[38;5;28mself\u001b[39m\u001b[38;5;241m.\u001b[39m_connection\u001b[38;5;241m.\u001b[39msend_all()\n\u001b[1;32m--> 181\u001b[0m \u001b[38;5;28;43mself\u001b[39;49m\u001b[38;5;241;43m.\u001b[39;49m\u001b[43m_attach\u001b[49m\u001b[43m(\u001b[49m\u001b[43m)\u001b[49m\n",
      "File \u001b[1;32mc:\\Users\\facordei\\OneDrive - Capgemini\\Documents\\Customers\\Equinor\\PoC\\RAG Graph and Embeddings\\.PoC_venv\\Lib\\site-packages\\neo4j\\_sync\\work\\result.py:301\u001b[0m, in \u001b[0;36mResult._attach\u001b[1;34m(self)\u001b[0m\n\u001b[0;32m    300\u001b[0m \u001b[38;5;28;01mwhile\u001b[39;00m \u001b[38;5;28mself\u001b[39m\u001b[38;5;241m.\u001b[39m_attached \u001b[38;5;129;01mis\u001b[39;00m \u001b[38;5;28;01mFalse\u001b[39;00m:\n\u001b[1;32m--> 301\u001b[0m     \u001b[38;5;28;43mself\u001b[39;49m\u001b[38;5;241;43m.\u001b[39;49m\u001b[43m_connection\u001b[49m\u001b[38;5;241;43m.\u001b[39;49m\u001b[43mfetch_message\u001b[49m\u001b[43m(\u001b[49m\u001b[43m)\u001b[49m\n",
      "File \u001b[1;32mc:\\Users\\facordei\\OneDrive - Capgemini\\Documents\\Customers\\Equinor\\PoC\\RAG Graph and Embeddings\\.PoC_venv\\Lib\\site-packages\\neo4j\\_sync\\io\\_common.py:178\u001b[0m, in \u001b[0;36mConnectionErrorHandler.__getattr__.<locals>.outer.<locals>.inner\u001b[1;34m(*args, **kwargs)\u001b[0m\n\u001b[0;32m    177\u001b[0m \u001b[38;5;28;01mtry\u001b[39;00m:\n\u001b[1;32m--> 178\u001b[0m     \u001b[43mfunc\u001b[49m\u001b[43m(\u001b[49m\u001b[38;5;241;43m*\u001b[39;49m\u001b[43margs\u001b[49m\u001b[43m,\u001b[49m\u001b[43m \u001b[49m\u001b[38;5;241;43m*\u001b[39;49m\u001b[38;5;241;43m*\u001b[39;49m\u001b[43mkwargs\u001b[49m\u001b[43m)\u001b[49m\n\u001b[0;32m    179\u001b[0m \u001b[38;5;28;01mexcept\u001b[39;00m (Neo4jError, ServiceUnavailable, SessionExpired) \u001b[38;5;28;01mas\u001b[39;00m exc:\n",
      "File \u001b[1;32mc:\\Users\\facordei\\OneDrive - Capgemini\\Documents\\Customers\\Equinor\\PoC\\RAG Graph and Embeddings\\.PoC_venv\\Lib\\site-packages\\neo4j\\_sync\\io\\_bolt.py:850\u001b[0m, in \u001b[0;36mBolt.fetch_message\u001b[1;34m(self)\u001b[0m\n\u001b[0;32m    847\u001b[0m tag, fields \u001b[38;5;241m=\u001b[39m \u001b[38;5;28mself\u001b[39m\u001b[38;5;241m.\u001b[39minbox\u001b[38;5;241m.\u001b[39mpop(\n\u001b[0;32m    848\u001b[0m     hydration_hooks\u001b[38;5;241m=\u001b[39m\u001b[38;5;28mself\u001b[39m\u001b[38;5;241m.\u001b[39mresponses[\u001b[38;5;241m0\u001b[39m]\u001b[38;5;241m.\u001b[39mhydration_hooks\n\u001b[0;32m    849\u001b[0m )\n\u001b[1;32m--> 850\u001b[0m res \u001b[38;5;241m=\u001b[39m \u001b[38;5;28;43mself\u001b[39;49m\u001b[38;5;241;43m.\u001b[39;49m\u001b[43m_process_message\u001b[49m\u001b[43m(\u001b[49m\u001b[43mtag\u001b[49m\u001b[43m,\u001b[49m\u001b[43m \u001b[49m\u001b[43mfields\u001b[49m\u001b[43m)\u001b[49m\n\u001b[0;32m    851\u001b[0m \u001b[38;5;28mself\u001b[39m\u001b[38;5;241m.\u001b[39midle_since \u001b[38;5;241m=\u001b[39m monotonic()\n",
      "File \u001b[1;32mc:\\Users\\facordei\\OneDrive - Capgemini\\Documents\\Customers\\Equinor\\PoC\\RAG Graph and Embeddings\\.PoC_venv\\Lib\\site-packages\\neo4j\\_sync\\io\\_bolt5.py:369\u001b[0m, in \u001b[0;36mBolt5x0._process_message\u001b[1;34m(self, tag, fields)\u001b[0m\n\u001b[0;32m    368\u001b[0m \u001b[38;5;28;01mtry\u001b[39;00m:\n\u001b[1;32m--> 369\u001b[0m     \u001b[43mresponse\u001b[49m\u001b[38;5;241;43m.\u001b[39;49m\u001b[43mon_failure\u001b[49m\u001b[43m(\u001b[49m\u001b[43msummary_metadata\u001b[49m\u001b[43m \u001b[49m\u001b[38;5;129;43;01mor\u001b[39;49;00m\u001b[43m \u001b[49m\u001b[43m{\u001b[49m\u001b[43m}\u001b[49m\u001b[43m)\u001b[49m\n\u001b[0;32m    370\u001b[0m \u001b[38;5;28;01mexcept\u001b[39;00m (ServiceUnavailable, DatabaseUnavailable):\n",
      "File \u001b[1;32mc:\\Users\\facordei\\OneDrive - Capgemini\\Documents\\Customers\\Equinor\\PoC\\RAG Graph and Embeddings\\.PoC_venv\\Lib\\site-packages\\neo4j\\_sync\\io\\_common.py:245\u001b[0m, in \u001b[0;36mResponse.on_failure\u001b[1;34m(self, metadata)\u001b[0m\n\u001b[0;32m    244\u001b[0m Util\u001b[38;5;241m.\u001b[39mcallback(handler)\n\u001b[1;32m--> 245\u001b[0m \u001b[38;5;28;01mraise\u001b[39;00m Neo4jError\u001b[38;5;241m.\u001b[39mhydrate(\u001b[38;5;241m*\u001b[39m\u001b[38;5;241m*\u001b[39mmetadata)\n",
      "\u001b[1;31mCypherSyntaxError\u001b[0m: {code: Neo.ClientError.Statement.SyntaxError} {message: Invalid input 'What': expected\n  \"ALTER\"\n  \"CALL\"\n  \"CREATE\"\n  \"DEALLOCATE\"\n  \"DELETE\"\n  \"DENY\"\n  \"DETACH\"\n  \"DROP\"\n  \"DRYRUN\"\n  \"ENABLE\"\n  \"FINISH\"\n  \"FOREACH\"\n  \"GRANT\"\n  \"INSERT\"\n  \"LOAD\"\n  \"MATCH\"\n  \"MERGE\"\n  \"NODETACH\"\n  \"OPTIONAL\"\n  \"REALLOCATE\"\n  \"REMOVE\"\n  \"RENAME\"\n  \"RETURN\"\n  \"REVOKE\"\n  \"SET\"\n  \"SHOW\"\n  \"START\"\n  \"STOP\"\n  \"TERMINATE\"\n  \"UNWIND\"\n  \"USE\"\n  \"USING\"\n  \"WITH\" (line 1, column 1 (offset: 0))\n\"What are the names of the facilities that are responsible for drilling wellbore with NpdidWellbore '5693-L-008'?\"\n ^}",
      "\nDuring handling of the above exception, another exception occurred:\n",
      "\u001b[1;31mValueError\u001b[0m                                Traceback (most recent call last)",
      "Cell \u001b[1;32mIn[9], line 37\u001b[0m\n\u001b[0;32m     35\u001b[0m \u001b[38;5;28;01mwhile\u001b[39;00m \u001b[38;5;28;01mTrue\u001b[39;00m:\n\u001b[0;32m     36\u001b[0m     question \u001b[38;5;241m=\u001b[39m \u001b[38;5;28minput\u001b[39m(\u001b[38;5;124m\"\u001b[39m\u001b[38;5;124m> \u001b[39m\u001b[38;5;124m\"\u001b[39m)\n\u001b[1;32m---> 37\u001b[0m     response \u001b[38;5;241m=\u001b[39m \u001b[43mcypher_chain\u001b[49m\u001b[38;5;241;43m.\u001b[39;49m\u001b[43minvoke\u001b[49m\u001b[43m(\u001b[49m\u001b[43m{\u001b[49m\n\u001b[0;32m     38\u001b[0m \u001b[43m        \u001b[49m\u001b[38;5;124;43m\"\u001b[39;49m\u001b[38;5;124;43mquery\u001b[39;49m\u001b[38;5;124;43m\"\u001b[39;49m\u001b[43m:\u001b[49m\u001b[43m \u001b[49m\u001b[43mquestion\u001b[49m\n\u001b[0;32m     39\u001b[0m \u001b[43m        \u001b[49m\u001b[43m}\u001b[49m\u001b[43m)\u001b[49m\n\u001b[0;32m     41\u001b[0m     \u001b[38;5;28mprint\u001b[39m(response[\u001b[38;5;124m'\u001b[39m\u001b[38;5;124mresult\u001b[39m\u001b[38;5;124m'\u001b[39m])\n",
      "File \u001b[1;32mc:\\Users\\facordei\\OneDrive - Capgemini\\Documents\\Customers\\Equinor\\PoC\\RAG Graph and Embeddings\\.PoC_venv\\Lib\\site-packages\\langchain\\chains\\base.py:166\u001b[0m, in \u001b[0;36mChain.invoke\u001b[1;34m(self, input, config, **kwargs)\u001b[0m\n\u001b[0;32m    164\u001b[0m \u001b[38;5;28;01mexcept\u001b[39;00m \u001b[38;5;167;01mBaseException\u001b[39;00m \u001b[38;5;28;01mas\u001b[39;00m e:\n\u001b[0;32m    165\u001b[0m     run_manager\u001b[38;5;241m.\u001b[39mon_chain_error(e)\n\u001b[1;32m--> 166\u001b[0m     \u001b[38;5;28;01mraise\u001b[39;00m e\n\u001b[0;32m    167\u001b[0m run_manager\u001b[38;5;241m.\u001b[39mon_chain_end(outputs)\n\u001b[0;32m    169\u001b[0m \u001b[38;5;28;01mif\u001b[39;00m include_run_info:\n",
      "File \u001b[1;32mc:\\Users\\facordei\\OneDrive - Capgemini\\Documents\\Customers\\Equinor\\PoC\\RAG Graph and Embeddings\\.PoC_venv\\Lib\\site-packages\\langchain\\chains\\base.py:156\u001b[0m, in \u001b[0;36mChain.invoke\u001b[1;34m(self, input, config, **kwargs)\u001b[0m\n\u001b[0;32m    153\u001b[0m \u001b[38;5;28;01mtry\u001b[39;00m:\n\u001b[0;32m    154\u001b[0m     \u001b[38;5;28mself\u001b[39m\u001b[38;5;241m.\u001b[39m_validate_inputs(inputs)\n\u001b[0;32m    155\u001b[0m     outputs \u001b[38;5;241m=\u001b[39m (\n\u001b[1;32m--> 156\u001b[0m         \u001b[38;5;28;43mself\u001b[39;49m\u001b[38;5;241;43m.\u001b[39;49m\u001b[43m_call\u001b[49m\u001b[43m(\u001b[49m\u001b[43minputs\u001b[49m\u001b[43m,\u001b[49m\u001b[43m \u001b[49m\u001b[43mrun_manager\u001b[49m\u001b[38;5;241;43m=\u001b[39;49m\u001b[43mrun_manager\u001b[49m\u001b[43m)\u001b[49m\n\u001b[0;32m    157\u001b[0m         \u001b[38;5;28;01mif\u001b[39;00m new_arg_supported\n\u001b[0;32m    158\u001b[0m         \u001b[38;5;28;01melse\u001b[39;00m \u001b[38;5;28mself\u001b[39m\u001b[38;5;241m.\u001b[39m_call(inputs)\n\u001b[0;32m    159\u001b[0m     )\n\u001b[0;32m    161\u001b[0m     final_outputs: Dict[\u001b[38;5;28mstr\u001b[39m, Any] \u001b[38;5;241m=\u001b[39m \u001b[38;5;28mself\u001b[39m\u001b[38;5;241m.\u001b[39mprep_outputs(\n\u001b[0;32m    162\u001b[0m         inputs, outputs, return_only_outputs\n\u001b[0;32m    163\u001b[0m     )\n\u001b[0;32m    164\u001b[0m \u001b[38;5;28;01mexcept\u001b[39;00m \u001b[38;5;167;01mBaseException\u001b[39;00m \u001b[38;5;28;01mas\u001b[39;00m e:\n",
      "File \u001b[1;32mc:\\Users\\facordei\\OneDrive - Capgemini\\Documents\\Customers\\Equinor\\PoC\\RAG Graph and Embeddings\\.PoC_venv\\Lib\\site-packages\\langchain_community\\chains\\graph_qa\\cypher.py:274\u001b[0m, in \u001b[0;36mGraphCypherQAChain._call\u001b[1;34m(self, inputs, run_manager)\u001b[0m\n\u001b[0;32m    271\u001b[0m \u001b[38;5;66;03m# Retrieve and limit the number of results\u001b[39;00m\n\u001b[0;32m    272\u001b[0m \u001b[38;5;66;03m# Generated Cypher be null if query corrector identifies invalid schema\u001b[39;00m\n\u001b[0;32m    273\u001b[0m \u001b[38;5;28;01mif\u001b[39;00m generated_cypher:\n\u001b[1;32m--> 274\u001b[0m     context \u001b[38;5;241m=\u001b[39m \u001b[38;5;28;43mself\u001b[39;49m\u001b[38;5;241;43m.\u001b[39;49m\u001b[43mgraph\u001b[49m\u001b[38;5;241;43m.\u001b[39;49m\u001b[43mquery\u001b[49m\u001b[43m(\u001b[49m\u001b[43mgenerated_cypher\u001b[49m\u001b[43m)\u001b[49m[: \u001b[38;5;28mself\u001b[39m\u001b[38;5;241m.\u001b[39mtop_k]\n\u001b[0;32m    275\u001b[0m \u001b[38;5;28;01melse\u001b[39;00m:\n\u001b[0;32m    276\u001b[0m     context \u001b[38;5;241m=\u001b[39m []\n",
      "File \u001b[1;32mc:\\Users\\facordei\\OneDrive - Capgemini\\Documents\\Customers\\Equinor\\PoC\\RAG Graph and Embeddings\\.PoC_venv\\Lib\\site-packages\\langchain_community\\graphs\\neo4j_graph.py:397\u001b[0m, in \u001b[0;36mNeo4jGraph.query\u001b[1;34m(self, query, params)\u001b[0m\n\u001b[0;32m    395\u001b[0m     \u001b[38;5;28;01mreturn\u001b[39;00m json_data\n\u001b[0;32m    396\u001b[0m \u001b[38;5;28;01mexcept\u001b[39;00m CypherSyntaxError \u001b[38;5;28;01mas\u001b[39;00m e:\n\u001b[1;32m--> 397\u001b[0m     \u001b[38;5;28;01mraise\u001b[39;00m \u001b[38;5;167;01mValueError\u001b[39;00m(\u001b[38;5;124mf\u001b[39m\u001b[38;5;124m\"\u001b[39m\u001b[38;5;124mGenerated Cypher Statement is not valid\u001b[39m\u001b[38;5;130;01m\\n\u001b[39;00m\u001b[38;5;132;01m{\u001b[39;00me\u001b[38;5;132;01m}\u001b[39;00m\u001b[38;5;124m\"\u001b[39m)\n",
      "\u001b[1;31mValueError\u001b[0m: Generated Cypher Statement is not valid\n{code: Neo.ClientError.Statement.SyntaxError} {message: Invalid input 'What': expected\n  \"ALTER\"\n  \"CALL\"\n  \"CREATE\"\n  \"DEALLOCATE\"\n  \"DELETE\"\n  \"DENY\"\n  \"DETACH\"\n  \"DROP\"\n  \"DRYRUN\"\n  \"ENABLE\"\n  \"FINISH\"\n  \"FOREACH\"\n  \"GRANT\"\n  \"INSERT\"\n  \"LOAD\"\n  \"MATCH\"\n  \"MERGE\"\n  \"NODETACH\"\n  \"OPTIONAL\"\n  \"REALLOCATE\"\n  \"REMOVE\"\n  \"RENAME\"\n  \"RETURN\"\n  \"REVOKE\"\n  \"SET\"\n  \"SHOW\"\n  \"START\"\n  \"STOP\"\n  \"TERMINATE\"\n  \"UNWIND\"\n  \"USE\"\n  \"USING\"\n  \"WITH\" (line 1, column 1 (offset: 0))\n\"What are the names of the facilities that are responsible for drilling wellbore with NpdidWellbore '5693-L-008'?\"\n ^}"
     ]
    }
   ],
   "source": [
    "# FIRST PROMPT - Transform a natural language query in a Cypher query\n",
    "CYPHER_GENERATION_TEMPLATE = \"\"\"\n",
    "You are an expert Neo4j Developer translating user questions into Cypher to answer questions about the offshore oil and gas industry.\n",
    "Convert the user's question based on the schema.\n",
    "Do not include any text except the generated Cypher statement.\n",
    "\n",
    "Instructions:\n",
    "Use only the provided relationship types and properties in the schema.\n",
    "Do not use any other relationship types or properties that are not provided.\n",
    "The property existence syntax `... exists(variable.property)` is no longer supported. Please use `variable.property IS NOT NULL` instead.\n",
    "\n",
    "Schema: {schema}\n",
    "Question: {question}\n",
    "\"\"\"\n",
    "\n",
    "cypher_generation_prompt = PromptTemplate(\n",
    "    template=CYPHER_GENERATION_TEMPLATE,\n",
    "    input_variables=[\"schema\", \"question\"],\n",
    ")\n",
    "\n",
    "# Memory for chat conversation\n",
    "memory = ConversationBufferMemory(memory_key=\"chat_history\", input_key=\"query\", return_messages=True)\n",
    "\n",
    "# SECOND PROMPT - Use the Cypher query to answer the user query\n",
    "cypher_chain = GraphCypherQAChain.from_llm(\n",
    "    llm,\n",
    "    graph=graph,\n",
    "    cypher_prompt=cypher_generation_prompt,\n",
    "    verbose=True,\n",
    "    memory=memory\n",
    ")\n",
    "\n",
    "\n",
    "# Chat loop\n",
    "while True:\n",
    "    question = input(\"> \")\n",
    "    response = cypher_chain.invoke({\n",
    "        \"query\": question\n",
    "        })\n",
    "    \n",
    "    print(response['result'])"
   ]
  },
  {
   "cell_type": "markdown",
   "id": "35ac54d9-953b-487e-883a-2de8ab6bcd8f",
   "metadata": {},
   "source": [
    "-   How many facilities belongs to the \"GULLFAKS\" oil field?\n",
    "-   Give me the name and FactPage URL of the facilities of the \"GULLFAKS\" oil field?"
   ]
  }
 ],
 "metadata": {
  "kernelspec": {
   "display_name": "Python 3 (ipykernel)",
   "language": "python",
   "name": "python3"
  },
  "language_info": {
   "codemirror_mode": {
    "name": "ipython",
    "version": 3
   },
   "file_extension": ".py",
   "mimetype": "text/x-python",
   "name": "python",
   "nbconvert_exporter": "python",
   "pygments_lexer": "ipython3",
   "version": "3.11.9"
  }
 },
 "nbformat": 4,
 "nbformat_minor": 5
}
