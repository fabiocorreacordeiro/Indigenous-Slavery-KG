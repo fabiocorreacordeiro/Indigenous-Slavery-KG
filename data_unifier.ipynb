{
 "cells": [
  {
   "cell_type": "code",
   "execution_count": 1,
   "metadata": {},
   "outputs": [],
   "source": [
    "import pandas as pd\n",
    "from os import listdir"
   ]
  },
  {
   "cell_type": "code",
   "execution_count": 2,
   "metadata": {},
   "outputs": [],
   "source": [
    "# Coletando nomes dos arquivo CSV presentes na pasta \"path_to_dir\"\n",
    "path_to_dir = \"data/BDTD_feb2025\"\n",
    "filenames = listdir(path_to_dir)\n",
    "csv_files = [ path_to_dir + \"/\" + filename for filename in filenames if filename.endswith( \".csv\" ) ]"
   ]
  },
  {
   "cell_type": "code",
   "execution_count": 3,
   "metadata": {},
   "outputs": [],
   "source": [
    "# Concatenando todos os arquivos\n",
    "data = pd.DataFrame()\n",
    "for csv in csv_files:\n",
    "    data = pd.concat([data, pd.read_csv(csv)])\n",
    "data = data.drop_duplicates(subset=['Título'], keep='first').reset_index(drop=True)"
   ]
  },
  {
   "cell_type": "code",
   "execution_count": 4,
   "metadata": {},
   "outputs": [],
   "source": [
    "# Quebrando assuntos em lista\n",
    "data[\"Assuntos em português\"] = data[\"Assuntos em português\"].apply(lambda x: x.split(\"||\"))\n",
    "data[\"Assuntos em inglês\"] = data[\"Assuntos em inglês\"].apply(lambda x: x.split(\"||\"))"
   ]
  },
  {
   "cell_type": "code",
   "execution_count": 5,
   "metadata": {},
   "outputs": [],
   "source": [
    "# Limpando o nome dos autores\n",
    "autors = data[\"Autor(a)\"].apply(lambda x: x.split(\"||\"))\n",
    "\n",
    "new_autors = []\n",
    "for n in range(len(autors)):\n",
    "    new_autors.append(autors[n][0])\n",
    "    if len(autors[n]) > 1:\n",
    "        if autors[n][1].startswith(\"http://lattes.cnpq.br/\"):\n",
    "            data.loc[n, \"ID Lattes do(a) autor(a)\"] = autors[n][1]\n",
    "\n",
    "data[\"Autor(a)\"] = new_autors"
   ]
  },
  {
   "cell_type": "code",
   "execution_count": 6,
   "metadata": {},
   "outputs": [],
   "source": [
    "# Limpando os nomes dos orientadores\n",
    "\n",
    "orientadores = data[\"Orientadores\"].apply(lambda x: x.split(\"||\"))\n",
    "\n",
    "for n in range(len(orientadores)):\n",
    "    if \"Não informado pela instituição\" in orientadores[n]:\n",
    "        orientadores[n] = list(filter(lambda a: a != \"Não informado pela instituição\", orientadores[n]))\n",
    "\n",
    "data[\"Orientadores\"] = orientadores"
   ]
  },
  {
   "cell_type": "code",
   "execution_count": 7,
   "metadata": {},
   "outputs": [],
   "source": [
    "# Limpando os nomes dos membros da banca\n",
    "\n",
    "banca = data[\"Membros da banca\"].apply(lambda x: x.split(\"||\"))\n",
    "\n",
    "for n in range(len(banca)):\n",
    "    if \"Não informado pela instituição\" in banca[n]:\n",
    "        banca[n] = list(filter(lambda a: a != \"Não informado pela instituição\", banca[n]))\n",
    "\n",
    "data[\"Membros da banca\"] = banca"
   ]
  },
  {
   "cell_type": "code",
   "execution_count": 8,
   "metadata": {},
   "outputs": [
    {
     "name": "stderr",
     "output_type": "stream",
     "text": [
      "C:\\Users\\facordei\\AppData\\Local\\Temp\\ipykernel_13168\\147117010.py:3: FutureWarning: Setting an item of incompatible dtype is deprecated and will raise an error in a future version of pandas. Value '' has dtype incompatible with int64, please explicitly cast to a compatible dtype first.\n",
      "  data[data['Resumo'].str.contains('Orientador:')] = ''\n"
     ]
    }
   ],
   "source": [
    "# Limpando os textos do Resumo\n",
    "data['Resumo'] = data['Resumo'].astype(str)\n",
    "data[data['Resumo'].str.contains('Orientador:')] = ''\n",
    "data[data['Resumo'].str.contains('Orientadora:')] = ''\n",
    "data[data['Resumo'].str.contains('Orientadores:')] = ''\n",
    "data[data['Resumo'] == '--'] = ''\n",
    "data[data['Resumo'] == '.'] = ''\n",
    "data[data['Resumo'].str.contains(r'Dissertação \\(mestrado\\) -', regex=True)] = ''\n",
    "data[data['Resumo'].str.contains('também disponível em formato')] = ''\n",
    "data[data['Resumo'] == '[sem resumo]'] = ''\n",
    "data[data['Resumo'] == 'abstract'] = ''\n",
    "data[data['Resumo'].str.contains('Tese \\(doutorado\\)')] = ''\n",
    "data[data['Resumo'] == 'Não informado pela instituição'] = ''"
   ]
  },
  {
   "cell_type": "markdown",
   "metadata": {},
   "source": [
    "Filtrar as áreas de conhecimento e assuntos indesejados"
   ]
  },
  {
   "cell_type": "code",
   "execution_count": 92,
   "metadata": {},
   "outputs": [
    {
     "name": "stderr",
     "output_type": "stream",
     "text": [
      "C:\\Users\\facordei\\AppData\\Local\\Temp\\ipykernel_13168\\3699077921.py:2: SettingWithCopyWarning: \n",
      "A value is trying to be set on a copy of a slice from a DataFrame.\n",
      "Try using .loc[row_indexer,col_indexer] = value instead\n",
      "\n",
      "See the caveats in the documentation: https://pandas.pydata.org/pandas-docs/stable/user_guide/indexing.html#returning-a-view-versus-a-copy\n",
      "  AC_assunt['Área do conhecimento CNPq'] = AC_assunt['Área do conhecimento CNPq'].apply(lambda x: x.split('||'))\n",
      "C:\\Users\\facordei\\AppData\\Local\\Temp\\ipykernel_13168\\3699077921.py:3: SettingWithCopyWarning: \n",
      "A value is trying to be set on a copy of a slice from a DataFrame.\n",
      "Try using .loc[row_indexer,col_indexer] = value instead\n",
      "\n",
      "See the caveats in the documentation: https://pandas.pydata.org/pandas-docs/stable/user_guide/indexing.html#returning-a-view-versus-a-copy\n",
      "  AC_assunt['Área do conhecimento CNPq'] = AC_assunt['Área do conhecimento CNPq'].apply(lambda x:  [a.split('::') if '::' in a  else a for a in x] )\n",
      "C:\\Users\\facordei\\AppData\\Local\\Temp\\ipykernel_13168\\3699077921.py:4: SettingWithCopyWarning: \n",
      "A value is trying to be set on a copy of a slice from a DataFrame.\n",
      "Try using .loc[row_indexer,col_indexer] = value instead\n",
      "\n",
      "See the caveats in the documentation: https://pandas.pydata.org/pandas-docs/stable/user_guide/indexing.html#returning-a-view-versus-a-copy\n",
      "  AC_assunt['Área do conhecimento CNPq'] = AC_assunt['Área do conhecimento CNPq'].apply(lambda x: list(set([item.lower()  for sublist in x for item in (sublist if isinstance(sublist, list) else [sublist])])))\n",
      "C:\\Users\\facordei\\AppData\\Local\\Temp\\ipykernel_13168\\3699077921.py:5: SettingWithCopyWarning: \n",
      "A value is trying to be set on a copy of a slice from a DataFrame.\n",
      "Try using .loc[row_indexer,col_indexer] = value instead\n",
      "\n",
      "See the caveats in the documentation: https://pandas.pydata.org/pandas-docs/stable/user_guide/indexing.html#returning-a-view-versus-a-copy\n",
      "  AC_assunt['Assuntos em português'] = AC_assunt['Assuntos em português'].apply(lambda x: [a.lower() for a in x])\n",
      "C:\\Users\\facordei\\AppData\\Local\\Temp\\ipykernel_13168\\3699077921.py:6: SettingWithCopyWarning: \n",
      "A value is trying to be set on a copy of a slice from a DataFrame.\n",
      "Try using .loc[row_indexer,col_indexer] = value instead\n",
      "\n",
      "See the caveats in the documentation: https://pandas.pydata.org/pandas-docs/stable/user_guide/indexing.html#returning-a-view-versus-a-copy\n",
      "  AC_assunt['Assuntos em inglês'] = AC_assunt['Assuntos em inglês'].apply(lambda x: [a.lower() for a in x])\n"
     ]
    }
   ],
   "source": [
    "AC_assunt = data[['Área do conhecimento CNPq', 'Assuntos em português', 'Assuntos em inglês']]\n",
    "AC_assunt['Área do conhecimento CNPq'] = AC_assunt['Área do conhecimento CNPq'].apply(lambda x: x.split('||'))\n",
    "AC_assunt['Área do conhecimento CNPq'] = AC_assunt['Área do conhecimento CNPq'].apply(lambda x:  [a.split('::') if '::' in a  else a for a in x] )\n",
    "AC_assunt['Área do conhecimento CNPq'] = AC_assunt['Área do conhecimento CNPq'].apply(lambda x: list(set([item.lower()  for sublist in x for item in (sublist if isinstance(sublist, list) else [sublist])])))\n",
    "AC_assunt['Assuntos em português'] = AC_assunt['Assuntos em português'].apply(lambda x: [a.lower() for a in x])\n",
    "AC_assunt['Assuntos em inglês'] = AC_assunt['Assuntos em inglês'].apply(lambda x: [a.lower() for a in x])"
   ]
  },
  {
   "cell_type": "code",
   "execution_count": 97,
   "metadata": {},
   "outputs": [
    {
     "data": {
      "text/html": [
       "<div>\n",
       "<style scoped>\n",
       "    .dataframe tbody tr th:only-of-type {\n",
       "        vertical-align: middle;\n",
       "    }\n",
       "\n",
       "    .dataframe tbody tr th {\n",
       "        vertical-align: top;\n",
       "    }\n",
       "\n",
       "    .dataframe thead th {\n",
       "        text-align: right;\n",
       "    }\n",
       "</style>\n",
       "<table border=\"1\" class=\"dataframe\">\n",
       "  <thead>\n",
       "    <tr style=\"text-align: right;\">\n",
       "      <th></th>\n",
       "      <th>Título</th>\n",
       "      <th>Assuntos em português</th>\n",
       "      <th>Assuntos em inglês</th>\n",
       "    </tr>\n",
       "  </thead>\n",
       "  <tbody>\n",
       "    <tr>\n",
       "      <th>67</th>\n",
       "      <td>A argumentação na obra O abolicionismo de Joaq...</td>\n",
       "      <td>[Escravo, Liberdade, Direito, Justiça, Consciê...</td>\n",
       "      <td>[Slave, Freedom, Right, Justice, National cons...</td>\n",
       "    </tr>\n",
       "    <tr>\n",
       "      <th>362</th>\n",
       "      <td>Olhar para além das enfermidades: ser liberto ...</td>\n",
       "      <td>[liberto, movimento, abolição, Escravos - Cear...</td>\n",
       "      <td>[slave, I free, I move, abolition.]</td>\n",
       "    </tr>\n",
       "    <tr>\n",
       "      <th>6465</th>\n",
       "      <td>Cotidiano em conflito: relações sociais e fami...</td>\n",
       "      <td>[Divorcio, Matrimônio, Sociabilidade, Escravos...</td>\n",
       "      <td>[Woman, Divorce, Colony, Slave, Marriage, Soci...</td>\n",
       "    </tr>\n",
       "    <tr>\n",
       "      <th>7025</th>\n",
       "      <td>Uma análise da lista suja no Maranhão como açã...</td>\n",
       "      <td>[Trabalho, Escravo, Lista suja, Maranhão]</td>\n",
       "      <td>[Work, Slave, Dirty list]</td>\n",
       "    </tr>\n",
       "    <tr>\n",
       "      <th>7040</th>\n",
       "      <td>Trabalho escravo contemporâneo no Maranhão: um...</td>\n",
       "      <td>[Trabalho, Escravo, Maranhão, Erradicação, Lis...</td>\n",
       "      <td>[Work, Slave, Maranhão, Eradication, Dirty Lis...</td>\n",
       "    </tr>\n",
       "    <tr>\n",
       "      <th>7087</th>\n",
       "      <td>Os sentidos de escravo em Memórias Póstumas de...</td>\n",
       "      <td>[Semântica, Designação, Machado, Escravo, Acon...</td>\n",
       "      <td>[Semantics, Designation, Slave, Literature, Ev...</td>\n",
       "    </tr>\n",
       "    <tr>\n",
       "      <th>7135</th>\n",
       "      <td>\"Servindo a Deus e ao rei\": escravidão velada,...</td>\n",
       "      <td>[Diretório, Tutela, Liberdade dos índios, Escr...</td>\n",
       "      <td>[Indian chiefs, Directory, Guardianship, Freed...</td>\n",
       "    </tr>\n",
       "    <tr>\n",
       "      <th>7474</th>\n",
       "      <td>A liberdade em Aristóteles</td>\n",
       "      <td>[Liberdade, Razão, Alma, Escravo, Lei]</td>\n",
       "      <td>[Freedom, Reason, Soul, Slave, Law]</td>\n",
       "    </tr>\n",
       "  </tbody>\n",
       "</table>\n",
       "</div>"
      ],
      "text/plain": [
       "                                                 Título  \\\n",
       "67    A argumentação na obra O abolicionismo de Joaq...   \n",
       "362   Olhar para além das enfermidades: ser liberto ...   \n",
       "6465  Cotidiano em conflito: relações sociais e fami...   \n",
       "7025  Uma análise da lista suja no Maranhão como açã...   \n",
       "7040  Trabalho escravo contemporâneo no Maranhão: um...   \n",
       "7087  Os sentidos de escravo em Memórias Póstumas de...   \n",
       "7135  \"Servindo a Deus e ao rei\": escravidão velada,...   \n",
       "7474                         A liberdade em Aristóteles   \n",
       "\n",
       "                                  Assuntos em português  \\\n",
       "67    [Escravo, Liberdade, Direito, Justiça, Consciê...   \n",
       "362   [liberto, movimento, abolição, Escravos - Cear...   \n",
       "6465  [Divorcio, Matrimônio, Sociabilidade, Escravos...   \n",
       "7025          [Trabalho, Escravo, Lista suja, Maranhão]   \n",
       "7040  [Trabalho, Escravo, Maranhão, Erradicação, Lis...   \n",
       "7087  [Semântica, Designação, Machado, Escravo, Acon...   \n",
       "7135  [Diretório, Tutela, Liberdade dos índios, Escr...   \n",
       "7474             [Liberdade, Razão, Alma, Escravo, Lei]   \n",
       "\n",
       "                                     Assuntos em inglês  \n",
       "67    [Slave, Freedom, Right, Justice, National cons...  \n",
       "362                 [slave, I free, I move, abolition.]  \n",
       "6465  [Woman, Divorce, Colony, Slave, Marriage, Soci...  \n",
       "7025                          [Work, Slave, Dirty list]  \n",
       "7040  [Work, Slave, Maranhão, Eradication, Dirty Lis...  \n",
       "7087  [Semantics, Designation, Slave, Literature, Ev...  \n",
       "7135  [Indian chiefs, Directory, Guardianship, Freed...  \n",
       "7474                [Freedom, Reason, Soul, Slave, Law]  "
      ]
     },
     "execution_count": 97,
     "metadata": {},
     "output_type": "execute_result"
    }
   ],
   "source": [
    "# Area do conheciumento CNPq\n",
    "#data[AC_assunt['Área do conhecimento CNPq'].apply(lambda x : 'matematica' in x)][['Título', 'Assuntos em português', 'Assuntos em inglês']]\n",
    "\n",
    "# Assuntos em português\n",
    "#data[AC_assunt['Assuntos em português'].apply(lambda x : 'slave' in x)][['Título', 'Assuntos em português', 'Assuntos em inglês']]\n",
    "\n",
    "# Assuntos em inglês\n",
    "data[AC_assunt['Assuntos em inglês'].apply(lambda x : 'slave' in x)][['Título', 'Assuntos em português', 'Assuntos em inglês']]"
   ]
  },
  {
   "cell_type": "code",
   "execution_count": null,
   "metadata": {},
   "outputs": [],
   "source": [
    "# Excluindo as áreas não informadas pela instituicão\n",
    "AC = data['Área do conhecimento CNPq'][ data['Área do conhecimento CNPq'] != 'Não informado pela instituição']\n",
    "#Identificando as sequencias de areas únicas (todo um ramo da taxonomia)\n",
    "AC = AC.apply(lambda x: x.split('||'))\n",
    "AC_list = []\n",
    "for area in AC:\n",
    "    AC_list = AC_list + area\n",
    "AC_list = list(set(AC_list))"
   ]
  },
  {
   "cell_type": "code",
   "execution_count": 9,
   "metadata": {},
   "outputs": [],
   "source": [
    "# Salvando como csv\n",
    "path_to_dir_output = \"data\"\n",
    "data.to_csv(path_to_dir_output + \"/BDTD_Consolidado_feb2025.csv\", index=False)"
   ]
  },
  {
   "cell_type": "code",
   "execution_count": null,
   "metadata": {},
   "outputs": [],
   "source": []
  }
 ],
 "metadata": {
  "kernelspec": {
   "display_name": ".venv-IndigSlave",
   "language": "python",
   "name": "python3"
  },
  "language_info": {
   "codemirror_mode": {
    "name": "ipython",
    "version": 3
   },
   "file_extension": ".py",
   "mimetype": "text/x-python",
   "name": "python",
   "nbconvert_exporter": "python",
   "pygments_lexer": "ipython3",
   "version": "3.11.9"
  }
 },
 "nbformat": 4,
 "nbformat_minor": 2
}
