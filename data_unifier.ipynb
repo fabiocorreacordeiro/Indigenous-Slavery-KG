{
 "cells": [
  {
   "cell_type": "code",
   "execution_count": 1,
   "metadata": {},
   "outputs": [],
   "source": [
    "import pandas as pd\n",
    "from os import listdir\n",
    "import itertools"
   ]
  },
  {
   "cell_type": "code",
   "execution_count": 2,
   "metadata": {},
   "outputs": [],
   "source": [
    "# Coletando nomes dos arquivo CSV presentes na pasta \"path_to_dir\"\n",
    "path_to_dir = \"data/BDTD_feb2025\"\n",
    "filenames = listdir(path_to_dir)\n",
    "csv_files = [ path_to_dir + \"/\" + filename for filename in filenames if filename.endswith( \".csv\" ) ]"
   ]
  },
  {
   "cell_type": "code",
   "execution_count": 3,
   "metadata": {},
   "outputs": [],
   "source": [
    "# Concatenando todos os arquivos\n",
    "data = pd.DataFrame()\n",
    "for csv in csv_files:\n",
    "    data = pd.concat([data, pd.read_csv(csv)])\n",
    "data = data.drop_duplicates(subset=['Título'], keep='first').reset_index(drop=True)"
   ]
  },
  {
   "cell_type": "code",
   "execution_count": 4,
   "metadata": {},
   "outputs": [],
   "source": [
    "# Quebrando assuntos em lista\n",
    "data[\"Assuntos em português\"] = data[\"Assuntos em português\"].apply(lambda x: x.split(\"||\"))\n",
    "data[\"Assuntos em inglês\"] = data[\"Assuntos em inglês\"].apply(lambda x: x.split(\"||\"))"
   ]
  },
  {
   "cell_type": "code",
   "execution_count": 5,
   "metadata": {},
   "outputs": [],
   "source": [
    "# Limpando o nome dos autores\n",
    "autors = data[\"Autor(a)\"].apply(lambda x: x.split(\"||\"))\n",
    "\n",
    "new_autors = []\n",
    "for n in range(len(autors)):\n",
    "    new_autors.append(autors[n][0])\n",
    "    if len(autors[n]) > 1:\n",
    "        if autors[n][1].startswith(\"http://lattes.cnpq.br/\"):\n",
    "            data.loc[n, \"ID Lattes do(a) autor(a)\"] = autors[n][1]\n",
    "\n",
    "data[\"Autor(a)\"] = new_autors"
   ]
  },
  {
   "cell_type": "code",
   "execution_count": 6,
   "metadata": {},
   "outputs": [],
   "source": [
    "# Limpando os nomes dos orientadores\n",
    "\n",
    "orientadores = data[\"Orientadores\"].apply(lambda x: x.split(\"||\"))\n",
    "\n",
    "for n in range(len(orientadores)):\n",
    "    if \"Não informado pela instituição\" in orientadores[n]:\n",
    "        orientadores[n] = list(filter(lambda a: a != \"Não informado pela instituição\", orientadores[n]))\n",
    "\n",
    "data[\"Orientadores\"] = orientadores"
   ]
  },
  {
   "cell_type": "code",
   "execution_count": 7,
   "metadata": {},
   "outputs": [],
   "source": [
    "# Limpando os nomes dos membros da banca\n",
    "\n",
    "banca = data[\"Membros da banca\"].apply(lambda x: x.split(\"||\"))\n",
    "\n",
    "for n in range(len(banca)):\n",
    "    if \"Não informado pela instituição\" in banca[n]:\n",
    "        banca[n] = list(filter(lambda a: a != \"Não informado pela instituição\", banca[n]))\n",
    "\n",
    "data[\"Membros da banca\"] = banca"
   ]
  },
  {
   "cell_type": "code",
   "execution_count": 8,
   "metadata": {},
   "outputs": [],
   "source": [
    "# Limpando os textos do Resumo\n",
    "data['Resumo'] = data['Resumo'].astype(str)\n",
    "data.loc[data['Resumo'].str.contains('Orientador:'), 'Resumo'] = ''\n",
    "data.loc[data['Resumo'].str.contains('Orientadora:'), 'Resumo'] = ''\n",
    "data.loc[data['Resumo'].str.contains('Orientadores:'), 'Resumo'] = ''\n",
    "data.loc[data['Resumo'] == '--', 'Resumo'] = ''\n",
    "data.loc[data['Resumo'] == '.', 'Resumo'] = ''\n",
    "data.loc[data['Resumo'].str.contains(r'Dissertação \\(mestrado\\) -', regex=True), 'Resumo'] = ''\n",
    "data.loc[data['Resumo'].str.contains('também disponível em formato'), 'Resumo'] = ''\n",
    "data.loc[data['Resumo'] == '[sem resumo]', 'Resumo'] = ''\n",
    "data.loc[data['Resumo'] == 'abstract', 'Resumo'] = ''\n",
    "data.loc[data['Resumo'].str.contains('Tese \\(doutorado\\)'), 'Resumo'] = ''\n",
    "data.loc[data['Resumo'] == 'Não informado pela instituição', 'Resumo'] = ''"
   ]
  },
  {
   "cell_type": "markdown",
   "metadata": {},
   "source": [
    "Filtrar as áreas de conhecimento e assuntos indesejados"
   ]
  },
  {
   "cell_type": "code",
   "execution_count": 9,
   "metadata": {},
   "outputs": [
    {
     "name": "stdout",
     "output_type": "stream",
     "text": [
      "Total de documentos antes da limpeza:  24240\n"
     ]
    }
   ],
   "source": [
    "print(\"Total de documentos antes da limpeza: \", len(data))"
   ]
  },
  {
   "cell_type": "code",
   "execution_count": 10,
   "metadata": {},
   "outputs": [],
   "source": [
    "# Criando um DataFrame com os assuntos e áreas do conhecimento preprocessados\n",
    "AC_assunt = data[['Área do conhecimento CNPq', 'Assuntos em português', 'Assuntos em inglês']].copy()\n",
    "\n",
    "AC_assunt.loc[:, 'Área do conhecimento CNPq'] = AC_assunt['Área do conhecimento CNPq'].apply(lambda x: x.split('||'))\n",
    "AC_assunt.loc[:, 'Área do conhecimento CNPq'] = AC_assunt['Área do conhecimento CNPq'].apply(lambda x: [a.split('::') if '::' in a else a for a in x])\n",
    "AC_assunt.loc[:, 'Área do conhecimento CNPq'] = AC_assunt['Área do conhecimento CNPq'].apply(lambda x: list(set([item.lower() for sublist in x for item in (sublist if isinstance(sublist, list) else [sublist])])))\n",
    "AC_assunt.loc[:, 'Assuntos em português'] = AC_assunt['Assuntos em português'].apply(lambda x: [a.lower() for a in x])\n",
    "AC_assunt.loc[:, 'Assuntos em inglês'] = AC_assunt['Assuntos em inglês'].apply(lambda x: [a.lower() for a in x])"
   ]
  },
  {
   "cell_type": "code",
   "execution_count": 11,
   "metadata": {},
   "outputs": [],
   "source": [
    "# Funcao para limpar a base de dados de acordo com a area do conhecimento e lista de excessoes\n",
    "def cleanAreaAssunto(area, lista_excessoes):\n",
    "    \n",
    "  indices_to_remove =  AC_assunt[AC_assunt.apply(lambda x : area in x['Área do conhecimento CNPq'] and \n",
    "                                                all(elem not in x['Assuntos em português'] for elem in lista_excessoes),\n",
    "                                                axis=1)].index\n",
    "  # Remove the rows with the specified indices\n",
    "  return data.drop(indices_to_remove)"
   ]
  },
  {
   "cell_type": "code",
   "execution_count": 12,
   "metadata": {},
   "outputs": [],
   "source": [
    "area = 'medicina veterinária'\n",
    "lista_excessoes = []\n",
    "data = cleanAreaAssunto(area, lista_excessoes)"
   ]
  },
  {
   "cell_type": "code",
   "execution_count": 13,
   "metadata": {},
   "outputs": [],
   "source": [
    "area = 'agronomia'\n",
    "lista_excessoes = ['terras indígenas', 'conhecimento local indígena', 'índios da américa do sul - alimentos - amazônia', 'affirmative action',\n",
    "                   'feira de agricultura familiar', 'local knowledge', 'conflitos fundiários', 'conhecimento tradicional associado',\n",
    "                   'memória', 'quilombolas peoples', 'comunidade quilombola de itacoã-miri - acará (pa)', 'quilombo', 'comunidades tradicionais populares',\n",
    "                   'guarani m’bya', 'community quilombola','xavante', 'mulheres quilombolas', 'traditional popular communities', 'conhecimento ecológico tradicional',\n",
    "                   'negro (raça)', 'índios tikúna - alimentos', 'quilombolas - amazônia - alimentos', 'comunidades tradicionais', 'quilombolas - ilha do marajó',\n",
    "                   'quilombolas - mato grosso', 'povos quilombolas', 'quilombolas - marajó, ilha do (pa)', 'terra preta de índio', 'índios tukúna – amazônia']\n",
    "data = cleanAreaAssunto(area, lista_excessoes)"
   ]
  },
  {
   "cell_type": "code",
   "execution_count": 14,
   "metadata": {},
   "outputs": [],
   "source": [
    "area = 'química'\n",
    "lista_excessoes = ['educação quilombola;', 'educação intercultural;']\n",
    "data = cleanAreaAssunto(area, lista_excessoes)"
   ]
  },
  {
   "cell_type": "code",
   "execution_count": 15,
   "metadata": {},
   "outputs": [],
   "source": [
    "area = 'quimica'\n",
    "lista_excessoes = ['movimento negro', 'racismo', 'mulheres negras nas exatas', 'lei 10.639', 'lei 10.639/03', \n",
    "                   'racismo epistêmico', 'discriminação racial na educação química']\n",
    "data = cleanAreaAssunto(area, lista_excessoes)"
   ]
  },
  {
   "cell_type": "code",
   "execution_count": 16,
   "metadata": {},
   "outputs": [],
   "source": [
    "area = 'bioquimica'\n",
    "lista_excessoes = []\n",
    "data = cleanAreaAssunto(area, lista_excessoes)"
   ]
  },
  {
   "cell_type": "code",
   "execution_count": 17,
   "metadata": {},
   "outputs": [],
   "source": [
    "area = 'bioquímica'\n",
    "lista_excessoes = []\n",
    "data = cleanAreaAssunto(area, lista_excessoes)"
   ]
  },
  {
   "cell_type": "code",
   "execution_count": 18,
   "metadata": {},
   "outputs": [],
   "source": [
    "area = 'engenharia química'\n",
    "lista_excessoes = []\n",
    "data = cleanAreaAssunto(area, lista_excessoes)"
   ]
  },
  {
   "cell_type": "code",
   "execution_count": 19,
   "metadata": {},
   "outputs": [],
   "source": [
    "area = 'engenharia quimica'\n",
    "lista_excessoes = []\n",
    "data = cleanAreaAssunto(area, lista_excessoes)"
   ]
  },
  {
   "cell_type": "code",
   "execution_count": 20,
   "metadata": {},
   "outputs": [
    {
     "name": "stdout",
     "output_type": "stream",
     "text": [
      "Total de documentos após a limpeza:  23833\n"
     ]
    }
   ],
   "source": [
    "print(\"Total de documentos após a limpeza: \", len(data))"
   ]
  },
  {
   "cell_type": "code",
   "execution_count": 21,
   "metadata": {},
   "outputs": [],
   "source": [
    "# Funcao para limpar a base de dados de acordo com assunto e lista de excessoes\n",
    "def cleanAssunto(assunt, lista_excessoes):\n",
    "  \n",
    "  indices_to_remove = data.loc[AC_assunt.apply(lambda x : (assunt in x['Assuntos em português'] or \n",
    "                                                            assunt in x['Assuntos em inglês']) and\n",
    "                                                            all(elem not in x['Assuntos em português'] for elem in lista_excessoes) and\n",
    "                                                            all(elem not in x['Assuntos em inglês'] for elem in lista_excessoes),\n",
    "                                                            axis=1)].index\n",
    "\n",
    "  # Remove the rows with the specified indices\n",
    "  return data.drop(indices_to_remove)"
   ]
  },
  {
   "cell_type": "code",
   "execution_count": 22,
   "metadata": {},
   "outputs": [],
   "source": [
    "assunt = 'buracos negros'\n",
    "lista_excessoes = []\n",
    "data = cleanAssunto(assunt, lista_excessoes)"
   ]
  },
  {
   "cell_type": "code",
   "execution_count": 23,
   "metadata": {},
   "outputs": [],
   "source": [
    "assunt = 'buraco negro'\n",
    "lista_excessoes = []\n",
    "data = cleanAssunto(assunt, lista_excessoes)"
   ]
  },
  {
   "cell_type": "code",
   "execution_count": 24,
   "metadata": {},
   "outputs": [],
   "source": [
    "assunt = 'buracos negros (astronomia)'\n",
    "lista_excessoes = []\n",
    "data = cleanAssunto(assunt, lista_excessoes)"
   ]
  },
  {
   "cell_type": "code",
   "execution_count": 25,
   "metadata": {},
   "outputs": [],
   "source": [
    "assunt = 'black hole'\n",
    "lista_excessoes = []\n",
    "data = cleanAssunto(assunt, lista_excessoes)"
   ]
  },
  {
   "cell_type": "code",
   "execution_count": 26,
   "metadata": {},
   "outputs": [],
   "source": [
    "assunt = 'índia'\n",
    "lista_excessoes = ['Império português', 'África', 'União Ibérica', 'Moçambique', 'Umbanda']\n",
    "data = cleanAssunto(assunt, lista_excessoes)"
   ]
  },
  {
   "cell_type": "code",
   "execution_count": 27,
   "metadata": {},
   "outputs": [],
   "source": [
    "assunt = 'física'\n",
    "lista_excessoes = []\n",
    "data = cleanAssunto(assunt, lista_excessoes)"
   ]
  },
  {
   "cell_type": "code",
   "execution_count": 28,
   "metadata": {},
   "outputs": [],
   "source": [
    "assunt = 'cnpq::ciencias exatas e da terra::fisica'\n",
    "lista_excessoes = []\n",
    "data = cleanAssunto(assunt, lista_excessoes)"
   ]
  },
  {
   "cell_type": "code",
   "execution_count": 29,
   "metadata": {},
   "outputs": [],
   "source": [
    "assunt = 'black carbon'\n",
    "lista_excessoes = []\n",
    "data = cleanAssunto(assunt, lista_excessoes)"
   ]
  },
  {
   "cell_type": "code",
   "execution_count": 30,
   "metadata": {},
   "outputs": [],
   "source": [
    "assunt = 'negro de fumo'\n",
    "lista_excessoes = []\n",
    "data = cleanAssunto(assunt, lista_excessoes)"
   ]
  },
  {
   "cell_type": "code",
   "execution_count": 31,
   "metadata": {},
   "outputs": [],
   "source": [
    "assunt = 'química'\n",
    "lista_excessoes = ['Índios Guarani', 'indigenous', 'Movimento negro', 'Índios', 'Racismo', 'História e Cultura', 'Povos indígenas',\n",
    "                   'Contemporary slavery', 'Quilombola School Education', 'Africanos e afro-brasileiros',\n",
    "                   'Diretrizes Curriculares Nacionais para a Educação Escolar Quilombola na Educação Básica', 'Lei 10.639', 'Escravidão Contemporânea',\n",
    "                   'Quilombos', 'Escravidão', 'African and afro-Brazilian people', 'Indígenas']\n",
    "data = cleanAssunto(assunt, lista_excessoes)"
   ]
  },
  {
   "cell_type": "code",
   "execution_count": 32,
   "metadata": {},
   "outputs": [],
   "source": [
    "assunt = 'black pepper'\n",
    "lista_excessoes = []\n",
    "data = cleanAssunto(assunt, lista_excessoes)"
   ]
  },
  {
   "cell_type": "code",
   "execution_count": 33,
   "metadata": {},
   "outputs": [],
   "source": [
    "assunt = 'pimenta-do-reino'\n",
    "lista_excessoes = []\n",
    "data = cleanAssunto(assunt, lista_excessoes)"
   ]
  },
  {
   "cell_type": "code",
   "execution_count": 34,
   "metadata": {},
   "outputs": [],
   "source": [
    "assunt = 'acácia-negra'\n",
    "lista_excessoes = []\n",
    "data = cleanAssunto(assunt, lista_excessoes)"
   ]
  },
  {
   "cell_type": "code",
   "execution_count": 35,
   "metadata": {},
   "outputs": [],
   "source": [
    "assunt = 'acácia negra'\n",
    "lista_excessoes = []\n",
    "data = cleanAssunto(assunt, lista_excessoes)"
   ]
  },
  {
   "cell_type": "code",
   "execution_count": 36,
   "metadata": {},
   "outputs": [],
   "source": [
    "assunt = 'acacia-negra'\n",
    "lista_excessoes = []\n",
    "data = cleanAssunto(assunt, lista_excessoes)"
   ]
  },
  {
   "cell_type": "code",
   "execution_count": 37,
   "metadata": {},
   "outputs": [],
   "source": [
    "assunt = 'medicina veterinária'\n",
    "lista_excessoes = []\n",
    "data = cleanAssunto(assunt, lista_excessoes)"
   ]
  },
  {
   "cell_type": "code",
   "execution_count": 38,
   "metadata": {},
   "outputs": [],
   "source": [
    "assunt = 'veterinária'\n",
    "lista_excessoes = []\n",
    "data = cleanAssunto(assunt, lista_excessoes)"
   ]
  },
  {
   "cell_type": "code",
   "execution_count": 39,
   "metadata": {},
   "outputs": [],
   "source": [
    "assunt = 'microbiologia'\n",
    "lista_excessoes = ['Comunidades tradicionais']\n",
    "data = cleanAssunto(assunt, lista_excessoes)"
   ]
  },
  {
   "cell_type": "code",
   "execution_count": 40,
   "metadata": {},
   "outputs": [],
   "source": [
    "assunt = 'filmes finos'\n",
    "lista_excessoes = ['Comunidades tradicionais']\n",
    "data = cleanAssunto(assunt, lista_excessoes)"
   ]
  },
  {
   "cell_type": "code",
   "execution_count": 41,
   "metadata": {},
   "outputs": [],
   "source": [
    "assunt = 'adsorção'\n",
    "lista_excessoes = ['Comunidades tradicionais']\n",
    "data = cleanAssunto(assunt, lista_excessoes)"
   ]
  },
  {
   "cell_type": "code",
   "execution_count": 42,
   "metadata": {},
   "outputs": [],
   "source": [
    "assunt = 'antioxidantes'\n",
    "lista_excessoes = ['Comunidades tradicionais']\n",
    "data = cleanAssunto(assunt, lista_excessoes)"
   ]
  },
  {
   "cell_type": "code",
   "execution_count": 43,
   "metadata": {},
   "outputs": [],
   "source": [
    "assunt = 'black liquor'\n",
    "lista_excessoes = ['Comunidades tradicionais']\n",
    "data = cleanAssunto(assunt, lista_excessoes)"
   ]
  },
  {
   "cell_type": "code",
   "execution_count": 44,
   "metadata": {},
   "outputs": [],
   "source": [
    "assunt = 'black metal'\n",
    "lista_excessoes = ['Comunidades tradicionais']\n",
    "data = cleanAssunto(assunt, lista_excessoes)"
   ]
  },
  {
   "cell_type": "code",
   "execution_count": 45,
   "metadata": {},
   "outputs": [],
   "source": [
    "assunt = 'metal'\n",
    "lista_excessoes = ['Comunidades tradicionais']\n",
    "data = cleanAssunto(assunt, lista_excessoes)"
   ]
  },
  {
   "cell_type": "code",
   "execution_count": 46,
   "metadata": {},
   "outputs": [],
   "source": [
    "assunt = 'black wattle'\n",
    "lista_excessoes = ['Comunidades tradicionais']\n",
    "data = cleanAssunto(assunt, lista_excessoes)"
   ]
  },
  {
   "cell_type": "code",
   "execution_count": 47,
   "metadata": {},
   "outputs": [],
   "source": [
    "assunt = 'antocianinas'\n",
    "lista_excessoes = ['Comunidades tradicionais']\n",
    "data = cleanAssunto(assunt, lista_excessoes)"
   ]
  },
  {
   "cell_type": "code",
   "execution_count": 48,
   "metadata": {},
   "outputs": [],
   "source": [
    "assunt = 'amora-preta'\n",
    "lista_excessoes = ['Comunidades tradicionais']\n",
    "data = cleanAssunto(assunt, lista_excessoes)"
   ]
  },
  {
   "cell_type": "code",
   "execution_count": 49,
   "metadata": {},
   "outputs": [],
   "source": [
    "assunt = 'atividade antioxidante'\n",
    "lista_excessoes = ['Comunidades tradicionais']\n",
    "data = cleanAssunto(assunt, lista_excessoes)"
   ]
  },
  {
   "cell_type": "code",
   "execution_count": 50,
   "metadata": {},
   "outputs": [],
   "source": [
    "assunt = 'black mirror'\n",
    "lista_excessoes = ['Comunidades tradicionais']\n",
    "data = cleanAssunto(assunt, lista_excessoes)"
   ]
  },
  {
   "cell_type": "code",
   "execution_count": 51,
   "metadata": {},
   "outputs": [],
   "source": [
    "assunt = 'estresse oxidativo'\n",
    "lista_excessoes = ['Comunidades tradicionais']\n",
    "data = cleanAssunto(assunt, lista_excessoes)"
   ]
  },
  {
   "cell_type": "code",
   "execution_count": 52,
   "metadata": {},
   "outputs": [],
   "source": [
    "assunt = 'black-scholes'\n",
    "lista_excessoes = ['Comunidades tradicionais']\n",
    "data = cleanAssunto(assunt, lista_excessoes)"
   ]
  },
  {
   "cell_type": "code",
   "execution_count": 53,
   "metadata": {},
   "outputs": [],
   "source": [
    "assunt = 'geoquímica'\n",
    "lista_excessoes = ['Comunidades tradicionais']\n",
    "data = cleanAssunto(assunt, lista_excessoes)"
   ]
  },
  {
   "cell_type": "code",
   "execution_count": 54,
   "metadata": {},
   "outputs": [],
   "source": [
    "assunt = 'black spot'\n",
    "lista_excessoes = ['Comunidades tradicionais']\n",
    "data = cleanAssunto(assunt, lista_excessoes)"
   ]
  },
  {
   "cell_type": "code",
   "execution_count": 55,
   "metadata": {},
   "outputs": [],
   "source": [
    "assunt = 'podridão negra'\n",
    "lista_excessoes = ['Comunidades tradicionais']\n",
    "data = cleanAssunto(assunt, lista_excessoes)"
   ]
  },
  {
   "cell_type": "code",
   "execution_count": 56,
   "metadata": {},
   "outputs": [],
   "source": [
    "assunt = 'corantes'\n",
    "lista_excessoes = ['Comunidades tradicionais']\n",
    "data = cleanAssunto(assunt, lista_excessoes)"
   ]
  },
  {
   "cell_type": "code",
   "execution_count": 57,
   "metadata": {},
   "outputs": [],
   "source": [
    "assunt = 'petróleo'\n",
    "lista_excessoes = ['Comunidades tradicionais']\n",
    "data = cleanAssunto(assunt, lista_excessoes)"
   ]
  },
  {
   "cell_type": "code",
   "execution_count": 58,
   "metadata": {},
   "outputs": [],
   "source": [
    "assunt = 'eletroquímica'\n",
    "lista_excessoes = ['Comunidades tradicionais']\n",
    "data = cleanAssunto(assunt, lista_excessoes)"
   ]
  },
  {
   "cell_type": "code",
   "execution_count": 59,
   "metadata": {},
   "outputs": [],
   "source": [
    "assunt = 'glycine max'\n",
    "lista_excessoes = ['Comunidades tradicionais']\n",
    "data = cleanAssunto(assunt, lista_excessoes)"
   ]
  },
  {
   "cell_type": "code",
   "execution_count": 60,
   "metadata": {},
   "outputs": [],
   "source": [
    "assunt = 'compostos fenólicos'\n",
    "lista_excessoes = ['Comunidades tradicionais']\n",
    "data = cleanAssunto(assunt, lista_excessoes)"
   ]
  },
  {
   "cell_type": "code",
   "execution_count": 61,
   "metadata": {},
   "outputs": [],
   "source": [
    "assunt = 'compostos bioativos'\n",
    "lista_excessoes = ['Comunidades tradicionais']\n",
    "data = cleanAssunto(assunt, lista_excessoes)"
   ]
  },
  {
   "cell_type": "code",
   "execution_count": 62,
   "metadata": {},
   "outputs": [],
   "source": [
    "assunt = 'cnpq::ciencias biologicas::bioquimica'\n",
    "lista_excessoes = ['Cultura indígena']\n",
    "data = cleanAssunto(assunt, lista_excessoes)"
   ]
  },
  {
   "cell_type": "code",
   "execution_count": 63,
   "metadata": {},
   "outputs": [],
   "source": [
    "assunt = 'modelagem matemática'\n",
    "lista_excessoes = ['Gavião ethnic group/Ikólóéhj', 'interculturality', 'indigenous school education',\n",
    "                   'educação escolar indígena', 'etnomatemática', 'etnia Gavião/Ikólóéhj', 'ethnomathematics']\n",
    "data = cleanAssunto(assunt, lista_excessoes)"
   ]
  },
  {
   "cell_type": "code",
   "execution_count": 64,
   "metadata": {},
   "outputs": [],
   "source": [
    "assunt = 'fosfeto de índio'\n",
    "lista_excessoes = []\n",
    "data = cleanAssunto(assunt, lista_excessoes)"
   ]
  },
  {
   "cell_type": "code",
   "execution_count": 65,
   "metadata": {},
   "outputs": [],
   "source": [
    "assunt = 'rhizobium'\n",
    "lista_excessoes = []\n",
    "data = cleanAssunto(assunt, lista_excessoes)"
   ]
  },
  {
   "cell_type": "code",
   "execution_count": 66,
   "metadata": {},
   "outputs": [],
   "source": [
    "assunt = 'fixação biológica de nitrogênio'\n",
    "lista_excessoes = []\n",
    "data = cleanAssunto(assunt, lista_excessoes)"
   ]
  },
  {
   "cell_type": "code",
   "execution_count": 67,
   "metadata": {},
   "outputs": [],
   "source": [
    "assunt = 'acerola'\n",
    "lista_excessoes = []\n",
    "data = cleanAssunto(assunt, lista_excessoes)"
   ]
  },
  {
   "cell_type": "code",
   "execution_count": 68,
   "metadata": {},
   "outputs": [
    {
     "name": "stdout",
     "output_type": "stream",
     "text": [
      "Total de documentos após a limpeza:  23172\n"
     ]
    }
   ],
   "source": [
    "print(\"Total de documentos após a limpeza: \", len(data))"
   ]
  },
  {
   "cell_type": "code",
   "execution_count": 69,
   "metadata": {},
   "outputs": [],
   "source": [
    "# Reset the index if needed\n",
    "data = data.reset_index(drop=True)\n",
    "\n",
    "# Salvando como csv\n",
    "path_to_dir_output = \"data\"\n",
    "data.to_csv(path_to_dir_output + \"/BDTD_Consolidado_feb2025.csv\", index=False)"
   ]
  },
  {
   "cell_type": "code",
   "execution_count": null,
   "metadata": {},
   "outputs": [],
   "source": []
  },
  {
   "cell_type": "code",
   "execution_count": null,
   "metadata": {},
   "outputs": [],
   "source": []
  },
  {
   "cell_type": "code",
   "execution_count": 26,
   "metadata": {},
   "outputs": [
    {
     "name": "stdout",
     "output_type": "stream",
     "text": [
      "{'ilha de cotijuba - pa', 'educacao matematica', 'resolução cne/ceb-8/2012', 'matemática - estudo e ensino', 'aprendizaje del docente', 'interculturalidade crítica', 'escola indígena', 'brinquedos', 'são domingos do capim - pa', 'rql', 'aprendizagem docente', 'formação inicial de professores indígenas', 'quilombola', 'empreendimento', 'física moderna', 'pará - estado', 'teacher learning', 'professores indígenas – formação', 'frações', 'não informado pela instituição', 'teacher training', 'pintura corporal', 'ribeirinhos', 'saberes e fazeres quilombolas', 'constelações', 'educação matemática crítica', 'educação matemática', 'conjectura de artin', 'p-ádico', 'controle de vibrações', 'apprentissage de l’enseignement', 'professores indígenas', 'educação cts', 'índios xerente – educação escolar', 'p-adic', 'ensino de ciências', 'construções geométricas', 'estudo e ensino', 'educação escolar indígena - práticas socioculturais', 'icoaraci - pa', 'educação científica', 'história da matemática', 'filosofia natural', 'escola apyãwa/tapirapé', 'matematica -- estudo e ensino', 'astronomia', 'comunidade do poção - pa', 'retificação da circunferência', 'interculturalidade', 'cts education', 'artin’s conjecture', 'projetos extraescolares', 'artesanato', 'pós-estruturalismo', 'porto leocárdio', 'matemática', 'abaetetuba (pa)', 'ações pedagógicas', 'alfabetização matemática', 'kaprekar', 'bnas', 'radiação corpo negro', 'joint labor', 'filosofia da educação', 'corpo', 'relações comerciais', 'quadratura do círculo', 'jogos', 'aritmética', 'educação em matemática', 'quilombo', 'cerâmica indígena', 'tukano', 'functional equations', 'indios tukano -- educacao', 'formación inicial de docentes indígenas', 'sol', 'cultura popular', 'tocantins - estado', \"cauchy's equations\", 'interdisciplinarity', 'educational product', 'cultura e comércio', 'ensino de matemática', 'calendario', 'pesquisa', 'cultura', 'etnomatemática', 'ilha joão pilatos - pa', 'decolonial regional themes', 'formação de professores', 'mathematics teaching', 'licenciatura em matemática', 'sistemas de equações aditivas', 'corporeidade', 'trabajo conjunto', 'decolonialidade', 'cerâmica', 'comunidade quilombola', 'raciocínio matemático', 'etnomatemática (indigenismo)', 'science teaching', 'amazônia brasileira', 'cultura (estudo e ensino)', 'systems of two additive forms', 'ensino fundamental', 'nseñanza de las matemáticas', 'javaé', 'cultura indígena', 'equações funcionais', 'formation initiale des enseignants autochtones', 'modelagem matemática', 'desenho geométrico', 'geometria', 'índios', 'biopirataria', 'temas regionais decoloniais.', 'émilie du châtelet', 'saberes e fazeres', 'ananindeua - pa', 'métodos de ensino', 'equações', 'etnoastronomia', 'produto educacional', 'bragança - pa', 'viga', 'aspectos geométricos', 'escolarização quilombola', 'números p-ádicos,', 'narrativas', 'planejamento interdisciplinar', 'cultura material', 'matemática recreativa', 'educação escolar indígena', 'inequações funcionais', 'normalização', 'problemas de cauchy', 'interdisciplinaridade', 'lei 10.639/03', 'povo apyãwa/tapirapé', 'funções exponenciais', 'psicologia da arte', 'enseignement des mathématiques', 'interdisciplinary planning', 'initial training of indigenous teachers', 'ensino', 'sistema de duas formas aditivas', 'trabalho conjunto', 'travail conjoint', '|questões raciais', 'artesão', 'educação ambiental', 'science education', 'etnomatematica'}\n"
     ]
    }
   ],
   "source": [
    "# Area do conheciumento CNPq\n",
    "lista_excessoes = []\n",
    "#df = AC_assunt[AC_assunt['Área do conhecimento CNPq'].apply(lambda x : 'agronomia' in x)]\n",
    "df = AC_assunt[AC_assunt.apply(lambda x : 'matematica' in x['Área do conhecimento CNPq'] and \n",
    "                     all(elem not in x['Assuntos em português'] for elem in lista_excessoes),\n",
    "                       axis=1)]\n",
    "\n",
    "print(set(itertools.chain.from_iterable(df['Assuntos em português'])))\n",
    "\n",
    "# Assuntos em português 4734\n",
    "#data[AC_assunt['Assuntos em português'].apply(lambda x : 'slave' in x)][['Título', 'Assuntos em português', 'Assuntos em inglês']]\n",
    "\n",
    "# Assuntos em inglês\n",
    "#data[AC_assunt['Assuntos em inglês'].apply(lambda x : 'slave' in x)][['Título', 'Assuntos em português', 'Assuntos em inglês']]"
   ]
  },
  {
   "cell_type": "code",
   "execution_count": 188,
   "metadata": {},
   "outputs": [
    {
     "name": "stdout",
     "output_type": "stream",
     "text": [
      "set()\n"
     ]
    },
    {
     "data": {
      "text/plain": [
       "Series([], Name: Assuntos em português, dtype: object)"
      ]
     },
     "execution_count": 188,
     "metadata": {},
     "output_type": "execute_result"
    }
   ],
   "source": [
    "assunt = 'thin films'\n",
    "lista_excessoes = []\n",
    "df = data.loc[AC_assunt.apply(lambda x : (assunt in x['Assuntos em português'] or \n",
    "                               assunt in x['Assuntos em inglês']) and\n",
    "                               all(elem not in x['Assuntos em português'] for elem in lista_excessoes) and\n",
    "                               all(elem not in x['Assuntos em inglês'] for elem in lista_excessoes),\n",
    "                               axis=1)]\n",
    "\n",
    "print(set(itertools.chain.from_iterable(df['Assuntos em português'])))\n",
    "df['Assuntos em português']\n"
   ]
  },
  {
   "cell_type": "code",
   "execution_count": 132,
   "metadata": {},
   "outputs": [
    {
     "data": {
      "text/plain": [
       "{'animais': 14,\n",
       " 'animals': 10,\n",
       " 'escravos libertos': 13,\n",
       " 'humor': 13,\n",
       " 'salvador': 11,\n",
       " 'motherhood': 11,\n",
       " 'governamentalidade': 12,\n",
       " 'governmentality': 10,\n",
       " 'relações de trabalho': 12,\n",
       " 'penal abolitionism': 14,\n",
       " 'racismo científico': 12,\n",
       " 'abolição da escravidão': 13,\n",
       " 'first republic': 13,\n",
       " 'imigrantes': 13,\n",
       " 'parto': 10,\n",
       " 'enunciação': 12,\n",
       " 'luiz gama': 14,\n",
       " 'história dos estados unidos': 10,\n",
       " 'quilombola identity': 10,\n",
       " 'carnival': 13,\n",
       " 'cnpq::linguistica, letras e artes::letras::literatura comparada': 12,\n",
       " 'escravismo': 12,\n",
       " 'sociabilidades': 13,\n",
       " 'ciencias humanas::historia::historia do brasil': 11,\n",
       " 'escravos - emancipação': 14,\n",
       " 'abolição da escravatura, 1888': 12,\n",
       " 'trajetórias': 14,\n",
       " '[pt] rio de janeiro': 11,\n",
       " '[en] rio de janeiro': 10,\n",
       " 'social control': 14,\n",
       " 'trajectories': 14,\n",
       " 'feminismos': 11,\n",
       " 'feminisms': 11,\n",
       " 'maria firmina dos reis': 11,\n",
       " 'right': 10,\n",
       " 'catholic church': 12,\n",
       " 'abolicionistas': 11,\n",
       " 'piauí': 10,\n",
       " 'ethics': 14,\n",
       " 'cnpq::ciencias humanas::filosofia': 13,\n",
       " 'marxismo': 14,\n",
       " 'local history': 12,\n",
       " 'associativismo negro': 11,\n",
       " 'racial identity': 14,\n",
       " 'resistência escrava': 10,\n",
       " 'história.': 10,\n",
       " 'alforrias': 12,\n",
       " 'cnpq::ciencias sociais aplicadas::administracao': 11,\n",
       " 'historia': 11,\n",
       " 'child': 12,\n",
       " 'trabalho infantil': 10,\n",
       " 'classe': 14,\n",
       " 'justiça restaurativa': 10,\n",
       " 'história - teses': 12,\n",
       " 'escravidao': 12,\n",
       " 'prisão': 10,\n",
       " 'alencar, josé de, 1829-1877': 13,\n",
       " 'brasil - história - abolição da escravidão - 1888': 10,\n",
       " 'imperialismo': 14,\n",
       " 'ativismo': 12,\n",
       " 'família escrava': 12,\n",
       " 'feminino': 10,\n",
       " 'batismo': 10,\n",
       " 'history - study and teaching': 13,\n",
       " 'minas gerais história': 10,\n",
       " 'pensamento social brasileiro': 10,\n",
       " 'territórios negros': 12,\n",
       " 'comics': 14,\n",
       " '-': 10,\n",
       " 'campinas': 10,\n",
       " 'pernambuco - história': 10,\n",
       " 'filologia': 13,\n",
       " 'political participation': 11,\n",
       " 'racial inequality': 11,\n",
       " 'alagoas': 13,\n",
       " 'teaching history': 10,\n",
       " 'cor': 10,\n",
       " 'ditadura': 11,\n",
       " 'negros - religião': 10,\n",
       " 'política externa': 13,\n",
       " 'racial democracy': 13,\n",
       " 'negros - brasil - história': 14,\n",
       " 'professor': 10,\n",
       " 'educação de crianças': 12,\n",
       " 'pecuária': 12,\n",
       " 'black intellectuals': 11,\n",
       " 'silenciamento': 13,\n",
       " 'história do direito': 10,\n",
       " 'history of brazil': 10,\n",
       " 'império': 13,\n",
       " 'property': 12,\n",
       " 'saberes docentes': 12,\n",
       " 'pedagogia da alternância': 10,\n",
       " 'escolas de samba': 11,\n",
       " 'documentário': 10,\n",
       " 'documentário (cinema)': 14,\n",
       " 'land reform': 14,\n",
       " 'império do brasil': 10,\n",
       " 'demography': 10,\n",
       " 'congada': 13,\n",
       " 'remanescente de quilombo': 10,\n",
       " 'criminalidade': 12,\n",
       " 'associativismo': 14,\n",
       " 'análise do discurso literário': 10,\n",
       " 'criminologia crítica': 14,\n",
       " 'autoria feminina': 12,\n",
       " 'romance': 11,\n",
       " 'movimento': 10,\n",
       " 'invisibilidade': 11,\n",
       " 'irmandades': 12,\n",
       " 'associativism': 11,\n",
       " 'história econômica': 12,\n",
       " 'discurso jornalístico': 12,\n",
       " 'legislation': 14,\n",
       " 'escrita de si': 12,\n",
       " 'história do rio grande do sul': 13,\n",
       " 'remanescentes de quilombos': 14,\n",
       " 'quilombos - brasil': 10,\n",
       " 'brasil - história - império - 1822-1889': 10,\n",
       " 'prisões': 11,\n",
       " 'economy': 10,\n",
       " 'escravos - tráfico': 12,\n",
       " 'gravitation': 11,\n",
       " 'termodinâmica': 14,\n",
       " 'movimentos negros': 11,\n",
       " 'race discrimination': 13,\n",
       " 'sociologia rural': 14,\n",
       " 'interethnic relations': 10,\n",
       " 'black-scholes': 13,\n",
       " '[pt] brasil': 11,\n",
       " '[pt] mulher negra': 12,\n",
       " '[en] brazil': 10,\n",
       " '[en] black woman': 12,\n",
       " 'usos e costumes': 10,\n",
       " 'geomorfologia': 12,\n",
       " 'estrutura social': 11,\n",
       " 'publicidade': 12,\n",
       " 'professores negros': 10,\n",
       " 'propaganda': 11,\n",
       " 'negros -': 10,\n",
       " 'questões raciais': 10,\n",
       " 'literatura e sociedade': 14,\n",
       " 'estudantes universitários': 10,\n",
       " 'sistema de cotas': 13,\n",
       " 'quilombos - identidade social': 14,\n",
       " 'substâncias húmicas': 11,\n",
       " 'humic substances': 10,\n",
       " 'negro, rio (am)': 12,\n",
       " 'inteligência artificial': 10,\n",
       " 'pantanal': 11,\n",
       " 'redes': 14,\n",
       " 'geoquímica': 10,\n",
       " 'café': 14,\n",
       " 'engenharia agrícola': 11,\n",
       " 'hermenêutica': 11,\n",
       " 'college education': 12,\n",
       " 'poder (ciências sociais)': 13,\n",
       " 'desigualdades raciais': 11,\n",
       " 'epistemology': 11,\n",
       " 'gender relations': 10,\n",
       " 'anemia falciforme': 12,\n",
       " 'biopower': 12,\n",
       " 'ethos': 12,\n",
       " 'congadas': 10,\n",
       " 'black music': 12,\n",
       " 'black diaspora': 10,\n",
       " 'pescadores': 11,\n",
       " 'biological control': 14,\n",
       " 'antropologia cultural e social': 12,\n",
       " 'maize': 10,\n",
       " 'black pepper': 10,\n",
       " 'pimenta-do-reino': 10,\n",
       " 'black spot': 10,\n",
       " 'práticas culturais': 12,\n",
       " 'cultural studies': 11,\n",
       " 'podridão negra': 11,\n",
       " 'black rot': 10,\n",
       " 'nutrition': 10,\n",
       " 'interação social': 11,\n",
       " 'desigualdades sociais': 11,\n",
       " 'patrimony': 10,\n",
       " 'diabetes mellitus': 11,\n",
       " 'social identity': 11,\n",
       " 'escritores negros': 14,\n",
       " 'acácia-negra': 11,\n",
       " 'cnpq::ciencias agrarias::recursos florestais e engenharia florestal': 14,\n",
       " 'afrodescendência': 11,\n",
       " 'solo': 10,\n",
       " 'percepção': 11,\n",
       " 'fitotecnia': 10,\n",
       " 'fitopatologia': 14,\n",
       " 'sementes': 10,\n",
       " 'etnicismo': 14,\n",
       " 'idosos': 12,\n",
       " 'artes cênicas': 13,\n",
       " 'índios tupinambá': 13,\n",
       " 'mulheres - condições sociais': 11,\n",
       " 'extratos vegetais': 10,\n",
       " 'produtividade': 11,\n",
       " 'preconceitos': 12,\n",
       " 'ciências exatas e da terra': 12,\n",
       " 'black theater': 13,\n",
       " 'masculinity': 13,\n",
       " 'prouni': 11,\n",
       " 'práticas educativas': 12,\n",
       " 'black movements': 10,\n",
       " 'affirmative action programs': 11,\n",
       " 'idoso': 14,\n",
       " 'elderly': 14,\n",
       " 'cnpq::ciencias humanas::psicologia::psicologia social': 14,\n",
       " 'universidade pública': 14,\n",
       " 'empire': 12,\n",
       " '[en] identity': 12,\n",
       " 'expropriation': 10,\n",
       " 'habitação': 10,\n",
       " 'cultura histórica': 10,\n",
       " 'modernismo': 10,\n",
       " 'práticas discursivas': 13,\n",
       " 'hip-hop': 13,\n",
       " 'música popular': 12,\n",
       " 'ciências exatas e da terra: química': 10,\n",
       " 'rio solimões': 10,\n",
       " 'territories': 14,\n",
       " 'currículo escolar': 10,\n",
       " 'diplomacia': 10,\n",
       " 'programa de pós-graduação em física - ufabc': 13,\n",
       " 'bacia hidrográfica': 13,\n",
       " 'religiosidade popular': 10,\n",
       " 'romance histórico': 10,\n",
       " 'mobilidade': 14,\n",
       " 'identidade étnico-racial': 14,\n",
       " 'planejamento e políticas públicas': 13,\n",
       " 'prática de ensino': 14,\n",
       " 'zoologia': 13,\n",
       " 'pertencimento': 12,\n",
       " 'mídia impressa': 10,\n",
       " 'pluralismo cultural': 13,\n",
       " 'critical theory': 12,\n",
       " 'corantes': 13,\n",
       " 'cabelo': 12,\n",
       " 'hair': 10,\n",
       " 'língua': 11,\n",
       " 'anthropometry': 10,\n",
       " 'ciências da saúde: saúde coletiva': 14,\n",
       " 'south american indians': 13,\n",
       " 'engenharia de materiais': 13,\n",
       " 'literatura africana': 13,\n",
       " 'história da arte': 10,\n",
       " 'water': 12,\n",
       " 'petróleo': 11,\n",
       " 'cnpq::ciencias humanas::geografia::geografia humana': 10,\n",
       " 'escravidão - aspecto histórico': 11,\n",
       " 'acesso': 12,\n",
       " 'permanência': 11,\n",
       " 'resilience': 12,\n",
       " 'sujeito': 12,\n",
       " 'subject': 12,\n",
       " 'solos': 14,\n",
       " 'climate change': 14,\n",
       " 'violência policial': 11,\n",
       " 'cidades e vilas': 11,\n",
       " 'memoria': 12,\n",
       " 'ensino de matemática': 12,\n",
       " 'recife': 10,\n",
       " 'teachers': 13,\n",
       " 'branqueamento': 13,\n",
       " 'orixás': 11,\n",
       " 'periphery': 13,\n",
       " 'ethnic relations': 13,\n",
       " 'social policy': 11,\n",
       " 'ecologia agrícola': 11,\n",
       " 'traditional populations': 11,\n",
       " 'human territoriality': 11,\n",
       " 'desigualdades': 13,\n",
       " 'inequalities': 11,\n",
       " 'análise de conteúdo': 14,\n",
       " 'quilombo kalunga': 10,\n",
       " 'candomblé angola': 11,\n",
       " 'lexicon': 13,\n",
       " 'mythology': 10,\n",
       " 'africa': 14,\n",
       " 'eletroquímica': 11,\n",
       " 'mitos': 11,\n",
       " 'pessoa': 11,\n",
       " 'mário de andrade': 13,\n",
       " 'black children': 11,\n",
       " 'death': 13,\n",
       " 'lexicografia': 11,\n",
       " 'ensino de literatura': 11,\n",
       " 'glycine max': 10,\n",
       " 'compostos fenólicos': 14,\n",
       " 'phenolic compounds': 11,\n",
       " 'antioxidant activity': 12,\n",
       " 'affection': 10,\n",
       " 'escritoras negras': 12,\n",
       " 'afetividade': 11,\n",
       " 'theater': 11,\n",
       " 'religião e cultura': 10,\n",
       " 'representação política': 10,\n",
       " 'produção intelectual': 13,\n",
       " 'antropologia da religião': 11,\n",
       " 'food security': 14,\n",
       " '[pt] acao afirmativa': 10,\n",
       " '[en] affirmative action': 10,\n",
       " 'ecology': 11,\n",
       " 'análise espacial': 13,\n",
       " 'entomologia agrícola': 10,\n",
       " 'compostos bioativos': 11,\n",
       " 'estética negra': 11,\n",
       " 'cabelo crespo': 11,\n",
       " 'movement': 10,\n",
       " 'diáspora negra': 11,\n",
       " 'identificação': 11,\n",
       " 'simbolismo': 13,\n",
       " 'movimentos sociais negros': 12,\n",
       " 'desenvolvimento humano': 11,\n",
       " 'subjetivação': 11,\n",
       " 'agrarian question': 11,\n",
       " 'resistencia': 11,\n",
       " 'juventudes': 10,\n",
       " 'cotidiano escolar': 10,\n",
       " 'extensão universitária': 13,\n",
       " 'interculturalismo': 12,\n",
       " 'biography': 13,\n",
       " 'consumption': 13,\n",
       " 'information science': 13,\n",
       " 'brazilian cinema': 12,\n",
       " 'negros no cinema': 10,\n",
       " 'colombia': 12,\n",
       " 'igualdade racial': 12,\n",
       " 'mobility': 12,\n",
       " '316': 12,\n",
       " 'política cultural': 12,\n",
       " 'diagnóstico': 10,\n",
       " 'resistências': 14,\n",
       " 'astronomia': 14,\n",
       " 'intellectuals': 10,\n",
       " 'literatura brasileira - escritores negros': 11,\n",
       " 'engenharias': 11,\n",
       " 'físico-química': 10,\n",
       " 'constituição': 12,\n",
       " 'dialetologia': 14,\n",
       " 'linguística, letras e artes: letras': 11,\n",
       " 'conservation units': 13,\n",
       " 'temperatura': 11,\n",
       " 'teoria crítica': 13,\n",
       " 'maranhão - estado': 11,\n",
       " 'riqueza': 12,\n",
       " 'dramaturgia': 11,\n",
       " 'negros nas artes cênicas': 12,\n",
       " 'classes sociais': 12,\n",
       " 'proteção ambiental': 12,\n",
       " 'comunicação de massa': 10,\n",
       " 'cultura política': 10,\n",
       " 'ressignificação': 11,\n",
       " 'direitos civis': 11,\n",
       " 'serviços de saúde': 14,\n",
       " 'saúde reprodutiva': 11,\n",
       " 'processos criativos': 11,\n",
       " 'criança indígena': 14,\n",
       " 'agency': 12,\n",
       " 'experiências': 13,\n",
       " 'comunidades rurais': 13,\n",
       " 'lideranças indígenas': 10,\n",
       " 'matéria orgânica': 11,\n",
       " 'conflitos sociais': 10,\n",
       " 'literatura de viagem': 11,\n",
       " 'ethnic-racial education': 12,\n",
       " 'african continental ancestry group': 14,\n",
       " 'health policy': 10,\n",
       " 'social participation': 13,\n",
       " 'terreiros': 14,\n",
       " 'história da áfrica': 12,\n",
       " 'educação - história': 10,\n",
       " 'preservação': 10,\n",
       " 'conservation unit': 11,\n",
       " 'homossexualidade': 14,\n",
       " 'dialogism': 11,\n",
       " 'guatemala': 10,\n",
       " 'cnpq::linguistica, letras e artes::artes::musica': 10,\n",
       " 'cnpq::linguistica, letras e artes::letras::teoria literaria': 12,\n",
       " 'hierarquia': 11,\n",
       " 'hierarchy': 11,\n",
       " 'brasil, sul': 12,\n",
       " 'controle': 10,\n",
       " 'diversidade genética': 11,\n",
       " 'periferias': 10,\n",
       " 'social vulnerability': 11,\n",
       " 'pesquisa qualitativa': 12,\n",
       " 'regionalism': 10,\n",
       " 'regionalismo': 12,\n",
       " '82': 10,\n",
       " 'moçambique': 14,\n",
       " 'quality of life': 12,\n",
       " 'kalunga': 10,\n",
       " 'letramento literário': 14,\n",
       " 'representação teatral': 10,\n",
       " 'cnpq::linguistica, letras e artes::artes': 12,\n",
       " 'militância': 11,\n",
       " 'teaching practice': 12,\n",
       " 'direitos sociais': 12,\n",
       " 'military dictatorship': 11,\n",
       " 'pedagogy': 10,\n",
       " 'ciências agrárias: agronomia': 10,\n",
       " 'ancestrality': 11,\n",
       " 'grão-pará': 11,\n",
       " 'gestão escolar': 10,\n",
       " 'antiracist education': 12,\n",
       " 'doença falciforme': 13,\n",
       " 'social service': 13,\n",
       " 'amerindians': 11,\n",
       " 'dna mitocondrial': 14,\n",
       " 'formação continuada': 11,\n",
       " 'educação - aspectos sociais': 13,\n",
       " 'transculturação': 11,\n",
       " 'belonging': 12,\n",
       " 'conflito agrário': 10,\n",
       " 'land conflicts': 10,\n",
       " 'slam': 10,\n",
       " 'índios - brasil - história': 11,\n",
       " 'toxicidade': 10,\n",
       " 'afro-brazilian literature': 12,\n",
       " 'cultura visual': 14,\n",
       " 'arte negra': 12,\n",
       " 'educação - relações étnicas': 13,\n",
       " 'state policy': 11,\n",
       " 'nanotecnologia': 11,\n",
       " 'ficção': 13,\n",
       " 'population': 10,\n",
       " 'dissertações - antropologia': 11,\n",
       " 'negros – identidade racial': 10,\n",
       " 'dna': 10,\n",
       " 'aging': 12,\n",
       " 'deficiência': 10,\n",
       " 'health of the black population': 10,\n",
       " 'liberalism': 11,\n",
       " 'discursos': 12,\n",
       " 'empreendedorismo': 13,\n",
       " 'protagonismo negro': 10,\n",
       " 'manejo': 11,\n",
       " 'ecosystem services': 10,\n",
       " 'descolonialidade': 12,\n",
       " 'cnpq::linguistica, letras e artes::linguistica::teoria e analise linguistica': 13,\n",
       " 'gestão': 13,\n",
       " 'aprendizagem significativa': 12,\n",
       " 'sequência didática': 13,\n",
       " 'protagonism': 13,\n",
       " 'equidade': 10,\n",
       " 'paraná (estado)': 11,\n",
       " 'urban space': 10,\n",
       " 'moda': 11,\n",
       " 'inflamação': 12,\n",
       " 'engenharia civil': 11,\n",
       " 'educação profissional': 14,\n",
       " 'bioremediation': 10,\n",
       " 'trabalho indígena': 12,\n",
       " 'pintura corporal': 10,\n",
       " 'culturas': 12,\n",
       " 'homicídio': 10,\n",
       " 'adolescência': 13,\n",
       " 'tecnologia educacional': 10,\n",
       " 'ufpe - pós-graduação': 14,\n",
       " 'reserva extrativista': 11,\n",
       " 'eugenia': 14,\n",
       " 'ana maria gonçalves': 11,\n",
       " 'biomass': 11,\n",
       " 'chemistry': 10,\n",
       " 'social memory': 14,\n",
       " 'docência': 10,\n",
       " 'oral tradition': 13,\n",
       " 'avaliação em saúde': 11,\n",
       " 'imagem corporal': 14,\n",
       " 'obesity': 13,\n",
       " 'arqueologia amazônica': 12,\n",
       " 'romanticism': 14,\n",
       " 'arte afro-brasileira': 12,\n",
       " 'estudos interculturais': 12,\n",
       " 'programa de pós-graduação em ciências humanas e sociais - ufabc': 13,\n",
       " 'violência de gênero': 12,\n",
       " 'jongo': 14,\n",
       " 'modelagem matemática': 12,\n",
       " 'quilombo urbano': 10,\n",
       " 'ciencias biologicas::ecologia': 10,\n",
       " 'antioxidants': 10,\n",
       " 'cnpq::ciencias biologicas::bioquimica': 10,\n",
       " 'ensino de química': 12,\n",
       " 'estado de exceção': 11,\n",
       " 'patrimônio imaterial': 11,\n",
       " 'political anthropology': 10,\n",
       " 'multicultural education': 12,\n",
       " 'interseccionalidades': 10,\n",
       " 'áfrica do sul': 10,\n",
       " 'contemporary art': 12,\n",
       " 'vale do paraíba': 12,\n",
       " 'eurocentrismo': 11,\n",
       " 'sexism': 12,\n",
       " 'paraguay': 10,\n",
       " 'autoetnografia': 13,\n",
       " 'minorias': 12,\n",
       " 'cnpq::ciencias sociais aplicadas::ciencia da informacao': 11,\n",
       " 'elementary school': 13,\n",
       " 'ethnic groups': 13,\n",
       " 'cognição': 11,\n",
       " 'decolonial education': 13,\n",
       " 'networks': 14,\n",
       " 'sociobiodiversidade': 14,\n",
       " 'medicina tradicional': 11,\n",
       " 'linguistica, letras e artes::letras::literatura brasileira': 14,\n",
       " 'genocide': 13,\n",
       " 'soberania': 12,\n",
       " 'education for ethnic-racial relations': 10,\n",
       " 'justiça de transição': 10,\n",
       " 'university education': 12,\n",
       " 'ciencias humanas::educacao::ensino-aprendizagem': 12,\n",
       " 'instagram': 10,\n",
       " 'afeto': 12,\n",
       " 'socio-environmental conflicts': 13,\n",
       " 'letramentos': 10,\n",
       " \"women's health\": 10,\n",
       " 'literatura de cordel': 11,\n",
       " 'agência': 10,\n",
       " 'midiatização': 12,\n",
       " 'mediatization': 10,\n",
       " 'youth and adult education': 14,\n",
       " 'violência doméstica': 12,\n",
       " 'tráfico de drogas': 11,\n",
       " 'educación': 13,\n",
       " 'saneamento rural': 10,\n",
       " 'experiences': 11,\n",
       " 'pensamento decolonial': 10,\n",
       " 'epistemicídio': 11,\n",
       " 'racisme': 11,\n",
       " 'religious intolerance': 13,\n",
       " 'postcolonialism': 10,\n",
       " 'black-brazilian literature': 10,\n",
       " 'história da ciência': 10,\n",
       " 'high school': 10,\n",
       " 'ritos e cerimônias': 10,\n",
       " 'processo criativo': 10,\n",
       " 'oxidative stress': 10,\n",
       " 'social inclusion': 14,\n",
       " 'desigualdades em saúde': 10,\n",
       " 'cuba': 10,\n",
       " 'memória cultural': 10,\n",
       " 'criação (literária, artística, etc.)': 10,\n",
       " 'educacao::ensino-aprendizagem': 11,\n",
       " 'good living': 10,\n",
       " 'pandemia': 11,\n",
       " 'syncretism': 12,\n",
       " 'black masculinities': 10,\n",
       " 'questão social': 14,\n",
       " 'ciências humanas - educação': 10,\n",
       " 'xenophobia': 11,\n",
       " 'estudos decoloniais': 11,\n",
       " 'biodiesel': 13,\n",
       " 'etnobiologia': 10,\n",
       " 'violência contra as mulheres': 10,\n",
       " 'philosophy': 12,\n",
       " 'journalism': 12,\n",
       " 'arte brasileira': 10,\n",
       " 'decolonização': 12,\n",
       " 'autoria': 10,\n",
       " 'professional education': 13,\n",
       " 'theses': 14,\n",
       " 'psicologia clínica': 12,\n",
       " 'fundamental rights': 11,\n",
       " 'macunaíma': 12,\n",
       " 'comunicação - teses': 10,\n",
       " 'racismo epistêmico': 10,\n",
       " 'ocupação': 11,\n",
       " 'manejo do solo': 10,\n",
       " 'ciências humanas - sociologia': 12,\n",
       " 'leadership': 13,\n",
       " 'cristianismo': 12,\n",
       " 'resistence': 10,\n",
       " 'projeto político pedagógico': 12,\n",
       " 'maranhão;': 10,\n",
       " 'hegemony': 14,\n",
       " 'drogas': 13,\n",
       " 'rural extension': 10,\n",
       " 'ciências sociais aplicadas - comunicação': 10,\n",
       " 'diálogo intercultural': 12,\n",
       " 'management': 11,\n",
       " 'língua espanhola': 10,\n",
       " 'school physical education': 10,\n",
       " 'sensor': 10,\n",
       " 'guarana': 14,\n",
       " 'homofobia': 11,\n",
       " 'quilombolas;': 11,\n",
       " 'acre': 13,\n",
       " 'assistência estudantil': 12,\n",
       " 'narrativas orais': 10,\n",
       " 'bovinos': 11,\n",
       " 'linguagem e cultura': 11,\n",
       " 'educational policies': 14,\n",
       " 'social protection': 11,\n",
       " 'antioxidante': 14,\n",
       " 'antioxidant': 10,\n",
       " 'candomble (cult)': 13,\n",
       " 'liberdade religiosa': 12,\n",
       " 'sonhos': 10,\n",
       " 'scientific knowledge': 10,\n",
       " 'interculturalism': 14,\n",
       " 'ciencias humanas::geografia': 12,\n",
       " 'jurema': 10,\n",
       " 'estudos pós-coloniais': 11,\n",
       " 'antropologia educacional': 12,\n",
       " 'mediation': 12,\n",
       " 'agrarian reform': 10,\n",
       " 'américa portuguesa': 11,\n",
       " 'contemporary slavery': 14,\n",
       " 'communities': 10,\n",
       " 'missões jesuíticas': 13,\n",
       " 'condições de trabalho': 12,\n",
       " 'modern slavery': 10,\n",
       " 'cana-de-açúcar': 11,\n",
       " 'propriedade rural': 10,\n",
       " 'war': 13,\n",
       " 'tutela': 11,\n",
       " 'conflito pela terra': 12,\n",
       " 'práticas alimentares': 10,\n",
       " 'mercado': 11,\n",
       " 'feitiçaria': 14,\n",
       " 'ensino e aprendizagem': 10,\n",
       " 'corte interamericana de direitos humanos': 14,\n",
       " 'gramática': 11,\n",
       " 'brazilian portuguese': 11,\n",
       " 'patrimônio arqueológico': 10,\n",
       " 'archeology': 12,\n",
       " 'variação linguística': 14,\n",
       " 'chile': 10,\n",
       " 'aldeamentos': 12,\n",
       " 'inter-american court of human rights': 10,\n",
       " 'caboclos': 10,\n",
       " 'impactos ambientais': 12,\n",
       " 'etnoarqueologia': 14,\n",
       " 'português brasileiro': 10,\n",
       " 'população rural': 12,\n",
       " 'direitos territoriais': 11,\n",
       " 'nutritional status': 11,\n",
       " 'comunidades remanescentes de quilombos': 12,\n",
       " 'estudos transversais': 12,\n",
       " 'participation': 10,\n",
       " 'agroforestry': 11,\n",
       " 'prevalence': 10,\n",
       " 'tocantins': 12,\n",
       " 'hábitos alimentares': 11,\n",
       " 'ribeirinhos': 12,\n",
       " 'conservação ambiental': 12,\n",
       " 'demarcation': 13,\n",
       " 'enfermagem transcultural': 10,\n",
       " 'povos e comunidades tradicionais': 13,\n",
       " 'field education': 12,\n",
       " 'inquéritos epidemiológicos': 10,\n",
       " 'brincadeiras': 11,\n",
       " 'consulta prévia': 12,\n",
       " 'paulo freire': 13,\n",
       " 'análise multivariada': 12,\n",
       " 'ethnogenesis': 10,\n",
       " 'saúde da criança': 11,\n",
       " 'anemia': 12,\n",
       " 'nasalidade (fonética)': 10,\n",
       " 'modo de vida': 10,\n",
       " 'soja': 12,\n",
       " 'sagrado': 12,\n",
       " 'mandioca': 14,\n",
       " 'ethnodevelopment': 13,\n",
       " 'interculturalidade crítica': 11,\n",
       " 'circulação': 10,\n",
       " 'leishmaniose': 12,\n",
       " 'serviços ecossistêmicos': 10,\n",
       " 'ontologia': 11,\n",
       " 'educação em saúde': 10,\n",
       " 'hiv': 13,\n",
       " 'legal pluralism': 12,\n",
       " 'marco temporal': 13,\n",
       " 'tempo': 11,\n",
       " 'indigenous populations': 13,\n",
       " 'belo monte': 10,\n",
       " 'aculturação': 10,\n",
       " 'hinduísmo': 10,\n",
       " 'gravidez': 12,\n",
       " 'fatores socioeconômicos': 12,\n",
       " 'cães': 12,\n",
       " 'índios guarani kaiwá': 12,\n",
       " 'kaingang indians': 11,\n",
       " 'indigenous politics': 10,\n",
       " 'políticas indígenas': 11,\n",
       " 'guarani indians': 13,\n",
       " 'indians - education': 11,\n",
       " 'linguas indigenas': 14,\n",
       " 'indios -': 14,\n",
       " 'saude': 10,\n",
       " 'funai': 10,\n",
       " 'línguas indígenas - fonologia': 12,\n",
       " 'apurinã': 13,\n",
       " 'kaiowa': 11,\n",
       " 'povos indígenas (dourados, ms)': 12,\n",
       " 'indigenous peoples (dourados, ms)': 12,\n",
       " 'indigenous peoples - health': 14,\n",
       " 'retomada': 14,\n",
       " 'indigenous policies': 11,\n",
       " 'história ambiental': 12,\n",
       " 'missão': 13,\n",
       " 'mission': 13,\n",
       " 'cinema indígena': 13,\n",
       " 'plurinacionalidade': 10,\n",
       " 'povos indígenas - posse da terra': 10,\n",
       " 'indigenous peoples - land tenure': 10,\n",
       " 'jaraguá': 10,\n",
       " 'indigenous language': 13,\n",
       " 'tupi-guarani': 14,\n",
       " 'linguística histórica': 13,\n",
       " 'geopolítica': 11,\n",
       " 'paullinia cupana': 10,\n",
       " 'assentamentos rurais': 12,\n",
       " 'josé de anchieta': 12,\n",
       " 'missions': 14,\n",
       " 'jesuítas - missões': 11,\n",
       " 'educação bilíngue': 11,\n",
       " 'questão indígena': 12,\n",
       " 'qualidade': 12,\n",
       " 'citocinas': 10,\n",
       " 'missionários': 10,\n",
       " 'sociedades indígenas': 14,\n",
       " 'doenças cardiovasculares': 12,\n",
       " 'índios xokleng': 10,\n",
       " 'argentina': 12,\n",
       " 'karajá': 11,\n",
       " 'budismo': 11,\n",
       " 'fosfeto de índio': 11,\n",
       " 'índios maxakali': 14,\n",
       " 'south america': 10,\n",
       " 'biologia molecular': 11,\n",
       " 'inoculação': 11,\n",
       " 'rhizobium': 14,\n",
       " 'fixação biológica de nitrogênio': 10,\n",
       " 'acerola': 13,\n",
       " 'biological nitrogen fixation': 10,\n",
       " 'visual anthropology': 11,\n",
       " 'índios educação': 11,\n",
       " 'indigenous knowledge': 10,\n",
       " 'macuxi': 10,\n",
       " 'kayapó': 12,\n",
       " 'temática indígena': 13,\n",
       " 'hanseníase': 13,\n",
       " 'macro-jê': 10,\n",
       " 'wajãpi': 11,\n",
       " 'honey': 10,\n",
       " 'guianas': 11,\n",
       " 'thin films': 11,\n",
       " 'chiquitano': 11,\n",
       " 'índios pataxó': 11,\n",
       " 'bororo': 14,\n",
       " 'laser': 11,\n",
       " 'indigenous communities': 10,\n",
       " 'tupinambá': 13,\n",
       " 'ito': 11,\n",
       " 'essential oils': 10,\n",
       " 'usinas hidrelétricas': 10,\n",
       " 'krahô': 10,\n",
       " 'abelhas sem ferrão': 10,\n",
       " 'ticuna': 12,\n",
       " 'educação superior indígena': 10,\n",
       " 'indigenous policy': 14,\n",
       " 'daniel munduruku': 11,\n",
       " 'amazônia legal': 14,\n",
       " 'nheengatu': 14,\n",
       " 'usina hidrelétrica de belo monte': 11,\n",
       " 'microbiota': 11,\n",
       " 'saberes indígenas': 10,\n",
       " 'ensino aprendizagem': 12}"
      ]
     },
     "execution_count": 132,
     "metadata": {},
     "output_type": "execute_result"
    }
   ],
   "source": [
    "from collections import Counter\n",
    "import itertools\n",
    "\n",
    "# Contar a frequência dos elementos em 'Assuntos em português'\n",
    "counter = Counter(itertools.chain.from_iterable(AC_assunt['Assuntos em português'] +\n",
    "                                                AC_assunt['Assuntos em inglês']))\n",
    "\n",
    "counter\n",
    "\n",
    "filtered_counter = {k: v for k, v in counter.items() if v < 15 and v > 9}\n",
    "\n",
    "filtered_counter \n"
   ]
  },
  {
   "cell_type": "code",
   "execution_count": null,
   "metadata": {},
   "outputs": [],
   "source": []
  }
 ],
 "metadata": {
  "kernelspec": {
   "display_name": ".venv-IndigSlave",
   "language": "python",
   "name": "python3"
  },
  "language_info": {
   "codemirror_mode": {
    "name": "ipython",
    "version": 3
   },
   "file_extension": ".py",
   "mimetype": "text/x-python",
   "name": "python",
   "nbconvert_exporter": "python",
   "pygments_lexer": "ipython3",
   "version": "3.11.9"
  }
 },
 "nbformat": 4,
 "nbformat_minor": 2
}
