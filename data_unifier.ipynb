{
 "cells": [
  {
   "cell_type": "code",
   "execution_count": 1,
   "metadata": {},
   "outputs": [],
   "source": [
    "import pandas as pd\n",
    "from os import listdir"
   ]
  },
  {
   "cell_type": "code",
   "execution_count": 2,
   "metadata": {},
   "outputs": [],
   "source": [
    "# Coletando nomes dos arquivo CSV presentes na pasta \"path_to_dir\"\n",
    "path_to_dir = \"data/BDTD\"\n",
    "filenames = listdir(path_to_dir)\n",
    "csv_files = [ path_to_dir + \"/\" + filename for filename in filenames if filename.endswith( \".csv\" ) ]"
   ]
  },
  {
   "cell_type": "code",
   "execution_count": 3,
   "metadata": {},
   "outputs": [],
   "source": [
    "# Concatenando todos os arquivos\n",
    "data = pd.DataFrame()\n",
    "for csv in csv_files:\n",
    "    data = pd.concat([data, pd.read_csv(csv)])\n",
    "data = data.drop_duplicates(subset=['Título'], keep='first').reset_index(drop=True)"
   ]
  },
  {
   "cell_type": "code",
   "execution_count": 4,
   "metadata": {},
   "outputs": [],
   "source": [
    "# Quebrando assuntos em lista\n",
    "data[\"Assuntos em português\"] = data[\"Assuntos em português\"].apply(lambda x: x.split(\"||\"))\n",
    "data[\"Assuntos em inglês\"] = data[\"Assuntos em inglês\"].apply(lambda x: x.split(\"||\"))"
   ]
  },
  {
   "cell_type": "code",
   "execution_count": 5,
   "metadata": {},
   "outputs": [],
   "source": [
    "# Limpando o nome dos autores\n",
    "autors = data[\"Autor(a)\"].apply(lambda x: x.split(\"||\"))\n",
    "\n",
    "new_autors = []\n",
    "for n in range(len(autors)):\n",
    "    new_autors.append(autors[n][0])\n",
    "    if len(autors[n]) > 1:\n",
    "        if autors[n][1].startswith(\"http://lattes.cnpq.br/\"):\n",
    "            data.loc[n, \"ID Lattes do(a) autor(a)\"] = autors[n][1]\n",
    "\n",
    "data[\"Autor(a)\"] = new_autors"
   ]
  },
  {
   "cell_type": "code",
   "execution_count": 6,
   "metadata": {},
   "outputs": [],
   "source": [
    "# Limpando os nomes dos orientadores\n",
    "\n",
    "orientadores = data[\"Orientadores\"].apply(lambda x: x.split(\"||\"))\n",
    "\n",
    "for n in range(len(orientadores)):\n",
    "    if \"Não informado pela instituição\" in orientadores[n]:\n",
    "        orientadores[n] = list(filter(lambda a: a != \"Não informado pela instituição\", orientadores[n]))\n",
    "\n",
    "data[\"Orientadores\"] = orientadores"
   ]
  },
  {
   "cell_type": "code",
   "execution_count": 7,
   "metadata": {},
   "outputs": [],
   "source": [
    "# Limpando os nomes dos membros da banca\n",
    "\n",
    "banca = data[\"Membros da banca\"].apply(lambda x: x.split(\"||\"))\n",
    "\n",
    "for n in range(len(banca)):\n",
    "    if \"Não informado pela instituição\" in banca[n]:\n",
    "        banca[n] = list(filter(lambda a: a != \"Não informado pela instituição\", banca[n]))\n",
    "\n",
    "data[\"Membros da banca\"] = banca"
   ]
  },
  {
   "cell_type": "code",
   "execution_count": 8,
   "metadata": {},
   "outputs": [],
   "source": [
    "# Salvando como csv\n",
    "path_to_dir_output = \"data\"\n",
    "data.to_csv(path_to_dir_output + \"/BDTD_Consolidado.csv\", index=False)"
   ]
  }
 ],
 "metadata": {
  "kernelspec": {
   "display_name": "Python 3",
   "language": "python",
   "name": "python3"
  },
  "language_info": {
   "codemirror_mode": {
    "name": "ipython",
    "version": 3
   },
   "file_extension": ".py",
   "mimetype": "text/x-python",
   "name": "python",
   "nbconvert_exporter": "python",
   "pygments_lexer": "ipython3",
   "version": "3.11.9"
  }
 },
 "nbformat": 4,
 "nbformat_minor": 2
}
