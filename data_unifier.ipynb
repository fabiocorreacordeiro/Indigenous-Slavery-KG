{
 "cells": [
  {
   "cell_type": "code",
   "execution_count": 1,
   "metadata": {},
   "outputs": [],
   "source": [
    "import pandas as pd\n",
    "from os import listdir\n",
    "import itertools"
   ]
  },
  {
   "cell_type": "code",
   "execution_count": 2,
   "metadata": {},
   "outputs": [],
   "source": [
    "# Coletando nomes dos arquivo CSV presentes na pasta \"path_to_dir\"\n",
    "path_to_dir = \"data/BDTD_feb2025\"\n",
    "filenames = listdir(path_to_dir)\n",
    "csv_files = [ path_to_dir + \"/\" + filename for filename in filenames if filename.endswith( \".csv\" ) ]"
   ]
  },
  {
   "cell_type": "code",
   "execution_count": 3,
   "metadata": {},
   "outputs": [],
   "source": [
    "# Concatenando todos os arquivos\n",
    "data = pd.DataFrame()\n",
    "for csv in csv_files:\n",
    "    data = pd.concat([data, pd.read_csv(csv)])\n",
    "data = data.drop_duplicates(subset=['Título'], keep='first').reset_index(drop=True)"
   ]
  },
  {
   "cell_type": "code",
   "execution_count": 4,
   "metadata": {},
   "outputs": [],
   "source": [
    "# Quebrando assuntos em lista\n",
    "data[\"Assuntos em português\"] = data[\"Assuntos em português\"].apply(lambda x: x.split(\"||\"))\n",
    "data[\"Assuntos em inglês\"] = data[\"Assuntos em inglês\"].apply(lambda x: x.split(\"||\"))"
   ]
  },
  {
   "cell_type": "code",
   "execution_count": 5,
   "metadata": {},
   "outputs": [],
   "source": [
    "# Limpando o nome dos autores\n",
    "autors = data[\"Autor(a)\"].apply(lambda x: x.split(\"||\"))\n",
    "\n",
    "new_autors = []\n",
    "for n in range(len(autors)):\n",
    "    new_autors.append(autors[n][0])\n",
    "    if len(autors[n]) > 1:\n",
    "        if autors[n][1].startswith(\"http://lattes.cnpq.br/\"):\n",
    "            data.loc[n, \"ID Lattes do(a) autor(a)\"] = autors[n][1]\n",
    "\n",
    "data[\"Autor(a)\"] = new_autors"
   ]
  },
  {
   "cell_type": "code",
   "execution_count": 6,
   "metadata": {},
   "outputs": [],
   "source": [
    "# Limpando os nomes dos orientadores\n",
    "\n",
    "orientadores = data[\"Orientadores\"].apply(lambda x: x.split(\"||\"))\n",
    "\n",
    "for n in range(len(orientadores)):\n",
    "    if \"Não informado pela instituição\" in orientadores[n]:\n",
    "        orientadores[n] = list(filter(lambda a: a != \"Não informado pela instituição\", orientadores[n]))\n",
    "\n",
    "data[\"Orientadores\"] = orientadores"
   ]
  },
  {
   "cell_type": "code",
   "execution_count": 7,
   "metadata": {},
   "outputs": [],
   "source": [
    "# Limpando os nomes dos membros da banca\n",
    "\n",
    "banca = data[\"Membros da banca\"].apply(lambda x: x.split(\"||\"))\n",
    "\n",
    "for n in range(len(banca)):\n",
    "    if \"Não informado pela instituição\" in banca[n]:\n",
    "        banca[n] = list(filter(lambda a: a != \"Não informado pela instituição\", banca[n]))\n",
    "\n",
    "data[\"Membros da banca\"] = banca"
   ]
  },
  {
   "cell_type": "code",
   "execution_count": 8,
   "metadata": {},
   "outputs": [],
   "source": [
    "# Limpando os textos do Resumo\n",
    "data['Resumo'] = data['Resumo'].astype(str)\n",
    "data.loc[data['Resumo'].str.contains('Orientador:'), 'Resumo'] = ''\n",
    "data.loc[data['Resumo'].str.contains('Orientadora:'), 'Resumo'] = ''\n",
    "data.loc[data['Resumo'].str.contains('Orientadores:'), 'Resumo'] = ''\n",
    "data.loc[data['Resumo'] == '--', 'Resumo'] = ''\n",
    "data.loc[data['Resumo'] == '.', 'Resumo'] = ''\n",
    "data.loc[data['Resumo'].str.contains(r'Dissertação \\(mestrado\\) -', regex=True), 'Resumo'] = ''\n",
    "data.loc[data['Resumo'].str.contains('também disponível em formato'), 'Resumo'] = ''\n",
    "data.loc[data['Resumo'] == '[sem resumo]', 'Resumo'] = ''\n",
    "data.loc[data['Resumo'] == 'abstract', 'Resumo'] = ''\n",
    "data.loc[data['Resumo'].str.contains('Tese \\(doutorado\\)'), 'Resumo'] = ''\n",
    "data.loc[data['Resumo'] == 'Não informado pela instituição', 'Resumo'] = ''"
   ]
  },
  {
   "cell_type": "markdown",
   "metadata": {},
   "source": [
    "Filtrar as áreas de conhecimento e assuntos indesejados"
   ]
  },
  {
   "cell_type": "code",
   "execution_count": 9,
   "metadata": {},
   "outputs": [
    {
     "name": "stdout",
     "output_type": "stream",
     "text": [
      "Total de documentos antes da limpeza:  24240\n"
     ]
    }
   ],
   "source": [
    "print(\"Total de documentos antes da limpeza: \", len(data))"
   ]
  },
  {
   "cell_type": "code",
   "execution_count": 10,
   "metadata": {},
   "outputs": [],
   "source": [
    "# Criando um DataFrame com os assuntos e áreas do conhecimento preprocessados\n",
    "AC_assunt = data[['Área do conhecimento CNPq', 'Assuntos em português', 'Assuntos em inglês']].copy()\n",
    "\n",
    "AC_assunt.loc[:, 'Área do conhecimento CNPq'] = AC_assunt['Área do conhecimento CNPq'].apply(lambda x: x.split('||'))\n",
    "AC_assunt.loc[:, 'Área do conhecimento CNPq'] = AC_assunt['Área do conhecimento CNPq'].apply(lambda x: [a.split('::') if '::' in a else a for a in x])\n",
    "AC_assunt.loc[:, 'Área do conhecimento CNPq'] = AC_assunt['Área do conhecimento CNPq'].apply(lambda x: list(set([item.lower() for sublist in x for item in (sublist if isinstance(sublist, list) else [sublist])])))\n",
    "AC_assunt.loc[:, 'Assuntos em português'] = AC_assunt['Assuntos em português'].apply(lambda x: [a.lower() for a in x])\n",
    "AC_assunt.loc[:, 'Assuntos em inglês'] = AC_assunt['Assuntos em inglês'].apply(lambda x: [a.lower() for a in x])"
   ]
  },
  {
   "cell_type": "code",
   "execution_count": 11,
   "metadata": {},
   "outputs": [],
   "source": [
    "# Funcao para limpar a base de dados de acordo com a area do conhecimento e lista de excessoes\n",
    "def cleanAreaAssunto(area, lista_excessoes):\n",
    "    \n",
    "  indices_to_remove =  AC_assunt[AC_assunt.apply(lambda x : area in x['Área do conhecimento CNPq'] and \n",
    "                                                all(elem not in x['Assuntos em português'] for elem in lista_excessoes),\n",
    "                                                axis=1)].index\n",
    "  # Remove the rows with the specified indices\n",
    "  return data.drop(indices_to_remove)"
   ]
  },
  {
   "cell_type": "code",
   "execution_count": 12,
   "metadata": {},
   "outputs": [],
   "source": [
    "area = 'medicina veterinária'\n",
    "lista_excessoes = []\n",
    "data = cleanAreaAssunto(area, lista_excessoes)"
   ]
  },
  {
   "cell_type": "code",
   "execution_count": 13,
   "metadata": {},
   "outputs": [],
   "source": [
    "area = 'agronomia'\n",
    "lista_excessoes = ['terras indígenas', 'conhecimento local indígena', 'índios da américa do sul - alimentos - amazônia', 'affirmative action',\n",
    "                   'feira de agricultura familiar', 'local knowledge', 'conflitos fundiários', 'conhecimento tradicional associado',\n",
    "                   'memória', 'quilombolas peoples', 'comunidade quilombola de itacoã-miri - acará (pa)', 'quilombo', 'comunidades tradicionais populares',\n",
    "                   'guarani m’bya', 'community quilombola','xavante', 'mulheres quilombolas', 'traditional popular communities', 'conhecimento ecológico tradicional',\n",
    "                   'negro (raça)', 'índios tikúna - alimentos', 'quilombolas - amazônia - alimentos', 'comunidades tradicionais', 'quilombolas - ilha do marajó',\n",
    "                   'quilombolas - mato grosso', 'povos quilombolas', 'quilombolas - marajó, ilha do (pa)', 'terra preta de índio', 'índios tukúna – amazônia']\n",
    "data = cleanAreaAssunto(area, lista_excessoes)"
   ]
  },
  {
   "cell_type": "code",
   "execution_count": 14,
   "metadata": {},
   "outputs": [],
   "source": [
    "area = 'química'\n",
    "lista_excessoes = ['educação quilombola;', 'educação intercultural;']\n",
    "data = cleanAreaAssunto(area, lista_excessoes)"
   ]
  },
  {
   "cell_type": "code",
   "execution_count": 15,
   "metadata": {},
   "outputs": [],
   "source": [
    "area = 'quimica'\n",
    "lista_excessoes = ['movimento negro', 'racismo', 'mulheres negras nas exatas', 'lei 10.639', 'lei 10.639/03', \n",
    "                   'racismo epistêmico', 'discriminação racial na educação química']\n",
    "data = cleanAreaAssunto(area, lista_excessoes)"
   ]
  },
  {
   "cell_type": "code",
   "execution_count": 16,
   "metadata": {},
   "outputs": [],
   "source": [
    "area = 'bioquimica'\n",
    "lista_excessoes = []\n",
    "data = cleanAreaAssunto(area, lista_excessoes)"
   ]
  },
  {
   "cell_type": "code",
   "execution_count": 17,
   "metadata": {},
   "outputs": [],
   "source": [
    "area = 'bioquímica'\n",
    "lista_excessoes = []\n",
    "data = cleanAreaAssunto(area, lista_excessoes)"
   ]
  },
  {
   "cell_type": "code",
   "execution_count": 18,
   "metadata": {},
   "outputs": [],
   "source": [
    "area = 'engenharia química'\n",
    "lista_excessoes = []\n",
    "data = cleanAreaAssunto(area, lista_excessoes)"
   ]
  },
  {
   "cell_type": "code",
   "execution_count": 19,
   "metadata": {},
   "outputs": [],
   "source": [
    "area = 'engenharia quimica'\n",
    "lista_excessoes = []\n",
    "data = cleanAreaAssunto(area, lista_excessoes)"
   ]
  },
  {
   "cell_type": "code",
   "execution_count": 20,
   "metadata": {},
   "outputs": [
    {
     "name": "stdout",
     "output_type": "stream",
     "text": [
      "Total de documentos após a limpeza:  23833\n"
     ]
    }
   ],
   "source": [
    "print(\"Total de documentos após a limpeza: \", len(data))"
   ]
  },
  {
   "cell_type": "code",
   "execution_count": 21,
   "metadata": {},
   "outputs": [],
   "source": [
    "# Funcao para limpar a base de dados de acordo com assunto e lista de excessoes\n",
    "def cleanAssunto(assunt, lista_excessoes):\n",
    "  \n",
    "  indices_to_remove = data.loc[AC_assunt.apply(lambda x : (assunt in x['Assuntos em português'] or \n",
    "                                                            assunt in x['Assuntos em inglês']) and\n",
    "                                                            all(elem not in x['Assuntos em português'] for elem in lista_excessoes) and\n",
    "                                                            all(elem not in x['Assuntos em inglês'] for elem in lista_excessoes),\n",
    "                                                            axis=1)].index\n",
    "\n",
    "  # Remove the rows with the specified indices\n",
    "  return data.drop(indices_to_remove)"
   ]
  },
  {
   "cell_type": "code",
   "execution_count": 22,
   "metadata": {},
   "outputs": [],
   "source": [
    "assunt = 'buracos negros'\n",
    "lista_excessoes = []\n",
    "data = cleanAssunto(assunt, lista_excessoes)"
   ]
  },
  {
   "cell_type": "code",
   "execution_count": 23,
   "metadata": {},
   "outputs": [],
   "source": [
    "assunt = 'buraco negro'\n",
    "lista_excessoes = []\n",
    "data = cleanAssunto(assunt, lista_excessoes)"
   ]
  },
  {
   "cell_type": "code",
   "execution_count": 24,
   "metadata": {},
   "outputs": [],
   "source": [
    "assunt = 'buracos negros (astronomia)'\n",
    "lista_excessoes = []\n",
    "data = cleanAssunto(assunt, lista_excessoes)"
   ]
  },
  {
   "cell_type": "code",
   "execution_count": 25,
   "metadata": {},
   "outputs": [],
   "source": [
    "assunt = 'black hole'\n",
    "lista_excessoes = []\n",
    "data = cleanAssunto(assunt, lista_excessoes)"
   ]
  },
  {
   "cell_type": "code",
   "execution_count": 26,
   "metadata": {},
   "outputs": [],
   "source": [
    "assunt = 'índia'\n",
    "lista_excessoes = ['Império português', 'África', 'União Ibérica', 'Moçambique', 'Umbanda']\n",
    "data = cleanAssunto(assunt, lista_excessoes)"
   ]
  },
  {
   "cell_type": "code",
   "execution_count": 27,
   "metadata": {},
   "outputs": [],
   "source": [
    "assunt = 'física'\n",
    "lista_excessoes = []\n",
    "data = cleanAssunto(assunt, lista_excessoes)"
   ]
  },
  {
   "cell_type": "code",
   "execution_count": 28,
   "metadata": {},
   "outputs": [],
   "source": [
    "assunt = 'cnpq::ciencias exatas e da terra::fisica'\n",
    "lista_excessoes = []\n",
    "data = cleanAssunto(assunt, lista_excessoes)"
   ]
  },
  {
   "cell_type": "code",
   "execution_count": 29,
   "metadata": {},
   "outputs": [],
   "source": [
    "assunt = 'black carbon'\n",
    "lista_excessoes = []\n",
    "data = cleanAssunto(assunt, lista_excessoes)"
   ]
  },
  {
   "cell_type": "code",
   "execution_count": 30,
   "metadata": {},
   "outputs": [],
   "source": [
    "assunt = 'negro de fumo'\n",
    "lista_excessoes = []\n",
    "data = cleanAssunto(assunt, lista_excessoes)"
   ]
  },
  {
   "cell_type": "code",
   "execution_count": 31,
   "metadata": {},
   "outputs": [],
   "source": [
    "assunt = 'química'\n",
    "lista_excessoes = ['Índios Guarani', 'indigenous', 'Movimento negro', 'Índios', 'Racismo', 'História e Cultura', 'Povos indígenas',\n",
    "                   'Contemporary slavery', 'Quilombola School Education', 'Africanos e afro-brasileiros',\n",
    "                   'Diretrizes Curriculares Nacionais para a Educação Escolar Quilombola na Educação Básica', 'Lei 10.639', 'Escravidão Contemporânea',\n",
    "                   'Quilombos', 'Escravidão', 'African and afro-Brazilian people', 'Indígenas']\n",
    "data = cleanAssunto(assunt, lista_excessoes)"
   ]
  },
  {
   "cell_type": "code",
   "execution_count": 32,
   "metadata": {},
   "outputs": [],
   "source": [
    "assunt = 'black pepper'\n",
    "lista_excessoes = []\n",
    "data = cleanAssunto(assunt, lista_excessoes)"
   ]
  },
  {
   "cell_type": "code",
   "execution_count": 33,
   "metadata": {},
   "outputs": [],
   "source": [
    "assunt = 'pimenta-do-reino'\n",
    "lista_excessoes = []\n",
    "data = cleanAssunto(assunt, lista_excessoes)"
   ]
  },
  {
   "cell_type": "code",
   "execution_count": 34,
   "metadata": {},
   "outputs": [],
   "source": [
    "assunt = 'acácia-negra'\n",
    "lista_excessoes = []\n",
    "data = cleanAssunto(assunt, lista_excessoes)"
   ]
  },
  {
   "cell_type": "code",
   "execution_count": 35,
   "metadata": {},
   "outputs": [],
   "source": [
    "assunt = 'acácia negra'\n",
    "lista_excessoes = []\n",
    "data = cleanAssunto(assunt, lista_excessoes)"
   ]
  },
  {
   "cell_type": "code",
   "execution_count": 36,
   "metadata": {},
   "outputs": [],
   "source": [
    "assunt = 'acacia-negra'\n",
    "lista_excessoes = []\n",
    "data = cleanAssunto(assunt, lista_excessoes)"
   ]
  },
  {
   "cell_type": "code",
   "execution_count": 37,
   "metadata": {},
   "outputs": [],
   "source": [
    "assunt = 'medicina veterinária'\n",
    "lista_excessoes = []\n",
    "data = cleanAssunto(assunt, lista_excessoes)"
   ]
  },
  {
   "cell_type": "code",
   "execution_count": 38,
   "metadata": {},
   "outputs": [],
   "source": [
    "assunt = 'veterinária'\n",
    "lista_excessoes = []\n",
    "data = cleanAssunto(assunt, lista_excessoes)"
   ]
  },
  {
   "cell_type": "code",
   "execution_count": 39,
   "metadata": {},
   "outputs": [],
   "source": [
    "assunt = 'microbiologia'\n",
    "lista_excessoes = ['Comunidades tradicionais']\n",
    "data = cleanAssunto(assunt, lista_excessoes)"
   ]
  },
  {
   "cell_type": "code",
   "execution_count": 40,
   "metadata": {},
   "outputs": [],
   "source": [
    "assunt = 'filmes finos'\n",
    "lista_excessoes = ['Comunidades tradicionais']\n",
    "data = cleanAssunto(assunt, lista_excessoes)"
   ]
  },
  {
   "cell_type": "code",
   "execution_count": 41,
   "metadata": {},
   "outputs": [],
   "source": [
    "assunt = 'adsorção'\n",
    "lista_excessoes = ['Comunidades tradicionais']\n",
    "data = cleanAssunto(assunt, lista_excessoes)"
   ]
  },
  {
   "cell_type": "code",
   "execution_count": 42,
   "metadata": {},
   "outputs": [],
   "source": [
    "assunt = 'antioxidantes'\n",
    "lista_excessoes = ['Comunidades tradicionais']\n",
    "data = cleanAssunto(assunt, lista_excessoes)"
   ]
  },
  {
   "cell_type": "code",
   "execution_count": 43,
   "metadata": {},
   "outputs": [],
   "source": [
    "assunt = 'black liquor'\n",
    "lista_excessoes = ['Comunidades tradicionais']\n",
    "data = cleanAssunto(assunt, lista_excessoes)"
   ]
  },
  {
   "cell_type": "code",
   "execution_count": 44,
   "metadata": {},
   "outputs": [],
   "source": [
    "assunt = 'black metal'\n",
    "lista_excessoes = ['Comunidades tradicionais']\n",
    "data = cleanAssunto(assunt, lista_excessoes)"
   ]
  },
  {
   "cell_type": "code",
   "execution_count": 45,
   "metadata": {},
   "outputs": [],
   "source": [
    "assunt = 'metal'\n",
    "lista_excessoes = ['Comunidades tradicionais']\n",
    "data = cleanAssunto(assunt, lista_excessoes)"
   ]
  },
  {
   "cell_type": "code",
   "execution_count": 46,
   "metadata": {},
   "outputs": [],
   "source": [
    "assunt = 'black wattle'\n",
    "lista_excessoes = ['Comunidades tradicionais']\n",
    "data = cleanAssunto(assunt, lista_excessoes)"
   ]
  },
  {
   "cell_type": "code",
   "execution_count": 47,
   "metadata": {},
   "outputs": [],
   "source": [
    "assunt = 'antocianinas'\n",
    "lista_excessoes = ['Comunidades tradicionais']\n",
    "data = cleanAssunto(assunt, lista_excessoes)"
   ]
  },
  {
   "cell_type": "code",
   "execution_count": 48,
   "metadata": {},
   "outputs": [],
   "source": [
    "assunt = 'amora-preta'\n",
    "lista_excessoes = ['Comunidades tradicionais']\n",
    "data = cleanAssunto(assunt, lista_excessoes)"
   ]
  },
  {
   "cell_type": "code",
   "execution_count": 49,
   "metadata": {},
   "outputs": [],
   "source": [
    "assunt = 'atividade antioxidante'\n",
    "lista_excessoes = ['Comunidades tradicionais']\n",
    "data = cleanAssunto(assunt, lista_excessoes)"
   ]
  },
  {
   "cell_type": "code",
   "execution_count": 50,
   "metadata": {},
   "outputs": [],
   "source": [
    "assunt = 'black mirror'\n",
    "lista_excessoes = ['Comunidades tradicionais']\n",
    "data = cleanAssunto(assunt, lista_excessoes)"
   ]
  },
  {
   "cell_type": "code",
   "execution_count": 51,
   "metadata": {},
   "outputs": [],
   "source": [
    "assunt = 'estresse oxidativo'\n",
    "lista_excessoes = ['Comunidades tradicionais']\n",
    "data = cleanAssunto(assunt, lista_excessoes)"
   ]
  },
  {
   "cell_type": "code",
   "execution_count": 52,
   "metadata": {},
   "outputs": [],
   "source": [
    "assunt = 'black-scholes'\n",
    "lista_excessoes = ['Comunidades tradicionais']\n",
    "data = cleanAssunto(assunt, lista_excessoes)"
   ]
  },
  {
   "cell_type": "code",
   "execution_count": 53,
   "metadata": {},
   "outputs": [],
   "source": [
    "assunt = 'geoquímica'\n",
    "lista_excessoes = ['Comunidades tradicionais']\n",
    "data = cleanAssunto(assunt, lista_excessoes)"
   ]
  },
  {
   "cell_type": "code",
   "execution_count": 54,
   "metadata": {},
   "outputs": [],
   "source": [
    "assunt = 'black spot'\n",
    "lista_excessoes = ['Comunidades tradicionais']\n",
    "data = cleanAssunto(assunt, lista_excessoes)"
   ]
  },
  {
   "cell_type": "code",
   "execution_count": 55,
   "metadata": {},
   "outputs": [],
   "source": [
    "assunt = 'podridão negra'\n",
    "lista_excessoes = ['Comunidades tradicionais']\n",
    "data = cleanAssunto(assunt, lista_excessoes)"
   ]
  },
  {
   "cell_type": "code",
   "execution_count": 56,
   "metadata": {},
   "outputs": [],
   "source": [
    "assunt = 'corantes'\n",
    "lista_excessoes = ['Comunidades tradicionais']\n",
    "data = cleanAssunto(assunt, lista_excessoes)"
   ]
  },
  {
   "cell_type": "code",
   "execution_count": 57,
   "metadata": {},
   "outputs": [],
   "source": [
    "assunt = 'petróleo'\n",
    "lista_excessoes = ['Comunidades tradicionais']\n",
    "data = cleanAssunto(assunt, lista_excessoes)"
   ]
  },
  {
   "cell_type": "code",
   "execution_count": 58,
   "metadata": {},
   "outputs": [],
   "source": [
    "assunt = 'eletroquímica'\n",
    "lista_excessoes = ['Comunidades tradicionais']\n",
    "data = cleanAssunto(assunt, lista_excessoes)"
   ]
  },
  {
   "cell_type": "code",
   "execution_count": 59,
   "metadata": {},
   "outputs": [],
   "source": [
    "assunt = 'glycine max'\n",
    "lista_excessoes = ['Comunidades tradicionais']\n",
    "data = cleanAssunto(assunt, lista_excessoes)"
   ]
  },
  {
   "cell_type": "code",
   "execution_count": 60,
   "metadata": {},
   "outputs": [],
   "source": [
    "assunt = 'compostos fenólicos'\n",
    "lista_excessoes = ['Comunidades tradicionais']\n",
    "data = cleanAssunto(assunt, lista_excessoes)"
   ]
  },
  {
   "cell_type": "code",
   "execution_count": 61,
   "metadata": {},
   "outputs": [],
   "source": [
    "assunt = 'compostos bioativos'\n",
    "lista_excessoes = ['Comunidades tradicionais']\n",
    "data = cleanAssunto(assunt, lista_excessoes)"
   ]
  },
  {
   "cell_type": "code",
   "execution_count": 62,
   "metadata": {},
   "outputs": [],
   "source": [
    "assunt = 'cnpq::ciencias biologicas::bioquimica'\n",
    "lista_excessoes = ['Cultura indígena']\n",
    "data = cleanAssunto(assunt, lista_excessoes)"
   ]
  },
  {
   "cell_type": "code",
   "execution_count": 63,
   "metadata": {},
   "outputs": [],
   "source": [
    "assunt = 'modelagem matemática'\n",
    "lista_excessoes = ['Gavião ethnic group/Ikólóéhj', 'interculturality', 'indigenous school education',\n",
    "                   'educação escolar indígena', 'etnomatemática', 'etnia Gavião/Ikólóéhj', 'ethnomathematics']\n",
    "data = cleanAssunto(assunt, lista_excessoes)"
   ]
  },
  {
   "cell_type": "code",
   "execution_count": 64,
   "metadata": {},
   "outputs": [],
   "source": [
    "assunt = 'fosfeto de índio'\n",
    "lista_excessoes = []\n",
    "data = cleanAssunto(assunt, lista_excessoes)"
   ]
  },
  {
   "cell_type": "code",
   "execution_count": 65,
   "metadata": {},
   "outputs": [],
   "source": [
    "assunt = 'rhizobium'\n",
    "lista_excessoes = []\n",
    "data = cleanAssunto(assunt, lista_excessoes)"
   ]
  },
  {
   "cell_type": "code",
   "execution_count": 66,
   "metadata": {},
   "outputs": [],
   "source": [
    "assunt = 'fixação biológica de nitrogênio'\n",
    "lista_excessoes = []\n",
    "data = cleanAssunto(assunt, lista_excessoes)"
   ]
  },
  {
   "cell_type": "code",
   "execution_count": 67,
   "metadata": {},
   "outputs": [],
   "source": [
    "assunt = 'acerola'\n",
    "lista_excessoes = []\n",
    "data = cleanAssunto(assunt, lista_excessoes)"
   ]
  },
  {
   "cell_type": "code",
   "execution_count": 68,
   "metadata": {},
   "outputs": [
    {
     "name": "stdout",
     "output_type": "stream",
     "text": [
      "Total de documentos após a limpeza:  23172\n"
     ]
    }
   ],
   "source": [
    "print(\"Total de documentos após a limpeza: \", len(data))"
   ]
  },
  {
   "cell_type": "code",
   "execution_count": 69,
   "metadata": {},
   "outputs": [],
   "source": [
    "# Reset the index if needed\n",
    "data = data.reset_index(drop=True)\n",
    "\n",
    "# Salvando como csv\n",
    "path_to_dir_output = \"data\"\n",
    "data.to_csv(path_to_dir_output + \"/BDTD_Consolidado_feb2025.csv\", index=False)"
   ]
  },
  {
   "cell_type": "code",
   "execution_count": null,
   "metadata": {},
   "outputs": [],
   "source": []
  }
 ],
 "metadata": {
  "kernelspec": {
   "display_name": ".venv-IndigSlave",
   "language": "python",
   "name": "python3"
  },
  "language_info": {
   "codemirror_mode": {
    "name": "ipython",
    "version": 3
   },
   "file_extension": ".py",
   "mimetype": "text/x-python",
   "name": "python",
   "nbconvert_exporter": "python",
   "pygments_lexer": "ipython3",
   "version": "3.11.9"
  }
 },
 "nbformat": 4,
 "nbformat_minor": 2
}
