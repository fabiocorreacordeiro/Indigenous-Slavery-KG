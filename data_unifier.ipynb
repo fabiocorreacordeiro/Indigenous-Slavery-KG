{
 "cells": [
  {
   "cell_type": "code",
   "execution_count": 1,
   "metadata": {},
   "outputs": [],
   "source": [
    "import pandas as pd\n",
    "from os import listdir\n",
    "import itertools"
   ]
  },
  {
   "cell_type": "code",
   "execution_count": 2,
   "metadata": {},
   "outputs": [],
   "source": [
    "# Coletando nomes dos arquivo CSV presentes na pasta \"path_to_dir\"\n",
    "path_to_dir = \"data/BDTD_feb2025\"\n",
    "filenames = listdir(path_to_dir)\n",
    "csv_files = [ path_to_dir + \"/\" + filename for filename in filenames if filename.endswith( \".csv\" ) ]"
   ]
  },
  {
   "cell_type": "code",
   "execution_count": 3,
   "metadata": {},
   "outputs": [],
   "source": [
    "# Concatenando todos os arquivos\n",
    "data = pd.DataFrame()\n",
    "for csv in csv_files:\n",
    "    data = pd.concat([data, pd.read_csv(csv)])\n",
    "data = data.drop_duplicates(subset=['Título'], keep='first').reset_index(drop=True)"
   ]
  },
  {
   "cell_type": "code",
   "execution_count": 4,
   "metadata": {},
   "outputs": [],
   "source": [
    "# Quebrando assuntos em lista\n",
    "data[\"Assuntos em português\"] = data[\"Assuntos em português\"].apply(lambda x: x.split(\"||\"))\n",
    "data[\"Assuntos em inglês\"] = data[\"Assuntos em inglês\"].apply(lambda x: x.split(\"||\"))"
   ]
  },
  {
   "cell_type": "code",
   "execution_count": 5,
   "metadata": {},
   "outputs": [],
   "source": [
    "# Limpando o nome dos autores\n",
    "autors = data[\"Autor(a)\"].apply(lambda x: x.split(\"||\"))\n",
    "\n",
    "new_autors = []\n",
    "for n in range(len(autors)):\n",
    "    new_autors.append(autors[n][0])\n",
    "    if len(autors[n]) > 1:\n",
    "        if autors[n][1].startswith(\"http://lattes.cnpq.br/\"):\n",
    "            data.loc[n, \"ID Lattes do(a) autor(a)\"] = autors[n][1]\n",
    "\n",
    "data[\"Autor(a)\"] = new_autors"
   ]
  },
  {
   "cell_type": "code",
   "execution_count": 6,
   "metadata": {},
   "outputs": [],
   "source": [
    "# Limpando os nomes dos orientadores\n",
    "\n",
    "orientadores = data[\"Orientadores\"].apply(lambda x: x.split(\"||\"))\n",
    "\n",
    "for n in range(len(orientadores)):\n",
    "    if \"Não informado pela instituição\" in orientadores[n]:\n",
    "        orientadores[n] = list(filter(lambda a: a != \"Não informado pela instituição\", orientadores[n]))\n",
    "\n",
    "data[\"Orientadores\"] = orientadores"
   ]
  },
  {
   "cell_type": "code",
   "execution_count": 7,
   "metadata": {},
   "outputs": [],
   "source": [
    "# Limpando os nomes dos membros da banca\n",
    "\n",
    "banca = data[\"Membros da banca\"].apply(lambda x: x.split(\"||\"))\n",
    "\n",
    "for n in range(len(banca)):\n",
    "    if \"Não informado pela instituição\" in banca[n]:\n",
    "        banca[n] = list(filter(lambda a: a != \"Não informado pela instituição\", banca[n]))\n",
    "\n",
    "data[\"Membros da banca\"] = banca"
   ]
  },
  {
   "cell_type": "code",
   "execution_count": 8,
   "metadata": {},
   "outputs": [],
   "source": [
    "# Limpando os textos do Resumo\n",
    "data['Resumo'] = data['Resumo'].astype(str)\n",
    "data.loc[data['Resumo'].str.contains('Orientador:'), 'Resumo'] = ''\n",
    "data.loc[data['Resumo'].str.contains('Orientadora:'), 'Resumo'] = ''\n",
    "data.loc[data['Resumo'].str.contains('Orientadores:'), 'Resumo'] = ''\n",
    "data.loc[data['Resumo'] == '--', 'Resumo'] = ''\n",
    "data.loc[data['Resumo'] == '.', 'Resumo'] = ''\n",
    "data.loc[data['Resumo'].str.contains(r'Dissertação \\(mestrado\\) -', regex=True), 'Resumo'] = ''\n",
    "data.loc[data['Resumo'].str.contains('também disponível em formato'), 'Resumo'] = ''\n",
    "data.loc[data['Resumo'] == '[sem resumo]', 'Resumo'] = ''\n",
    "data.loc[data['Resumo'] == 'abstract', 'Resumo'] = ''\n",
    "data.loc[data['Resumo'].str.contains('Tese \\(doutorado\\)'), 'Resumo'] = ''\n",
    "data.loc[data['Resumo'] == 'Não informado pela instituição', 'Resumo'] = ''"
   ]
  },
  {
   "cell_type": "markdown",
   "metadata": {},
   "source": [
    "Filtrar as áreas de conhecimento e assuntos indesejados"
   ]
  },
  {
   "cell_type": "code",
   "execution_count": 9,
   "metadata": {},
   "outputs": [
    {
     "name": "stdout",
     "output_type": "stream",
     "text": [
      "Total de documentos antes da limpeza:  24240\n"
     ]
    }
   ],
   "source": [
    "print(\"Total de documentos antes da limpeza: \", len(data))"
   ]
  },
  {
   "cell_type": "code",
   "execution_count": 10,
   "metadata": {},
   "outputs": [],
   "source": [
    "# Criando um DataFrame com os assuntos e áreas do conhecimento preprocessados\n",
    "AC_assunt = data[['Área do conhecimento CNPq', 'Assuntos em português', 'Assuntos em inglês']].copy()\n",
    "\n",
    "AC_assunt.loc[:, 'Área do conhecimento CNPq'] = AC_assunt['Área do conhecimento CNPq'].apply(lambda x: x.split('||'))\n",
    "AC_assunt.loc[:, 'Área do conhecimento CNPq'] = AC_assunt['Área do conhecimento CNPq'].apply(lambda x: [a.split('::') if '::' in a else a for a in x])\n",
    "AC_assunt.loc[:, 'Área do conhecimento CNPq'] = AC_assunt['Área do conhecimento CNPq'].apply(lambda x: list(set([item.lower() for sublist in x for item in (sublist if isinstance(sublist, list) else [sublist])])))\n",
    "AC_assunt.loc[:, 'Assuntos em português'] = AC_assunt['Assuntos em português'].apply(lambda x: [a.lower() for a in x])\n",
    "AC_assunt.loc[:, 'Assuntos em inglês'] = AC_assunt['Assuntos em inglês'].apply(lambda x: [a.lower() for a in x])"
   ]
  },
  {
   "cell_type": "code",
   "execution_count": 11,
   "metadata": {},
   "outputs": [],
   "source": [
    "# Funcao para limpar a base de dados de acordo com a area do conhecimento e lista de excessoes\n",
    "def cleanAreaAssunto(area, lista_excessoes):\n",
    "    \n",
    "  indices_to_remove =  AC_assunt[AC_assunt.apply(lambda x : area in x['Área do conhecimento CNPq'] and \n",
    "                                                all(elem not in x['Assuntos em português'] for elem in lista_excessoes),\n",
    "                                                axis=1)].index\n",
    "  # Remove the rows with the specified indices\n",
    "  return data.drop(indices_to_remove)"
   ]
  },
  {
   "cell_type": "code",
   "execution_count": 12,
   "metadata": {},
   "outputs": [],
   "source": [
    "area = 'medicina veterinária'\n",
    "lista_excessoes = []\n",
    "data = cleanAreaAssunto(area, lista_excessoes)"
   ]
  },
  {
   "cell_type": "code",
   "execution_count": 13,
   "metadata": {},
   "outputs": [],
   "source": [
    "area = 'agronomia'\n",
    "lista_excessoes = ['terras indígenas', 'conhecimento local indígena', 'índios da américa do sul - alimentos - amazônia', 'affirmative action',\n",
    "                   'feira de agricultura familiar', 'local knowledge', 'conflitos fundiários', 'conhecimento tradicional associado',\n",
    "                   'memória', 'quilombolas peoples', 'comunidade quilombola de itacoã-miri - acará (pa)', 'quilombo', 'comunidades tradicionais populares',\n",
    "                   'guarani m’bya', 'community quilombola','xavante', 'mulheres quilombolas', 'traditional popular communities', 'conhecimento ecológico tradicional',\n",
    "                   'negro (raça)', 'índios tikúna - alimentos', 'quilombolas - amazônia - alimentos', 'comunidades tradicionais', 'quilombolas - ilha do marajó',\n",
    "                   'quilombolas - mato grosso', 'povos quilombolas', 'quilombolas - marajó, ilha do (pa)', 'terra preta de índio', 'índios tukúna – amazônia']\n",
    "data = cleanAreaAssunto(area, lista_excessoes)"
   ]
  },
  {
   "cell_type": "code",
   "execution_count": 14,
   "metadata": {},
   "outputs": [
    {
     "name": "stdout",
     "output_type": "stream",
     "text": [
      "Total de documentos após a limpeza:  23968\n"
     ]
    }
   ],
   "source": [
    "print(\"Total de documentos após a limpeza: \", len(data))"
   ]
  },
  {
   "cell_type": "code",
   "execution_count": null,
   "metadata": {},
   "outputs": [
    {
     "name": "stdout",
     "output_type": "stream",
     "text": [
      "{'lesion nematode', 'potássio trocável', 'híbridos de milho', 'agricultura empresarial', 'solubilização', 'produtos químicos agrícolas', 'espécies adaptadas', 'experimento longa duração', 'índios da américa do sul - alimentos - amazônia', 'variância genética', 'biological activity', 'genótipos', 'tulipa', 'inoculação com raízes noduladas', 'biologia do solo', 'polinifagia', 'fixação biológica de nitrogênio', 'affirmative action', 'feira de agricultura familiar', 'termitidae', 'gerbera jamesonii bolus ex. hook', 'agrobiodiversidade', 'citrus spp.', 'qualidade dos frutos', 'fbn', 'segurança', 'food habits', 'unidade de conservação', 'plantios de mudas', 'sementes', 'fertilizante organomineral', 'cadeias produtivas', 'k-means', 'vigna radiata', 'campo nativo', 'óxido nitroso', 'seletividade de defensivos alternativos', 'local knowledge', 'desenvolvimento territorial', 'rurality', 'híbrido', 'práticas tradicionais', 'pcr em tempo real', 'musa spp', 'concepções discentes', 'oryza sativa l.', 'metais pesados', 'mlsa', 'floresta atlântica', 'padronização de dados', 'entomologia', 'revisão sistemática', 'conflitos fundiários', 'bactérias diazotróficas', 'comunidades agrícolas -- concórdia do pará (pa)', 'inoculante', 'atividade biológica', 'agrobiodiversity', 'vitis spp.', 'controlled burning', 'rusle', 'fontes e doses de nitrogênio', 'avicultura', 'cartografia social', 'biochemical characterization', 'genetic variance', 'produção orgânica', 'conhecimento tradicional associado', 'progenitores', 'adverse possession', 'caça de subsistência', 'helicônia', 'promoção do crescimento de plantas, auxina, solubilização de fosfato de cálcio.', 'agentes de controle biológico', 'biodiversidade', 'fertilidade do solo', 'imagem fotográfica', 'inibidor de crescimento.', 'geographic landscape', 'maracujá', 'amazon', 'pcr convencional', 'vinhaça', 'severidade', 'caça', 'arborização urbana', 'readequação produtiva', 'levantamento de solo', 'carvão vegetal', 'arabinogalactano', 'fitoextração', 'cromatografia circular plana', 'fitato', 'diversidade', 'ph da rizosfera', 'coinoculação', 'memória', 'seleção', 'recursos naturais - conservação', 'fruticultura', 'bovinocultura', 'mangifera indica', 'maturidade fisiológica', 'consórcio de estirpes', 'trajetória de vida', 'territory', 'feijoeiro comum', 'meiose', 'abelhas sem ferrão', 'educação escolar indígena', 'fitopatologia', 'mudanças climáticas globais', 'utilitarian pottery', 'arranjos produtivos locais', 'quilombolas peoples', 'comunidade quilombola de itacoã-miri - acará (pa)', 'quilombo', 'amazônia', 'rhizobium', 'testes in vivo', 'basella alba', 'volatilização de amônia', 'comunidades tradicionais populares', 'variedades de cana-de-açúcar', 'passiflora alata curtis', 'políticas públicas', 'agrossilvicultura', 'aspectos fitotécnicos', 'restauração ecológica', 'encapsulamento-desidratação', 'análise de crescimento vegetal', 'fitorremediação', 'etnobot?nica', 'producer', 'inoculação', 'contaminação', 'bougainvillea spectabillis', 'conservação de germoplasma', 'sigatoka negra', 'manejo de pragas', 'incêndios florestais', 'phosphate solubilization', 'family farming', 'oryza sativa', 'sistemas agroflorestais', 'agricultura familiar', 'manejo sustentado', 'morfologia', 'ethnobotanical relationships', 'hábitos alimentares', 'orthoptera', 'kappaphicus alvarezii', 'carbono', 'ixora coccninea', 'promoção de crescimento vegetal', 'controle biológico', 'solos do cerrado', 'composto fermentado', 'moscas-das-frutas', 'livestock family', 'ctab modificado', 'doenças e anomalias fisiológicas', 'pcr', 'promotores de crescimento vegetal', 'genetic distance', 'sobrevivência', 'hábitos alimentares - mato grosso', 'reprodução vegetal', 'matocompetição', 'território', 'ureia', 'indicadores de sustentabilidade', 'sociobiodiversidade faunística', 'tinguá', 'variedade piauí', 'alelopatia', 'representação social', 'vigna unguiculata', 'arroz', 'paisagem geográfica', 'demanda hídrica', 'biologia', 'methane', 'terras tradicionais', 'antibacterial activity', 'natural foods', 'pre-breeding', 'manejo do solo e planta', 'guarani m’bya', 'soberania alimentar', 'disseminação', 'mip', 'multiplicity of uses', 'pirólise', 'rizóbios', 'cultivar', 'water management', 'equilíbrio nutricional', 'índices de diversidade', 'bactéria halotolerante', 'usucapião', 'dark septate endophytes', 'agroquímicos', 'community quilombola', 'interação genótipo versus época', 'cooperativismo', 'bactéria', 'atividade antibacteriana', 'seleção de rizóbios eficientes', 'cana-de-açúcar', 'fitossanidade', 'técnicas isotópicas', 'germinação', 'defoliation', 'solanum lycopersicum', 'sequenciamento de nova geração', 'calda bordalesa', 'xavante', 'mulheres quilombolas', 'caracterização morfológica', 'traditional popular communities', 'plant population', 'adaptação', 'cultura', 'heliconiaceae', 'life trajectory', 'public policy', 'hifomicetos', 'biological nitrogen fixation', 'análise faunística', 'spatial displacement', 'agriculture', 'lantana camara', 'política pública', 'formação', 'technical training', 'educa??o ambiental', 'etnodesenvolvimento', 'epicormic shoots', 'população de planta', 'nitrous oxide', 'gramíneas', 'bactérias promotoras do crescimento vegetal', 'morphological characterization', 'adubação mineral', 'fertilizantes fosfatados', 'dendeicultura', 'reflorestamento', 'cinzas de plantas', 'gram-negativa', 'new iguaçu', 'alimentos naturais', 'forage peanut', 'mitigação', 'resposta correlacionada', 'eficiência no uso de n (eun)', 'pecuária', 'resíduos', 'diversificação', 'vigna radiata (l.) wilczek', 'agricultura familiar -- concórdia do pará (pa)', 'feijão', 'metal tolerance', 'rna-seq', 'patogenicidade', 'milk', 'ácido húmico', 'susceptibilidade magnética', 'microscopia de fluorescência', 'filogenia', 'cooperativa', 'ácidos orgânicos', 'cultura alimentar', 'eficiência fotossintética', 'agricultura de base ecológica', 'local development', 'óleos essenciais', 'polinizadores', 'humic acid', 'joaninha afidófaga', 'movimento asg', 'rizóbio', 'xanthomonas campestris pv', 'matas nativas', 'colletotrichum gloeosporioides', 'caatinga', 'controle', 'tecnologias', 'híbridos de poncirus', 'oeste da bahia', 'toxidez de alumínio', 'progresso de mal-do-pé', 'escala diagramática', 'selection of efficient rhizobia', 'bioactivity', 'poda', 'gender', 'solubilização de fosfato', 'parâmetros genéticos', 'plantas comestíveis', 'comunidade bacteriana', 'auxin production', 'rmn', 'tolerância metálica', 'cleistogamia', 'sibcs', 'análise de crescimento de plantas,, , ,', 'leite', 'banhados', 'prunus spp.', 'níveis de irrigação', 'ecosystem services', 'produtividade', 'adubos verdes', 'qualidade de solo', 'dendê -- concórdia do pará (pa)', 'produtor', 'stemphylium solani', 'pluriatividade', 'manejo da água', 'heritage', 'selection', 'extensao rural', 'multiplicidade de usos', 'nitrato', 'temperatura', 'umbric ferralsols', 'germoplasma', 'hábitos alimentares - amazônia', 'quilombolas', 'recuperação de áreas degradadas, semivariograma, krigagem, fauna do solo', 'alumínio', 'disponibilidade de alimento', 'solos', 'relações etnobotânicas', 'percepção', 'termodecomposição', 'índice de poluição', 'comunidades agrícolas - santa luzia do pará (pa)', 'mulch', 'sds-page', 'caracterização físico- química', 'ftir', 'cerrado', 'pernambuco (br)', 'mercados institucionais.', 'controle biológico conservativo', 'densidade populacional', 'armazenamento', 'ornamental plants', 'plant extracts', 'hortaliças', 'genetic parameters', 'cultura de tecidos', 'farm', 'trofobiose', 'comunidades agrícolas- marajó, ilha do (pa)', 'mudanças climáticas', 'batum', 'campos de guarapuava', 'soja - semente', 'desmódio', 'daucus carota', 'caracterização bioquímica', 'palha de aveia preta', 'nova iguaçu', 'pedometria', 'não informado pela instituição', 'extensão rural', 'desnitrificação', 'sistema radicular', 'agricultura orgânica', 'diversification', 'minimilho', 'qrt-pcr', 'growth', 'genotypes', 'poder', 'balanço de nutrientes', 'conhecimento ecológico tradicional', 'culture', 'desenvolvimento local', 'anthropology of food', 'pesca', 'amônio', 'etnomatemática', 'anthrosols', 'colistina', 'bifenilas policloradas', 'exchangeable potassium', 'circular flat chromatography', 'radiação gama', 'dinâmica populacional', 'conflito socioambiental', 'negro (raça)', 'ponto de colheita', 'cádmio', 'solo salino', 'quilombos', 'educação do campo', 'guandu', 'matéria orgânica', 'rural development', 'mato grosso state', 'climatização', 'avaliação de risco ecológico', 'desenvolvimento', 'congresso nacional', 'sovereignty', 'cajuí', 'análise multivariada', 'compostagem', 'indicadores ecológicos', 'índios tikúna - alimentos', 'nematoide-das-lesões-radiculares', 'manejo de praga', 'resistência', 'paddy rice', 'recuperação ambiental', 'quilombolas - amazônia - alimentos', 'pca', 'ater (etno)', 'solo', 'indicators', 'fontes de carbono', 'comunidades tradicionais', 'vigor', 'ethnobotany', 'matopiba', 'agroecossistemas', 'mercados institucionais', 'brotações', 'segurança alimentar', 'zea mays', 'arroz irrigado', 'marcadores moleculares', 'sulfonamida', 'musa spp.', 'biorremediação', '2,4-d + picloram', 'desenvolvimento rural', 'tratamento', 'plants, edible', 'aléias', 'diversidade genética', 'solanum licopersicon', 'cerâmica utilitária', 'resíduos alcalinos', 'genômica', 'daucus carota l.', 'traditional practices', 'cdna aflp', 'substâncias húmicas', 'plant diseases', 'organic matter', 'pé-preto', 'manejo de florestas secundárias', 'pedogênese', 'dissimilaridade', 'rubus', 'quilombolas - ilha do marajó', 'testes in vitro', 'social and communitarian capital', 'macrotiloma', 'black oat straw', 'wrb', 'soil quality', 'deslocamento espacial', 'roça', 'política fundiária', 'manejo do solo', 'vitícola', 'genes repórter', 'inclusão social', 'sequenciamento', 'skills', 'semiarid', 'atlantic forest', 'critérios de classificação de solos', 'pré-melhoramento', 'dse', 'conhecimento local', 'phaseolus vulgaris', 'adubação verde', 'semiárido', 'pecuária familiar', 'social cartography', 'inibição da nodulação', 'isatin', 'recurso genético vegetal', 'biological control', 'mitigation', 'puller', 'produção de biomassa', 'extratos vegetais', 'baturité', 'saccharum sp', 'cultivo in vitro', 'lippia alba', 'quilombolas - mato grosso', 'zea mays l.', 'consumo in natura', 'produção de mudas', 'rhizobium fleirei', 'hybrids', 'vigna unguiculata (l.) walp.', 'bioatividade', 'vitrificação', 'black soils', 'bibliometrics', 'floricultura', 'fig fruit fly', 'black foot disease', 'daucus carota l', 'ácidos húmicos', 'vigna unguiculata (l.) walp', 'faunistic biodiversity', 'pimentas', 'agricultura sustentável', 'expressão gênica', 'production', 'maracujazeiro', 'valor ‘b’', 'reconversão cultural', 'tegumento preto', 'marcadores issr', 'psidium guajava', 'cultivo da tangerina', 'educação', 'fishing', 'characterization', 'agricultura de montanha', 'latossolo', 'estande de tiro', 'consórcio', 'melhoramento genético', 'encapsulation-dehydration', 'campylobacter spp', 'phaseolus vulgaris l.', 'fulvic acid', 'área de proteção ambiental', 'fitorregulador', 'variabilidade', 'adubação', 'formicidae', 'vermicomposto', 'camponeses -- pará', 'indicadores', 'seca', 'blackberry.', 'plantas ornamentais', 'glycine max', 'agricultural chemicals', 'solos carbonáticos', 'mato grosso', 'viticultura', 'sociobiodiversidade', 'planossolos', 'zeolita', 'germplasm conservation', 'mosca do figo', 'sazonalidade', 'mecanismos de regeneração', 'amora-preta', 'helianthus annus l', 'sustainability', 'antropologia da alimentação', 'povos quilombolas', 'bactérias simbióticas', 'conservation unit', 'controle alternativo', 'currículo multiculturalista', 'plantas medicinais', 'task force', 'minerais', 'gênero', 'semi?rido', 'sustentabilidade', 'bioenergia', 'agroecologia', 'passivo ambiental', 'sistemas diversificados', 'soja', 'queima controlada', 'joaninhas afidófagas', 'frações solúveis', 'correlação genética', 'controle natural', 'quilombolas - marajó, ilha do (pa)', 'terra preta de índio', 'projeto pedagógico institucional', 'genes', 'melipona', 'criação racional', 'manejo orgânico', 'bactérias endofíticas. .', 'musa sp.', 'cratília', 'amendoim-forrageiro', 'apropriação', 'mato grosso - estado', 'seleção hospedeira', 'roças coivaras', 'zantedeschia', 'características morfológicas', 'perennial horsegram', 'metodologias participativas', 'transportador de nitrato de alta afinidade', 'rochas', 'humic substances', 'nematoide-anelado', 'mapeamento digital de solos', 'erosão do solo', 'sistemas de cultivo', 'potássio', 'rhinotermitidae', 'matocompetition', 'citrus spp', 'raiz lateral', 'sementes - conservação', 'extrato botânico', 'promoção de crescimento', 'recuperação florestal', 'serviços ecossistêmicos', 'alimentação escolar', 'pesca artesanal', 'soybean - seed', 'forest recovery', 'melhoramento de plantas', 'monte alegre', 'compostos indólicos, fixação biológica de nitrogênio, bactérias promotoras do crescimento vegetal', 'taxonomia', 'desbaste de rebentos', 'food security', 'mutirão', 'solos salinos', 'revegetação', 'metano', 'funções do solo', 'segurança alimentar e nutricional', 'solos hidromórficos', 'ethnozoology', 'asian ticktrefoil', 'índios tukúna – amazônia', 'biodiesel', 'tolerância a estresse', 'desfolha', 'fronteira', 'ring nematode', 'adaptation', 'pennisetum purpureum', 'padrões de agrupamento,', 'produção', 'saberes indígenas', 'hospedeiros', 'aglomerações produtivas', 'ácido fúlvico', 'luminosidade controlada', 'bibliometria', 'bancada ruralista', 'latosols', 'juvenil infetante', 'fertilizante orgânico', 'cutter', 'floricultura tropical', 'seletividade aos inimigos naturais', 'rural extension', 'soil tillage', 'vinasse', 'pinta preta dos citros', 'secondary forest management', 'formação técnica', 'conservação produtiva', 'bradyrhizobium sp.', 'saccharum spp.', 'plantio direto', 'agrossilvicultura - pará', 'quilombola', 'produção de auxina', 'glomeromycota. saccharum sp', 'análises filogenéticas', 'hunting', 'herbaspirillum', 'biocontrole de patógenos', 'vitrification', 'distância genética', 'lei 10.639/03', 'fungos associados a raízes', 'irradiação gama', 'conservação da natureza - amazônia', 'agronegócio', 'soberania alimentar - amazônia', 'genetic correlation', 'tratamento térmico', 'biomassa', 'adubação orgânica', 'productive conservation', 'perception', 'zoneamento', 'lírio', 'endófitos septados escuros', 'estoque de carbono no solo', 'recursos alimentares', 'etnobotânica', 'etnozoologia', 'absorção de nitrato', 'demarcações de terras indígenas', 'transportador de aminoácidos', 'desmatamento', 'fósforo acumulado', 'forest fires', 'crescimento', 'águas', 'aluminum toxicity', 'bradyrhizobium', 'isatina'}\n"
     ]
    }
   ],
   "source": [
    "# Area do conheciumento CNPq\n",
    "lista_excessoes = ['terras indígenas', 'conhecimento local indígena', 'índios da américa do sul - alimentos - amazônia', 'affirmative action',\n",
    "                   'feira de agricultura familiar', 'local knowledge', 'conflitos fundiários', 'conhecimento tradicional associado',\n",
    "                   'memória', 'quilombolas peoples', 'comunidade quilombola de itacoã-miri - acará (pa)', 'quilombo', 'comunidades tradicionais populares',\n",
    "                   'guarani m’bya', 'community quilombola','xavante', 'mulheres quilombolas', 'traditional popular communities', 'conhecimento ecológico tradicional'c,\n",
    "                   'negro (raça)', 'índios tikúna - alimentos', 'quilombolas - amazônia - alimentos', 'comunidades tradicionais', 'quilombolas - ilha do marajó',\n",
    "                   'quilombolas - mato grosso', 'povos quilombolas', 'quilombolas - marajó, ilha do (pa)', 'terra preta de índio', 'índios tukúna – amazônia']\n",
    "#df = AC_assunt[AC_assunt['Área do conhecimento CNPq'].apply(lambda x : 'agronomia' in x)]\n",
    "df = AC_assunt[AC_assunt.apply(lambda x : 'agronomia' in x['Área do conhecimento CNPq'] and \n",
    "                     all(elem not in x['Assuntos em português'] for elem in lista_excessoes),\n",
    "                       axis=1)]\n",
    "\n",
    "print(set(itertools.chain.from_iterable(df['Assuntos em português'])))\n",
    "\n",
    "# Assuntos em português 4734\n",
    "#data[AC_assunt['Assuntos em português'].apply(lambda x : 'slave' in x)][['Título', 'Assuntos em português', 'Assuntos em inglês']]\n",
    "\n",
    "# Assuntos em inglês\n",
    "#data[AC_assunt['Assuntos em inglês'].apply(lambda x : 'slave' in x)][['Título', 'Assuntos em português', 'Assuntos em inglês']]"
   ]
  },
  {
   "cell_type": "code",
   "execution_count": 15,
   "metadata": {},
   "outputs": [],
   "source": [
    "# Reset the index if needed\n",
    "data = data.reset_index(drop=True)\n",
    "\n",
    "# Salvando como csv\n",
    "path_to_dir_output = \"data\"\n",
    "data.to_csv(path_to_dir_output + \"/BDTD_Consolidado_feb2025.csv\", index=False)"
   ]
  },
  {
   "cell_type": "code",
   "execution_count": null,
   "metadata": {},
   "outputs": [],
   "source": []
  }
 ],
 "metadata": {
  "kernelspec": {
   "display_name": ".venv-IndigSlave",
   "language": "python",
   "name": "python3"
  },
  "language_info": {
   "codemirror_mode": {
    "name": "ipython",
    "version": 3
   },
   "file_extension": ".py",
   "mimetype": "text/x-python",
   "name": "python",
   "nbconvert_exporter": "python",
   "pygments_lexer": "ipython3",
   "version": "3.11.9"
  }
 },
 "nbformat": 4,
 "nbformat_minor": 2
}
