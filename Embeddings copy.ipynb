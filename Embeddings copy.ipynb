{
 "cells": [
  {
   "cell_type": "code",
   "execution_count": 3,
   "id": "7b388781",
   "metadata": {},
   "outputs": [],
   "source": [
    "#!pip install -U sentence-transformers"
   ]
  },
  {
   "cell_type": "code",
   "execution_count": 1,
   "id": "c9b011e5",
   "metadata": {},
   "outputs": [],
   "source": [
    "from sentence_transformers import SentenceTransformer\n",
    "from dotenv import load_dotenv\n",
    "import os\n",
    "from langchain_community.graphs import Neo4jGraph\n",
    "import pandas as pd"
   ]
  },
  {
   "cell_type": "code",
   "execution_count": 2,
   "id": "e7da78cd",
   "metadata": {},
   "outputs": [],
   "source": [
    "#Load sentence transformer model ('intfloat/multilingual-e5-large-instruct')\n",
    "model = SentenceTransformer('intfloat/multilingual-e5-large-instruct')"
   ]
  },
  {
   "cell_type": "code",
   "execution_count": 3,
   "id": "bab942ac",
   "metadata": {},
   "outputs": [],
   "source": [
    "# Each query must come with a one-sentence instruction that describes the task\n",
    "\n",
    "def get_detailed_instruct(task_description: str, query: str) -> str:\n",
    "    return f'Instruct: {task_description}\\nQuery: {query}'\n",
    "\n",
    "\n",
    "task = 'Dado uma query de busca na web, recupere trechos relevantes que respondam à consulta'\n",
    "queries = [\n",
    "    get_detailed_instruct(task, 'how much protein should a female eat'),\n",
    "    get_detailed_instruct(task, '南瓜的家常做法')\n",
    "]\n",
    "# No need to add instruction for retrieval documents\n",
    "documents = [\n",
    "    \"As a general guideline, the CDC's average requirement of protein for women ages 19 to 70 is 46 grams per day. But, as you can see from this chart, you'll need to increase that if you're expecting or training for a marathon. Check out the chart below to see how much protein you should be eating each day.\",\n",
    "    \"1.清炒南瓜丝 原料:嫩南瓜半个 调料:葱、盐、白糖、鸡精 做法: 1、南瓜用刀薄薄的削去表面一层皮,用勺子刮去瓤 2、擦成细丝(没有擦菜板就用刀慢慢切成细丝) 3、锅烧热放油,入葱花煸出香味 4、入南瓜丝快速翻炒一分钟左右,放盐、一点白糖和鸡精调味出锅 2.香葱炒南瓜 原料:南瓜1只 调料:香葱、蒜末、橄榄油、盐 做法: 1、将南瓜去皮,切成片 2、油锅8成热后,将蒜末放入爆香 3、爆香后,将南瓜片放入,翻炒 4、在翻炒的同时,可以不时地往锅里加水,但不要太多 5、放入盐,炒匀 6、南瓜差不多软和绵了之后,就可以关火 7、撒入香葱,即可出锅\"\n",
    "]\n",
    "input_texts = queries + documents"
   ]
  },
  {
   "cell_type": "code",
   "execution_count": 4,
   "id": "2921431d",
   "metadata": {},
   "outputs": [
    {
     "name": "stdout",
     "output_type": "stream",
     "text": [
      "[[90.71438598632812, 67.90845489501953], [71.38566589355469, 88.65879821777344]]\n"
     ]
    }
   ],
   "source": [
    "embeddings = model.encode(input_texts, convert_to_tensor=True, normalize_embeddings=True)\n",
    "scores = (embeddings[:2] @ embeddings[2:].T) * 100\n",
    "print(scores.tolist())"
   ]
  },
  {
   "cell_type": "markdown",
   "id": "5a58ed99",
   "metadata": {},
   "source": [
    "Connecting to Neo4j"
   ]
  },
  {
   "cell_type": "code",
   "execution_count": 5,
   "id": "089583da",
   "metadata": {},
   "outputs": [],
   "source": [
    "load_dotenv()\n",
    "\n",
    "# Neo4j variables\n",
    "NEO4J_URL = os.getenv(\"NEO4J_URL\")\n",
    "NEO4J_USERNAME =os.getenv(\"NEO4J_USERNAME\")\n",
    "NEO4J_PASSWORD = os.getenv(\"NEO4J_PASSWORD\")\n",
    "\n",
    "#Connecting to the graph\n",
    "graph = Neo4jGraph(\n",
    "    url=NEO4J_URL,\n",
    "    username=NEO4J_USERNAME,\n",
    "    password=NEO4J_PASSWORD\n",
    ")"
   ]
  },
  {
   "cell_type": "markdown",
   "id": "41fe5ecb",
   "metadata": {},
   "source": [
    "Criando embeddings para as teses"
   ]
  },
  {
   "cell_type": "code",
   "execution_count": 52,
   "id": "490a9a1a",
   "metadata": {},
   "outputs": [],
   "source": [
    "#Quering the thesis from graph unsing Cypher\n",
    "result = graph.query(\"\"\"\n",
    "MATCH (thesis:Thesis)\n",
    "WHERE (thesis.vector) IS NULL\n",
    "RETURN thesis.uri, thesis.title, thesis.abstract\n",
    "\"\"\")"
   ]
  },
  {
   "cell_type": "code",
   "execution_count": null,
   "id": "e1136635",
   "metadata": {},
   "outputs": [
    {
     "name": "stdout",
     "output_type": "stream",
     "text": [
      "Round  1\n",
      "Documents processed:  100\n",
      "Documents processed:  200\n",
      "Documents processed:  300\n",
      "Documents processed:  400\n",
      "Documents processed:  500\n",
      "Documents processed:  600\n",
      "Documents processed:  700\n",
      "Documents processed:  800\n",
      "Documents processed:  900\n",
      "Documents processed:  1000\n"
     ]
    }
   ],
   "source": [
    "for round in range(10):\n",
    "    print(\"Round \", round + 1)\n",
    "\n",
    "    #Quering the thesis from graph unsing Cypher\n",
    "    result = graph.query(\"\"\"\n",
    "    MATCH (thesis:Thesis)\n",
    "    WHERE (thesis.vector) IS NULL\n",
    "    RETURN thesis.uri, thesis.title, thesis.abstract\n",
    "    \"\"\")\n",
    "\n",
    "    ### Transformamos o resultado em um DataFrame e CSV.\n",
    "\n",
    "    try:\n",
    "        embedding_csv = pd.read_csv('data/embedding_abstr.csv') \n",
    "\n",
    "    except:\n",
    "        embedding_csv = pd.DataFrame(data={'uri':[], 'embeddings': []})\n",
    "\n",
    "    batch_size = 50\n",
    "    n = 0\n",
    "\n",
    "    texts_list = []\n",
    "    thesis_uri = []\n",
    "    embeddings = []\n",
    "\n",
    "    for thesis in result[:250]:\n",
    "        n = n + 1   \n",
    "\n",
    "        texts_list.append(str(thesis['thesis.title']) + '\\n   \\n' + str(thesis['thesis.abstract']))\n",
    "        thesis_uri.append(thesis['thesis.uri'])\n",
    "\n",
    "        if n % batch_size == 0:\n",
    "            print (\"Documents processed: \", n)\n",
    "            embs_list = model.encode(texts_list, convert_to_tensor=True, normalize_embeddings=True).tolist()\n",
    "\n",
    "            for i in range(len(thesis_uri)):\n",
    "                embeddings.append(embs_list[i])\n",
    "\n",
    "            embedding_csv_batch = pd.DataFrame(data={'uri':thesis_uri, 'embeddings': embeddings})\n",
    "            embedding_csv = pd.concat([embedding_csv, embedding_csv_batch], ignore_index=True)\n",
    "            embedding_csv.to_csv('data/embedding_abstr.csv', index=False)\n",
    "\n",
    "            texts_list = []\n",
    "            thesis_uri = []\n",
    "            embeddings = []\n",
    "\n",
    "    if embeddings != []:\n",
    "        print (\"Documents processed: \", n)\n",
    "        embs_list = model.encode(texts_list, convert_to_tensor=True, normalize_embeddings=True).tolist()\n",
    "\n",
    "        for i in range(len(thesis_uri)):\n",
    "            embeddings.append(embs_list[i])\n",
    "\n",
    "        embedding_csv_batch = pd.DataFrame(data={'uri':thesis_uri, 'embeddings': embeddings})\n",
    "        embedding_csv = pd.concat([embedding_csv, embedding_csv_batch], ignore_index=True)\n",
    "        embedding_csv.to_csv('data/embedding_abstr.csv', index=False)\n",
    "\n",
    "    # Usando cypher para ler o arquivo CSV\n",
    "    graph.query(\"\"\"\n",
    "        LOAD CSV WITH HEADERS\n",
    "        FROM 'file:///C:/Users/facordei/OneDrive%20-%20Capgemini/Documents/GitHub/Indigenous-Slavery-KG/data/embedding_abstr.csv' AS row\n",
    "        MATCH (n:Thesis) Where n.uri = row.uri\n",
    "        CALL db.create.setNodeVectorProperty(n, 'vector', apoc.convert.fromJsonList(row.embeddings))\n",
    "        \"\"\")\n",
    "    \n",
    "    # deletando o arquivo CSV\n",
    "    \n",
    "    os.remove('data/embedding_abstr.csv')\n"
   ]
  },
  {
   "cell_type": "code",
   "execution_count": null,
   "id": "0d970336",
   "metadata": {},
   "outputs": [
    {
     "data": {
      "text/plain": [
       "[]"
      ]
     },
     "execution_count": 54,
     "metadata": {},
     "output_type": "execute_result"
    }
   ],
   "source": [
    "# Usando cypher para ler o arquivo CSV\n",
    "#graph.query(\"\"\"\n",
    "#    LOAD CSV WITH HEADERS\n",
    "#    FROM 'file:///C:/Users/facordei/OneDrive%20-%20Capgemini/Documents/GitHub/Indigenous-Slavery-KG/data/embedding_abstr.csv' AS row\n",
    "#    MATCH (n:Thesis) Where n.uri = row.uri\n",
    "#    CALL db.create.setNodeVectorProperty(n, 'vector', apoc.convert.fromJsonList(row.embeddings))\n",
    "#    \"\"\")"
   ]
  },
  {
   "cell_type": "markdown",
   "id": "e2f21c9c",
   "metadata": {},
   "source": [
    "Criando embedding para as páginas (Excerpts)"
   ]
  },
  {
   "cell_type": "code",
   "execution_count": null,
   "id": "bb159b9c",
   "metadata": {},
   "outputs": [],
   "source": [
    "#Quering the excerpts from graph unsing Cypher\n",
    "#result = graph.query(\"\"\"\n",
    "#MATCH (excerpt:Excerpt)\n",
    "#WHERE (excerpt.vector) IS NULL\n",
    "#RETURN excerpt.uri, excerpt.description\n",
    "#\"\"\")"
   ]
  },
  {
   "cell_type": "code",
   "execution_count": null,
   "id": "2126428d",
   "metadata": {},
   "outputs": [],
   "source": []
  },
  {
   "cell_type": "markdown",
   "id": "9ed8892e",
   "metadata": {},
   "source": [
    "Criando ídice para os vetores"
   ]
  },
  {
   "cell_type": "code",
   "execution_count": 66,
   "id": "1b2ed932",
   "metadata": {},
   "outputs": [
    {
     "data": {
      "text/plain": [
       "[]"
      ]
     },
     "execution_count": 66,
     "metadata": {},
     "output_type": "execute_result"
    }
   ],
   "source": [
    "# Criando um indice de vetores\n",
    "\n",
    "dimension = len(model.encode(['texto de teste'], convert_to_tensor=True, normalize_embeddings=True)[0])\n",
    "model.encode(texts_list, convert_to_tensor=True, normalize_embeddings=True)\n",
    "\n",
    "# Criando uma label \"Document\" para os nós \"Thesis\" e \"Excerpt\"\n",
    "graph.query(\"\"\"\n",
    "    match (n:Thesis|Excerpt) SET n:Document\n",
    "    \"\"\")\n",
    "\n",
    "# Creating a vector index\n",
    "graph.query(\"\"\"\n",
    "    CREATE VECTOR INDEX vector_search IF NOT EXISTS\n",
    "    FOR (n:Document)\n",
    "    ON n.vector\n",
    "    OPTIONS {indexConfig: {\n",
    "    `vector.dimensions`: \"\"\" + str(dimension) + \"\"\",\n",
    "    `vector.similarity_function`: 'cosine'}}\n",
    "    \"\"\")"
   ]
  },
  {
   "cell_type": "code",
   "execution_count": null,
   "id": "1a6ca323",
   "metadata": {},
   "outputs": [],
   "source": [
    "# Criando o indice Full Text"
   ]
  },
  {
   "cell_type": "markdown",
   "id": "0a6c79d2",
   "metadata": {},
   "source": [
    "Buscando teses com vetores similares a um determinado texto"
   ]
  },
  {
   "cell_type": "code",
   "execution_count": 89,
   "id": "055b7f6d",
   "metadata": {},
   "outputs": [
    {
     "name": "stdout",
     "output_type": "stream",
     "text": [
      "Instruct: Dado uma query de busca na web, recupere trechos relevantes que respondam à consulta\n",
      "Query: O que é Bandeirologia?\n"
     ]
    }
   ],
   "source": [
    "#texto que será usado na busca\n",
    "#query_text = 'Nelson Mandela'\n",
    "personagem = 'Abdias Nascimento'\n",
    "query_text = 'Quem trabalhou com ' + personagem + ' ?'\n",
    "query_text = 'O que é Bandeirologia?'\n",
    "detailed_query = [get_detailed_instruct(task, query_text)]\n",
    "print (detailed_query[0])\n",
    "# Transformando as query em vetor\n",
    "query_embedding = model.encode(detailed_query, convert_to_tensor=True, normalize_embeddings=True)[0].tolist()"
   ]
  },
  {
   "cell_type": "code",
   "execution_count": 90,
   "id": "869ef84b",
   "metadata": {},
   "outputs": [
    {
     "data": {
      "text/plain": [
       "[{'score': 0.9332412481307983,\n",
       "  'node.title': 'O bandeirismo não é apenas um tema do passado: bandeirantes, entradas e bandeiras na construção historiográfica no Curso de Bandeirologia (1946)',\n",
       "  'node.abstract': 'Este trabalho dissertativo visa analisar o material de divulgação intitulado Curso de Bandeirologia publicado em 1946. Oriundo de doze conferências públicas relacionadas ao tema das entradas e bandeiras, realizadas no mesmo ano, na cidade de São Paulo, o evento por situar-se em um novo momento político da história do país evidencia uma tentativa por meio de novas formas de divulgação, de repensar a imagem do bandeirante não apenas como um herói, mas como personagem responsável pelos primeiros passos da formação de diferentes estados brasileiros. O material contém os discursos de historiadores de renome nos estudos brasileiros: Afonso de Taunay, Alfredo Ellis Júnior, Sérgio Buarque de Holanda, Virgílio Correa Filho, Joaquim Ribeiro e Afonso Arinos de Melo Franco, letrados reconhecidos no meio intelectual, que possuíam como característica em comum, trabalhos produzidos referentes ao tema das bandeiras. Para compreender e averiguar melhor os discursos proferidos neste material, o presente trabalho procura estabelecer uma contextualização do cenário político e intelectual das quais estes letrados estavam inseridos e o círculo de publicações que vigorava a partir da década de 1930, assim como, a apresentação dos autores que em 1946 fariam parte do material publicado buscando caracterizar a trajetória intelectual e acadêmica, as participações no meio político e os trabalhos produzidos referentes ao tema das bandeiras paulistas. O diálogo entre as hipóteses defendidas por estes intelectuais através de chaves temáticas como a formação do território, a relação entre bandeirantes, indígenas e jesuítas, e a imagem heroicizada do homem sertanista também fazem parte desta pesquisa com a finalidade de compreender as principais ideias proferidas no Curso de Bandeirologia. Para possibilitar o cumprimento dos objetivos desta dissertação, algumas fontes do período foram mobilizadas, com destaque para os noticiários dos jornais do Rio de Janeiro e São Paulo que divulgaram as conferências durante toda a realização do evento.',\n",
       "  'node.description': None},\n",
       " {'score': 0.9010668992996216,\n",
       "  'node.title': 'Como fazer santas e sereias: imaginária de umbanda, design e sociedade',\n",
       "  'node.abstract': 'The religious images used by Umbanda, a Brazilian religion characterized by the presence of elements of indigenous, African and European cultures, are generally represented by semi-industrial three- bimensionaI reprobgctions in pIaster. AIthoggh we finb in the imagery of umbanda representations of idealized types of national identity, adoptions and adaptations of foreign iconographic models are evident. Understanding these images as a material culture, this dissertation proposes an analysis of this iconography considering its sociaI contexts anb the inflgence of besign, throggh images of mass consumption, in the construction of its particular imaginary.||As imagens religiosas utilizadas pela Umbanda, religião brasileira caracterizada pela presença de elementos das culturas indígena, africana e europeia, configuram-se de maneira geral em reproduções tridimensionais em gesso de fatura semi-industrial. Apesar de encontrarmos na imaginária de umbanda representações de tipos idealizados da identidade nacional, adoções e adaptações de modelos iconográficos estrangeiros são evidentes. Compreendendo essas imagens enquanto cultura material, a presente dissertação de mestrado propões uma análise dessa iconografia considerando seus contextos sociais e a influência do design, por meio de imagens de consumo de massa, na construção de seu imaginário particular.',\n",
       "  'node.description': None},\n",
       " {'score': 0.9001696109771729,\n",
       "  'node.title': 'Pardos livres em um campo de tensões: milícia, trabalho e poder (São Paulo, 1797-1831)',\n",
       "  'node.abstract': 'A tese versa sobre os milicianos pardos de São Paulo que atuaram no Regimento dos Úteis (1797-1831). As milícias de pardos e de pretos remontam ao século XVII e se caracterizaram como uma força militar fundamental para o Estado e um canal de expressão social e política para os seus integrantes até serem extintas, em 1831. Os problemas de que trata se desdobram em três eixos articulados entre si, a saber, a história militar, social e política. No primeiro deles, se examina a milícia parda em meio à estrutura militar colonial e à trajetória das milícias de cor luso-brasileiras. Ademais, aborda-se a sua estrutura de funcionamento e o seu papel nas atividades militares paulistas. O segundo eixo explora a origem e a condição social dos milicianos pardos, com destaque para as questões da formação do grupo de pardos livres e libertos, a vinculação dos milicianos a formas de trabalho compulsório e aos universos indígena, africano e mestiço, e a formação de famílias. Trata, igualmente, da condição socioeconômica dos milicianos, atentando para seu perfil ocupacional, níveis de riqueza e posse de escravos. Finalmente, o terceiro eixo considera a articulação da milícia com a política e encara o universo militar como um campo de tensões. Nele os problemas da oficialidade de cor e da existência dos seus corpos militares, fundamentais para a compreensão da atuação da milícia parda na conjuntura da independência em São Paulo, são examinados a partir das dimensões entrelaçadas do Estado, das autoridades militares locais, da competição entre oficiais brancos e pardos, e das relações de poder internas à milícia parda. A sociologia eliasiana constitui o principal referencial teórico e a tese se ampara em farta e diversificada documentação primária, com destaque para as listas nominativas, fontes paroquiais e especialmente os registros produzidos a partir das atividades cotidianas da milícia, tais como os requerimentos e o livro de matrícula dos milicianos pardos de São Paulo.',\n",
       "  'node.description': None},\n",
       " {'score': 0.8999924659729004,\n",
       "  'node.title': 'O barro, o genipapo e o giz no fazer epistemológico de autoria Xakriabá : reativação da memória por uma educação territorializada',\n",
       "  'node.abstract': 'Dissertação (mestrado) — Universidade de Brasília, Centro de Desenvolvimento Sustentável, Departamento de Antropologia, Faculdade de Educação, Faculdade UnB Planaltina, Instituto de Ciências Sociais, 2018.',\n",
       "  'node.description': None},\n",
       " {'score': 0.8991104960441589,\n",
       "  'node.title': 'Caderno, tranças, flechas e atabaques : a escola pluricultural Odé Kayodé sob uma ótica decolonial complexa, transdisciplinar, intercultural e criativa',\n",
       "  'node.abstract': 'Esta pesquisa parte da seguinte problemática: a Escola Pluricultural Odé Kayodê tem características de criatividade e interculturalidade sob uma ótica decolonial, complexa e transdisciplinar? Desde esta questão, foi realizado um estudo de caso que teve por objetivo analisar se/porque/como a Escola Pluricultural Odé Kayodê apresenta características de ser uma escola criativa e intercultural em perspectiva decolonial, complexa e transdisciplinar. A instituição estudada é particular comunitária, situada na Cidade de Goiás – GO, e se referencia nas culturas de matriz africana e indígena para pensar todas as suas dimensões. Concebido desde a abordagem qualitativa de pesquisa, o estudo utilizou análise documental, observação, entrevistas semiestruturadas, rodas de conversa, registros fotográficos e Diário de Campo para explorar fontes de evidências diversas e construir dados sobre a realidade investigada a serem analisados a partir das categorias presentes no Instrumento para Valorar o Desenvolvimento de Instituições Criativas (VADECRIE), vinculando a investigação à Rede Internacional de Escolas Criativas – RIEC. A fim de sustentar as análises e contornar a construção epistemológica do trabalho discutimos de modo central referenciais teóricos sobre colonialidade, decolonialidade, estudos culturais, complexidade, transdisciplinaridade, interculturalidade crítica e criatividade. Partimos de autores como Aníbal Quijano, Walter Mignolo, Raymond Williams, Tomaz Tadeu da Silva, Edgar Morin, Maria Cândida Moraes, Basarab Nicolescu, Vera Maria Candau, Catherine Walsh, Marilza Suanno, João Henrique Suanno e Saturnino de la Torre para propor um trançado teórico que ajuda a pensar a realidade investigada e a redimensionar as categorias de análise do VADECRIE a partir do entrelaçamento circular de decolonialidade, complexidade, transdisciplinaridade, interculturalidade crítica e criatividade. Assim, são apresentadas dez categorias de análise que permitem entender a Escola Pluricultural Odé Kayodê como uma instituição educativa com alto potencial criativo e intercultural em perspectiva complexa, transdisciplinar e intercultural, mesmo em meio a diversas tensões e incoerências internas. As categorias são: liderança estimuladora e criativa; professorado criativo; cultura inovadora, criatividade como valor; espírito empreendedor; visão transdisciplinar e transformadora; currículo polivalente; metodologia inovadora; avaliação formadora e transformadora; valores humanos, sociais e meio ambientais. A presença destas dimensões na escola estudada se apresenta como resultado da pesquisa. Mas além disto, o estudo de caso contribui para perceber de modo subjacente e atravessado a todas as categorias de análise uma proposta educativa pensada na perspectiva da roda, da circularidade emergente desde as culturas africanas, indígenas e afro-brasileiras a inspirar a organização da escola em todas as suas dimensões. São as diferenças culturais que tecem as características criativas e interculturais da escola em uma perspectiva decolonial, complexa e transdisciplinar. Portanto, consideramos que conceber as diferenças culturais como potência é um fator central para potencializar reinvenção de escolas em diferentes contextos. Além disto, entendemos que o estudo contribui para fortalecer as relações teóricas propostas, de modo a possibilitar outras pesquisas que se aprofundem nas proposições aqui presentes.',\n",
       "  'node.description': None},\n",
       " {'score': 0.8984817266464233,\n",
       "  'node.title': 'A iconografia cerâmica como marcador identitário dos grupos Tupiguarani em Pernambuco',\n",
       "  'node.abstract': 'A iconografia cerâmica presente nos contextos sociais e ritualísticos dos grupos humanos pré-históricos sempre foi resultado de uma construção cultural e, por ser representada na cultura material e no corpo como suporte, foi vista como uma forma de linguagem, uma transmissão de mensagem através de símbolos específicos. Na pesquisa realizada, a iconografia que decorava os vasos dos grupos ceramistas pré-históricos de Pernambuco foi estudada com o objetivo de demonstrar como isso foi o reflexo de uma adaptação que associava elementos estilísticos e simbólicos e que compõe o caráter identitário cultural Tupiguarani. Para isto, foi analisada uma coleção de fragmentos referente a quinze sítios situados no Litoral/Zona da Mata, Agreste e Sertão pernambucano com o intuito de responder ao questionamento sobre como identificar nestes objetos os elementos que compõem o estilo Tupiguarani. Como hipótese, se afirma que o conjunto de elementos técnicos que compõem a confecção e decoração da cerâmica, bem como as escolhas do ceramista em buscar obedecer a uma regularidade foi o que representou este estilo. A metodologia utilizada obedeceu aos critérios de análise das variáveis técnico-morfológicas e decorativas para a construção do perfil estilístico, o que nos permitiu identificar os processos de confecção e decoração da cerâmica, bem como construir um panorama dos motivos iconográficos através da reconstituição por meio digital e comparação dos motivos Tupiguarani identificados por diferentes pesquisadores. Os resultados indicam predominância de aspectos decorativos semelhantes e diferentes entre as mesorregiões de Pernambuco, o que caracteriza possíveis identidades regionais, porém, de um modo geral com base no que dita e determina culturalmente esta tradição cultural. Por fim, não buscamos identificar o significado dos motivos iconográficos, mas sim ressaltar que os elementos técnicos associados aos possíveis significados simbólicos contidos na cerâmica foram utilizados tanto como forma de manter uma comunicação visual, como marcar a identidade destes indivíduos.',\n",
       "  'node.description': None},\n",
       " {'score': 0.8982261419296265,\n",
       "  'node.title': 'Kitharentsi : a arte da tecelagem das mulheres ashaninka',\n",
       "  'node.abstract': 'Dissertação (mestrado) — Universidade de Brasília, Centro de Desenvolvimento Sustentável, Departamento de Antropologia, Faculdade de Educação, Faculdade UnB Planaltina, Instituto de Ciências Sociais, 2019.',\n",
       "  'node.description': None},\n",
       " {'score': 0.8982235193252563,\n",
       "  'node.title': 'Os caminhos da meditação: estudo histórico, filosófico e técnico sobre a meditação, desde Índia e Tibete, até sua chegada ao Brasil',\n",
       "  'node.abstract': 'No abstract.',\n",
       "  'node.description': None},\n",
       " {'score': 0.8980414271354675,\n",
       "  'node.title': 'O movimento mẽbêngôkre : andando, nomeando e assentando sobre a terra',\n",
       "  'node.abstract': 'Dissertação (mestrado)—Universidade de Brasília, Instituto de Ciências Sociais, Departamento de Antropologia, Programa de Pós-Graduação em Antropologia Social, 2018.',\n",
       "  'node.description': None},\n",
       " {'score': 0.8974562883377075,\n",
       "  'node.title': 'Os murais zapatistas e a estética tzotzil: pessoa, política e território em Polhó, México',\n",
       "  'node.abstract': 'Esta dissertação é um estudo etnográfico sobre a arte mural zapatista. Os murais com os quais trabalhamos se encontram pintados nas paredes dos edifícios públicos que abrigam as atividades organizativas do movimento. À pesquisa interessa perseguir uma filosofia do aparecimento entre os índios tzotziles de San Pedro Polhó. Nela, nos questionamos pelo estatuto da arte mural difundida pelos territórios autônomos buscando nos encontrar com a sua eficácia estética a partir de uma criatividade nativa, sob o olhar dos sanpedrinos. A pergunta central que a organiza é o que faz um mural zapatista?. Atentaremos, para isso, para o modo em que os tzotziles de San Pedro o entendem. Argumentamos que a arte mural é vista como uma técnica de variação ontológica e de produção da unidade virtual do movimento zapatista, indicando um acoplamento entre pessoas e a possibilidade da conjunção, o que permite que o zapatismo seja entendido como uma comunidade estendida. Neste contexto, o mural faz aparecer a condição zapatista, resultando e ativando relações ao torná-las visíveis. O território autônomo se configura, então, como uma rede de lugares, pontos em que os zapatistas emergem e podem encontra-se com outros zapatistas a partir de uma filosofia da assemelhação.',\n",
       "  'node.description': None}]"
      ]
     },
     "execution_count": 90,
     "metadata": {},
     "output_type": "execute_result"
    }
   ],
   "source": [
    "# Buscando no índice de vetores \n",
    "result = graph.query(\"\"\"\n",
    "    CALL db.index.vector.queryNodes('vector_search', 300, \"\"\" + str(query_embedding) + \"\"\")\n",
    "    YIELD node, score\n",
    "    RETURN score, node.title, node.abstract, node.description\n",
    "    LIMIT 10\n",
    "    \"\"\")\n",
    "result"
   ]
  },
  {
   "cell_type": "code",
   "execution_count": null,
   "id": "3ca9e600",
   "metadata": {},
   "outputs": [],
   "source": []
  },
  {
   "cell_type": "code",
   "execution_count": 9,
   "id": "735f283e",
   "metadata": {},
   "outputs": [],
   "source": [
    "from transformers import TFBertModel\n",
    "from transformers import AutoTokenizer, BertModel\n",
    "import os\n",
    "os.environ['CURL_CA_BUNDLE'] = ''\n",
    "import torch\n",
    "from dotenv import load_dotenv\n",
    "from langchain_community.graphs import Neo4jGraph\n",
    "import json\n",
    "import pandas as pd\n",
    "from openai import AzureOpenAI\n",
    "\n",
    "#from azure.identity import DefaultAzureCredential, get_bearer_token_provider  "
   ]
  },
  {
   "cell_type": "markdown",
   "id": "71442afb",
   "metadata": {},
   "source": [
    "Using Azure OpenAI embedding models"
   ]
  },
  {
   "cell_type": "code",
   "execution_count": 10,
   "id": "27be36e7",
   "metadata": {},
   "outputs": [],
   "source": [
    "#client_small = AzureOpenAI(\n",
    "#  api_key = os.getenv(\"OPENAI_API_KEY\"),\n",
    "#  azure_endpoint = os.getenv(\"EMBEDDING_SMALL_ENDPOINT\"),\n",
    "#  api_version = os.getenv(\"API_VERSION\"))\n"
   ]
  },
  {
   "cell_type": "code",
   "execution_count": 11,
   "id": "60dde76d",
   "metadata": {},
   "outputs": [],
   "source": [
    "client_large = AzureOpenAI(\n",
    "  api_key = os.getenv(\"OPENAI_API_KEY\"),\n",
    "  azure_endpoint = os.getenv(\"EMBEDDING_LARGE_ENDPOINT\"),\n",
    "  api_version = os.getenv(\"API_VERSION\"))"
   ]
  },
  {
   "cell_type": "code",
   "execution_count": 12,
   "id": "7b49df14",
   "metadata": {},
   "outputs": [],
   "source": [
    "# The function receives a sencence and returns the embedding (1D numpy array)\n",
    "def get_embeddings_openAI(text):\n",
    "    #model = \"text-embedding-3-small\"\n",
    "    #embedding_small = client_small.embeddings.create(input = text, model=model)\n",
    "    #return embedding_small.data\n",
    "    model = \"text-embedding-3-large\"\n",
    "    embedding_large = client_large.embeddings.create(input = text, model=model)\n",
    "    return embedding_large.data\n"
   ]
  },
  {
   "cell_type": "markdown",
   "id": "d806df4d",
   "metadata": {},
   "source": [
    "Load BERT Model (later we can change to other model)"
   ]
  },
  {
   "cell_type": "code",
   "execution_count": 5,
   "id": "0116e839",
   "metadata": {},
   "outputs": [],
   "source": [
    "# Choose the pretrained model\n",
    "#model_checkpoint = 'bert-base-multilingual-cased' #'bert-base-multilingual-cased'   #'google/bert_uncased_L-2_H-128_A-2' (Tiny BERT)\n",
    "# Max number of tokens in the sentence\n",
    "#max_length= 512 #512 #128\n",
    "\n",
    "# Load tokenizer\n",
    "#tokenizer = AutoTokenizer.from_pretrained(model_checkpoint, model_max_length= max_length)\n",
    "\n",
    "# Load the model\n",
    "#bert_model = TFBertModel.from_pretrained(model_checkpoint, from_pt=True)\n",
    "#bert_model = BertModel.from_pretrained(model_checkpoint)"
   ]
  },
  {
   "cell_type": "code",
   "execution_count": null,
   "id": "d574722f",
   "metadata": {},
   "outputs": [],
   "source": [
    "# The function receives a sencence and returns the embedding (1D numpy array)\n",
    "#def get_embeddings(text):\n",
    "#  input_ids = torch.tensor(tokenizer.encode(text, add_special_tokens=True, truncation=True)).unsqueeze(0)  # Batch size 1\n",
    "#  outputs = bert_model(input_ids)\n",
    "#  last_hidden_states = outputs[0]\n",
    "#  pooler_output = torch.mean(last_hidden_states, dim=1) \n",
    "#  return(pooler_output.detach().numpy()[0].tolist())"
   ]
  },
  {
   "cell_type": "markdown",
   "id": "153e0121",
   "metadata": {},
   "source": [
    "Connecting to Neo4j"
   ]
  },
  {
   "cell_type": "code",
   "execution_count": 13,
   "id": "c59d645c",
   "metadata": {},
   "outputs": [],
   "source": [
    "load_dotenv()\n",
    "\n",
    "# Neo4j variables\n",
    "NEO4J_URL = os.getenv(\"NEO4J_URL\")\n",
    "NEO4J_USERNAME =os.getenv(\"NEO4J_USERNAME\")\n",
    "NEO4J_PASSWORD = os.getenv(\"NEO4J_PASSWORD\")\n",
    "\n",
    "#Connecting to the graph\n",
    "graph = Neo4jGraph(\n",
    "    url=NEO4J_URL,\n",
    "    username=NEO4J_USERNAME,\n",
    "    password=NEO4J_PASSWORD\n",
    ")"
   ]
  },
  {
   "cell_type": "markdown",
   "id": "e9d9f92c",
   "metadata": {},
   "source": [
    "Criando embeddings para as teses"
   ]
  },
  {
   "cell_type": "code",
   "execution_count": 7,
   "id": "840cc0b8",
   "metadata": {},
   "outputs": [],
   "source": [
    "#Quering the thesis from graph unsing Cypher\n",
    "result = graph.query(\"\"\"\n",
    "MATCH (thesis:Thesis)\n",
    "RETURN thesis.uri, thesis.title, thesis.abstract\n",
    "\"\"\")"
   ]
  },
  {
   "cell_type": "code",
   "execution_count": 137,
   "id": "860e2870",
   "metadata": {},
   "outputs": [
    {
     "name": "stdout",
     "output_type": "stream",
     "text": [
      "Batch number:  3\n",
      "Batch number:  6\n",
      "Batch number:  9\n",
      "Batch number:  12\n"
     ]
    }
   ],
   "source": [
    "### Transformamos o resultado em um DataFrame e CSV.\n",
    "\n",
    "try:\n",
    "    embedding_csv = pd.read_csv('data/embedding_openai_1.csv') \n",
    "    #with open('data/embeddings_BERT.json', 'r') as fp:\n",
    "    #with open('data/embeddings_openai.json', 'r') as fp:\n",
    "    #    dic_embeddings = json.load(fp)\n",
    "\n",
    "except:\n",
    "    embedding_csv = pd.DataFrame(data={'uri':[], 'embeddings': []})\n",
    "    #dic_embeddings = {}\n",
    "\n",
    "batch_size = 3\n",
    "n = 0\n",
    "\n",
    "texts_list = []\n",
    "thesis_uri = []\n",
    "embeddings = []\n",
    "\n",
    "for thesis in result[:12]:\n",
    "    n = n + 1   \n",
    "\n",
    "    texts_list.append(str(thesis['thesis.title']) + '\\n   \\n' + str(thesis['thesis.abstract']))\n",
    "    thesis_uri.append(thesis['thesis.uri'])\n",
    "\n",
    "    if n % batch_size == 0:\n",
    "        print (\"Batch number: \", n)\n",
    "        embs_list = get_embeddings_openAI(texts_list)\n",
    "\n",
    "        for i in range(len(thesis_uri)):\n",
    "            #dic_embeddings[thesis_uri[i]] = embs_list[i].embedding\n",
    "            embeddings.append(embs_list[i].embedding)\n",
    "\n",
    "        #with open('data/embeddings_BERT.json', 'w') as fp:\n",
    "        #with open('data/embeddings_openai.json', 'w') as fp:\n",
    "        #    json.dump(dic_embeddings, fp)\n",
    "\n",
    "        embedding_csv_batch = pd.DataFrame(data={'uri':thesis_uri, 'embeddings': embeddings})\n",
    "        embedding_csv = pd.concat([embedding_csv, embedding_csv_batch], ignore_index=True)\n",
    "        embedding_csv.to_csv('data/embedding_openai_1.csv', index=False)\n",
    "        #embedding_csv.to_csv('data/embedding_BERT.csv', index=False)\n",
    "\n",
    "        texts_list = []\n",
    "        thesis_uri = []\n",
    "        embeddings = []\n",
    "\n",
    "if embeddings != []:\n",
    "    print (\"Batch number: \", n)\n",
    "    embs_list = get_embeddings_openAI(texts_list)\n",
    "\n",
    "    for i in range(len(thesis_uri)):\n",
    "        #dic_embeddings[thesis_uri[i]] = embs_list[i].embedding\n",
    "        embeddings.append(embs_list[i].embedding)\n",
    "\n",
    "    #with open('data/embeddings_BERT.json', 'w') as fp:\n",
    "    #with open('data/embeddings_openai.json', 'w') as fp:\n",
    "    #    json.dump(dic_embeddings, fp)\n",
    "\n",
    "    embedding_csv_batch = pd.DataFrame(data={'uri':thesis_uri, 'embeddings': embeddings})\n",
    "    embedding_csv = pd.concat([embedding_csv, embedding_csv_batch], ignore_index=True)\n",
    "    embedding_csv.to_csv('data/embedding_openai_1.csv', index=False)\n",
    "    #embedding_csv.to_csv('data/embedding_BERT.csv', index=False)"
   ]
  },
  {
   "cell_type": "code",
   "execution_count": null,
   "id": "8fe68aef",
   "metadata": {},
   "outputs": [],
   "source": [
    "# Usando cypher para ler o arquivo CSV\n",
    "graph.query(\"\"\"\n",
    "    LOAD CSV WITH HEADERS\n",
    "    FROM 'file:///C:/Users/facordei/OneDrive%20-%20Capgemini/Documents/GitHub/Indigenous-Slavery-KG/data/embedding_openai.csv' AS row\n",
    "    MATCH (n:Thesis) Where n.uri = row.uri\n",
    "    CALL db.create.setNodeVectorProperty(n, 'embedding_openai', apoc.convert.fromJsonList(row.embeddings))\n",
    "    \"\"\")"
   ]
  },
  {
   "cell_type": "markdown",
   "id": "795770f0",
   "metadata": {},
   "source": [
    "Criando embedding para as páginas (Excerpts)"
   ]
  },
  {
   "cell_type": "code",
   "execution_count": 14,
   "id": "5f4a5394",
   "metadata": {},
   "outputs": [],
   "source": [
    "#Quering the excerpts from graph unsing Cypher\n",
    "result = graph.query(\"\"\"\n",
    "MATCH (excerpt:Excerpt)\n",
    "RETURN excerpt.uri, excerpt.description\n",
    "\"\"\")"
   ]
  },
  {
   "cell_type": "code",
   "execution_count": 16,
   "id": "2796900a",
   "metadata": {},
   "outputs": [
    {
     "name": "stdout",
     "output_type": "stream",
     "text": [
      "Batch number:  100\n",
      "Batch number:  200\n",
      "Batch number:  300\n",
      "Batch number:  400\n",
      "Batch number:  500\n",
      "Batch number:  600\n",
      "Batch number:  700\n",
      "Batch number:  800\n",
      "Batch number:  900\n",
      "Batch number:  1000\n",
      "Batch number:  1100\n",
      "Batch number:  1200\n",
      "Batch number:  1300\n",
      "Batch number:  1400\n",
      "Batch number:  1500\n",
      "Batch number:  1600\n",
      "Batch number:  1700\n",
      "Batch number:  1800\n",
      "Batch number:  1900\n",
      "Batch number:  2000\n",
      "Batch number:  2100\n"
     ]
    }
   ],
   "source": [
    "### Transformamos o resultado em um DataFrame e CSV.\n",
    "\n",
    "try:\n",
    "    embedding_csv = pd.read_csv('data/embedding_openai_excerpts.csv') \n",
    "    #with open('data/embeddings_BERT.json', 'r') as fp:\n",
    "    #with open('data/embeddings_openai.json', 'r') as fp:\n",
    "    #    dic_embeddings = json.load(fp)\n",
    "\n",
    "except:\n",
    "    embedding_csv = pd.DataFrame(data={'uri':[], 'embeddings': []})\n",
    "    #dic_embeddings = {}\n",
    "\n",
    "batch_size = 100\n",
    "n = 0\n",
    "\n",
    "texts_list = []\n",
    "excerpt_uri = []\n",
    "embeddings = []\n",
    "\n",
    "for excerpt in result:\n",
    "    n = n + 1   \n",
    "\n",
    "    texts_list.append(str(excerpt['excerpt.description']))\n",
    "    excerpt_uri.append(excerpt['excerpt.uri'])\n",
    "\n",
    "    if n % batch_size == 0:\n",
    "        print (\"Batch number: \", n)\n",
    "        embs_list = get_embeddings_openAI(texts_list)\n",
    "\n",
    "        for i in range(len(excerpt_uri)):\n",
    "            #dic_embeddings[excerpt_uri[i]] = embs_list[i].embedding\n",
    "            embeddings.append(embs_list[i].embedding)\n",
    "\n",
    "        #with open('data/embeddings_BERT.json', 'w') as fp:\n",
    "        #with open('data/embeddings_openai.json', 'w') as fp:\n",
    "        #    json.dump(dic_embeddings, fp)\n",
    "\n",
    "        embedding_csv_batch = pd.DataFrame(data={'uri':excerpt_uri, 'embeddings': embeddings})\n",
    "        embedding_csv = pd.concat([embedding_csv, embedding_csv_batch], ignore_index=True)\n",
    "        embedding_csv.to_csv('data/embedding_openai_excerpts.csv', index=False)\n",
    "        #embedding_csv.to_csv('data/embedding_BERT.csv', index=False)\n",
    "\n",
    "        texts_list = []\n",
    "        excerpt_uri = []\n",
    "        embeddings = []\n",
    "\n",
    "if embeddings != []:\n",
    "    print (\"Batch number: \", n)\n",
    "    embs_list = get_embeddings_openAI(texts_list)\n",
    "\n",
    "    for i in range(len(excerpt_uri)):\n",
    "        #dic_embeddings[thesis_uri[i]] = embs_list[i].embedding\n",
    "        embeddings.append(embs_list[i].embedding)\n",
    "\n",
    "    #with open('data/embeddings_BERT.json', 'w') as fp:\n",
    "    #with open('data/embeddings_openai.json', 'w') as fp:\n",
    "    #    json.dump(dic_embeddings, fp)\n",
    "\n",
    "    embedding_csv_batch = pd.DataFrame(data={'uri':excerpt_uri, 'embeddings': embeddings})\n",
    "    embedding_csv = pd.concat([embedding_csv, embedding_csv_batch], ignore_index=True)\n",
    "    embedding_csv.to_csv('data/eembedding_openai_excerpts.csv', index=False)\n",
    "    #embedding_csv.to_csv('data/embedding_BERT.csv', index=False)\n",
    "\n"
   ]
  },
  {
   "cell_type": "code",
   "execution_count": 17,
   "id": "7b50bec4",
   "metadata": {},
   "outputs": [
    {
     "data": {
      "text/plain": [
       "[]"
      ]
     },
     "execution_count": 17,
     "metadata": {},
     "output_type": "execute_result"
    }
   ],
   "source": [
    "# Usando cypher para ler o arquivo CSV\n",
    "graph.query(\"\"\"\n",
    "    LOAD CSV WITH HEADERS\n",
    "    FROM 'file:///C:/Users/facordei/OneDrive%20-%20Capgemini/Documents/GitHub/Indigenous-Slavery-KG/data/embedding_openai_excerpts.csv' AS row\n",
    "    MATCH (n:Excerpt) Where n.uri = row.uri\n",
    "    CALL db.create.setNodeVectorProperty(n, 'embedding_openai', apoc.convert.fromJsonList(row.embeddings))\n",
    "    \"\"\")"
   ]
  },
  {
   "cell_type": "code",
   "execution_count": 20,
   "id": "5e2a7cf4",
   "metadata": {},
   "outputs": [
    {
     "data": {
      "text/plain": [
       "'3072'"
      ]
     },
     "execution_count": 20,
     "metadata": {},
     "output_type": "execute_result"
    }
   ],
   "source": [
    "str(dimension)"
   ]
  },
  {
   "cell_type": "code",
   "execution_count": 24,
   "id": "2f8d6307",
   "metadata": {},
   "outputs": [
    {
     "data": {
      "text/plain": [
       "[]"
      ]
     },
     "execution_count": 24,
     "metadata": {},
     "output_type": "execute_result"
    }
   ],
   "source": [
    "# Criando um indice de vetores\n",
    "\n",
    "dimension = len(get_embeddings_openAI('texto de teste')[0].embedding)\n",
    "\n",
    "# Criando uma label \"Document\" para os nós \"Thesis\" e \"Excerpt\"\n",
    "graph.query(\"\"\"\n",
    "    match (n:Thesis|Excerpt) SET n:Document\n",
    "    \"\"\")\n",
    "\n",
    "# Creating a vector index\n",
    "graph.query(\"\"\"\n",
    "    CREATE VECTOR INDEX Thesis_Embeddings IF NOT EXISTS\n",
    "    FOR (n:Document)\n",
    "    ON n.embedding_openai\n",
    "    OPTIONS {indexConfig: {\n",
    "    `vector.dimensions`: \"\"\" + str(dimension) + \"\"\",\n",
    "    `vector.similarity_function`: 'cosine'}}\n",
    "    \"\"\")\n"
   ]
  },
  {
   "cell_type": "code",
   "execution_count": null,
   "id": "1bd3e178",
   "metadata": {},
   "outputs": [
    {
     "data": {
      "text/plain": [
       "[]"
      ]
     },
     "execution_count": 165,
     "metadata": {},
     "output_type": "execute_result"
    }
   ],
   "source": [
    "# Criand o indice Full Text\n",
    "\n",
    "graph.query(\"\"\"\n",
    "    CREATE FULLTEXT INDEX Thesis_fulltext IF NOT EXISTS FOR (n:Thesis|Excerpt) ON EACH [n.title, n.abstract, n.description]\n",
    "    \"\"\")"
   ]
  },
  {
   "cell_type": "markdown",
   "id": "312b3bc0",
   "metadata": {},
   "source": [
    "Buscando teses com vetores similares a um determinado texto"
   ]
  },
  {
   "cell_type": "code",
   "execution_count": 40,
   "id": "bb48fb28",
   "metadata": {},
   "outputs": [],
   "source": [
    "#texto que será usado na busca\n",
    "#query_text = 'Nelson Mandela'\n",
    "personagem = 'Abdias Nascimento'\n",
    "query_text = 'Quem trabalhou com ' + personagem + ' ?'\n",
    "# Transformando as query em vetor\n",
    "#query_embedding = get_embeddings(query_text)\n",
    "query_embedding = get_embeddings_openAI(query_text)[0].embedding\n"
   ]
  },
  {
   "cell_type": "code",
   "execution_count": 41,
   "id": "e745a9fb",
   "metadata": {},
   "outputs": [
    {
     "data": {
      "text/plain": [
       "[{'score': 0.827033281326294,\n",
       "  'node.title': None,\n",
       "  'node.abstract': None,\n",
       "  'node.description': ' à produção literária. Nesse sentido Oliveira \\nSilveira, assim como Abdias, era um profundo conhecedor  da estrutura racista da sociedade \\nbrasileira, e assim como ele, atuou em muitas frentes para o seu desmonte.  \\nAbdias atuou dentro e fora do âmbito partidário, e sua trajetória artística e intelectual \\nsempre se deu concomitante à política. Como já referido anteriormente, na década de 1930 ele \\n 141 \\n \\n \\n integrou a Frente Negra Brasileira, na de 1950 candidatou -se a vereador (PTB)138 e na de 1960 \\na deputado estadual (PTB); após exílio, retomou a atividade partidária nos anos 1980, quando \\nexerceu o mandato de deputado federal (PDT) de 1983 -1986 e se reelegeu para o exercício \\n1987 -1990, já nos 1990 foi senador da república no período en tre 1997 e 1999; em todas suas \\ncandidaturas concorreu pelo estado do Rio de Janeiro. Chegou a fazer “dobradinha ” com Lélia \\nGonzalez na campanha política de 1986:  \\n \\nFigura 34 - Panfleto político de 1986  \\n \\nFonte: Itaú Cultural (2016)  \\n \\nEm 1991, como Secretário Extraordinário para Defesa e Promoção das Populações \\nAfro -Brasileiras (Sedepron), Abdias Nascimento recebe Nelson Mandela no Brasil, quando de \\nsua visita ao governador Leonel Brizola.  \\n \\nFigura 35 - Abdias Nascimento com Nelson Mandela  \\n \\nFonte: Itaú Cultural (2016)  \\n \\nNessa mesma ocasião, o governador do Rio Grande do Sul (1991 -1994), do PDT, \\ntambém esteve com Mandela, que acabara de ser libertado. Era Alceu Colares, o primeiro \\n \\n138 Partido Trabalhista Brasileiro.  \\n\\n 142 \\n \\n \\n político negro a ser eleito prefeito de Porto Alegre, em 1986. Nascido em Bagé, oriundo de uma \\nfamília pobre, tornou -se advogado, servidor público e político, chegando à vereança pelo PTB \\nna capital em 1963, antes do golpe militar de 1964.  \\n \\nFigura 36 - Alceu Collares com Nelson Mandela em 1991 na cidade do Rio de Janeiro  \\n \\nFonte: Wikipedia (2022)  \\n \\nPrimeiro governante amefrican'},\n",
       " {'score': 0.8197193145751953,\n",
       "  'node.title': None,\n",
       "  'node.abstract': None,\n",
       "  'node.description': '                                       \\n85 NASCIMENTO, Elisa Larkin. Abdias Nascimento . Brasília: S enado F ederal, 2014. (Coleção Grandes Vultos \\nque hora ram o Sen ado). \\n86 Ibid. \\n87 Ibid. \\n88 OLIVEIRA, Laiana Lannes. Entre a miscigenação e a multirracializa ção: brasileiros negros ou negros \\nbrasileiros?  2008. Tese (Doutorado em Histór ia) – Universidade Federal Fluminense, Niterói,  2008.  \\n 41 \\nabril de sse ano, ainda chefiou a campanha de auxílio financeiro a Plínio Salgado após o \\nputsch de 1938. Não se ressen tiu de sua ligação com os camisa s-verdes , afirmando que o \\nintegralismo foi:  \\n \\nUma r ica escola de vida o nde comecei a entend er realmente d e arte, literatura, \\neconomia, educação, defesa nacional; a realidade social, econômica e política do \\npaís e as implicações internacionais que o envolvi am. A juventude integralista \\nestudava muito e com s eriedade [...].89  \\n \\nAinda em 1938, Nasc imento foi a Campin as, onde organizou, com outros ativistas, o \\nCongresso Afro -Campineiro, em que foram feitas palestras sobre poesia e literatura negra, \\nalém de questõ es relacionadas à desigualdade e discriminação. Ali  conheceu Aguinaldo \\nCamargo, outr a importante lideranç a do TEN. O que chama a atenção nes se evento foi o \\njuramento final dos participantes do Congresso em revalorizar a identidade africana, que era \\npreteri da em favor de uma identificação puramente nacional  na FNB. Es se tema s erá \\naprofundado no TEN com relevant e contribuição de Ironides Rodrigues.  \\nDe volta ao Rio de Janeiro, Nascimento reencontr ou-se com dois amigos que foram \\nmilitantes integralistas: os poe tas Gerardo Mello Mourão e Napoleão Lopes Filho. Com a \\nchegada de três arg entinos, Efraín Tomás Bó, Juan R aúl Young  e Godofredo Tito Iommi, \\nformou -se um grupo que foi batizado de Santa Hermandad de la Orquidea, em que \\ndesenv olveram intensa convivência soci al e intelectual. Com espírito aventureiro, os amig os \\ndecidiram viajar pel a Amazônia e pela América do Su l. Jornali stas e poetas, os orquideanos \\nconseguiram sobreviver no Pará e no Amazonas, graças a sua “pose” intelectual, recebendo \\ndiversos convites para  conferências e palestras. A certa altura, chegaram  ao Peru.  \\nO ano era 1941, e os orquideanos  assistiram à peça O Imperador Jones , de autoria do \\ndramaturgo norte -americano Eugene O’Neill, no Teatro Municipal de Lima. Para o espanto de \\nAbdias, o protagonist a da peça, um homem negro, era representado por um ator branco, \\npintado de negro:  \\n \\nPor que um branco broc hado de ne gro? Pela inexistência de um intérprete dessa \\nraça? Entretanto, lembrava que, em meu país, onde mais de vinte milhões de negros \\nsomavam quase  a metade de sua população de sessenta milhões de h abitantes, na \\népoca,  jamais assistira a um espetáculo c ujo papel  principal tivesse sido \\n                                                           \\n89 NASCIMENTO apud NASCIMEN TO, Elisa Larkin. Abdias Nasc imento. Brasília: Senado Federal, 2014. \\n(Coleção Grandes Vultos  que horaram o Senado).  p. 131.  \\n 42 \\nrepresentado por um artista da minha cor. Não seria, então, o Brasil, uma verdadeira \\ndemocracia racial?90 \\n \\nNascimento lamentava que aos negros eram destinados apenas pap éis menores n as \\npeças, sendo retratados quase sempre d e forma caricatural e , muitas vezes , pejorativa. De \\nregresso ao Brasil, fundou em 1944 o TEN , entidade aberta “ao prota gonismo do negro, onde \\nele ascen desse da'},\n",
       " {'score': 0.8132126331329346,\n",
       "  'node.title': None,\n",
       "  'node.abstract': None,\n",
       "  'node.description': 'Ironides Rodrigues ali desenvolveu, julga -se necessário se deter brevemente sobre a \\ntrajetória de Nas cimento.  \\n                                                           \\n82 DOMINGUES, Petrôni o. O “messias” negro? Arlindo Veiga dos Santos  (1902- 1978): “Viva a nova \\nmonarquia brasileira; Viva Dom Pedro II!”. Varia História , v. 22, p. 517 -536, 2006.  \\n83 Ibid., p. 534.  \\n84 Ibid., p. 535.  \\n 40 \\nPara falar da trajetória de Nascimento, utiliza -se a biografia escrita por sua esposa, a \\nprofessora Elis a Larkin Nascimento.85 Apesar de seu texto conter um caráter afetivo, tal obra \\nmostra -se de grande utilidade nos subsídios biográficos que of erece para  melhor delinear a \\natuação do fundador do TEN.  \\nAbdias Nascimento nasceu em Franca, interior de São Paulo,  em 1914. Filho de um \\nsapateiro e de uma cozinheira, desde criança presenciou o racism o da sociedade em que vivia. \\nNo curso secundário, form ou-se em contabilidade na Escola de Comércio da cidade natal. Aos  \\n16 anos, deixou Franca rumo a São Paulo, onde cons eguiu alistar -se no Exército graças a um \\ndocumento adulterado. Serviu no exército entr e 1930 e 1936. Em 1932, já promovido a cabo \\n(promoção que se dev eu em grande parte ao seu diploma em contabil idade), participou dos \\nembates da Revolução Constitucionalist a, em que foi ferido com um tiro . Nes sa época, \\nconheceu Sebastião Rodrigues Alves, out ra importante lideran ça negra e membro do TEN. \\nApesar de ter sof rido discriminação racial durante toda sua vida, Larkin Nascimento86 expõe  \\nque ainda não havia no jovem mil itar uma clara consciência racial, o que muda de figura \\nquando Abdias toma conhecimento do Centro Cívico C ampineiro, organização de jovens \\nnegros de Campinas , e principalmente da FNB . Como era militar, Nascimento não p ôde \\nparticipar formalmente da FNB , entretanto, participava de seus des files e atos públicos, tendo \\nconhecimento de suas bandeiras.  \\nSegundo Elisa Larkin Nascimento87, o primeiro  contato que Abdias Na scimento teve \\ncom Plínio Salgado se deu com o Manifesto  da Legião Revolucionária, redigido em 1931 pelo \\nfuturo líder integralista . A partir de 1934, Nascimento e Rodrigues Alves pa rticiparam de \\ndesfile s e atos públicos da AIB, tendo p articipa do de iniciativas sociais promovidas pelo \\nmovimento, a que se ligaram , principalmente , devido ao nacionalismo que lhes era caro. Após \\nseu desli gamento do Exército em 1936, Nascimento partiu para  o Rio de Janeiro e s obreviveu \\nde trabalhos eventuais,  como revi sor no jornal O Radical , até engajar -se de forma regular no \\nperiódico integralista A Offensiva . Nes se jornal, entrevistou diversas personalidades \\nintelectuais, com quem tirava fotos para ilustrar as matérias. Como  as fotos nunca eram \\npublicadas, Nascimento  percebeu o racismo no integralismo e se desligou do movimento em \\nfins de 1936. Oliveira88 aponta que a militâ ncia integralista de Nascimento foi mais longa: \\ncondenado em 1938 por panfletagem c om os integralistas,  foi preso. Após sua libertação, em \\n                                                           \\n85 NASCIMENTO, Elisa Larkin. Abdias Nascimento . Brasília: S enado F ederal, 2014. (Coleção Grandes Vultos \\nque hora ram o Sen ado). \\n86 Ibid. \\n87 Ibid. \\n88 OLIVEIRA, Laiana Lannes. Entre a miscigenação e a multirracializa ção: brasileiros negros ou negros \\nbrasileiros?  2008. Tese (Doutorado em Histór ia) – Universidade Federal Fluminense, Niterói,  2008.  \\n 41 \\nabril de sse ano, ainda chefiou a campanha de auxílio financeiro a Plínio Salgado após o \\nputsch de 1938. Não se ressen tiu de sua ligação com os camisa s-verdes , afirmando que o \\nintegralismo foi:  \\n \\nUma r ica escola de vida o nde comecei a entend er realmente d e arte, literatura, \\neconomia, educação, defesa nacional; a realidade social, econômica e política do \\npaís e as implicações inter'},\n",
       " {'score': 0.8057558536529541,\n",
       "  'node.title': 'Um representante de Palmares no Congresso Nacional: atuação política de Abdias Nascimento, do Atlântico negro às instituições do Estado brasileiro (1983-1999)',\n",
       "  'node.abstract': 'Esta tese analisou a atuação política de Abdias Nascimento (1914-2011), principalmente a partir da sua atividade como deputado federal (1983-1987) e senador da República (1991; 1997-1999). Nome incontornável quando se trata das questões raciais no país, ele ocupou um lugar de muito destaque no protesto negro durante a sua vida. A carreira política integrou um capítulo da sua longeva militância e, por isso, optamos por centrar nossas análises em sua trajetória enquanto representante eleito pela população sem a pretensão de produzir um estudo biográfico definitivo. Ao longo deste trabalho, assumimos o entendimento de Abdias Nascimento, enquanto parlamentar, adotou um posicionamento estratégico no combate ao racismo. Filiado ao Partido Democrático Trabalhista (PDT), conduziu, a partir de 1983, discussões de temas para a promoção da igualdade racial no interior do Congresso Nacional. O problema central da pesquisa que apresentamos está situado no campo político e consiste na tensão permanente entre os sujeitos racializados – representados por Nascimento – e o Estado nacional brasileiro, a exemplo da ocorrência de relações conflituosas sempre que o debate racial era pautado, a fim de que se pudessem efetivar as garantias fundamentais de uma cidadania plena. Em seus mandatos, Nascimento levou a agenda antirracista – historicamente centrada na militância e ligada aos movimentos sociais – para o centro do poder legislativo. A tese que defendemos é a de que a sua identidade política se formou nos trânsitos pelo Atlântico negro – espaço conceituado por Paul Gilroy (2012) – por meio do acúmulo de experiências políticas, estéticas e intelectuais, sob uma perspectiva transnacional e em tensão com a nacionalidade. Durante a representação do seu mandato, identificamos os limites impostos à sua atuação e a incompatibilidade entre os seus argumentos e os de outros parlamentares, o que evidenciou os conflitos estruturais de manutenção das desigualdades raciais dentro das instituições brasileiras. Essa situação refreou e ainda refreia o reconhecimento da cidadania da população negra no Brasil. Para a realização deste trabalho, utilizamos como fontes os discursos de Abdias na Câmara e no Senado, e mobilizamos arranjos teóricos da História política e do debate racial promovido pela Sociologia, além de referências que analisam o impacto da modernidade ocidental nas manifestações do racismo e na existência dos sujeitos racializados.',\n",
       "  'node.description': None},\n",
       " {'score': 0.8036542534828186,\n",
       "  'node.title': None,\n",
       "  'node.abstract': None,\n",
       "  'node.description': 'tude, político, professor universitário, pintor, escritor. Uma passagem da vida de Abdias \\nNascimento evidencia seu pioneirismo, antes do Teatro do Oprimido surgir na segunda metade do século XX, e \\nda própria fundação do TEN, ele cri ou o Teatro do Sentenciado,  em 1942, quando cumpriu uma condenação à \\nrevelia na Penitenciária do Carandiru. Nesta experiência, os presos foram autores e atores.  \\n\\n 163 \\n \\n \\n Figura 54 - Abdias Nascimento como Othelo  (1946)  \\n \\nFonte: Geledés (2011)  \\n \\nA militância de Abdias pelos direitos civis dos afro -brasileiros, desde antes de sua \\nentrada no teatro, fez com que ele transformasse o palco num território privilegiado para a \\ndiscussão social, cuja centralidade está no afro -brasileiro e sua luta contra o  racismo: “deixou \\num legado, ideológico e estético, que se estende até hoje, [...] O TEN correu o risco de se \\ntransformar em panfleto, mas escapou: fez teatro na expressão mais lídima do termo ” (Santos, \\n2014, p. 133).  \\nO surgimento do TEN representou um ponto de inflexão sobre o racismo presente no \\nteatro brasileiro ao reconfigurar o lugar de negro  (Gonzalez; Hasenbalg , 1982), que se \\nreservava no âmbito social e cultural da nação. Ao denunciar a falta de protagonismo do negro \\nna dramaturgia e no palco, rompeu com um corolário de imagens estereotipadas, amplamente \\ndifundidas no teatro nacional no final na segunda metade do século anterior. Nesse sentido, tal \\ncoletivo de artistas e intelectuais negros ultrapassa o lugar que o branco lhe reservou e funda, a \\npartir de e em si, outro lugar, conforme palavras de Elisa Larkin Nascimento (2009):  \\n \\nQuando Joel Rufino afirma que para Guerreiro Ramos o negro não é raça, e sim um \\nlugar (Santos, 1998[1995]), ele capta o modo como os intelectuais do TEN \\nanteciparam um dos princípios básicos da afrocentralidade [...]. Somente de um lugar \\ncentrado na experi ência própria dos povos africanos é possível, no contexto social do \\nsupremacismo branco, perceber a brancura com etnicidade específica [...] \\n(Nascimento, 2009, p. 190) . \\n \\nO TEN configurou -se como uma reação cultural de empoderamento da cidadania negra \\nno campo do teatro e da sociedade brasileira, pois “todo povo no seio do qual nasceu um \\n\\n 164 \\n \\n \\n complexo de inferioridade devido ao sepultamento de sua originalidade cultural — toma \\nposição diante da linguagem da nação civilizadora, isto é, da cultura metropolitana ” (Fanon , \\n2008, p. 34). Assim, “o negro marca a sua presença , conduzindo o teatro em novas direções, \\npropondo novos liames entre a vida e a arte ” (Fernandes , 1972, p. 197, grifo do autor). O \\ntrabalho levado a cab'}]"
      ]
     },
     "execution_count": 41,
     "metadata": {},
     "output_type": "execute_result"
    }
   ],
   "source": [
    "# Buscando no índice de vetores \n",
    "result = graph.query(\"\"\"\n",
    "    CALL db.index.vector.queryNodes('Thesis_Embeddings', 5, \"\"\" + str(query_embedding) + \"\"\")\n",
    "    YIELD node, score\n",
    "    RETURN score, node.title, node.abstract, node.description\n",
    "    \"\"\")\n",
    "result"
   ]
  },
  {
   "cell_type": "markdown",
   "id": "64ec9328",
   "metadata": {},
   "source": [
    "Buscando usando full text search"
   ]
  },
  {
   "cell_type": "code",
   "execution_count": 42,
   "id": "f435b5a4",
   "metadata": {},
   "outputs": [
    {
     "data": {
      "text/plain": [
       "[{'score': 17.276535034179688,\n",
       "  'node.title': 'Quem disse que Exu não monta? Abdias Nascimento, o cavalo do santo no terreiro da história',\n",
       "  'node.abstract': 'This work addresses the mystical experience between Adbias Nascimento (1914-2011) and his relationship with the orixá Exu in the context of mystical patronage. Using the metaphor “saint’s horse” (“cavalo do santo”) we investigated the vital place that orixá occupied into Abdias’ long-lived and multifaceted trajectory (political, theater, painting, poetry etc.) To think about the mystique (or “mystical biography”) under the African and diasporic approach implied to acess other geographies, logics, rationalities and epistemologies. We start from the assumption that the decolonization of minds’ process requires, within the Afro-Brazilian context, the work of decolonization of mystics. In Brazil, Abdias is an iconic figure with regard to combat racism and simulacrum, the “myth of racial democracy”. But, Abdias’ trajectory was not simply the intermittent combat against the genocide of the black population; the scholar and activist was a persistent defender and propagator of African diasporic history and it’s cultural and religious values. From a catholic cradle, Abdias converted to candomblé where he found the ancestral sap that fecundated his life. Thus, the trajectory of the scholar and black activist is not explained outside the religious afro-diasporics referentials. From a Catholic crib, Abdias converted to candomblé where he found the ancestral sap that fecundated his life. In this way, the trajectory of the intellectual and black scholarship is not explained by Afro-diasporic religious references. The orixás filled the life of the mystic-fighter of power, charm and dynamism; and Exu, unmistakably, constuted the force and motive force of all its multifaceted and polyphonic existence. His death was celebrated with the honor of a hero and an ancestor. Its ashes were deposited in Serra da Barriga - in Quilombo dos Palmares. We defend, therefore, in our work, that the heroic vision of the revolted Negro, or as it has also been called, the \"angry Quixote\", rests on a religious basis, which can put Abdias Nascimento, considered under the lens of religiosity, in the role of great mysteries of the history of humanity',\n",
       "  'node.description': None},\n",
       " {'score': 16.07049560546875,\n",
       "  'node.title': 'O pensamento social e político na obra de Abdias do Nascimento',\n",
       "  'node.abstract': 'A presente dissertação tem como tema o pensamento social e político na obra de Abdias do Nascimento. A ideia que norteia este trabalho visa demonstrar a importância da produção intelectual de Abdias do Nascimento no quadro analítico do pensamento social brasileiro. A pesquisa busca apresentar, a partir de sua obra, a forma peculiar como este intelectual compreende os fenômenos sociais no seio da sociedade brasileira. Dono de um estilo próprio de escrita, Nascimento foi um crítico contumaz da estrutura social do país, alicerçada no processo escravagista. O que este trabalho propõe é que se pense sua obra para além do militantismo, já bastante analisado por diversos autores. Pretende-se evidenciar, ao longo do texto, a forma como esse modelo analítico é produzido. Primeiro, com a crítica a um padrão genocida de organização da sociedade, que de forma sutil busca subtrair as possibilidades de acesso aos afrodescendentes, jogando-os à marginalidade dos processos sociais estabelecidos no país desde a constituição do sistema escravagista e após sua supressão. Em seguida a ideia é explorar, de forma sociológica, o significado do quilombismo como modelo de (re) organização social.',\n",
       "  'node.description': None},\n",
       " {'score': 15.15904426574707,\n",
       "  'node.title': 'O negro como tema e sujeito na produção intelectual de Abdias do Nascimento, 1944-1968',\n",
       "  'node.abstract': 'Esta dissertação tem o objetivo de estudar como o negro é pensado e representado na produção intelectual de Abdias Nascimento no período em que esteve à frentedoTeatro Experimental do Negro (1944-1968).Para fins elucidativos recorreremos a fatos que antecederam, e sucederam esteperíodo. No entanto, situaremos o autor no contexto histórico e socialdo pós-Estado Novo ao Ato InstitucionalN°5, e analisaremos a construção de seu pensamento sobre as relações raciais no Brasil, e sua militânciaantirracismo, a partir de correntes intelectuais, políticas e ideológicas que o influenciaram. Discorreremos sobre como a noção de uma identidade cultural negra é construída no discurso de Abdias Nascimento neste período de mudanças sobre as formas de pensar as relações raciais no Brasil.',\n",
       "  'node.description': None},\n",
       " {'score': 14.227256774902344,\n",
       "  'node.title': 'TEN, Abdias do Nascimento e Rosário Fusco : a (re)construção da personagem negra no teatro brasileiro',\n",
       "  'node.abstract': 'O presente trabalho tem por finalidade o estudo das peças Sortilégio \\x96 Mistério Negro (1951), Sortilégio II \\x96 Mistério de Zumbi Redivivo (1979), ambas de Abdias do Nascimento (1914-2011), e Auto da Noiva (1946), autoria de Rosário Fusco (1910-1977), com enfoque na representação da cultura afro-brasileira e das narrativas míticas representadas pelos Orixás e na reconstrução da personagem negra nesse contexto. As peças Sortilégio \\x96 Mistério Negro e Auto da Noiva integram, juntamente com outras sete peças, a antologia de teatro negro brasileiro Drama para negros e prólogo para brancos (1961), a primeira coletânea de produções dramatúrgicas brasileira que colocou o negro, sua cultura e suas aspirações como foco das peças teatrais. Já a peça Sortilégio II trata-se de uma reescrita do primeiro Sortilégio, após 28 anos, na qual o autor revisa detalhes que acentuam o engajamento do mistério negro. As peças em questão foram escritas para o Teatro Experimental do Negro (TEN), movimento fundado em 1944 pelo próprio Abdias do Nascimento, o qual visava introduzir o negro e sua identidade cultural na cena brasileira, como também expor os conflitos e limitações impostas a esta classe pela elite conservadora, através do ponto de vista do oprimido. Desse modo, a partir do marco que foi o TEN, pretende-se, na presente dissertação discutir como são representadas as identidades culturais do novo modelo de personagem negra no teatro brasileiro, a partir das análises das peças de Nascimento e da peça de Fusco, principalmente a relação da cena e das ações com a religiosidade afro e com os Orixás. Considerando a temática abordada pelas referidas peças, a autoria, o lugar de enunciação e os recursos linguísticos empregados, também é incumbência do presente trabalho contextualizar as obras selecionadas para análise, a partir dos estudos e dos conceitos sobre literatura afro-brasileira, principalmente os postulados por Eduardo de Assis Duarte (2011). Por configurar um novo modelo de personagem negra no teatro e na dramaturgia brasileira, o TEN não foi recebido positivamente pela crítica e, consequentemente, pelos membros da comunidade, uma vez que para estes não se justificava a fundação de um teatro de negros com tais propósitos, pois o Brasil era visto como um país em que o racismo não existia. Assim sendo, o presente trabalho também propõe evidenciar o impacto causado pela criação do TEN e sua recepção pela crítica, através das publicações do jornal Quilombo: Vida, problemas e aspirações do negro e dos trabalhos da pesquisadora Elisa Larkin Nascimento (2003). Considerando os recursos dramatúrgicos utilizados por Nascimento e Fusco em suas peças, a presente pesquisa destaca nas referidas produções aspectos inerentes ao Teatro Político (BOAL, 2013) e ao Teatro Épico (BRECHT, 1967), os quais são empregados de maneira a suscitar no público a necessidade de transformação social, uma vez que são capazes de levar os sujeitos a refletirem e a tomarem consciência dos contrassensos compartilhados pelo meio, que no caso das peças do TEN, está relacionado à condição social imposta aos afro-brasileiros.',\n",
       "  'node.description': None},\n",
       " {'score': 14.195297241210938,\n",
       "  'node.title': 'História e protagonismo negro: africanidade, cultura histórica e ensino de história na trajetória de Abdias Nascimento (1944-1999)',\n",
       "  'node.abstract': 'The work aims to study how the black population has developed a new epistemological perspective guided by the black African historical experience, from the encounter between historical knowledge and socio-cultural activism, in contrast to the production of knowledge and the teaching of Eurocentric history. Therefore, the research was developed from the analysis of the protagonism of Abdias Nascimento, based on what we call abdisian moments: the blackness pedagogy (1944-1968), the pan-Africanist quilombism (1968-1983) and the parliamentary quilombism (1983-1999). The documentary research corpus is based on his theatrical, intellectual and political production around the national and international anti-racist struggles in the XX century (1944-1999). The protagonism of Abdias Nascimento helped the systematization and coordination between the historical process and the historical acts, where the black population took, at the same time, the role of producing, transmitting and receiving historical knowledge, which was set in a dialectical and dialogical way during his anti-racist social praxis, generated and based on the historical culture of black African resistance.',\n",
       "  'node.description': None}]"
      ]
     },
     "execution_count": 42,
     "metadata": {},
     "output_type": "execute_result"
    }
   ],
   "source": [
    "result = graph.query(\"\"\"\n",
    "CALL db.index.fulltext.queryNodes(\"Thesis_fulltext\", '\"\"\" + query_text + \"\"\"') YIELD node, score\n",
    "RETURN score, node.title, node.abstract, node.description \n",
    "LIMIT 5 \n",
    "\"\"\")\n",
    "result"
   ]
  },
  {
   "cell_type": "code",
   "execution_count": null,
   "id": "c2ffb0cc",
   "metadata": {},
   "outputs": [],
   "source": []
  }
 ],
 "metadata": {
  "kernelspec": {
   "display_name": ".venv-IndigSlave (3.11.9)",
   "language": "python",
   "name": "python3"
  },
  "language_info": {
   "codemirror_mode": {
    "name": "ipython",
    "version": 3
   },
   "file_extension": ".py",
   "mimetype": "text/x-python",
   "name": "python",
   "nbconvert_exporter": "python",
   "pygments_lexer": "ipython3",
   "version": "3.11.9"
  }
 },
 "nbformat": 4,
 "nbformat_minor": 5
}
